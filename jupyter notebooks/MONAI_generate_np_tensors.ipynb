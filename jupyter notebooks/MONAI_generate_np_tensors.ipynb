{
 "cells": [
  {
   "cell_type": "code",
   "execution_count": 1,
   "id": "fdb9ca8d",
   "metadata": {},
   "outputs": [
    {
     "name": "stdout",
     "output_type": "stream",
     "text": [
      "Starting path:/Users/gregory/PROJECT_ML/VESUVIUS_Challenge/jupyter notebooks\n",
      "Current path:/Users/gregory/PROJECT_ML/VESUVIUS_Challenge\n"
     ]
    }
   ],
   "source": [
    "# Here we take care of paths.\n",
    "\n",
    "from pathlib import Path\n",
    "import os\n",
    "print('Starting path:' + os.getcwd())\n",
    "if os.getcwd()[-18:] == 'VESUVIUS_Challenge':\n",
    "    pass\n",
    "else:\n",
    "    PATH = Path().resolve().parents[0]\n",
    "    os.chdir(PATH)\n",
    "\n",
    "# make sure you are in Paragraph_to_Tex folder\n",
    "print('Current path:' + os.getcwd())"
   ]
  },
  {
   "cell_type": "code",
   "execution_count": 2,
   "id": "3028e6fe",
   "metadata": {},
   "outputs": [],
   "source": [
    "import lab_black\n",
    "from pathlib import Path\n",
    "\n",
    "import numpy as np\n",
    "import pandas as pd\n",
    "import PIL.Image as Image\n",
    "from tqdm.auto import tqdm"
   ]
  },
  {
   "cell_type": "code",
   "execution_count": null,
   "id": "f641a49e",
   "metadata": {},
   "outputs": [],
   "source": []
  },
  {
   "cell_type": "code",
   "execution_count": 3,
   "id": "138554ef",
   "metadata": {},
   "outputs": [],
   "source": [
    "KAGGLE_DIR = PATH / \"kaggle\"\n",
    "\n",
    "INPUT_DIR = KAGGLE_DIR / \"input\"\n",
    "\n",
    "COMPETITION_DATA_DIR = INPUT_DIR / \"vesuvius-challenge-ink-detection\"\n",
    "\n",
    "DOWNSAMPLING = 1.0\n",
    "NUM_Z_SLICES = 64"
   ]
  },
  {
   "cell_type": "code",
   "execution_count": 4,
   "id": "7ebfd462",
   "metadata": {},
   "outputs": [],
   "source": [
    "def create_df_from_mask_paths( stage, downsampling):\n",
    "    mask_paths = sorted(COMPETITION_DATA_DIR.glob(f\"{stage}/*/mask.png\"))\n",
    "\n",
    "    df = pd.DataFrame({\"mask_png\": mask_paths})\n",
    "\n",
    "    df[\"mask_png\"] = df[\"mask_png\"].astype(str)\n",
    "\n",
    "    df[\"stage\"] = df[\"mask_png\"].str.split(\"/\").str[-3]\n",
    "    df[\"fragment_id\"] = df[\"mask_png\"].str.split(\"/\").str[-2]\n",
    "\n",
    "    df[\"mask_npy\"] = df[\"mask_png\"].str.replace(\n",
    "        stage, f\"{stage}_{downsampling}\", regex=False\n",
    "    )\n",
    "    df[\"mask_npy\"] = df[\"mask_npy\"].str.replace(\"input\", \"working\", regex=False)\n",
    "    df[\"mask_npy\"] = df[\"mask_npy\"].str.replace(\"png\", \"npy\", regex=False)\n",
    "\n",
    "    if stage == \"train\":\n",
    "        df[\"label_png\"] = df[\"mask_png\"].str.replace(\"mask\", \"inklabels\", regex=False)\n",
    "        df[\"label_npy\"] = df[\"mask_npy\"].str.replace(\"mask\", \"inklabels\", regex=False)\n",
    "\n",
    "    df[\"volumes_dir\"] = df[\"mask_png\"].str.replace(\n",
    "        \"mask.png\", \"surface_volume\", regex=False\n",
    "    )\n",
    "    df[\"volume_npy\"] = df[\"mask_npy\"].str.replace(\"mask\", \"volume\", regex=False)\n",
    "\n",
    "    return df"
   ]
  },
  {
   "cell_type": "code",
   "execution_count": 5,
   "id": "14ca9537",
   "metadata": {},
   "outputs": [],
   "source": [
    "train_df = create_df_from_mask_paths(\"train\", DOWNSAMPLING)"
   ]
  },
  {
   "cell_type": "code",
   "execution_count": 6,
   "id": "7fd9dd77",
   "metadata": {},
   "outputs": [
    {
     "data": {
      "text/html": [
       "<div>\n",
       "<style scoped>\n",
       "    .dataframe tbody tr th:only-of-type {\n",
       "        vertical-align: middle;\n",
       "    }\n",
       "\n",
       "    .dataframe tbody tr th {\n",
       "        vertical-align: top;\n",
       "    }\n",
       "\n",
       "    .dataframe thead th {\n",
       "        text-align: right;\n",
       "    }\n",
       "</style>\n",
       "<table border=\"1\" class=\"dataframe\">\n",
       "  <thead>\n",
       "    <tr style=\"text-align: right;\">\n",
       "      <th></th>\n",
       "      <th>mask_png</th>\n",
       "      <th>stage</th>\n",
       "      <th>fragment_id</th>\n",
       "      <th>mask_npy</th>\n",
       "      <th>label_png</th>\n",
       "      <th>label_npy</th>\n",
       "      <th>volumes_dir</th>\n",
       "      <th>volume_npy</th>\n",
       "    </tr>\n",
       "  </thead>\n",
       "  <tbody>\n",
       "    <tr>\n",
       "      <th>0</th>\n",
       "      <td>/Users/gregory/PROJECT_ML/VESUVIUS_Challenge/k...</td>\n",
       "      <td>train</td>\n",
       "      <td>1</td>\n",
       "      <td>/Users/gregory/PROJECT_ML/VESUVIUS_Challenge/k...</td>\n",
       "      <td>/Users/gregory/PROJECT_ML/VESUVIUS_Challenge/k...</td>\n",
       "      <td>/Users/gregory/PROJECT_ML/VESUVIUS_Challenge/k...</td>\n",
       "      <td>/Users/gregory/PROJECT_ML/VESUVIUS_Challenge/k...</td>\n",
       "      <td>/Users/gregory/PROJECT_ML/VESUVIUS_Challenge/k...</td>\n",
       "    </tr>\n",
       "    <tr>\n",
       "      <th>1</th>\n",
       "      <td>/Users/gregory/PROJECT_ML/VESUVIUS_Challenge/k...</td>\n",
       "      <td>train</td>\n",
       "      <td>2</td>\n",
       "      <td>/Users/gregory/PROJECT_ML/VESUVIUS_Challenge/k...</td>\n",
       "      <td>/Users/gregory/PROJECT_ML/VESUVIUS_Challenge/k...</td>\n",
       "      <td>/Users/gregory/PROJECT_ML/VESUVIUS_Challenge/k...</td>\n",
       "      <td>/Users/gregory/PROJECT_ML/VESUVIUS_Challenge/k...</td>\n",
       "      <td>/Users/gregory/PROJECT_ML/VESUVIUS_Challenge/k...</td>\n",
       "    </tr>\n",
       "    <tr>\n",
       "      <th>2</th>\n",
       "      <td>/Users/gregory/PROJECT_ML/VESUVIUS_Challenge/k...</td>\n",
       "      <td>train</td>\n",
       "      <td>3</td>\n",
       "      <td>/Users/gregory/PROJECT_ML/VESUVIUS_Challenge/k...</td>\n",
       "      <td>/Users/gregory/PROJECT_ML/VESUVIUS_Challenge/k...</td>\n",
       "      <td>/Users/gregory/PROJECT_ML/VESUVIUS_Challenge/k...</td>\n",
       "      <td>/Users/gregory/PROJECT_ML/VESUVIUS_Challenge/k...</td>\n",
       "      <td>/Users/gregory/PROJECT_ML/VESUVIUS_Challenge/k...</td>\n",
       "    </tr>\n",
       "  </tbody>\n",
       "</table>\n",
       "</div>"
      ],
      "text/plain": [
       "                                            mask_png  stage fragment_id  \\\n",
       "0  /Users/gregory/PROJECT_ML/VESUVIUS_Challenge/k...  train           1   \n",
       "1  /Users/gregory/PROJECT_ML/VESUVIUS_Challenge/k...  train           2   \n",
       "2  /Users/gregory/PROJECT_ML/VESUVIUS_Challenge/k...  train           3   \n",
       "\n",
       "                                            mask_npy  \\\n",
       "0  /Users/gregory/PROJECT_ML/VESUVIUS_Challenge/k...   \n",
       "1  /Users/gregory/PROJECT_ML/VESUVIUS_Challenge/k...   \n",
       "2  /Users/gregory/PROJECT_ML/VESUVIUS_Challenge/k...   \n",
       "\n",
       "                                           label_png  \\\n",
       "0  /Users/gregory/PROJECT_ML/VESUVIUS_Challenge/k...   \n",
       "1  /Users/gregory/PROJECT_ML/VESUVIUS_Challenge/k...   \n",
       "2  /Users/gregory/PROJECT_ML/VESUVIUS_Challenge/k...   \n",
       "\n",
       "                                           label_npy  \\\n",
       "0  /Users/gregory/PROJECT_ML/VESUVIUS_Challenge/k...   \n",
       "1  /Users/gregory/PROJECT_ML/VESUVIUS_Challenge/k...   \n",
       "2  /Users/gregory/PROJECT_ML/VESUVIUS_Challenge/k...   \n",
       "\n",
       "                                         volumes_dir  \\\n",
       "0  /Users/gregory/PROJECT_ML/VESUVIUS_Challenge/k...   \n",
       "1  /Users/gregory/PROJECT_ML/VESUVIUS_Challenge/k...   \n",
       "2  /Users/gregory/PROJECT_ML/VESUVIUS_Challenge/k...   \n",
       "\n",
       "                                          volume_npy  \n",
       "0  /Users/gregory/PROJECT_ML/VESUVIUS_Challenge/k...  \n",
       "1  /Users/gregory/PROJECT_ML/VESUVIUS_Challenge/k...  \n",
       "2  /Users/gregory/PROJECT_ML/VESUVIUS_Challenge/k...  "
      ]
     },
     "execution_count": 6,
     "metadata": {},
     "output_type": "execute_result"
    }
   ],
   "source": [
    "train_df"
   ]
  },
  {
   "cell_type": "code",
   "execution_count": 7,
   "id": "0f61fe12",
   "metadata": {},
   "outputs": [],
   "source": [
    "def load_image(path):\n",
    "    return Image.open(path)\n",
    "\n",
    "\n",
    "def resize_image(image, downsampling):\n",
    "    size = int(image.size[0] * downsampling), int(image.size[1] * downsampling)\n",
    "    return image.resize(size)\n",
    "\n",
    "\n",
    "def load_and_resize_image(path, downsampling):\n",
    "    image = load_image(path)\n",
    "    return resize_image(image, downsampling)\n",
    "\n",
    "\n",
    "def load_label_npy(path, downsampling):\n",
    "    label = load_and_resize_image(path, downsampling)\n",
    "    return np.array(label) > 0\n",
    "\n",
    "\n",
    "def load_mask_npy(path, downsampling):\n",
    "    mask = load_and_resize_image(path, downsampling).convert(\"1\")\n",
    "    return np.array(mask)\n",
    "\n",
    "\n",
    "def load_z_slice_npy(path, downsampling):\n",
    "    z_slice = load_and_resize_image(path, downsampling)\n",
    "    return np.array(z_slice, dtype=np.float32) / 65535.0\n",
    "\n",
    "\n",
    "def load_volume_npy(volumes_dir, num_z_slices, downsampling):\n",
    "    mid = 65 // 2\n",
    "    start = mid - num_z_slices // 2\n",
    "    end = mid + num_z_slices // 2\n",
    "\n",
    "    z_slices_paths = sorted(Path(volumes_dir).glob(\"*.tif\"))[start:end]\n",
    "\n",
    "    batch_size = num_z_slices // 4\n",
    "    paths_batches = [\n",
    "        z_slices_paths[i : i + batch_size]\n",
    "        for i in range(0, len(z_slices_paths), batch_size)\n",
    "    ]\n",
    "\n",
    "    volumes = []\n",
    "    for paths_batch in tqdm(\n",
    "        paths_batches, leave=False, desc=\"Processing batches\", position=1\n",
    "    ):\n",
    "        z_slices = [\n",
    "            load_z_slice_npy(path, downsampling)\n",
    "            for path in tqdm(\n",
    "                paths_batch, leave=False, desc=\"Processing paths\", position=2\n",
    "            )\n",
    "        ]\n",
    "        volumes.append(np.stack(z_slices, axis=0))\n",
    "        del z_slices\n",
    "\n",
    "        # break\n",
    "\n",
    "    volume = np.concatenate(volumes, axis=0)\n",
    "\n",
    "    return volume"
   ]
  },
  {
   "cell_type": "code",
   "execution_count": 8,
   "id": "159904d0",
   "metadata": {},
   "outputs": [],
   "source": [
    "def save_data_as_npy(df, train=True):\n",
    "    for row in tqdm(\n",
    "        df.itertuples(), total=len(df), desc=\"Processing fragments\", position=0\n",
    "    ):\n",
    "        \n",
    "        mask_npy = load_mask_npy(row.mask_png, DOWNSAMPLING)\n",
    "        volume_npy = load_volume_npy(row.volumes_dir, NUM_Z_SLICES, DOWNSAMPLING)\n",
    "\n",
    "        Path(row.mask_npy).parent.mkdir(exist_ok=True, parents=True)\n",
    "        np.save(row.mask_npy, mask_npy)\n",
    "        np.save(row.volume_npy, volume_npy)\n",
    "\n",
    "        if train:\n",
    "            label_npy = load_label_npy(row.label_png, DOWNSAMPLING)\n",
    "            np.save(row.label_npy, label_npy)\n",
    "\n",
    "        tqdm.write(f\"Created {row.volume_npy} with shape {volume_npy.shape}\")"
   ]
  },
  {
   "cell_type": "code",
   "execution_count": null,
   "id": "f539b48d",
   "metadata": {},
   "outputs": [
    {
     "data": {
      "application/vnd.jupyter.widget-view+json": {
       "model_id": "447ae9153eab437590d9d2b4c0c14a8c",
       "version_major": 2,
       "version_minor": 0
      },
      "text/plain": [
       "Processing fragments:   0%|          | 0/3 [00:00<?, ?it/s]"
      ]
     },
     "metadata": {},
     "output_type": "display_data"
    },
    {
     "data": {
      "application/vnd.jupyter.widget-view+json": {
       "model_id": "",
       "version_major": 2,
       "version_minor": 0
      },
      "text/plain": [
       "Processing batches:   0%|          | 0/4 [00:00<?, ?it/s]"
      ]
     },
     "metadata": {},
     "output_type": "display_data"
    },
    {
     "data": {
      "application/vnd.jupyter.widget-view+json": {
       "model_id": "",
       "version_major": 2,
       "version_minor": 0
      },
      "text/plain": [
       "Processing paths:   0%|          | 0/16 [00:00<?, ?it/s]"
      ]
     },
     "metadata": {},
     "output_type": "display_data"
    },
    {
     "data": {
      "application/vnd.jupyter.widget-view+json": {
       "model_id": "",
       "version_major": 2,
       "version_minor": 0
      },
      "text/plain": [
       "Processing paths:   0%|          | 0/16 [00:00<?, ?it/s]"
      ]
     },
     "metadata": {},
     "output_type": "display_data"
    },
    {
     "data": {
      "application/vnd.jupyter.widget-view+json": {
       "model_id": "",
       "version_major": 2,
       "version_minor": 0
      },
      "text/plain": [
       "Processing paths:   0%|          | 0/16 [00:00<?, ?it/s]"
      ]
     },
     "metadata": {},
     "output_type": "display_data"
    },
    {
     "data": {
      "application/vnd.jupyter.widget-view+json": {
       "model_id": "",
       "version_major": 2,
       "version_minor": 0
      },
      "text/plain": [
       "Processing paths:   0%|          | 0/16 [00:00<?, ?it/s]"
      ]
     },
     "metadata": {},
     "output_type": "display_data"
    },
    {
     "name": "stdout",
     "output_type": "stream",
     "text": [
      "Created /Users/gregory/PROJECT_ML/VESUVIUS_Challenge/kaggle/working/vesuvius-challenge-ink-detection/train_1.0/1/volume.npy with shape (64, 8181, 6330)\n"
     ]
    },
    {
     "name": "stderr",
     "output_type": "stream",
     "text": [
      "/Users/gregory/anaconda3/lib/python3.10/site-packages/PIL/Image.py:3167: DecompressionBombWarning: Image size (140973980 pixels) exceeds limit of 89478485 pixels, could be decompression bomb DOS attack.\n",
      "  warnings.warn(\n"
     ]
    },
    {
     "data": {
      "application/vnd.jupyter.widget-view+json": {
       "model_id": "",
       "version_major": 2,
       "version_minor": 0
      },
      "text/plain": [
       "Processing batches:   0%|          | 0/4 [00:00<?, ?it/s]"
      ]
     },
     "metadata": {},
     "output_type": "display_data"
    },
    {
     "data": {
      "application/vnd.jupyter.widget-view+json": {
       "model_id": "",
       "version_major": 2,
       "version_minor": 0
      },
      "text/plain": [
       "Processing paths:   0%|          | 0/16 [00:00<?, ?it/s]"
      ]
     },
     "metadata": {},
     "output_type": "display_data"
    },
    {
     "data": {
      "application/vnd.jupyter.widget-view+json": {
       "model_id": "",
       "version_major": 2,
       "version_minor": 0
      },
      "text/plain": [
       "Processing paths:   0%|          | 0/16 [00:00<?, ?it/s]"
      ]
     },
     "metadata": {},
     "output_type": "display_data"
    },
    {
     "data": {
      "application/vnd.jupyter.widget-view+json": {
       "model_id": "",
       "version_major": 2,
       "version_minor": 0
      },
      "text/plain": [
       "Processing paths:   0%|          | 0/16 [00:00<?, ?it/s]"
      ]
     },
     "metadata": {},
     "output_type": "display_data"
    },
    {
     "data": {
      "application/vnd.jupyter.widget-view+json": {
       "model_id": "",
       "version_major": 2,
       "version_minor": 0
      },
      "text/plain": [
       "Processing paths:   0%|          | 0/16 [00:00<?, ?it/s]"
      ]
     },
     "metadata": {},
     "output_type": "display_data"
    }
   ],
   "source": [
    "save_data_as_npy(train_df)"
   ]
  },
  {
   "cell_type": "code",
   "execution_count": null,
   "id": "8dd762dc",
   "metadata": {},
   "outputs": [],
   "source": [
    "train_df[\"label_npy\"] = train_df[\"label_npy\"].str.replace(\n",
    "    \"working\", \"input/vesuvis-data-preparation\", regex=False\n",
    ")\n",
    "train_df[\"mask_npy\"] = train_df[\"mask_npy\"].str.replace(\n",
    "    \"working\", \"input/vesuvis-data-preparation\", regex=False\n",
    ")\n",
    "train_df[\"volume_npy\"] = train_df[\"volume_npy\"].str.replace(\n",
    "    \"working\", \"input/vesuvis-data-preparation\", regex=False\n",
    ")\n",
    "\n",
    "train_df.to_csv(f\"data_{DOWNSAMPLING}.csv\")"
   ]
  },
  {
   "cell_type": "code",
   "execution_count": null,
   "id": "9ce32924",
   "metadata": {},
   "outputs": [],
   "source": []
  },
  {
   "cell_type": "code",
   "execution_count": null,
   "id": "b370644c",
   "metadata": {},
   "outputs": [],
   "source": []
  },
  {
   "cell_type": "code",
   "execution_count": null,
   "id": "f0b45437",
   "metadata": {},
   "outputs": [],
   "source": []
  }
 ],
 "metadata": {
  "kernelspec": {
   "display_name": "Python 3 (ipykernel)",
   "language": "python",
   "name": "python3"
  },
  "language_info": {
   "codemirror_mode": {
    "name": "ipython",
    "version": 3
   },
   "file_extension": ".py",
   "mimetype": "text/x-python",
   "name": "python",
   "nbconvert_exporter": "python",
   "pygments_lexer": "ipython3",
   "version": "3.10.9"
  }
 },
 "nbformat": 4,
 "nbformat_minor": 5
}
