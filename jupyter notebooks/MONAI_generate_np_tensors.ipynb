{
 "cells": [
  {
   "cell_type": "code",
   "execution_count": 1,
   "id": "aa6e8dc3",
   "metadata": {},
   "outputs": [
    {
     "name": "stdout",
     "output_type": "stream",
     "text": [
      "Starting path:/Users/gregory/PROJECT_ML/VESUVIUS_Challenge/jupyter notebooks\n",
      "Current path:/Users/gregory/PROJECT_ML/VESUVIUS_Challenge\n"
     ]
    }
   ],
   "source": [
    "# Here we take care of paths.\n",
    "\n",
    "from pathlib import Path\n",
    "import os\n",
    "print('Starting path:' + os.getcwd())\n",
    "if os.getcwd()[-18:] == 'VESUVIUS_Challenge':\n",
    "    pass\n",
    "else:\n",
    "    PATH = Path().resolve().parents[0]\n",
    "    os.chdir(PATH)\n",
    "\n",
    "# make sure you are in Paragraph_to_Tex folder\n",
    "print('Current path:' + os.getcwd())"
   ]
  },
  {
   "cell_type": "code",
   "execution_count": 2,
   "id": "8af3551b",
   "metadata": {},
   "outputs": [],
   "source": [
    "import lab_black\n",
    "from pathlib import Path\n",
    "\n",
    "import numpy as np\n",
    "import pandas as pd\n",
    "import PIL.Image as Image\n",
    "from tqdm.auto import tqdm"
   ]
  },
  {
   "cell_type": "code",
   "execution_count": null,
   "id": "d1c173ef",
   "metadata": {},
   "outputs": [],
   "source": []
  },
  {
   "cell_type": "code",
   "execution_count": 3,
   "id": "7b6ded9e",
   "metadata": {},
   "outputs": [],
   "source": [
    "KAGGLE_DIR = PATH / \"kaggle\"\n",
    "\n",
    "INPUT_DIR = KAGGLE_DIR / \"input\"\n",
    "\n",
    "COMPETITION_DATA_DIR = INPUT_DIR / \"vesuvius-challenge-ink-detection\"\n",
    "\n",
    "DOWNSAMPLING = .7\n",
    "NUM_Z_SLICES = 30"
   ]
  },
  {
   "cell_type": "code",
   "execution_count": 4,
   "id": "e31cdd3a",
   "metadata": {},
   "outputs": [],
   "source": [
    "def create_df_from_mask_paths( stage, downsampling):\n",
    "    mask_paths = sorted(COMPETITION_DATA_DIR.glob(f\"{stage}/*/mask.png\"))\n",
    "\n",
    "    df = pd.DataFrame({\"mask_png\": mask_paths})\n",
    "\n",
    "    df[\"mask_png\"] = df[\"mask_png\"].astype(str)\n",
    "\n",
    "    df[\"stage\"] = df[\"mask_png\"].str.split(\"/\").str[-3]\n",
    "    df[\"fragment_id\"] = df[\"mask_png\"].str.split(\"/\").str[-2]\n",
    "\n",
    "    df[\"mask_npy\"] = df[\"mask_png\"].str.replace(\n",
    "        stage, f\"{stage}_{downsampling}\", regex=False\n",
    "    )\n",
    "    #df[\"mask_npy\"] = df[\"mask_npy\"].str.replace(\"input\", \"working\", regex=False)\n",
    "    df[\"mask_npy\"] = df[\"mask_npy\"].str.replace(\"png\", \"npy\", regex=False)\n",
    "\n",
    "    if stage == \"train\":\n",
    "        df[\"label_png\"] = df[\"mask_png\"].str.replace(\"mask\", \"inklabels\", regex=False)\n",
    "        df[\"label_npy\"] = df[\"mask_npy\"].str.replace(\"mask\", \"inklabels\", regex=False)\n",
    "\n",
    "    df[\"volumes_dir\"] = df[\"mask_png\"].str.replace(\n",
    "        \"mask.png\", \"surface_volume\", regex=False\n",
    "    )\n",
    "    df[\"volume_npy\"] = df[\"mask_npy\"].str.replace(\"mask\", \"volume\", regex=False)\n",
    "\n",
    "    return df"
   ]
  },
  {
   "cell_type": "code",
   "execution_count": 5,
   "id": "54098a92",
   "metadata": {},
   "outputs": [],
   "source": [
    "train_df = create_df_from_mask_paths(\"train\", DOWNSAMPLING)"
   ]
  },
  {
   "cell_type": "code",
   "execution_count": 6,
   "id": "0d3b7bc0",
   "metadata": {},
   "outputs": [
    {
     "data": {
      "text/plain": [
       "'/Users/gregory/PROJECT_ML/VESUVIUS_Challenge/kaggle/input/vesuvius-challenge-ink-detection/train_0.7/1/mask.npy'"
      ]
     },
     "execution_count": 6,
     "metadata": {},
     "output_type": "execute_result"
    }
   ],
   "source": [
    "train_df['mask_npy'][0]"
   ]
  },
  {
   "cell_type": "code",
   "execution_count": 7,
   "id": "c52bc8bf",
   "metadata": {},
   "outputs": [],
   "source": [
    "def load_image(path):\n",
    "    return Image.open(path)\n",
    "\n",
    "\n",
    "def resize_image(image, downsampling):\n",
    "    size = int(image.size[0] * downsampling), int(image.size[1] * downsampling)\n",
    "    return image.resize(size)\n",
    "\n",
    "\n",
    "def load_and_resize_image(path, downsampling):\n",
    "    image = load_image(path)\n",
    "    return resize_image(image, downsampling)\n",
    "\n",
    "\n",
    "def load_label_npy(path, downsampling):\n",
    "    label = load_and_resize_image(path, downsampling)\n",
    "    return np.array(label) > 0\n",
    "\n",
    "\n",
    "def load_mask_npy(path, downsampling):\n",
    "    mask = load_and_resize_image(path, downsampling).convert(\"1\")\n",
    "    return np.array(mask)\n",
    "\n",
    "\n",
    "def load_z_slice_npy(path, downsampling):\n",
    "    z_slice = load_and_resize_image(path, downsampling)\n",
    "    return np.array(z_slice, dtype=np.float32) / 65535.0\n",
    "\n",
    "\n",
    "def load_volume_npy(volumes_dir, num_z_slices, downsampling):\n",
    "    mid = 65 // 2\n",
    "    start = mid - num_z_slices // 2\n",
    "    end = mid + num_z_slices // 2\n",
    "\n",
    "    z_slices_paths = sorted(Path(volumes_dir).glob(\"*.tif\"))[start:end]\n",
    "\n",
    "    batch_size = num_z_slices // 4\n",
    "    paths_batches = [\n",
    "        z_slices_paths[i : i + batch_size]\n",
    "        for i in range(0, len(z_slices_paths), batch_size)\n",
    "    ]\n",
    "\n",
    "    volumes = []\n",
    "    for paths_batch in tqdm(\n",
    "        paths_batches, leave=False, desc=\"Processing batches\", position=1\n",
    "    ):\n",
    "        z_slices = [\n",
    "            load_z_slice_npy(path, downsampling)\n",
    "            for path in tqdm(\n",
    "                paths_batch, leave=False, desc=\"Processing paths\", position=2\n",
    "            )\n",
    "        ]\n",
    "        volumes.append(np.stack(z_slices, axis=0))\n",
    "        del z_slices\n",
    "\n",
    "        # break\n",
    "\n",
    "    volume = np.concatenate(volumes, axis=0)\n",
    "\n",
    "    return volume"
   ]
  },
  {
   "cell_type": "code",
   "execution_count": 8,
   "id": "6d8ee626",
   "metadata": {},
   "outputs": [],
   "source": [
    "def save_data_as_npy(df, train=True):\n",
    "    for row in tqdm(\n",
    "        df.itertuples(), total=len(df), desc=\"Processing fragments\", position=0\n",
    "    ):\n",
    "        \n",
    "        mask_npy = load_mask_npy(row.mask_png, DOWNSAMPLING)\n",
    "        volume_npy = load_volume_npy(row.volumes_dir, NUM_Z_SLICES, DOWNSAMPLING)\n",
    "\n",
    "        Path(row.mask_npy).parent.mkdir(exist_ok=True, parents=True)\n",
    "        np.save(row.mask_npy, mask_npy)\n",
    "        np.save(row.volume_npy, volume_npy)\n",
    "\n",
    "        if train:\n",
    "            label_npy = load_label_npy(row.label_png, DOWNSAMPLING)\n",
    "            np.save(row.label_npy, label_npy)\n",
    "\n",
    "        tqdm.write(f\"Created {row.volume_npy} with shape {volume_npy.shape}\")"
   ]
  },
  {
   "cell_type": "code",
   "execution_count": 9,
   "id": "6b3bf01a",
   "metadata": {},
   "outputs": [
    {
     "data": {
      "application/vnd.jupyter.widget-view+json": {
       "model_id": "25aa9085c0494e989c1d728616993648",
       "version_major": 2,
       "version_minor": 0
      },
      "text/plain": [
       "Processing fragments:   0%|          | 0/3 [00:00<?, ?it/s]"
      ]
     },
     "metadata": {},
     "output_type": "display_data"
    },
    {
     "data": {
      "application/vnd.jupyter.widget-view+json": {
       "model_id": "",
       "version_major": 2,
       "version_minor": 0
      },
      "text/plain": [
       "Processing batches:   0%|          | 0/5 [00:00<?, ?it/s]"
      ]
     },
     "metadata": {},
     "output_type": "display_data"
    },
    {
     "data": {
      "application/vnd.jupyter.widget-view+json": {
       "model_id": "",
       "version_major": 2,
       "version_minor": 0
      },
      "text/plain": [
       "Processing paths:   0%|          | 0/7 [00:00<?, ?it/s]"
      ]
     },
     "metadata": {},
     "output_type": "display_data"
    },
    {
     "data": {
      "application/vnd.jupyter.widget-view+json": {
       "model_id": "",
       "version_major": 2,
       "version_minor": 0
      },
      "text/plain": [
       "Processing paths:   0%|          | 0/7 [00:00<?, ?it/s]"
      ]
     },
     "metadata": {},
     "output_type": "display_data"
    },
    {
     "data": {
      "application/vnd.jupyter.widget-view+json": {
       "model_id": "",
       "version_major": 2,
       "version_minor": 0
      },
      "text/plain": [
       "Processing paths:   0%|          | 0/7 [00:00<?, ?it/s]"
      ]
     },
     "metadata": {},
     "output_type": "display_data"
    },
    {
     "data": {
      "application/vnd.jupyter.widget-view+json": {
       "model_id": "",
       "version_major": 2,
       "version_minor": 0
      },
      "text/plain": [
       "Processing paths:   0%|          | 0/7 [00:00<?, ?it/s]"
      ]
     },
     "metadata": {},
     "output_type": "display_data"
    },
    {
     "data": {
      "application/vnd.jupyter.widget-view+json": {
       "model_id": "",
       "version_major": 2,
       "version_minor": 0
      },
      "text/plain": [
       "Processing paths:   0%|          | 0/2 [00:00<?, ?it/s]"
      ]
     },
     "metadata": {},
     "output_type": "display_data"
    },
    {
     "name": "stdout",
     "output_type": "stream",
     "text": [
      "Created /Users/gregory/PROJECT_ML/VESUVIUS_Challenge/kaggle/input/vesuvius-challenge-ink-detection/train_0.7/1/volume.npy with shape (30, 5726, 4431)\n"
     ]
    },
    {
     "name": "stderr",
     "output_type": "stream",
     "text": [
      "/Users/gregory/anaconda3/lib/python3.10/site-packages/PIL/Image.py:3167: DecompressionBombWarning: Image size (140973980 pixels) exceeds limit of 89478485 pixels, could be decompression bomb DOS attack.\n",
      "  warnings.warn(\n"
     ]
    },
    {
     "data": {
      "application/vnd.jupyter.widget-view+json": {
       "model_id": "",
       "version_major": 2,
       "version_minor": 0
      },
      "text/plain": [
       "Processing batches:   0%|          | 0/5 [00:00<?, ?it/s]"
      ]
     },
     "metadata": {},
     "output_type": "display_data"
    },
    {
     "data": {
      "application/vnd.jupyter.widget-view+json": {
       "model_id": "",
       "version_major": 2,
       "version_minor": 0
      },
      "text/plain": [
       "Processing paths:   0%|          | 0/7 [00:00<?, ?it/s]"
      ]
     },
     "metadata": {},
     "output_type": "display_data"
    },
    {
     "data": {
      "application/vnd.jupyter.widget-view+json": {
       "model_id": "",
       "version_major": 2,
       "version_minor": 0
      },
      "text/plain": [
       "Processing paths:   0%|          | 0/7 [00:00<?, ?it/s]"
      ]
     },
     "metadata": {},
     "output_type": "display_data"
    },
    {
     "data": {
      "application/vnd.jupyter.widget-view+json": {
       "model_id": "",
       "version_major": 2,
       "version_minor": 0
      },
      "text/plain": [
       "Processing paths:   0%|          | 0/7 [00:00<?, ?it/s]"
      ]
     },
     "metadata": {},
     "output_type": "display_data"
    },
    {
     "data": {
      "application/vnd.jupyter.widget-view+json": {
       "model_id": "",
       "version_major": 2,
       "version_minor": 0
      },
      "text/plain": [
       "Processing paths:   0%|          | 0/7 [00:00<?, ?it/s]"
      ]
     },
     "metadata": {},
     "output_type": "display_data"
    },
    {
     "data": {
      "application/vnd.jupyter.widget-view+json": {
       "model_id": "",
       "version_major": 2,
       "version_minor": 0
      },
      "text/plain": [
       "Processing paths:   0%|          | 0/2 [00:00<?, ?it/s]"
      ]
     },
     "metadata": {},
     "output_type": "display_data"
    },
    {
     "name": "stdout",
     "output_type": "stream",
     "text": [
      "Created /Users/gregory/PROJECT_ML/VESUVIUS_Challenge/kaggle/input/vesuvius-challenge-ink-detection/train_0.7/2/volume.npy with shape (30, 10381, 6654)\n"
     ]
    },
    {
     "data": {
      "application/vnd.jupyter.widget-view+json": {
       "model_id": "",
       "version_major": 2,
       "version_minor": 0
      },
      "text/plain": [
       "Processing batches:   0%|          | 0/5 [00:00<?, ?it/s]"
      ]
     },
     "metadata": {},
     "output_type": "display_data"
    },
    {
     "data": {
      "application/vnd.jupyter.widget-view+json": {
       "model_id": "",
       "version_major": 2,
       "version_minor": 0
      },
      "text/plain": [
       "Processing paths:   0%|          | 0/7 [00:00<?, ?it/s]"
      ]
     },
     "metadata": {},
     "output_type": "display_data"
    },
    {
     "data": {
      "application/vnd.jupyter.widget-view+json": {
       "model_id": "",
       "version_major": 2,
       "version_minor": 0
      },
      "text/plain": [
       "Processing paths:   0%|          | 0/7 [00:00<?, ?it/s]"
      ]
     },
     "metadata": {},
     "output_type": "display_data"
    },
    {
     "data": {
      "application/vnd.jupyter.widget-view+json": {
       "model_id": "",
       "version_major": 2,
       "version_minor": 0
      },
      "text/plain": [
       "Processing paths:   0%|          | 0/7 [00:00<?, ?it/s]"
      ]
     },
     "metadata": {},
     "output_type": "display_data"
    },
    {
     "data": {
      "application/vnd.jupyter.widget-view+json": {
       "model_id": "",
       "version_major": 2,
       "version_minor": 0
      },
      "text/plain": [
       "Processing paths:   0%|          | 0/7 [00:00<?, ?it/s]"
      ]
     },
     "metadata": {},
     "output_type": "display_data"
    },
    {
     "data": {
      "application/vnd.jupyter.widget-view+json": {
       "model_id": "",
       "version_major": 2,
       "version_minor": 0
      },
      "text/plain": [
       "Processing paths:   0%|          | 0/2 [00:00<?, ?it/s]"
      ]
     },
     "metadata": {},
     "output_type": "display_data"
    },
    {
     "name": "stdout",
     "output_type": "stream",
     "text": [
      "Created /Users/gregory/PROJECT_ML/VESUVIUS_Challenge/kaggle/input/vesuvius-challenge-ink-detection/train_0.7/3/volume.npy with shape (30, 5324, 3674)\n"
     ]
    }
   ],
   "source": [
    "save_data_as_npy(train_df, train=True)\n"
   ]
  },
  {
   "cell_type": "code",
   "execution_count": null,
   "id": "a804fb87",
   "metadata": {},
   "outputs": [],
   "source": []
  },
  {
   "cell_type": "code",
   "execution_count": 10,
   "id": "8bf37936",
   "metadata": {},
   "outputs": [
    {
     "name": "stdout",
     "output_type": "stream",
     "text": [
      "/Users/gregory/PROJECT_ML/VESUVIUS_Challenge/kaggle/input/vesuvius-challenge-ink-detection/train_0.7/1/mask.npy\n",
      "/Users/gregory/PROJECT_ML/VESUVIUS_Challenge/kaggle/input/vesuvius-challenge-ink-detection/train_0.7/1/inklabels.npy\n",
      "/Users/gregory/PROJECT_ML/VESUVIUS_Challenge/kaggle/input/vesuvius-challenge-ink-detection/train_0.7/1/volume.npy\n"
     ]
    }
   ],
   "source": [
    "print(train_df['mask_npy'][0])\n",
    "print(train_df['label_npy'][0])\n",
    "print(train_df['volume_npy'][0])\n"
   ]
  },
  {
   "cell_type": "code",
   "execution_count": 11,
   "id": "42076242",
   "metadata": {},
   "outputs": [],
   "source": [
    "train_df[\"label_npy\"] = train_df[\"label_npy\"].str.replace( \"working\", \"input\", regex=False)\n",
    "train_df[\"mask_npy\"] = train_df[\"mask_npy\"].str.replace(\n",
    "    \"working\", \"input\", regex=False\n",
    ")\n",
    "train_df[\"volume_npy\"] = train_df[\"volume_npy\"].str.replace(\n",
    "    \"working\", \"input\", regex=False\n",
    ")\n",
    "\n"
   ]
  },
  {
   "cell_type": "code",
   "execution_count": 12,
   "id": "5bb7ce1e",
   "metadata": {},
   "outputs": [
    {
     "name": "stdout",
     "output_type": "stream",
     "text": [
      "/Users/gregory/PROJECT_ML/VESUVIUS_Challenge/kaggle/input/vesuvius-challenge-ink-detection/train_0.7/1/mask.npy\n",
      "/Users/gregory/PROJECT_ML/VESUVIUS_Challenge/kaggle/input/vesuvius-challenge-ink-detection/train_0.7/1/volume.npy\n"
     ]
    }
   ],
   "source": [
    "print(train_df['mask_npy'][0])\n",
    "\n",
    "print(train_df['volume_npy'][0])\n"
   ]
  },
  {
   "cell_type": "code",
   "execution_count": null,
   "id": "7530a118",
   "metadata": {},
   "outputs": [],
   "source": []
  },
  {
   "cell_type": "code",
   "execution_count": 13,
   "id": "c22a7042",
   "metadata": {},
   "outputs": [
    {
     "data": {
      "text/plain": [
       "0    /Users/gregory/PROJECT_ML/VESUVIUS_Challenge/k...\n",
       "1    /Users/gregory/PROJECT_ML/VESUVIUS_Challenge/k...\n",
       "2    /Users/gregory/PROJECT_ML/VESUVIUS_Challenge/k...\n",
       "Name: label_npy, dtype: object"
      ]
     },
     "execution_count": 13,
     "metadata": {},
     "output_type": "execute_result"
    }
   ],
   "source": [
    "train_df[\"label_npy\"].str.replace(\"working\", \"input\", regex=True)"
   ]
  },
  {
   "cell_type": "code",
   "execution_count": 14,
   "id": "05869692",
   "metadata": {},
   "outputs": [
    {
     "data": {
      "text/plain": [
       "'/Users/gregory/PROJECT_ML/VESUVIUS_Challenge/kaggle/input/vesuvius-challenge-ink-detection/train_0.7/1/inklabels.npy'"
      ]
     },
     "execution_count": 14,
     "metadata": {},
     "output_type": "execute_result"
    }
   ],
   "source": [
    "train_df['label_npy'][0]"
   ]
  },
  {
   "cell_type": "code",
   "execution_count": 15,
   "id": "018c7a3f",
   "metadata": {},
   "outputs": [],
   "source": [
    "train_df.to_csv(f\"data_train_{DOWNSAMPLING}.csv\")"
   ]
  },
  {
   "cell_type": "code",
   "execution_count": null,
   "id": "a3b2fcef",
   "metadata": {},
   "outputs": [],
   "source": []
  }
 ],
 "metadata": {
  "kernelspec": {
   "display_name": "Python 3 (ipykernel)",
   "language": "python",
   "name": "python3"
  },
  "language_info": {
   "codemirror_mode": {
    "name": "ipython",
    "version": 3
   },
   "file_extension": ".py",
   "mimetype": "text/x-python",
   "name": "python",
   "nbconvert_exporter": "python",
   "pygments_lexer": "ipython3",
   "version": "3.10.9"
  }
 },
 "nbformat": 4,
 "nbformat_minor": 5
}
