{
 "cells": [
  {
   "cell_type": "code",
   "execution_count": 1,
   "id": "9e89c47c",
   "metadata": {},
   "outputs": [
    {
     "name": "stdout",
     "output_type": "stream",
     "text": [
      "Starting path:/Users/gregory/PROJECT_ML/VESUVIUS_Challenge/jupyter notebooks\n",
      "Current path:/Users/gregory/PROJECT_ML/VESUVIUS_Challenge\n"
     ]
    }
   ],
   "source": [
    "# Here we take care of paths.\n",
    "# Make sure root project directory is named 'VESUVIUS_Challenge' for this to work\n",
    "\n",
    "from pathlib import Path\n",
    "import os\n",
    "print('Starting path:' + os.getcwd())\n",
    "if os.getcwd()[-18:] == 'VESUVIUS_Challenge':\n",
    "    pass\n",
    "else:\n",
    "    PATH = Path().resolve().parents[0]\n",
    "    os.chdir(PATH)\n",
    "\n",
    "# make sure you are in the root folder of the project\n",
    "print('Current path:' + os.getcwd())"
   ]
  },
  {
   "cell_type": "code",
   "execution_count": 13,
   "id": "37b92fe4",
   "metadata": {},
   "outputs": [],
   "source": [
    "import torch\n",
    "import monai\n",
    "#from monai.visualize import matshow3d\n",
    "import segmentation_models_pytorch as smp\n",
    "import matplotlib.pyplot as plt\n",
    "#import tempfile\n",
    "import shutil\n",
    "import os\n",
    "import glob\n",
    "import cv2\n",
    "import numpy as np\n",
    "import pandas as pd\n",
    "from tqdm.auto import tqdm\n",
    "from typing import Tuple, List\n",
    "import albumentations as A\n",
    "from albumentations.pytorch import ToTensorV2\n",
    "import pytorch_lightning as pl\n",
    "from pytorch_lightning import Trainer\n",
    "from Data_Modules.Vesuvius_Dataset import Vesuvius_Tile_Datamodule\n",
    "from lit_models.Vesuvius_Lit_Model import Lit_Model\n",
    "from pytorch_lightning.callbacks import ModelCheckpoint\n",
    "import torch.nn as nn\n",
    "from Models.PVT2 import PyramidVisionTransformerV2, Up, OutConv\n",
    "import torch.nn as nn\n",
    "from functools import partial\n",
    "import torchvision\n",
    "import torch.nn.functional as F\n",
    "from Models.Swin import SwinTransformer, SwinTransformerBlockV2, PatchMergingV2\n",
    "from lit_models.scratch_models import FPNDecoder\n",
    "from Models.PreBackbone_3D import PreBackbone_3D"
   ]
  },
  {
   "cell_type": "code",
   "execution_count": 3,
   "id": "8148fe94",
   "metadata": {},
   "outputs": [],
   "source": [
    "z_dim = 32\n",
    "out_channels = [4,8,16,32]\n",
    "\n",
    "conv =  nn.Conv3d(in_channels=1,\n",
    "                  out_channels=4,\n",
    "                  kernel_size = (3, 1, 1),\n",
    "                  stride=(2, 1, 1),\n",
    "                  padding= (1, 0, 0)\n",
    "                  )  # (B,C,H,W) -> (B, 1 C, H, W)\n",
    "\n",
    "pool = nn.AvgPool3d(kernel_size = (2 ,1 ,1), stride=(2 ,1 ,1))\n",
    "\n",
    "global_pool =  nn.AdaptiveAvgPool3d((1, None, None))\n",
    "\n",
    "conv2 =  nn.Conv3d(in_channels=2,\n",
    "                  out_channels=8,\n",
    "                  kernel_size = (3, 1, 1),\n",
    "                  stride=(2, 1, 1),\n",
    "                  padding= (1, 0, 0)\n",
    "                  )\n",
    "\n",
    "conv3 =  nn.Conv3d(in_channels=4,\n",
    "                  out_channels=16,\n",
    "                  kernel_size = (3, 1, 1),\n",
    "                  stride=(2, 1, 1),\n",
    "                  padding= (1, 0, 0)\n",
    "                  )\n",
    "\n",
    "\n",
    "\n"
   ]
  },
  {
   "cell_type": "code",
   "execution_count": 4,
   "id": "1e346c51",
   "metadata": {},
   "outputs": [
    {
     "name": "stdout",
     "output_type": "stream",
     "text": [
      "torch.Size([5, 1, 32, 256, 256])\n"
     ]
    }
   ],
   "source": [
    "\n",
    "dummy  = torch.randn(5,1,z_dim,256,256)\n",
    "print(dummy.shape)"
   ]
  },
  {
   "cell_type": "code",
   "execution_count": 5,
   "id": "24d2f90f",
   "metadata": {},
   "outputs": [
    {
     "name": "stdout",
     "output_type": "stream",
     "text": [
      "torch.Size([5, 4, 16, 256, 256])\n",
      "torch.Size([5, 2, 16, 256, 256])\n"
     ]
    }
   ],
   "source": [
    "# LAYER 1\n",
    "out = conv(dummy)\n",
    "print(out.shape)\n",
    "out = out.permute(0,2,1,3,4)\n",
    "out = pool(out)\n",
    "out = out.permute(0,2,1,3,4)\n",
    "print(out.shape)"
   ]
  },
  {
   "cell_type": "code",
   "execution_count": 6,
   "id": "03044fba",
   "metadata": {},
   "outputs": [
    {
     "name": "stdout",
     "output_type": "stream",
     "text": [
      "torch.Size([5, 4, 16, 256, 256])\n",
      "torch.Size([5, 1, 4, 256, 256])\n"
     ]
    }
   ],
   "source": [
    "out = conv(dummy)\n",
    "\n",
    "out = out.permute(0,2,1,3,4)\n",
    "out = pool(out)\n",
    "out = out.permute(0,2,1,3,4)\n",
    "\n",
    "out = conv2(out)\n",
    "out = out.permute(0,2,1,3,4)\n",
    "out = pool(out)\n",
    "out = out.permute(0,2,1,3,4)\n",
    "out = conv3(out)\n",
    "\n",
    "\n",
    "# FINAL\n",
    "out = out.permute(0,2,1,3,4)\n",
    "print(out.shape)\n",
    "out = global_pool(out)\n",
    "out = out.permute(0,2,1,3,4)\n",
    "print(out.shape)"
   ]
  },
  {
   "cell_type": "code",
   "execution_count": 7,
   "id": "3e31b7e1",
   "metadata": {},
   "outputs": [
    {
     "name": "stdout",
     "output_type": "stream",
     "text": [
      "torch.Size([5, 1, 4, 256, 256])\n"
     ]
    }
   ],
   "source": [
    "print(out.shape)"
   ]
  },
  {
   "cell_type": "code",
   "execution_count": 8,
   "id": "2d369261",
   "metadata": {},
   "outputs": [],
   "source": [
    "batch_norm = torch.nn.BatchNorm3d( num_features=1, momentum=0.9)"
   ]
  },
  {
   "cell_type": "code",
   "execution_count": 9,
   "id": "9f1c73c0",
   "metadata": {},
   "outputs": [
    {
     "data": {
      "text/plain": [
       "torch.Size([5, 1, 4, 256, 256])"
      ]
     },
     "execution_count": 9,
     "metadata": {},
     "output_type": "execute_result"
    }
   ],
   "source": [
    "batch_norm(out).shape"
   ]
  },
  {
   "cell_type": "code",
   "execution_count": 10,
   "id": "76f5da31",
   "metadata": {},
   "outputs": [
    {
     "name": "stdout",
     "output_type": "stream",
     "text": [
      "torch.Size([5, 3, 256, 256])\n"
     ]
    }
   ],
   "source": [
    "m_dummy = torch.randn(5,48,256,256)\n",
    "model_3d = PreBackbone_3D()\n",
    "outs = model_3d(m_dummy)\n",
    "print(outs.shape)"
   ]
  },
  {
   "cell_type": "code",
   "execution_count": 19,
   "id": "0fb41bda",
   "metadata": {},
   "outputs": [],
   "source": [
    "model = smp.Unet(encoder_name='mit_b2',\n",
    "                 encoder_depth=5,\n",
    "                 encoder_weights='imagenet', \n",
    "                 decoder_use_batchnorm=True, \n",
    "                 decoder_channels=(512, 256, 128, 64, 32,),\n",
    "                 decoder_attention_type=None,\n",
    "                 in_channels=3,\n",
    "                 classes=1, activation=None, aux_params=None)\n",
    "\n",
    "\n",
    "\n"
   ]
  },
  {
   "cell_type": "code",
   "execution_count": 20,
   "id": "62685647",
   "metadata": {
    "scrolled": false
   },
   "outputs": [],
   "source": [
    "final_outs = model(outs)"
   ]
  },
  {
   "cell_type": "code",
   "execution_count": 21,
   "id": "d76af6c2",
   "metadata": {},
   "outputs": [
    {
     "data": {
      "text/plain": [
       "torch.Size([5, 1, 256, 256])"
      ]
     },
     "execution_count": 21,
     "metadata": {},
     "output_type": "execute_result"
    }
   ],
   "source": [
    "final_outs.shape"
   ]
  },
  {
   "cell_type": "code",
   "execution_count": null,
   "id": "a1a8cbf2",
   "metadata": {},
   "outputs": [],
   "source": []
  }
 ],
 "metadata": {
  "kernelspec": {
   "display_name": "Python 3 (ipykernel)",
   "language": "python",
   "name": "python3"
  },
  "language_info": {
   "codemirror_mode": {
    "name": "ipython",
    "version": 3
   },
   "file_extension": ".py",
   "mimetype": "text/x-python",
   "name": "python",
   "nbconvert_exporter": "python",
   "pygments_lexer": "ipython3",
   "version": "3.10.9"
  }
 },
 "nbformat": 4,
 "nbformat_minor": 5
}
