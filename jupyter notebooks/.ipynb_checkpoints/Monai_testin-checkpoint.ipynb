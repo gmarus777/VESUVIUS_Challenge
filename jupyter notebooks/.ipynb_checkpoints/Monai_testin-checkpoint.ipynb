{
 "cells": [
  {
   "cell_type": "code",
   "execution_count": 1,
   "id": "6a033665",
   "metadata": {},
   "outputs": [
    {
     "name": "stdout",
     "output_type": "stream",
     "text": [
      "Starting path:/Users/gregory/PROJECT_ML/VESUVIUS_Challenge/jupyter notebooks\n",
      "Current path:/Users/gregory/PROJECT_ML/VESUVIUS_Challenge\n"
     ]
    }
   ],
   "source": [
    "# Here we take care of paths.\n",
    "\n",
    "from pathlib import Path\n",
    "import os\n",
    "print('Starting path:' + os.getcwd())\n",
    "if os.getcwd()[-18:] == 'VESUVIUS_Challenge':\n",
    "    pass\n",
    "else:\n",
    "    PATH = Path().resolve().parents[0]\n",
    "    os.chdir(PATH)\n",
    "\n",
    "# make sure you are in Paragraph_to_Tex folder\n",
    "print('Current path:' + os.getcwd())"
   ]
  },
  {
   "cell_type": "code",
   "execution_count": 2,
   "id": "e234aed7",
   "metadata": {},
   "outputs": [
    {
     "name": "stderr",
     "output_type": "stream",
     "text": [
      "/Users/gregory/anaconda3/lib/python3.10/site-packages/tqdm/auto.py:22: TqdmWarning: IProgress not found. Please update jupyter and ipywidgets. See https://ipywidgets.readthedocs.io/en/stable/user_install.html\n",
      "  from .autonotebook import tqdm as notebook_tqdm\n"
     ]
    },
    {
     "name": "stdout",
     "output_type": "stream",
     "text": [
      "2023-04-17 14:00:29,876 - Created a temporary directory at /var/folders/wc/60y8v25x3ns_jgsx6clbdb180000gn/T/tmpxbpmmtqh\n",
      "2023-04-17 14:00:29,877 - Writing /var/folders/wc/60y8v25x3ns_jgsx6clbdb180000gn/T/tmpxbpmmtqh/_remote_module_non_scriptable.py\n"
     ]
    }
   ],
   "source": [
    "\n",
    "import monai\n",
    "import torch\n",
    "import matplotlib.pyplot as plt\n",
    "import tempfile\n",
    "import shutil\n",
    "import os\n",
    "import glob\n",
    "import pytorch_lightning as pl\n",
    "from pytorch_lightning import Trainer\n",
    "from Data_Modules.Scrolls_Dataset_Module import Scrolls_Dataset\n",
    "import matplotlib.patches as patches\n",
    "from lit_models.UNET_monai_lit import UNET_lit\n",
    "\n",
    "DEVICE = torch.device(\"cuda\" if torch.cuda.is_available() else \"cpu\")\n"
   ]
  },
  {
   "cell_type": "code",
   "execution_count": 3,
   "id": "8db77db7",
   "metadata": {},
   "outputs": [],
   "source": [
    "# Initiating Dataset with parameters\n",
    "\n",
    "# buffer =   -- x,y patchsize for training\n",
    "# z_start =  --  Offset of slices in the z direction\n",
    "# z_dim =    -- Number of slices in the z direction. Max value is (64 - z_start)\n",
    "# validation_rect =  -- rectangle removed for validation set\n",
    "# shared_height = -- Height to resize all scrolls\n",
    "# scroll_fragments = -- scrolls to be used \n",
    "\n",
    "dataset = Scrolls_Dataset(\n",
    "                monai= True,\n",
    "    \n",
    "                buffer = 32,\n",
    "                 z_start = 26,\n",
    "                 z_dim = 16,\n",
    "                 validation_rect = (1100, 3500, 700, 950),\n",
    "                shared_height = 8000,\n",
    "                 downsampling =None,\n",
    "                 scroll_fragments = [1],#[1,2,3],\n",
    "                 stage = 'train',\n",
    "                 shuffle=True,\n",
    "                 batch_size=8,\n",
    "                 num_workers =4 ,\n",
    "                 on_gpu= False,\n",
    "                          \n",
    "                         )\n"
   ]
  },
  {
   "cell_type": "code",
   "execution_count": 4,
   "id": "fe7e77f7",
   "metadata": {},
   "outputs": [
    {
     "name": "stderr",
     "output_type": "stream",
     "text": [
      "16it [00:06,  2.33it/s]\n"
     ]
    }
   ],
   "source": [
    "# prepeare data, by processng images and loading dataloader\n",
    "\n",
    "dataset.prepare_data()"
   ]
  },
  {
   "cell_type": "code",
   "execution_count": 5,
   "id": "42ce37b1",
   "metadata": {},
   "outputs": [],
   "source": [
    "#lit_model = UNET_lit(z_dim = dataset.z_dim)"
   ]
  },
  {
   "cell_type": "markdown",
   "id": "348f902f",
   "metadata": {},
   "source": [
    "#trainer = pl.Trainer(\n",
    "        accelerator='mps',\n",
    "        benchmark=True,\n",
    "        max_epochs=20,\n",
    "        check_val_every_n_epoch= 1,\n",
    "        devices=1,\n",
    "        #fast_dev_run=fast_dev_run,\n",
    "        logger=pl.loggers.CSVLogger(save_dir='logs/'),\n",
    "        log_every_n_steps=1,\n",
    "        \n",
    "        overfit_batches=0,\n",
    "        precision=16,\n",
    "         accumulate_grad_batches=8,)\n",
    "\n",
    "#trainer.fit(lit_model, datamodule=dataset)"
   ]
  },
  {
   "cell_type": "code",
   "execution_count": null,
   "id": "9bb54e19",
   "metadata": {},
   "outputs": [],
   "source": []
  },
  {
   "cell_type": "code",
   "execution_count": null,
   "id": "a9296e5d",
   "metadata": {},
   "outputs": [],
   "source": []
  },
  {
   "cell_type": "code",
   "execution_count": null,
   "id": "b70a2aa0",
   "metadata": {},
   "outputs": [],
   "source": []
  },
  {
   "cell_type": "code",
   "execution_count": null,
   "id": "84a66474",
   "metadata": {},
   "outputs": [],
   "source": []
  },
  {
   "cell_type": "code",
   "execution_count": null,
   "id": "b590bd00",
   "metadata": {},
   "outputs": [],
   "source": []
  },
  {
   "cell_type": "code",
   "execution_count": null,
   "id": "cce2a00b",
   "metadata": {},
   "outputs": [],
   "source": []
  },
  {
   "cell_type": "code",
   "execution_count": null,
   "id": "b91153d8",
   "metadata": {},
   "outputs": [],
   "source": []
  },
  {
   "cell_type": "code",
   "execution_count": null,
   "id": "6612eed3",
   "metadata": {},
   "outputs": [],
   "source": []
  },
  {
   "cell_type": "code",
   "execution_count": null,
   "id": "c4321b12",
   "metadata": {},
   "outputs": [],
   "source": []
  },
  {
   "cell_type": "code",
   "execution_count": 6,
   "id": "f94cd61b",
   "metadata": {},
   "outputs": [
    {
     "data": {
      "text/plain": [
       "27189636"
      ]
     },
     "execution_count": 6,
     "metadata": {},
     "output_type": "execute_result"
    }
   ],
   "source": [
    "len(dataset.train_pixels)"
   ]
  },
  {
   "cell_type": "code",
   "execution_count": 7,
   "id": "d741bd7a",
   "metadata": {},
   "outputs": [],
   "source": [
    "model = monai.networks.nets.UNet(\n",
    "                spatial_dims=2,\n",
    "                in_channels=16, #z_dim\n",
    "                out_channels=1,\n",
    "                channels=(16, 32, 64, 128, 256),\n",
    "                strides=(2, 2, 2, 2),\n",
    "                num_res_units=2,\n",
    "                dropout=.2,\n",
    "            )"
   ]
  },
  {
   "cell_type": "code",
   "execution_count": 8,
   "id": "dd5a3b56",
   "metadata": {},
   "outputs": [
    {
     "name": "stdout",
     "output_type": "stream",
     "text": [
      "subvolume shape: torch.Size([8, 1, 16, 64, 64])\n",
      "inklabel shape: torch.Size([8, 1, 64, 64])\n",
      "mask shape torch.Size([8, 1, 64, 64])\n"
     ]
    }
   ],
   "source": [
    "dataloader = iter(dataset.train_dataloader())\n",
    "train_tensor = None\n",
    "train_label = None\n",
    "train_mask = None\n",
    "for i in range(1):\n",
    "    # Get image and label from train data -- change number for different ones\n",
    "    #print(next(dataloader))\n",
    "    subvolume, inklabel, mask = next(dataloader)\n",
    "    print('subvolume shape:',subvolume.shape)\n",
    "    print('inklabel shape:',inklabel.shape)\n",
    "    print('mask shape', mask.shape)\n",
    "    train_tensor = subvolume\n",
    "    train_label = inklabel\n",
    "    train_mask = mask"
   ]
  },
  {
   "cell_type": "code",
   "execution_count": 9,
   "id": "daa09c29",
   "metadata": {},
   "outputs": [
    {
     "data": {
      "text/plain": [
       "torch.Size([8, 16, 64, 64])"
      ]
     },
     "execution_count": 9,
     "metadata": {},
     "output_type": "execute_result"
    }
   ],
   "source": [
    "train_tensor.squeeze(1).shape"
   ]
  },
  {
   "cell_type": "code",
   "execution_count": 10,
   "id": "7045a395",
   "metadata": {},
   "outputs": [
    {
     "name": "stdout",
     "output_type": "stream",
     "text": [
      "torch.Size([8, 1, 64, 64])\n"
     ]
    }
   ],
   "source": [
    "res = model(train_tensor.squeeze(1))\n",
    "print(res.shape)"
   ]
  },
  {
   "cell_type": "code",
   "execution_count": 11,
   "id": "7393b9f8",
   "metadata": {},
   "outputs": [
    {
     "name": "stdout",
     "output_type": "stream",
     "text": [
      "torch.Size([8, 1, 64, 64])\n"
     ]
    }
   ],
   "source": [
    "res = model(train_tensor.squeeze(1))\n",
    "print(res.shape)\n",
    "loss = monai.losses.DiceLoss(sigmoid=True)\n",
    "loss = monai.losses.MaskedLoss(loss)\n",
    "value = loss(res, train_label, train_mask)\n"
   ]
  },
  {
   "cell_type": "code",
   "execution_count": 12,
   "id": "e655419b",
   "metadata": {},
   "outputs": [
    {
     "name": "stdout",
     "output_type": "stream",
     "text": [
      "tensor(0.7656, grad_fn=<MeanBackward0>)\n"
     ]
    }
   ],
   "source": [
    "print(value)"
   ]
  },
  {
   "cell_type": "code",
   "execution_count": 15,
   "id": "0a047dbb",
   "metadata": {},
   "outputs": [
    {
     "data": {
      "text/plain": [
       "torch.Size([16, 8000, 6189])"
      ]
     },
     "execution_count": 15,
     "metadata": {},
     "output_type": "execute_result"
    }
   ],
   "source": [
    "dataset.image_tensors.shape"
   ]
  },
  {
   "cell_type": "code",
   "execution_count": 33,
   "id": "8f7f581a",
   "metadata": {},
   "outputs": [
    {
     "ename": "SyntaxError",
     "evalue": "closing parenthesis ']' does not match opening parenthesis '(' on line 3 (169747856.py, line 10)",
     "output_type": "error",
     "traceback": [
      "\u001b[0;36m  Cell \u001b[0;32mIn[33], line 10\u001b[0;36m\u001b[0m\n\u001b[0;31m    ])\u001b[0m\n\u001b[0m    ^\u001b[0m\n\u001b[0;31mSyntaxError\u001b[0m\u001b[0;31m:\u001b[0m closing parenthesis ']' does not match opening parenthesis '(' on line 3\n"
     ]
    }
   ],
   "source": [
    "transform = monai.transforms.Compose([\n",
    "    \n",
    "          monai.transforms.RandWeightedCropd(\n",
    "                    keys=self.keys,\n",
    "                    spatial_size=self.hparams.patch_size,\n",
    "                    num_samples=self.hparams.num_samples,\n",
    "                    w_key=\"mask_npy\",\n",
    "    \n",
    "    \n",
    "                            ) \n",
    "                        ])\n",
    "\n",
    "\n",
    "\n"
   ]
  },
  {
   "cell_type": "code",
   "execution_count": 32,
   "id": "aa245646",
   "metadata": {},
   "outputs": [],
   "source": [
    "#transform(dataset.image_tensors)"
   ]
  },
  {
   "cell_type": "code",
   "execution_count": null,
   "id": "6d735bfc",
   "metadata": {},
   "outputs": [],
   "source": [
    "monai.transforms.Compose(\n",
    "            [\n",
    "                monai.transforms.LoadImaged(\n",
    "                    keys=\"volume_npy\",\n",
    "                ),\n",
    "                monai.transforms.LoadImaged(\n",
    "                    keys=(\"mask_npy\", \"label_npy\"),\n",
    "                    ensure_channel_first=True,\n",
    "                ),\n",
    "                monai.transforms.RandWeightedCropd(\n",
    "                    keys=self.keys,\n",
    "                    spatial_size=self.hparams.patch_size,\n",
    "                    num_samples=self.hparams.num_samples,\n",
    "                    w_key=\"mask_npy\",\n",
    "                ),\n",
    "                monai.transforms.RandFlipd(\n",
    "                    keys=self.keys,\n",
    "                    prob=0.5,\n",
    "                    spatial_axis=0,\n",
    "                ),\n",
    "                monai.transforms.RandFlipd(\n",
    "                    keys=self.keys,\n",
    "                    prob=0.5,\n",
    "                    spatial_axis=1,\n",
    "                ),\n",
    "            ]\n",
    "        )"
   ]
  },
  {
   "cell_type": "code",
   "execution_count": null,
   "id": "d636a834",
   "metadata": {},
   "outputs": [],
   "source": []
  },
  {
   "cell_type": "code",
   "execution_count": null,
   "id": "51c1826b",
   "metadata": {},
   "outputs": [],
   "source": []
  },
  {
   "cell_type": "code",
   "execution_count": null,
   "id": "792a112f",
   "metadata": {},
   "outputs": [],
   "source": []
  },
  {
   "cell_type": "code",
   "execution_count": null,
   "id": "78123cc9",
   "metadata": {},
   "outputs": [],
   "source": [
    "x,y = dataset.pixels[900000]\n",
    "print(y,x)"
   ]
  },
  {
   "cell_type": "code",
   "execution_count": null,
   "id": "ea413bbd",
   "metadata": {},
   "outputs": [],
   "source": [
    "fig, ax = plt.subplots()\n",
    "ax.imshow(dataset.label_tensors)\n",
    "\n",
    "BUFFER = 256\n",
    "\n",
    "patch = patches.Rectangle([y - BUFFER, x - BUFFER], 2 * BUFFER, 2 * BUFFER, linewidth=1, edgecolor='red', facecolor='none')\n",
    "ax.add_patch(patch)"
   ]
  },
  {
   "cell_type": "code",
   "execution_count": null,
   "id": "f42df807",
   "metadata": {},
   "outputs": [],
   "source": [
    "x,y = y,x\n",
    "BUFFER = 256\n",
    "print(y,x)"
   ]
  },
  {
   "cell_type": "code",
   "execution_count": null,
   "id": "8372ddb4",
   "metadata": {},
   "outputs": [],
   "source": []
  },
  {
   "cell_type": "code",
   "execution_count": null,
   "id": "3e1239e4",
   "metadata": {},
   "outputs": [],
   "source": [
    "image = dataset.image_tensors[:, y - BUFFER:y + BUFFER , x - BUFFER:x + BUFFER ].view(1, 8, BUFFER * 2 ,BUFFER * 2)\n",
    "\n",
    "\n",
    "\n"
   ]
  },
  {
   "cell_type": "code",
   "execution_count": null,
   "id": "c6829ea6",
   "metadata": {},
   "outputs": [],
   "source": [
    "label =dataset.label_tensors[ y - BUFFER:y + BUFFER  , x - BUFFER:x + BUFFER  ].view(1, BUFFER * 2 ,BUFFER * 2 )\n",
    "\n",
    "\n",
    "\n",
    "\n",
    "\n",
    "\n",
    "\n",
    "\n"
   ]
  },
  {
   "cell_type": "code",
   "execution_count": null,
   "id": "f44ab67c",
   "metadata": {},
   "outputs": [],
   "source": []
  },
  {
   "cell_type": "code",
   "execution_count": null,
   "id": "99403699",
   "metadata": {},
   "outputs": [],
   "source": [
    "label.shape"
   ]
  },
  {
   "cell_type": "code",
   "execution_count": null,
   "id": "225d1bd7",
   "metadata": {},
   "outputs": [],
   "source": [
    "label.dtype"
   ]
  },
  {
   "cell_type": "code",
   "execution_count": null,
   "id": "146383da",
   "metadata": {},
   "outputs": [],
   "source": [
    "fig, ax = plt.subplots()\n",
    "ax.imshow(dataset.mask)\n",
    "\n",
    "BUFFER = 256\n",
    "\n",
    "patch = patches.Rectangle([y - BUFFER, x - BUFFER], 2 * BUFFER, 2 * BUFFER, linewidth=1, edgecolor='red', facecolor='none')\n",
    "ax.add_patch(patch)"
   ]
  },
  {
   "cell_type": "code",
   "execution_count": null,
   "id": "4e0bfff5",
   "metadata": {},
   "outputs": [],
   "source": [
    "print(dataset.mask.shape)\n",
    "print(dataset.label_tensors.shape)"
   ]
  },
  {
   "cell_type": "code",
   "execution_count": null,
   "id": "58e433f7",
   "metadata": {},
   "outputs": [],
   "source": [
    "y,x = x,y\n",
    "mask = dataset.mask[ y - BUFFER:y + BUFFER  , x - BUFFER:x + BUFFER  ].view(1, BUFFER * 2 ,BUFFER * 2 )\n",
    "plt.imshow(mask)"
   ]
  },
  {
   "cell_type": "code",
   "execution_count": null,
   "id": "f0a30a82",
   "metadata": {},
   "outputs": [],
   "source": [
    "plt.imshow(label)"
   ]
  },
  {
   "cell_type": "code",
   "execution_count": null,
   "id": "b6208cb7",
   "metadata": {},
   "outputs": [],
   "source": [
    "label.shape"
   ]
  },
  {
   "cell_type": "code",
   "execution_count": null,
   "id": "976967dd",
   "metadata": {},
   "outputs": [],
   "source": [
    "image.shape"
   ]
  },
  {
   "cell_type": "code",
   "execution_count": null,
   "id": "9c727c88",
   "metadata": {},
   "outputs": [],
   "source": [
    "fig, ax = plt.subplots()\n"
   ]
  },
  {
   "cell_type": "code",
   "execution_count": null,
   "id": "fabf5e12",
   "metadata": {},
   "outputs": [],
   "source": [
    "dataset.image_tensors.shape"
   ]
  },
  {
   "cell_type": "code",
   "execution_count": null,
   "id": "82a03cdb",
   "metadata": {},
   "outputs": [],
   "source": [
    "dataset.label_tensors.shape"
   ]
  },
  {
   "cell_type": "code",
   "execution_count": null,
   "id": "b9a5e7bc",
   "metadata": {},
   "outputs": [],
   "source": [
    "train_tensor.shape"
   ]
  },
  {
   "cell_type": "code",
   "execution_count": null,
   "id": "dff391b7",
   "metadata": {},
   "outputs": [],
   "source": [
    "res = model(train_tensor.squeeze(1))\n",
    "print(res.shape)\n",
    "print(train_label.shape)\n",
    "loss = monai.losses.DiceLoss(sigmoid=True)\n",
    "loss = monai.losses.MaskedLoss(loss)\n",
    "value = loss(res, train_label)"
   ]
  },
  {
   "cell_type": "code",
   "execution_count": null,
   "id": "bf351422",
   "metadata": {},
   "outputs": [],
   "source": [
    "print(res.shape)\n",
    "print(train_label.shape)"
   ]
  },
  {
   "cell_type": "code",
   "execution_count": null,
   "id": "c5aa95e3",
   "metadata": {},
   "outputs": [],
   "source": [
    "loss = monai.losses.DiceLoss(sigmoid=True)\n",
    "    \n",
    "loss = monai.losses.MaskedLoss(loss)"
   ]
  },
  {
   "cell_type": "code",
   "execution_count": null,
   "id": "fca9804f",
   "metadata": {},
   "outputs": [],
   "source": [
    "value = loss(res, train_label)"
   ]
  },
  {
   "cell_type": "code",
   "execution_count": null,
   "id": "c5de703c",
   "metadata": {},
   "outputs": [],
   "source": []
  }
 ],
 "metadata": {
  "kernelspec": {
   "display_name": "Python 3 (ipykernel)",
   "language": "python",
   "name": "python3"
  },
  "language_info": {
   "codemirror_mode": {
    "name": "ipython",
    "version": 3
   },
   "file_extension": ".py",
   "mimetype": "text/x-python",
   "name": "python",
   "nbconvert_exporter": "python",
   "pygments_lexer": "ipython3",
   "version": "3.10.9"
  }
 },
 "nbformat": 4,
 "nbformat_minor": 5
}
