{
 "cells": [
  {
   "cell_type": "code",
   "execution_count": 7,
   "id": "36c05b17",
   "metadata": {},
   "outputs": [
    {
     "name": "stdout",
     "output_type": "stream",
     "text": [
      "Starting path:/Users/gregory/PROJECT_ML/VESUVIUS_Challenge\n",
      "Current path:/Users/gregory/PROJECT_ML/VESUVIUS_Challenge\n"
     ]
    }
   ],
   "source": [
    "# Here we take care of paths.\n",
    "# Make sure root project directory is named 'VESUVIUS_Challenge' for this to work\n",
    "\n",
    "from pathlib import Path\n",
    "import os\n",
    "print('Starting path:' + os.getcwd())\n",
    "if os.getcwd()[-18:] == 'VESUVIUS_Challenge':\n",
    "    pass\n",
    "else:\n",
    "    PATH = Path().resolve().parents[0]\n",
    "    os.chdir(PATH)\n",
    "\n",
    "# make sure you are in the root folder of the project\n",
    "print('Current path:' + os.getcwd())"
   ]
  },
  {
   "cell_type": "code",
   "execution_count": 8,
   "id": "a88bafd3",
   "metadata": {},
   "outputs": [],
   "source": [
    "import torch\n",
    "import monai\n",
    "from monai.visualize import matshow3d\n",
    "#import segmentation_models_pytorch as smp\n",
    "import matplotlib.pyplot as plt\n",
    "import tempfile\n",
    "import shutil\n",
    "import os\n",
    "import glob\n",
    "import cv2\n",
    "import numpy as np\n",
    "import pandas as pd\n",
    "from tqdm.auto import tqdm\n",
    "from typing import Tuple, List\n",
    "import albumentations as A\n",
    "from albumentations.pytorch import ToTensorV2\n",
    "import pytorch_lightning as pl\n",
    "from pytorch_lightning import Trainer\n",
    "from Data_Modules.Vesuvius_Dataset import Vesuvius_Tile_Datamodule\n",
    "from lit_models.Vesuvius_Lit_Model import Lit_Model\n",
    "from pytorch_lightning.callbacks import ModelCheckpoint\n",
    "import torch.nn as nn\n",
    "import torchvision\n",
    "#from Models.pvtv2 import PyramidVisionTransformerV2\n",
    "from timm.models.pvt_v2 import PyramidVisionTransformerV2\n"
   ]
  },
  {
   "cell_type": "code",
   "execution_count": 9,
   "id": "5ea3e027",
   "metadata": {},
   "outputs": [],
   "source": [
    "PATCH_SIZE = 256\n",
    "Z_DIM = 16\n",
    "COMPETITION_DATA_DIR_str =  \"kaggle/input/vesuvius-challenge-ink-detection/\"\n",
    "\n",
    "DEVICE = torch.device(\"cuda\" if torch.cuda.is_available() else \"mps\")\n",
    "\n",
    "# change to the line below if not using Apple's M1 or chips\n",
    "# DEVICE = torch.device(\"cuda\" if torch.cuda.is_available() else \"cpu\")\n"
   ]
  },
  {
   "cell_type": "code",
   "execution_count": null,
   "id": "f4aa79bf",
   "metadata": {},
   "outputs": [],
   "source": [
    "model = PyramidVisionTransformerV2()"
   ]
  },
  {
   "cell_type": "code",
   "execution_count": null,
   "id": "48479cbe",
   "metadata": {},
   "outputs": [],
   "source": [
    "class Model(nn.Module):\n",
    "    \n",
    "    def __init__(self):\n",
    "        \n",
    "        super().__init__()\n",
    "        \n",
    "        self.pre_model =monai.networks.nets.UNet(\n",
    "                                        spatial_dims=3,\n",
    "                                        in_channels=1,\n",
    "                                        out_channels=1,\n",
    "                                        channels=( 32, 64,128),\n",
    "                                        strides=(2, 2,),\n",
    "                                        num_res_units=2,\n",
    "                                        dropout=0,\n",
    "                                        norm='instance',\n",
    "                                        bias =False,\n",
    "\n",
    "                                    )\n",
    "        \n",
    "        self.model =monai.networks.nets.SwinUNETR(img_size = (256,256),\n",
    "                                                      in_channels = 16 ,\n",
    "                                                      out_channels = 1 ,\n",
    "                                                      depths=(2, 2, 2, 2),\n",
    "                                                      num_heads=(3, 6, 12, 24),\n",
    "                                                      feature_size=24,\n",
    "                                                      norm_name='instance',\n",
    "                                                      drop_rate=0.0,\n",
    "                                                      attn_drop_rate=0.0,\n",
    "                                                      dropout_path_rate=0.0,\n",
    "                                                      normalize=True,\n",
    "                                                      use_checkpoint=False,\n",
    "                                                      spatial_dims=2,\n",
    "                                                      downsample='mergingv2')\n",
    "\n",
    "\n",
    "        \n",
    "    def forward(self, x):\n",
    "        #x = self.pre_model(x)\n",
    "        x = x.squeeze(1)\n",
    "        out = self.model(x)\n",
    "        return out\n",
    "    \n",
    "    \n"
   ]
  },
  {
   "cell_type": "code",
   "execution_count": null,
   "id": "341d94cf",
   "metadata": {},
   "outputs": [],
   "source": []
  },
  {
   "cell_type": "code",
   "execution_count": null,
   "id": "9f52292d",
   "metadata": {},
   "outputs": [],
   "source": []
  },
  {
   "cell_type": "code",
   "execution_count": null,
   "id": "5563f630",
   "metadata": {},
   "outputs": [],
   "source": []
  },
  {
   "cell_type": "code",
   "execution_count": null,
   "id": "e814ea58",
   "metadata": {},
   "outputs": [],
   "source": []
  }
 ],
 "metadata": {
  "kernelspec": {
   "display_name": "Python 3 (ipykernel)",
   "language": "python",
   "name": "python3"
  },
  "language_info": {
   "codemirror_mode": {
    "name": "ipython",
    "version": 3
   },
   "file_extension": ".py",
   "mimetype": "text/x-python",
   "name": "python",
   "nbconvert_exporter": "python",
   "pygments_lexer": "ipython3",
   "version": "3.10.9"
  }
 },
 "nbformat": 4,
 "nbformat_minor": 5
}
