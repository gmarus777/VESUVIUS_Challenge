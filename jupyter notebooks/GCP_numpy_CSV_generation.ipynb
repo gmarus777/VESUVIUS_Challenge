{
 "cells": [
  {
   "cell_type": "code",
   "execution_count": 1,
   "id": "6dbb88be",
   "metadata": {},
   "outputs": [
    {
     "name": "stdout",
     "output_type": "stream",
     "text": [
      "Starting path:/home/gregory_maruss/VESUVIUS_Challenge/jupyter notebooks\n",
      "Current path:/home/gregory_maruss/VESUVIUS_Challenge\n"
     ]
    }
   ],
   "source": [
    "# Here we take care of paths.\n",
    "\n",
    "from pathlib import Path\n",
    "import os\n",
    "print('Starting path:' + os.getcwd())\n",
    "if os.getcwd()[-18:] == 'VESUVIUS_Challenge':\n",
    "    pass\n",
    "else:\n",
    "    PATH = Path().resolve().parents[0]\n",
    "    os.chdir(PATH)\n",
    "\n",
    "# make sure you are in Paragraph_to_Tex folder\n",
    "print('Current path:' + os.getcwd())"
   ]
  },
  {
   "cell_type": "code",
   "execution_count": 2,
   "id": "450c9e4c",
   "metadata": {},
   "outputs": [],
   "source": [
    "import lab_black\n",
    "from pathlib import Path\n",
    "\n",
    "import numpy as np\n",
    "import pandas as pd\n",
    "import PIL.Image as Image\n",
    "from tqdm.auto import tqdm"
   ]
  },
  {
   "cell_type": "code",
   "execution_count": 3,
   "id": "a5671d64",
   "metadata": {},
   "outputs": [],
   "source": [
    "KAGGLE_DIR = PATH / \"kaggle\"\n",
    "\n",
    "INPUT_DIR = KAGGLE_DIR / \"input\"\n",
    "\n",
    "COMPETITION_DATA_DIR = INPUT_DIR / \"vesuvius-challenge-ink-detection\"\n",
    "\n",
    "DOWNSAMPLING = 1\n",
    "NUM_Z_SLICES = 16\n",
    "SHIFT_CENTER_LEFT = 0"
   ]
  },
  {
   "cell_type": "code",
   "execution_count": 4,
   "id": "70d57067",
   "metadata": {},
   "outputs": [],
   "source": [
    "def create_df_from_mask_paths( stage, downsampling):\n",
    "    mask_paths = sorted(COMPETITION_DATA_DIR.glob(f\"{stage}/*/mask.png\"))\n",
    "\n",
    "    df = pd.DataFrame({\"mask_png\": mask_paths})\n",
    "\n",
    "    df[\"mask_png\"] = df[\"mask_png\"].astype(str)\n",
    "\n",
    "    df[\"stage\"] = df[\"mask_png\"].str.split(\"/\").str[-3]\n",
    "    df[\"fragment_id\"] = df[\"mask_png\"].str.split(\"/\").str[-2]\n",
    "\n",
    "    df[\"mask_npy\"] = df[\"mask_png\"].str.replace(\n",
    "        stage, f\"{stage}_{NUM_Z_SLICES}_{downsampling}\", regex=False\n",
    "    )\n",
    "    #df[\"mask_npy\"] = df[\"mask_npy\"].str.replace(\"input\", \"working\", regex=False)\n",
    "    df[\"mask_npy\"] = df[\"mask_npy\"].str.replace(\"png\", \"npy\", regex=False)\n",
    "\n",
    "    if stage == \"train\":\n",
    "        df[\"label_png\"] = df[\"mask_png\"].str.replace(\"mask\", \"inklabels\", regex=False)\n",
    "        df[\"label_npy\"] = df[\"mask_npy\"].str.replace(\"mask\", \"inklabels\", regex=False)\n",
    "\n",
    "    df[\"volumes_dir\"] = df[\"mask_png\"].str.replace(\n",
    "        \"mask.png\", \"surface_volume\", regex=False\n",
    "    )\n",
    "    df[\"volume_npy\"] = df[\"mask_npy\"].str.replace(\"mask\", \"volume\", regex=False)\n",
    "\n",
    "    return df"
   ]
  },
  {
   "cell_type": "code",
   "execution_count": 5,
   "id": "1d067c16",
   "metadata": {},
   "outputs": [],
   "source": [
    "train_df = create_df_from_mask_paths(\"train\", DOWNSAMPLING)\n",
    "test_df = create_df_from_mask_paths(\"test\", DOWNSAMPLING)"
   ]
  },
  {
   "cell_type": "code",
   "execution_count": 6,
   "id": "f9ea76ae",
   "metadata": {},
   "outputs": [],
   "source": [
    "def load_image(path):\n",
    "    return Image.open(path)\n",
    "\n",
    "\n",
    "def resize_image(image, downsampling):\n",
    "    size = int(image.size[0] * downsampling), int(image.size[1] * downsampling)\n",
    "    return image.resize(size)\n",
    "\n",
    "\n",
    "def load_and_resize_image(path, downsampling):\n",
    "    image = load_image(path)\n",
    "    return resize_image(image, downsampling)\n",
    "\n",
    "\n",
    "def load_label_npy(path, downsampling):\n",
    "    label = load_and_resize_image(path, downsampling)\n",
    "    return np.array(label) > 0\n",
    "\n",
    "\n",
    "def load_mask_npy(path, downsampling):\n",
    "    mask = load_and_resize_image(path, downsampling).convert(\"1\")\n",
    "    return np.array(mask)\n",
    "\n",
    "\n",
    "def load_z_slice_npy(path, downsampling):\n",
    "    z_slice = load_and_resize_image(path, downsampling)\n",
    "    return np.array(z_slice, dtype=np.float32) / 65535.0\n",
    "\n",
    "\n",
    "def load_volume_npy(volumes_dir, num_z_slices, downsampling):\n",
    "    mid = 65 // 2\n",
    "    start = mid - num_z_slices // 2 - SHIFT_CENTER_LEFT\n",
    "    end = mid + num_z_slices // 2 - SHIFT_CENTER_LEFT \n",
    "\n",
    "    z_slices_paths = sorted(Path(volumes_dir).glob(\"*.tif\"))[start:end]\n",
    "\n",
    "    batch_size = num_z_slices // 4\n",
    "    paths_batches = [\n",
    "        z_slices_paths[i : i + batch_size]\n",
    "        for i in range(0, len(z_slices_paths), batch_size)\n",
    "    ]\n",
    "\n",
    "    volumes = []\n",
    "    for paths_batch in tqdm(\n",
    "        paths_batches, leave=False, desc=\"Processing batches\", position=1\n",
    "    ):\n",
    "        z_slices = [\n",
    "            load_z_slice_npy(path, downsampling)\n",
    "            for path in tqdm(\n",
    "                paths_batch, leave=False, desc=\"Processing paths\", position=2\n",
    "            )\n",
    "        ]\n",
    "        volumes.append(np.stack(z_slices, axis=0))\n",
    "        del z_slices\n",
    "\n",
    "        # break\n",
    "\n",
    "    volume = np.concatenate(volumes, axis=0)\n",
    "\n",
    "    return volume"
   ]
  },
  {
   "cell_type": "code",
   "execution_count": 7,
   "id": "26c32513",
   "metadata": {},
   "outputs": [],
   "source": [
    "def save_data_as_npy(df, train=True):\n",
    "    for row in tqdm(\n",
    "        df.itertuples(), total=len(df), desc=\"Processing fragments\", position=0\n",
    "    ):\n",
    "        \n",
    "        mask_npy = load_mask_npy(row.mask_png, DOWNSAMPLING)\n",
    "        volume_npy = load_volume_npy(row.volumes_dir, NUM_Z_SLICES, DOWNSAMPLING)\n",
    "\n",
    "        Path(row.mask_npy).parent.mkdir(exist_ok=True, parents=True)\n",
    "        np.save(row.mask_npy, mask_npy)\n",
    "        np.save(row.volume_npy, volume_npy)\n",
    "\n",
    "        if train:\n",
    "            label_npy = load_label_npy(row.label_png, DOWNSAMPLING)\n",
    "            np.save(row.label_npy, label_npy)\n",
    "\n",
    "        tqdm.write(f\"Created {row.volume_npy} with shape {volume_npy.shape}\")"
   ]
  },
  {
   "cell_type": "code",
   "execution_count": 8,
   "id": "147fcc2b",
   "metadata": {},
   "outputs": [
    {
     "data": {
      "application/vnd.jupyter.widget-view+json": {
       "model_id": "ead9fad9e0cd407985231ab0bd3ba2ef",
       "version_major": 2,
       "version_minor": 0
      },
      "text/plain": [
       "Processing fragments:   0%|          | 0/3 [00:00<?, ?it/s]"
      ]
     },
     "metadata": {},
     "output_type": "display_data"
    },
    {
     "data": {
      "application/vnd.jupyter.widget-view+json": {
       "model_id": "",
       "version_major": 2,
       "version_minor": 0
      },
      "text/plain": [
       "Processing batches:   0%|          | 0/4 [00:00<?, ?it/s]"
      ]
     },
     "metadata": {},
     "output_type": "display_data"
    },
    {
     "data": {
      "application/vnd.jupyter.widget-view+json": {
       "model_id": "",
       "version_major": 2,
       "version_minor": 0
      },
      "text/plain": [
       "Processing paths:   0%|          | 0/4 [00:00<?, ?it/s]"
      ]
     },
     "metadata": {},
     "output_type": "display_data"
    },
    {
     "data": {
      "application/vnd.jupyter.widget-view+json": {
       "model_id": "",
       "version_major": 2,
       "version_minor": 0
      },
      "text/plain": [
       "Processing paths:   0%|          | 0/4 [00:00<?, ?it/s]"
      ]
     },
     "metadata": {},
     "output_type": "display_data"
    },
    {
     "data": {
      "application/vnd.jupyter.widget-view+json": {
       "model_id": "",
       "version_major": 2,
       "version_minor": 0
      },
      "text/plain": [
       "Processing paths:   0%|          | 0/4 [00:00<?, ?it/s]"
      ]
     },
     "metadata": {},
     "output_type": "display_data"
    },
    {
     "data": {
      "application/vnd.jupyter.widget-view+json": {
       "model_id": "",
       "version_major": 2,
       "version_minor": 0
      },
      "text/plain": [
       "Processing paths:   0%|          | 0/4 [00:00<?, ?it/s]"
      ]
     },
     "metadata": {},
     "output_type": "display_data"
    },
    {
     "name": "stdout",
     "output_type": "stream",
     "text": [
      "Created /home/gregory_maruss/VESUVIUS_Challenge/kaggle/input/vesuvius-challenge-ink-detection/train_16_1/1/volume.npy with shape (16, 8181, 6330)\n"
     ]
    },
    {
     "name": "stderr",
     "output_type": "stream",
     "text": [
      "/home/gregory_maruss/anaconda3/lib/python3.9/site-packages/PIL/Image.py:2918: DecompressionBombWarning: Image size (140973980 pixels) exceeds limit of 89478485 pixels, could be decompression bomb DOS attack.\n",
      "  warnings.warn(\n"
     ]
    },
    {
     "data": {
      "application/vnd.jupyter.widget-view+json": {
       "model_id": "",
       "version_major": 2,
       "version_minor": 0
      },
      "text/plain": [
       "Processing batches:   0%|          | 0/4 [00:00<?, ?it/s]"
      ]
     },
     "metadata": {},
     "output_type": "display_data"
    },
    {
     "data": {
      "application/vnd.jupyter.widget-view+json": {
       "model_id": "",
       "version_major": 2,
       "version_minor": 0
      },
      "text/plain": [
       "Processing paths:   0%|          | 0/4 [00:00<?, ?it/s]"
      ]
     },
     "metadata": {},
     "output_type": "display_data"
    },
    {
     "data": {
      "application/vnd.jupyter.widget-view+json": {
       "model_id": "",
       "version_major": 2,
       "version_minor": 0
      },
      "text/plain": [
       "Processing paths:   0%|          | 0/4 [00:00<?, ?it/s]"
      ]
     },
     "metadata": {},
     "output_type": "display_data"
    },
    {
     "data": {
      "application/vnd.jupyter.widget-view+json": {
       "model_id": "",
       "version_major": 2,
       "version_minor": 0
      },
      "text/plain": [
       "Processing paths:   0%|          | 0/4 [00:00<?, ?it/s]"
      ]
     },
     "metadata": {},
     "output_type": "display_data"
    },
    {
     "data": {
      "application/vnd.jupyter.widget-view+json": {
       "model_id": "",
       "version_major": 2,
       "version_minor": 0
      },
      "text/plain": [
       "Processing paths:   0%|          | 0/4 [00:00<?, ?it/s]"
      ]
     },
     "metadata": {},
     "output_type": "display_data"
    },
    {
     "name": "stdout",
     "output_type": "stream",
     "text": [
      "Created /home/gregory_maruss/VESUVIUS_Challenge/kaggle/input/vesuvius-challenge-ink-detection/train_16_1/2/volume.npy with shape (16, 14830, 9506)\n"
     ]
    },
    {
     "data": {
      "application/vnd.jupyter.widget-view+json": {
       "model_id": "",
       "version_major": 2,
       "version_minor": 0
      },
      "text/plain": [
       "Processing batches:   0%|          | 0/4 [00:00<?, ?it/s]"
      ]
     },
     "metadata": {},
     "output_type": "display_data"
    },
    {
     "data": {
      "application/vnd.jupyter.widget-view+json": {
       "model_id": "",
       "version_major": 2,
       "version_minor": 0
      },
      "text/plain": [
       "Processing paths:   0%|          | 0/4 [00:00<?, ?it/s]"
      ]
     },
     "metadata": {},
     "output_type": "display_data"
    },
    {
     "data": {
      "application/vnd.jupyter.widget-view+json": {
       "model_id": "",
       "version_major": 2,
       "version_minor": 0
      },
      "text/plain": [
       "Processing paths:   0%|          | 0/4 [00:00<?, ?it/s]"
      ]
     },
     "metadata": {},
     "output_type": "display_data"
    },
    {
     "data": {
      "application/vnd.jupyter.widget-view+json": {
       "model_id": "",
       "version_major": 2,
       "version_minor": 0
      },
      "text/plain": [
       "Processing paths:   0%|          | 0/4 [00:00<?, ?it/s]"
      ]
     },
     "metadata": {},
     "output_type": "display_data"
    },
    {
     "data": {
      "application/vnd.jupyter.widget-view+json": {
       "model_id": "",
       "version_major": 2,
       "version_minor": 0
      },
      "text/plain": [
       "Processing paths:   0%|          | 0/4 [00:00<?, ?it/s]"
      ]
     },
     "metadata": {},
     "output_type": "display_data"
    },
    {
     "name": "stdout",
     "output_type": "stream",
     "text": [
      "Created /home/gregory_maruss/VESUVIUS_Challenge/kaggle/input/vesuvius-challenge-ink-detection/train_16_1/3/volume.npy with shape (16, 7606, 5249)\n"
     ]
    }
   ],
   "source": [
    "save_data_as_npy(train_df, train=True)\n"
   ]
  },
  {
   "cell_type": "code",
   "execution_count": 9,
   "id": "6b356f41",
   "metadata": {},
   "outputs": [
    {
     "data": {
      "application/vnd.jupyter.widget-view+json": {
       "model_id": "b715a43e3c5849d08092fc39c57c5652",
       "version_major": 2,
       "version_minor": 0
      },
      "text/plain": [
       "Processing fragments:   0%|          | 0/2 [00:00<?, ?it/s]"
      ]
     },
     "metadata": {},
     "output_type": "display_data"
    },
    {
     "data": {
      "application/vnd.jupyter.widget-view+json": {
       "model_id": "",
       "version_major": 2,
       "version_minor": 0
      },
      "text/plain": [
       "Processing batches:   0%|          | 0/4 [00:00<?, ?it/s]"
      ]
     },
     "metadata": {},
     "output_type": "display_data"
    },
    {
     "data": {
      "application/vnd.jupyter.widget-view+json": {
       "model_id": "",
       "version_major": 2,
       "version_minor": 0
      },
      "text/plain": [
       "Processing paths:   0%|          | 0/4 [00:00<?, ?it/s]"
      ]
     },
     "metadata": {},
     "output_type": "display_data"
    },
    {
     "data": {
      "application/vnd.jupyter.widget-view+json": {
       "model_id": "",
       "version_major": 2,
       "version_minor": 0
      },
      "text/plain": [
       "Processing paths:   0%|          | 0/4 [00:00<?, ?it/s]"
      ]
     },
     "metadata": {},
     "output_type": "display_data"
    },
    {
     "data": {
      "application/vnd.jupyter.widget-view+json": {
       "model_id": "",
       "version_major": 2,
       "version_minor": 0
      },
      "text/plain": [
       "Processing paths:   0%|          | 0/4 [00:00<?, ?it/s]"
      ]
     },
     "metadata": {},
     "output_type": "display_data"
    },
    {
     "data": {
      "application/vnd.jupyter.widget-view+json": {
       "model_id": "",
       "version_major": 2,
       "version_minor": 0
      },
      "text/plain": [
       "Processing paths:   0%|          | 0/4 [00:00<?, ?it/s]"
      ]
     },
     "metadata": {},
     "output_type": "display_data"
    },
    {
     "name": "stdout",
     "output_type": "stream",
     "text": [
      "Created /home/gregory_maruss/VESUVIUS_Challenge/kaggle/input/vesuvius-challenge-ink-detection/test_16_1/a/volume.npy with shape (16, 2727, 6330)\n"
     ]
    },
    {
     "data": {
      "application/vnd.jupyter.widget-view+json": {
       "model_id": "",
       "version_major": 2,
       "version_minor": 0
      },
      "text/plain": [
       "Processing batches:   0%|          | 0/4 [00:00<?, ?it/s]"
      ]
     },
     "metadata": {},
     "output_type": "display_data"
    },
    {
     "data": {
      "application/vnd.jupyter.widget-view+json": {
       "model_id": "",
       "version_major": 2,
       "version_minor": 0
      },
      "text/plain": [
       "Processing paths:   0%|          | 0/4 [00:00<?, ?it/s]"
      ]
     },
     "metadata": {},
     "output_type": "display_data"
    },
    {
     "data": {
      "application/vnd.jupyter.widget-view+json": {
       "model_id": "",
       "version_major": 2,
       "version_minor": 0
      },
      "text/plain": [
       "Processing paths:   0%|          | 0/4 [00:00<?, ?it/s]"
      ]
     },
     "metadata": {},
     "output_type": "display_data"
    },
    {
     "data": {
      "application/vnd.jupyter.widget-view+json": {
       "model_id": "",
       "version_major": 2,
       "version_minor": 0
      },
      "text/plain": [
       "Processing paths:   0%|          | 0/4 [00:00<?, ?it/s]"
      ]
     },
     "metadata": {},
     "output_type": "display_data"
    },
    {
     "data": {
      "application/vnd.jupyter.widget-view+json": {
       "model_id": "",
       "version_major": 2,
       "version_minor": 0
      },
      "text/plain": [
       "Processing paths:   0%|          | 0/4 [00:00<?, ?it/s]"
      ]
     },
     "metadata": {},
     "output_type": "display_data"
    },
    {
     "name": "stdout",
     "output_type": "stream",
     "text": [
      "Created /home/gregory_maruss/VESUVIUS_Challenge/kaggle/input/vesuvius-challenge-ink-detection/test_16_1/b/volume.npy with shape (16, 5454, 6330)\n"
     ]
    }
   ],
   "source": [
    "save_data_as_npy(test_df, train=False)\n"
   ]
  },
  {
   "cell_type": "code",
   "execution_count": 10,
   "id": "73f9dfef",
   "metadata": {},
   "outputs": [
    {
     "name": "stdout",
     "output_type": "stream",
     "text": [
      "/home/gregory_maruss/VESUVIUS_Challenge/kaggle/input/vesuvius-challenge-ink-detection/train_16_1/1/mask.npy\n",
      "/home/gregory_maruss/VESUVIUS_Challenge/kaggle/input/vesuvius-challenge-ink-detection/train_16_1/1/inklabels.npy\n",
      "/home/gregory_maruss/VESUVIUS_Challenge/kaggle/input/vesuvius-challenge-ink-detection/train_16_1/1/volume.npy\n"
     ]
    }
   ],
   "source": [
    "print(train_df['mask_npy'][0])\n",
    "print(train_df['label_npy'][0])\n",
    "print(train_df['volume_npy'][0])"
   ]
  },
  {
   "cell_type": "code",
   "execution_count": 11,
   "id": "751bba4d",
   "metadata": {},
   "outputs": [],
   "source": [
    "train_df.to_csv(f\"kaggle/input/vesuvius-challenge-ink-detection/data_train_{NUM_Z_SLICES}_{DOWNSAMPLING}.csv\")"
   ]
  },
  {
   "cell_type": "code",
   "execution_count": 12,
   "id": "f3cea0ce",
   "metadata": {},
   "outputs": [],
   "source": [
    "test_df.to_csv(f\"kaggle/input/vesuvius-challenge-ink-detection/data_test_{NUM_Z_SLICES}_{DOWNSAMPLING}.csv\")"
   ]
  },
  {
   "cell_type": "code",
   "execution_count": null,
   "id": "003a562f",
   "metadata": {},
   "outputs": [],
   "source": []
  },
  {
   "cell_type": "code",
   "execution_count": null,
   "id": "a8a5f06e",
   "metadata": {},
   "outputs": [],
   "source": []
  },
  {
   "cell_type": "code",
   "execution_count": null,
   "id": "61173e89",
   "metadata": {},
   "outputs": [],
   "source": []
  }
 ],
 "metadata": {
  "kernelspec": {
   "display_name": "Python 3 (ipykernel)",
   "language": "python",
   "name": "python3"
  },
  "language_info": {
   "codemirror_mode": {
    "name": "ipython",
    "version": 3
   },
   "file_extension": ".py",
   "mimetype": "text/x-python",
   "name": "python",
   "nbconvert_exporter": "python",
   "pygments_lexer": "ipython3",
   "version": "3.9.7"
  }
 },
 "nbformat": 4,
 "nbformat_minor": 5
}
