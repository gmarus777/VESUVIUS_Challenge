{
 "cells": [
  {
   "cell_type": "code",
   "execution_count": 1,
   "id": "0ca290cf",
   "metadata": {},
   "outputs": [
    {
     "name": "stdout",
     "output_type": "stream",
     "text": [
      "Starting path:/home/gregory_maruss/VESUVIUS_Challenge/jupyter notebooks\n",
      "Current path:/home/gregory_maruss/VESUVIUS_Challenge\n"
     ]
    }
   ],
   "source": [
    "# Here we take care of paths.\n",
    "\n",
    "from pathlib import Path\n",
    "import os\n",
    "print('Starting path:' + os.getcwd())\n",
    "if os.getcwd()[-18:] == 'VESUVIUS_Challenge':\n",
    "    pass\n",
    "else:\n",
    "    PATH = Path().resolve().parents[0]\n",
    "    os.chdir(PATH)\n",
    "\n",
    "# make sure you are in Paragraph_to_Tex folder\n",
    "print('Current path:' + os.getcwd())"
   ]
  },
  {
   "cell_type": "code",
   "execution_count": 2,
   "id": "4642f925",
   "metadata": {},
   "outputs": [
    {
     "name": "stdout",
     "output_type": "stream",
     "text": [
      "2023-05-02 16:44:43,066 - Created a temporary directory at /tmp/tmpo5t1tj86\n",
      "2023-05-02 16:44:43,068 - Writing /tmp/tmpo5t1tj86/_remote_module_non_scriptable.py\n",
      "cuda\n"
     ]
    }
   ],
   "source": [
    "import monai\n",
    "import torch\n",
    "import matplotlib.pyplot as plt\n",
    "import tempfile\n",
    "import shutil\n",
    "import os\n",
    "import glob\n",
    "import pytorch_lightning as pl\n",
    "from pytorch_lightning import Trainer\n",
    "from Data_Modules.MONAI_Dict_Dataset_Module import MONAI_CSV_Scrolls_Dataset\n",
    "import matplotlib.patches as patches\n",
    "from lit_models.UNET_monai_lit import UNET_lit\n",
    "from monai.visualize import matshow3d\n",
    "from pytorch_lightning.callbacks import ModelCheckpoint\n",
    "\n",
    "DEVICE = torch.device(\"cuda\" if torch.cuda.is_available() else \"cpu\")\n",
    "print(DEVICE)\n",
    "\n",
    "import warnings\n",
    "warnings.filterwarnings('ignore', category=UserWarning, message='TypedStorage is deprecated')"
   ]
  },
  {
   "cell_type": "code",
   "execution_count": 3,
   "id": "fde86882",
   "metadata": {},
   "outputs": [],
   "source": [
    "KAGGLE_DIR = PATH / \"kaggle\"\n",
    "\n",
    "INPUT_DIR = KAGGLE_DIR / \"input\"\n",
    "\n",
    "COMPETITION_DATA_DIR = INPUT_DIR / \"vesuvius-challenge-ink-detection\"\n",
    "\n",
    "TRAIN_DATA_CSV_PATH = COMPETITION_DATA_DIR / \"data_train_16_0.5.csv\"\n",
    "#TEST_DATA_CSV_PATH = COMPETITION_DATA_DIR / \"data_test_1.csv\""
   ]
  },
  {
   "cell_type": "code",
   "execution_count": 4,
   "id": "a3ac344c",
   "metadata": {},
   "outputs": [],
   "source": [
    "dataset = MONAI_CSV_Scrolls_Dataset(\n",
    "    z_dim=16,\n",
    "    batch_size=1,\n",
    "    data_csv_path=TRAIN_DATA_CSV_PATH,\n",
    "    num_workers=8,\n",
    "    num_samples=32,\n",
    "    patch_size=(256,256),\n",
    "    val_fragment_id=1,\n",
    "    on_gpu=False,\n",
    "    \n",
    "    \n",
    ")\n",
    "#dataset.setup()"
   ]
  },
  {
   "cell_type": "code",
   "execution_count": 5,
   "id": "b499d1b3",
   "metadata": {},
   "outputs": [
    {
     "name": "stderr",
     "output_type": "stream",
     "text": [
      "\u001b[34m\u001b[1mwandb\u001b[0m: Currently logged in as: \u001b[33mgmarus\u001b[0m. Use \u001b[1m`wandb login --relogin`\u001b[0m to force relogin\n"
     ]
    },
    {
     "data": {
      "text/html": [
       "Tracking run with wandb version 0.15.0"
      ],
      "text/plain": [
       "<IPython.core.display.HTML object>"
      ]
     },
     "metadata": {},
     "output_type": "display_data"
    },
    {
     "data": {
      "text/html": [
       "Run data is saved locally in <code>/home/gregory_maruss/VESUVIUS_Challenge/wandb/run-20230502_164445-484y3wjl</code>"
      ],
      "text/plain": [
       "<IPython.core.display.HTML object>"
      ]
     },
     "metadata": {},
     "output_type": "display_data"
    },
    {
     "data": {
      "text/html": [
       "Syncing run <strong><a href='https://wandb.ai/gmarus/VESUVIUS_Challenge/runs/484y3wjl' target=\"_blank\">amber-breeze-314</a></strong> to <a href='https://wandb.ai/gmarus/VESUVIUS_Challenge' target=\"_blank\">Weights & Biases</a> (<a href='https://wandb.me/run' target=\"_blank\">docs</a>)<br/>"
      ],
      "text/plain": [
       "<IPython.core.display.HTML object>"
      ]
     },
     "metadata": {},
     "output_type": "display_data"
    },
    {
     "data": {
      "text/html": [
       " View project at <a href='https://wandb.ai/gmarus/VESUVIUS_Challenge' target=\"_blank\">https://wandb.ai/gmarus/VESUVIUS_Challenge</a>"
      ],
      "text/plain": [
       "<IPython.core.display.HTML object>"
      ]
     },
     "metadata": {},
     "output_type": "display_data"
    },
    {
     "data": {
      "text/html": [
       " View run at <a href='https://wandb.ai/gmarus/VESUVIUS_Challenge/runs/484y3wjl' target=\"_blank\">https://wandb.ai/gmarus/VESUVIUS_Challenge/runs/484y3wjl</a>"
      ],
      "text/plain": [
       "<IPython.core.display.HTML object>"
      ]
     },
     "metadata": {},
     "output_type": "display_data"
    }
   ],
   "source": [
    "lit_model = UNET_lit(\n",
    "        #wandb = True,\n",
    "        z_dim = 16,\n",
    "        patch_size = (256,256),\n",
    "        sw_batch_size=8 ,\n",
    "        eta_min = 1e-7,\n",
    "        t_max = 250,\n",
    "        max_epochs = 1000,\n",
    "        weight_decay =  1e-6,\n",
    "        learning_rate = 0.00005,\n",
    "        gamma = 0.85,)\n",
    "\n",
    "FROM_CHECKPOINT = False\n",
    "if FROM_CHECKPOINT:\n",
    "    lit_model = lit_model.load_from_checkpoint('logs/Full_16_768to1024_batch/FocalDice_768epoch=168FBETA=0.54recall=0.45precision=0.57.ckpt', \n",
    "                                             #patch_size = (512,512),\n",
    "                                             learning_rate = 0.0001,\n",
    "                                              weight_decay =  .001,\n",
    "                                              eta_min = 1e-7,\n",
    "                                             sw_batch_size = 8)"
   ]
  },
  {
   "cell_type": "code",
   "execution_count": 6,
   "id": "af62cc38",
   "metadata": {
    "scrolled": false
   },
   "outputs": [
    {
     "name": "stdout",
     "output_type": "stream",
     "text": [
      "2023-05-02 16:44:51,131 - GPU available: True (cuda), used: True\n",
      "2023-05-02 16:44:51,132 - TPU available: False, using: 0 TPU cores\n",
      "2023-05-02 16:44:51,133 - IPU available: False, using: 0 IPUs\n",
      "2023-05-02 16:44:51,134 - HPU available: False, using: 0 HPUs\n",
      "# train: 2\n",
      "# val: 1\n",
      "2023-05-02 16:44:52,379 - LOCAL_RANK: 0 - CUDA_VISIBLE_DEVICES: [0]\n",
      "Adjusting learning rate of group 0 to 5.0000e-05.\n",
      "2023-05-02 16:44:52,391 - \n",
      "   | Name                 | Type                  | Params\n",
      "----------------------------------------------------------------\n",
      "0  | metrics              | ModuleDict            | 0     \n",
      "1  | model                | FlexibleUNet          | 11.5 M\n",
      "2  | loss                 | MaskedLoss            | 0     \n",
      "3  | mine_focal           | FocalLoss             | 0     \n",
      "4  | weighted_bce_loss    | BCEWithLogitsLoss     | 0     \n",
      "5  | loss_dice            | DiceLoss              | 0     \n",
      "6  | loss_tversky         | TverskyLoss           | 0     \n",
      "7  | loss_bce             | SoftBCEWithLogitsLoss | 0     \n",
      "8  | loss_focal           | FocalLoss             | 0     \n",
      "9  | diceloss             | DiceLoss              | 0     \n",
      "10 | monai_tverskyLoss    | TverskyLoss           | 0     \n",
      "11 | focalloss            | FocalLoss             | 0     \n",
      "12 | monai_masked_tversky | MaskedLoss            | 0     \n",
      "13 | masked_dice          | MaskedLoss            | 0     \n",
      "14 | masked_focal         | MaskedLoss            | 0     \n",
      "----------------------------------------------------------------\n",
      "11.5 M    Trainable params\n",
      "0         Non-trainable params\n",
      "11.5 M    Total params\n",
      "46.105    Total estimated model params size (MB)\n"
     ]
    },
    {
     "data": {
      "application/vnd.jupyter.widget-view+json": {
       "model_id": "",
       "version_major": 2,
       "version_minor": 0
      },
      "text/plain": [
       "Sanity Checking: 0it [00:00, ?it/s]"
      ]
     },
     "metadata": {},
     "output_type": "display_data"
    },
    {
     "name": "stderr",
     "output_type": "stream",
     "text": [
      "/home/gregory_maruss/anaconda3/lib/python3.9/site-packages/pytorch_lightning/utilities/data.py:84: UserWarning: Trying to infer the `batch_size` from an ambiguous collection. The batch size we found is 64. To avoid any miscalculations, use `self.log(..., batch_size=batch_size)`.\n",
      "  warning_cache.warn(\n"
     ]
    },
    {
     "data": {
      "application/vnd.jupyter.widget-view+json": {
       "model_id": "f41cf074b3714729b18b025afa1c4dce",
       "version_major": 2,
       "version_minor": 0
      },
      "text/plain": [
       "Training: 0it [00:00, ?it/s]"
      ]
     },
     "metadata": {},
     "output_type": "display_data"
    },
    {
     "name": "stderr",
     "output_type": "stream",
     "text": [
      "/home/gregory_maruss/anaconda3/lib/python3.9/site-packages/pytorch_lightning/utilities/data.py:84: UserWarning: Trying to infer the `batch_size` from an ambiguous collection. The batch size we found is 32. To avoid any miscalculations, use `self.log(..., batch_size=batch_size)`.\n",
      "  warning_cache.warn(\n"
     ]
    },
    {
     "name": "stdout",
     "output_type": "stream",
     "text": [
      "Adjusting learning rate of group 0 to 4.9998e-05.\n",
      "Adjusting learning rate of group 0 to 4.9992e-05.\n",
      "Adjusting learning rate of group 0 to 4.9982e-05.\n",
      "Adjusting learning rate of group 0 to 4.9968e-05.\n",
      "Adjusting learning rate of group 0 to 4.9951e-05.\n"
     ]
    },
    {
     "data": {
      "application/vnd.jupyter.widget-view+json": {
       "model_id": "",
       "version_major": 2,
       "version_minor": 0
      },
      "text/plain": [
       "Validation: 0it [00:00, ?it/s]"
      ]
     },
     "metadata": {},
     "output_type": "display_data"
    },
    {
     "name": "stdout",
     "output_type": "stream",
     "text": [
      "Adjusting learning rate of group 0 to 4.9929e-05.\n",
      "Adjusting learning rate of group 0 to 4.9904e-05.\n",
      "Adjusting learning rate of group 0 to 4.9874e-05.\n",
      "Adjusting learning rate of group 0 to 4.9841e-05.\n",
      "Adjusting learning rate of group 0 to 4.9803e-05.\n"
     ]
    },
    {
     "data": {
      "application/vnd.jupyter.widget-view+json": {
       "model_id": "",
       "version_major": 2,
       "version_minor": 0
      },
      "text/plain": [
       "Validation: 0it [00:00, ?it/s]"
      ]
     },
     "metadata": {},
     "output_type": "display_data"
    },
    {
     "name": "stdout",
     "output_type": "stream",
     "text": [
      "Adjusting learning rate of group 0 to 4.9762e-05.\n",
      "Adjusting learning rate of group 0 to 4.9717e-05.\n",
      "Adjusting learning rate of group 0 to 4.9668e-05.\n",
      "Adjusting learning rate of group 0 to 4.9615e-05.\n",
      "Adjusting learning rate of group 0 to 4.9558e-05.\n"
     ]
    },
    {
     "data": {
      "application/vnd.jupyter.widget-view+json": {
       "model_id": "",
       "version_major": 2,
       "version_minor": 0
      },
      "text/plain": [
       "Validation: 0it [00:00, ?it/s]"
      ]
     },
     "metadata": {},
     "output_type": "display_data"
    },
    {
     "name": "stdout",
     "output_type": "stream",
     "text": [
      "Adjusting learning rate of group 0 to 4.9497e-05.\n",
      "Adjusting learning rate of group 0 to 4.9433e-05.\n",
      "Adjusting learning rate of group 0 to 4.9364e-05.\n",
      "Adjusting learning rate of group 0 to 4.9292e-05.\n",
      "Adjusting learning rate of group 0 to 4.9216e-05.\n"
     ]
    },
    {
     "data": {
      "application/vnd.jupyter.widget-view+json": {
       "model_id": "",
       "version_major": 2,
       "version_minor": 0
      },
      "text/plain": [
       "Validation: 0it [00:00, ?it/s]"
      ]
     },
     "metadata": {},
     "output_type": "display_data"
    },
    {
     "name": "stdout",
     "output_type": "stream",
     "text": [
      "Adjusting learning rate of group 0 to 4.9136e-05.\n",
      "Adjusting learning rate of group 0 to 4.9053e-05.\n",
      "Adjusting learning rate of group 0 to 4.8965e-05.\n",
      "Adjusting learning rate of group 0 to 4.8874e-05.\n",
      "Adjusting learning rate of group 0 to 4.8779e-05.\n"
     ]
    },
    {
     "data": {
      "application/vnd.jupyter.widget-view+json": {
       "model_id": "",
       "version_major": 2,
       "version_minor": 0
      },
      "text/plain": [
       "Validation: 0it [00:00, ?it/s]"
      ]
     },
     "metadata": {},
     "output_type": "display_data"
    },
    {
     "name": "stdout",
     "output_type": "stream",
     "text": [
      "Adjusting learning rate of group 0 to 4.8680e-05.\n",
      "Adjusting learning rate of group 0 to 4.8578e-05.\n",
      "Adjusting learning rate of group 0 to 4.8471e-05.\n",
      "Adjusting learning rate of group 0 to 4.8362e-05.\n",
      "Adjusting learning rate of group 0 to 4.8248e-05.\n"
     ]
    },
    {
     "data": {
      "application/vnd.jupyter.widget-view+json": {
       "model_id": "",
       "version_major": 2,
       "version_minor": 0
      },
      "text/plain": [
       "Validation: 0it [00:00, ?it/s]"
      ]
     },
     "metadata": {},
     "output_type": "display_data"
    },
    {
     "name": "stdout",
     "output_type": "stream",
     "text": [
      "Adjusting learning rate of group 0 to 4.8131e-05.\n",
      "Adjusting learning rate of group 0 to 4.8010e-05.\n",
      "Adjusting learning rate of group 0 to 4.7885e-05.\n",
      "Adjusting learning rate of group 0 to 4.7757e-05.\n",
      "Adjusting learning rate of group 0 to 4.7625e-05.\n"
     ]
    },
    {
     "data": {
      "application/vnd.jupyter.widget-view+json": {
       "model_id": "",
       "version_major": 2,
       "version_minor": 0
      },
      "text/plain": [
       "Validation: 0it [00:00, ?it/s]"
      ]
     },
     "metadata": {},
     "output_type": "display_data"
    },
    {
     "name": "stdout",
     "output_type": "stream",
     "text": [
      "Adjusting learning rate of group 0 to 4.7490e-05.\n",
      "Adjusting learning rate of group 0 to 4.7351e-05.\n",
      "Adjusting learning rate of group 0 to 4.7209e-05.\n",
      "Adjusting learning rate of group 0 to 4.7063e-05.\n",
      "Adjusting learning rate of group 0 to 4.6914e-05.\n"
     ]
    },
    {
     "data": {
      "application/vnd.jupyter.widget-view+json": {
       "model_id": "",
       "version_major": 2,
       "version_minor": 0
      },
      "text/plain": [
       "Validation: 0it [00:00, ?it/s]"
      ]
     },
     "metadata": {},
     "output_type": "display_data"
    },
    {
     "name": "stdout",
     "output_type": "stream",
     "text": [
      "Adjusting learning rate of group 0 to 4.6761e-05.\n",
      "Adjusting learning rate of group 0 to 4.6605e-05.\n",
      "Adjusting learning rate of group 0 to 4.6445e-05.\n",
      "Adjusting learning rate of group 0 to 4.6282e-05.\n",
      "Adjusting learning rate of group 0 to 4.6116e-05.\n"
     ]
    },
    {
     "data": {
      "application/vnd.jupyter.widget-view+json": {
       "model_id": "",
       "version_major": 2,
       "version_minor": 0
      },
      "text/plain": [
       "Validation: 0it [00:00, ?it/s]"
      ]
     },
     "metadata": {},
     "output_type": "display_data"
    },
    {
     "name": "stdout",
     "output_type": "stream",
     "text": [
      "Adjusting learning rate of group 0 to 4.5946e-05.\n",
      "Adjusting learning rate of group 0 to 4.5773e-05.\n",
      "Adjusting learning rate of group 0 to 4.5597e-05.\n",
      "Adjusting learning rate of group 0 to 4.5418e-05.\n",
      "Adjusting learning rate of group 0 to 4.5235e-05.\n"
     ]
    },
    {
     "data": {
      "application/vnd.jupyter.widget-view+json": {
       "model_id": "",
       "version_major": 2,
       "version_minor": 0
      },
      "text/plain": [
       "Validation: 0it [00:00, ?it/s]"
      ]
     },
     "metadata": {},
     "output_type": "display_data"
    },
    {
     "name": "stdout",
     "output_type": "stream",
     "text": [
      "Adjusting learning rate of group 0 to 4.5049e-05.\n",
      "Adjusting learning rate of group 0 to 4.4860e-05.\n",
      "Adjusting learning rate of group 0 to 4.4668e-05.\n",
      "Adjusting learning rate of group 0 to 4.4473e-05.\n",
      "Adjusting learning rate of group 0 to 4.4274e-05.\n"
     ]
    },
    {
     "data": {
      "application/vnd.jupyter.widget-view+json": {
       "model_id": "",
       "version_major": 2,
       "version_minor": 0
      },
      "text/plain": [
       "Validation: 0it [00:00, ?it/s]"
      ]
     },
     "metadata": {},
     "output_type": "display_data"
    },
    {
     "name": "stdout",
     "output_type": "stream",
     "text": [
      "Adjusting learning rate of group 0 to 4.4073e-05.\n",
      "Adjusting learning rate of group 0 to 4.3869e-05.\n",
      "Adjusting learning rate of group 0 to 4.3661e-05.\n",
      "Adjusting learning rate of group 0 to 4.3451e-05.\n",
      "Adjusting learning rate of group 0 to 4.3238e-05.\n"
     ]
    },
    {
     "data": {
      "application/vnd.jupyter.widget-view+json": {
       "model_id": "",
       "version_major": 2,
       "version_minor": 0
      },
      "text/plain": [
       "Validation: 0it [00:00, ?it/s]"
      ]
     },
     "metadata": {},
     "output_type": "display_data"
    },
    {
     "name": "stdout",
     "output_type": "stream",
     "text": [
      "Adjusting learning rate of group 0 to 4.3022e-05.\n",
      "Adjusting learning rate of group 0 to 4.2803e-05.\n",
      "Adjusting learning rate of group 0 to 4.2581e-05.\n",
      "Adjusting learning rate of group 0 to 4.2357e-05.\n",
      "Adjusting learning rate of group 0 to 4.2129e-05.\n"
     ]
    },
    {
     "data": {
      "application/vnd.jupyter.widget-view+json": {
       "model_id": "",
       "version_major": 2,
       "version_minor": 0
      },
      "text/plain": [
       "Validation: 0it [00:00, ?it/s]"
      ]
     },
     "metadata": {},
     "output_type": "display_data"
    },
    {
     "name": "stdout",
     "output_type": "stream",
     "text": [
      "Adjusting learning rate of group 0 to 4.1900e-05.\n",
      "Adjusting learning rate of group 0 to 4.1667e-05.\n",
      "Adjusting learning rate of group 0 to 4.1432e-05.\n",
      "Adjusting learning rate of group 0 to 4.1194e-05.\n",
      "Adjusting learning rate of group 0 to 4.0954e-05.\n"
     ]
    },
    {
     "data": {
      "application/vnd.jupyter.widget-view+json": {
       "model_id": "",
       "version_major": 2,
       "version_minor": 0
      },
      "text/plain": [
       "Validation: 0it [00:00, ?it/s]"
      ]
     },
     "metadata": {},
     "output_type": "display_data"
    },
    {
     "name": "stdout",
     "output_type": "stream",
     "text": [
      "Adjusting learning rate of group 0 to 4.0711e-05.\n",
      "Adjusting learning rate of group 0 to 4.0466e-05.\n",
      "Adjusting learning rate of group 0 to 4.0218e-05.\n",
      "Adjusting learning rate of group 0 to 3.9968e-05.\n",
      "Adjusting learning rate of group 0 to 3.9715e-05.\n"
     ]
    },
    {
     "data": {
      "application/vnd.jupyter.widget-view+json": {
       "model_id": "",
       "version_major": 2,
       "version_minor": 0
      },
      "text/plain": [
       "Validation: 0it [00:00, ?it/s]"
      ]
     },
     "metadata": {},
     "output_type": "display_data"
    },
    {
     "name": "stdout",
     "output_type": "stream",
     "text": [
      "Adjusting learning rate of group 0 to 3.9460e-05.\n",
      "Adjusting learning rate of group 0 to 3.9203e-05.\n",
      "Adjusting learning rate of group 0 to 3.8944e-05.\n",
      "Adjusting learning rate of group 0 to 3.8683e-05.\n",
      "Adjusting learning rate of group 0 to 3.8419e-05.\n"
     ]
    },
    {
     "data": {
      "application/vnd.jupyter.widget-view+json": {
       "model_id": "",
       "version_major": 2,
       "version_minor": 0
      },
      "text/plain": [
       "Validation: 0it [00:00, ?it/s]"
      ]
     },
     "metadata": {},
     "output_type": "display_data"
    },
    {
     "name": "stdout",
     "output_type": "stream",
     "text": [
      "Adjusting learning rate of group 0 to 3.8153e-05.\n",
      "Adjusting learning rate of group 0 to 3.7885e-05.\n",
      "Adjusting learning rate of group 0 to 3.7615e-05.\n",
      "Adjusting learning rate of group 0 to 3.7344e-05.\n",
      "Adjusting learning rate of group 0 to 3.7070e-05.\n"
     ]
    },
    {
     "data": {
      "application/vnd.jupyter.widget-view+json": {
       "model_id": "",
       "version_major": 2,
       "version_minor": 0
      },
      "text/plain": [
       "Validation: 0it [00:00, ?it/s]"
      ]
     },
     "metadata": {},
     "output_type": "display_data"
    },
    {
     "name": "stdout",
     "output_type": "stream",
     "text": [
      "Adjusting learning rate of group 0 to 3.6794e-05.\n",
      "Adjusting learning rate of group 0 to 3.6517e-05.\n",
      "Adjusting learning rate of group 0 to 3.6237e-05.\n",
      "Adjusting learning rate of group 0 to 3.5956e-05.\n",
      "Adjusting learning rate of group 0 to 3.5673e-05.\n"
     ]
    },
    {
     "data": {
      "application/vnd.jupyter.widget-view+json": {
       "model_id": "",
       "version_major": 2,
       "version_minor": 0
      },
      "text/plain": [
       "Validation: 0it [00:00, ?it/s]"
      ]
     },
     "metadata": {},
     "output_type": "display_data"
    },
    {
     "name": "stdout",
     "output_type": "stream",
     "text": [
      "Adjusting learning rate of group 0 to 3.5389e-05.\n",
      "Adjusting learning rate of group 0 to 3.5103e-05.\n",
      "Adjusting learning rate of group 0 to 3.4815e-05.\n",
      "Adjusting learning rate of group 0 to 3.4525e-05.\n",
      "Adjusting learning rate of group 0 to 3.4235e-05.\n"
     ]
    },
    {
     "data": {
      "application/vnd.jupyter.widget-view+json": {
       "model_id": "",
       "version_major": 2,
       "version_minor": 0
      },
      "text/plain": [
       "Validation: 0it [00:00, ?it/s]"
      ]
     },
     "metadata": {},
     "output_type": "display_data"
    },
    {
     "name": "stdout",
     "output_type": "stream",
     "text": [
      "Adjusting learning rate of group 0 to 3.3942e-05.\n",
      "Adjusting learning rate of group 0 to 3.3649e-05.\n",
      "Adjusting learning rate of group 0 to 3.3354e-05.\n",
      "Adjusting learning rate of group 0 to 3.3058e-05.\n",
      "Adjusting learning rate of group 0 to 3.2760e-05.\n"
     ]
    },
    {
     "data": {
      "application/vnd.jupyter.widget-view+json": {
       "model_id": "",
       "version_major": 2,
       "version_minor": 0
      },
      "text/plain": [
       "Validation: 0it [00:00, ?it/s]"
      ]
     },
     "metadata": {},
     "output_type": "display_data"
    },
    {
     "name": "stdout",
     "output_type": "stream",
     "text": [
      "Adjusting learning rate of group 0 to 3.2461e-05.\n",
      "Adjusting learning rate of group 0 to 3.2161e-05.\n",
      "Adjusting learning rate of group 0 to 3.1860e-05.\n",
      "Adjusting learning rate of group 0 to 3.1558e-05.\n",
      "Adjusting learning rate of group 0 to 3.1255e-05.\n"
     ]
    },
    {
     "data": {
      "application/vnd.jupyter.widget-view+json": {
       "model_id": "",
       "version_major": 2,
       "version_minor": 0
      },
      "text/plain": [
       "Validation: 0it [00:00, ?it/s]"
      ]
     },
     "metadata": {},
     "output_type": "display_data"
    },
    {
     "name": "stdout",
     "output_type": "stream",
     "text": [
      "Adjusting learning rate of group 0 to 3.0951e-05.\n",
      "Adjusting learning rate of group 0 to 3.0646e-05.\n",
      "Adjusting learning rate of group 0 to 3.0340e-05.\n",
      "Adjusting learning rate of group 0 to 3.0033e-05.\n",
      "Adjusting learning rate of group 0 to 2.9725e-05.\n"
     ]
    },
    {
     "data": {
      "application/vnd.jupyter.widget-view+json": {
       "model_id": "",
       "version_major": 2,
       "version_minor": 0
      },
      "text/plain": [
       "Validation: 0it [00:00, ?it/s]"
      ]
     },
     "metadata": {},
     "output_type": "display_data"
    },
    {
     "name": "stdout",
     "output_type": "stream",
     "text": [
      "Adjusting learning rate of group 0 to 2.9417e-05.\n",
      "Adjusting learning rate of group 0 to 2.9108e-05.\n",
      "Adjusting learning rate of group 0 to 2.8798e-05.\n",
      "Adjusting learning rate of group 0 to 2.8488e-05.\n",
      "Adjusting learning rate of group 0 to 2.8177e-05.\n"
     ]
    },
    {
     "data": {
      "application/vnd.jupyter.widget-view+json": {
       "model_id": "",
       "version_major": 2,
       "version_minor": 0
      },
      "text/plain": [
       "Validation: 0it [00:00, ?it/s]"
      ]
     },
     "metadata": {},
     "output_type": "display_data"
    },
    {
     "name": "stdout",
     "output_type": "stream",
     "text": [
      "Adjusting learning rate of group 0 to 2.7866e-05.\n",
      "Adjusting learning rate of group 0 to 2.7554e-05.\n",
      "Adjusting learning rate of group 0 to 2.7242e-05.\n",
      "Adjusting learning rate of group 0 to 2.6929e-05.\n",
      "Adjusting learning rate of group 0 to 2.6617e-05.\n"
     ]
    },
    {
     "data": {
      "application/vnd.jupyter.widget-view+json": {
       "model_id": "",
       "version_major": 2,
       "version_minor": 0
      },
      "text/plain": [
       "Validation: 0it [00:00, ?it/s]"
      ]
     },
     "metadata": {},
     "output_type": "display_data"
    },
    {
     "name": "stdout",
     "output_type": "stream",
     "text": [
      "Adjusting learning rate of group 0 to 2.6304e-05.\n",
      "Adjusting learning rate of group 0 to 2.5990e-05.\n",
      "Adjusting learning rate of group 0 to 2.5677e-05.\n",
      "Adjusting learning rate of group 0 to 2.5364e-05.\n",
      "Adjusting learning rate of group 0 to 2.5050e-05.\n"
     ]
    },
    {
     "data": {
      "application/vnd.jupyter.widget-view+json": {
       "model_id": "",
       "version_major": 2,
       "version_minor": 0
      },
      "text/plain": [
       "Validation: 0it [00:00, ?it/s]"
      ]
     },
     "metadata": {},
     "output_type": "display_data"
    },
    {
     "name": "stdout",
     "output_type": "stream",
     "text": [
      "Adjusting learning rate of group 0 to 2.4736e-05.\n",
      "Adjusting learning rate of group 0 to 2.4423e-05.\n",
      "Adjusting learning rate of group 0 to 2.4110e-05.\n",
      "Adjusting learning rate of group 0 to 2.3796e-05.\n",
      "Adjusting learning rate of group 0 to 2.3483e-05.\n"
     ]
    },
    {
     "data": {
      "application/vnd.jupyter.widget-view+json": {
       "model_id": "",
       "version_major": 2,
       "version_minor": 0
      },
      "text/plain": [
       "Validation: 0it [00:00, ?it/s]"
      ]
     },
     "metadata": {},
     "output_type": "display_data"
    },
    {
     "name": "stdout",
     "output_type": "stream",
     "text": [
      "Adjusting learning rate of group 0 to 2.3171e-05.\n",
      "Adjusting learning rate of group 0 to 2.2858e-05.\n",
      "Adjusting learning rate of group 0 to 2.2546e-05.\n",
      "Adjusting learning rate of group 0 to 2.2234e-05.\n",
      "Adjusting learning rate of group 0 to 2.1923e-05.\n"
     ]
    },
    {
     "data": {
      "application/vnd.jupyter.widget-view+json": {
       "model_id": "",
       "version_major": 2,
       "version_minor": 0
      },
      "text/plain": [
       "Validation: 0it [00:00, ?it/s]"
      ]
     },
     "metadata": {},
     "output_type": "display_data"
    },
    {
     "name": "stdout",
     "output_type": "stream",
     "text": [
      "Adjusting learning rate of group 0 to 2.1612e-05.\n",
      "Adjusting learning rate of group 0 to 2.1302e-05.\n",
      "Adjusting learning rate of group 0 to 2.0992e-05.\n",
      "Adjusting learning rate of group 0 to 2.0683e-05.\n",
      "Adjusting learning rate of group 0 to 2.0375e-05.\n"
     ]
    },
    {
     "data": {
      "application/vnd.jupyter.widget-view+json": {
       "model_id": "",
       "version_major": 2,
       "version_minor": 0
      },
      "text/plain": [
       "Validation: 0it [00:00, ?it/s]"
      ]
     },
     "metadata": {},
     "output_type": "display_data"
    },
    {
     "name": "stdout",
     "output_type": "stream",
     "text": [
      "Adjusting learning rate of group 0 to 2.0067e-05.\n",
      "Adjusting learning rate of group 0 to 1.9760e-05.\n",
      "Adjusting learning rate of group 0 to 1.9454e-05.\n",
      "Adjusting learning rate of group 0 to 1.9149e-05.\n",
      "Adjusting learning rate of group 0 to 1.8845e-05.\n"
     ]
    },
    {
     "data": {
      "application/vnd.jupyter.widget-view+json": {
       "model_id": "",
       "version_major": 2,
       "version_minor": 0
      },
      "text/plain": [
       "Validation: 0it [00:00, ?it/s]"
      ]
     },
     "metadata": {},
     "output_type": "display_data"
    },
    {
     "name": "stdout",
     "output_type": "stream",
     "text": [
      "Adjusting learning rate of group 0 to 1.8542e-05.\n",
      "Adjusting learning rate of group 0 to 1.8240e-05.\n",
      "Adjusting learning rate of group 0 to 1.7939e-05.\n",
      "Adjusting learning rate of group 0 to 1.7639e-05.\n",
      "Adjusting learning rate of group 0 to 1.7340e-05.\n"
     ]
    },
    {
     "data": {
      "application/vnd.jupyter.widget-view+json": {
       "model_id": "",
       "version_major": 2,
       "version_minor": 0
      },
      "text/plain": [
       "Validation: 0it [00:00, ?it/s]"
      ]
     },
     "metadata": {},
     "output_type": "display_data"
    },
    {
     "name": "stdout",
     "output_type": "stream",
     "text": [
      "Adjusting learning rate of group 0 to 1.7042e-05.\n",
      "Adjusting learning rate of group 0 to 1.6746e-05.\n",
      "Adjusting learning rate of group 0 to 1.6451e-05.\n",
      "Adjusting learning rate of group 0 to 1.6158e-05.\n",
      "Adjusting learning rate of group 0 to 1.5865e-05.\n"
     ]
    },
    {
     "data": {
      "application/vnd.jupyter.widget-view+json": {
       "model_id": "",
       "version_major": 2,
       "version_minor": 0
      },
      "text/plain": [
       "Validation: 0it [00:00, ?it/s]"
      ]
     },
     "metadata": {},
     "output_type": "display_data"
    },
    {
     "name": "stdout",
     "output_type": "stream",
     "text": [
      "Adjusting learning rate of group 0 to 1.5575e-05.\n",
      "Adjusting learning rate of group 0 to 1.5285e-05.\n",
      "Adjusting learning rate of group 0 to 1.4997e-05.\n",
      "Adjusting learning rate of group 0 to 1.4711e-05.\n",
      "Adjusting learning rate of group 0 to 1.4427e-05.\n"
     ]
    },
    {
     "data": {
      "application/vnd.jupyter.widget-view+json": {
       "model_id": "",
       "version_major": 2,
       "version_minor": 0
      },
      "text/plain": [
       "Validation: 0it [00:00, ?it/s]"
      ]
     },
     "metadata": {},
     "output_type": "display_data"
    },
    {
     "name": "stdout",
     "output_type": "stream",
     "text": [
      "Adjusting learning rate of group 0 to 1.4144e-05.\n",
      "Adjusting learning rate of group 0 to 1.3863e-05.\n",
      "Adjusting learning rate of group 0 to 1.3583e-05.\n",
      "Adjusting learning rate of group 0 to 1.3306e-05.\n",
      "Adjusting learning rate of group 0 to 1.3030e-05.\n"
     ]
    },
    {
     "data": {
      "application/vnd.jupyter.widget-view+json": {
       "model_id": "",
       "version_major": 2,
       "version_minor": 0
      },
      "text/plain": [
       "Validation: 0it [00:00, ?it/s]"
      ]
     },
     "metadata": {},
     "output_type": "display_data"
    },
    {
     "name": "stdout",
     "output_type": "stream",
     "text": [
      "Adjusting learning rate of group 0 to 1.2756e-05.\n",
      "Adjusting learning rate of group 0 to 1.2485e-05.\n",
      "Adjusting learning rate of group 0 to 1.2215e-05.\n",
      "Adjusting learning rate of group 0 to 1.1947e-05.\n",
      "Adjusting learning rate of group 0 to 1.1681e-05.\n"
     ]
    },
    {
     "data": {
      "application/vnd.jupyter.widget-view+json": {
       "model_id": "",
       "version_major": 2,
       "version_minor": 0
      },
      "text/plain": [
       "Validation: 0it [00:00, ?it/s]"
      ]
     },
     "metadata": {},
     "output_type": "display_data"
    },
    {
     "name": "stdout",
     "output_type": "stream",
     "text": [
      "Adjusting learning rate of group 0 to 1.1417e-05.\n",
      "Adjusting learning rate of group 0 to 1.1156e-05.\n",
      "Adjusting learning rate of group 0 to 1.0897e-05.\n",
      "Adjusting learning rate of group 0 to 1.0640e-05.\n",
      "Adjusting learning rate of group 0 to 1.0385e-05.\n"
     ]
    },
    {
     "data": {
      "application/vnd.jupyter.widget-view+json": {
       "model_id": "",
       "version_major": 2,
       "version_minor": 0
      },
      "text/plain": [
       "Validation: 0it [00:00, ?it/s]"
      ]
     },
     "metadata": {},
     "output_type": "display_data"
    },
    {
     "name": "stdout",
     "output_type": "stream",
     "text": [
      "Adjusting learning rate of group 0 to 1.0132e-05.\n",
      "Adjusting learning rate of group 0 to 9.8821e-06.\n",
      "Adjusting learning rate of group 0 to 9.6344e-06.\n",
      "Adjusting learning rate of group 0 to 9.3891e-06.\n",
      "Adjusting learning rate of group 0 to 9.1463e-06.\n"
     ]
    },
    {
     "data": {
      "application/vnd.jupyter.widget-view+json": {
       "model_id": "",
       "version_major": 2,
       "version_minor": 0
      },
      "text/plain": [
       "Validation: 0it [00:00, ?it/s]"
      ]
     },
     "metadata": {},
     "output_type": "display_data"
    },
    {
     "name": "stdout",
     "output_type": "stream",
     "text": [
      "Adjusting learning rate of group 0 to 8.9060e-06.\n",
      "Adjusting learning rate of group 0 to 8.6682e-06.\n",
      "Adjusting learning rate of group 0 to 8.4330e-06.\n",
      "Adjusting learning rate of group 0 to 8.2004e-06.\n",
      "Adjusting learning rate of group 0 to 7.9705e-06.\n"
     ]
    },
    {
     "data": {
      "application/vnd.jupyter.widget-view+json": {
       "model_id": "",
       "version_major": 2,
       "version_minor": 0
      },
      "text/plain": [
       "Validation: 0it [00:00, ?it/s]"
      ]
     },
     "metadata": {},
     "output_type": "display_data"
    },
    {
     "name": "stdout",
     "output_type": "stream",
     "text": [
      "Adjusting learning rate of group 0 to 7.7434e-06.\n",
      "Adjusting learning rate of group 0 to 7.5189e-06.\n",
      "Adjusting learning rate of group 0 to 7.2972e-06.\n",
      "Adjusting learning rate of group 0 to 7.0783e-06.\n",
      "Adjusting learning rate of group 0 to 6.8622e-06.\n"
     ]
    },
    {
     "data": {
      "application/vnd.jupyter.widget-view+json": {
       "model_id": "",
       "version_major": 2,
       "version_minor": 0
      },
      "text/plain": [
       "Validation: 0it [00:00, ?it/s]"
      ]
     },
     "metadata": {},
     "output_type": "display_data"
    },
    {
     "name": "stdout",
     "output_type": "stream",
     "text": [
      "Adjusting learning rate of group 0 to 6.6490e-06.\n",
      "Adjusting learning rate of group 0 to 6.4388e-06.\n",
      "Adjusting learning rate of group 0 to 6.2314e-06.\n",
      "Adjusting learning rate of group 0 to 6.0271e-06.\n",
      "Adjusting learning rate of group 0 to 5.8257e-06.\n"
     ]
    },
    {
     "data": {
      "application/vnd.jupyter.widget-view+json": {
       "model_id": "",
       "version_major": 2,
       "version_minor": 0
      },
      "text/plain": [
       "Validation: 0it [00:00, ?it/s]"
      ]
     },
     "metadata": {},
     "output_type": "display_data"
    },
    {
     "name": "stdout",
     "output_type": "stream",
     "text": [
      "Adjusting learning rate of group 0 to 5.6274e-06.\n",
      "Adjusting learning rate of group 0 to 5.4321e-06.\n",
      "Adjusting learning rate of group 0 to 5.2399e-06.\n",
      "Adjusting learning rate of group 0 to 5.0509e-06.\n",
      "Adjusting learning rate of group 0 to 4.8650e-06.\n"
     ]
    },
    {
     "data": {
      "application/vnd.jupyter.widget-view+json": {
       "model_id": "",
       "version_major": 2,
       "version_minor": 0
      },
      "text/plain": [
       "Validation: 0it [00:00, ?it/s]"
      ]
     },
     "metadata": {},
     "output_type": "display_data"
    },
    {
     "name": "stdout",
     "output_type": "stream",
     "text": [
      "Adjusting learning rate of group 0 to 4.6823e-06.\n",
      "Adjusting learning rate of group 0 to 4.5029e-06.\n",
      "Adjusting learning rate of group 0 to 4.3266e-06.\n",
      "Adjusting learning rate of group 0 to 4.1537e-06.\n",
      "Adjusting learning rate of group 0 to 3.9840e-06.\n"
     ]
    },
    {
     "data": {
      "application/vnd.jupyter.widget-view+json": {
       "model_id": "",
       "version_major": 2,
       "version_minor": 0
      },
      "text/plain": [
       "Validation: 0it [00:00, ?it/s]"
      ]
     },
     "metadata": {},
     "output_type": "display_data"
    },
    {
     "name": "stdout",
     "output_type": "stream",
     "text": [
      "Adjusting learning rate of group 0 to 3.8177e-06.\n",
      "Adjusting learning rate of group 0 to 3.6547e-06.\n",
      "Adjusting learning rate of group 0 to 3.4951e-06.\n",
      "Adjusting learning rate of group 0 to 3.3389e-06.\n",
      "Adjusting learning rate of group 0 to 3.1861e-06.\n"
     ]
    },
    {
     "data": {
      "application/vnd.jupyter.widget-view+json": {
       "model_id": "",
       "version_major": 2,
       "version_minor": 0
      },
      "text/plain": [
       "Validation: 0it [00:00, ?it/s]"
      ]
     },
     "metadata": {},
     "output_type": "display_data"
    },
    {
     "name": "stdout",
     "output_type": "stream",
     "text": [
      "Adjusting learning rate of group 0 to 3.0368e-06.\n",
      "Adjusting learning rate of group 0 to 2.8910e-06.\n",
      "Adjusting learning rate of group 0 to 2.7487e-06.\n",
      "Adjusting learning rate of group 0 to 2.6098e-06.\n",
      "Adjusting learning rate of group 0 to 2.4746e-06.\n"
     ]
    },
    {
     "data": {
      "application/vnd.jupyter.widget-view+json": {
       "model_id": "",
       "version_major": 2,
       "version_minor": 0
      },
      "text/plain": [
       "Validation: 0it [00:00, ?it/s]"
      ]
     },
     "metadata": {},
     "output_type": "display_data"
    },
    {
     "name": "stdout",
     "output_type": "stream",
     "text": [
      "Adjusting learning rate of group 0 to 2.3429e-06.\n",
      "Adjusting learning rate of group 0 to 2.2147e-06.\n",
      "Adjusting learning rate of group 0 to 2.0902e-06.\n",
      "Adjusting learning rate of group 0 to 1.9693e-06.\n",
      "Adjusting learning rate of group 0 to 1.8521e-06.\n"
     ]
    },
    {
     "data": {
      "application/vnd.jupyter.widget-view+json": {
       "model_id": "",
       "version_major": 2,
       "version_minor": 0
      },
      "text/plain": [
       "Validation: 0it [00:00, ?it/s]"
      ]
     },
     "metadata": {},
     "output_type": "display_data"
    },
    {
     "name": "stdout",
     "output_type": "stream",
     "text": [
      "Adjusting learning rate of group 0 to 1.7385e-06.\n",
      "Adjusting learning rate of group 0 to 1.6286e-06.\n",
      "Adjusting learning rate of group 0 to 1.5224e-06.\n",
      "Adjusting learning rate of group 0 to 1.4199e-06.\n",
      "Adjusting learning rate of group 0 to 1.3211e-06.\n"
     ]
    },
    {
     "data": {
      "application/vnd.jupyter.widget-view+json": {
       "model_id": "",
       "version_major": 2,
       "version_minor": 0
      },
      "text/plain": [
       "Validation: 0it [00:00, ?it/s]"
      ]
     },
     "metadata": {},
     "output_type": "display_data"
    },
    {
     "name": "stdout",
     "output_type": "stream",
     "text": [
      "Adjusting learning rate of group 0 to 1.2261e-06.\n",
      "Adjusting learning rate of group 0 to 1.1349e-06.\n",
      "Adjusting learning rate of group 0 to 1.0474e-06.\n",
      "Adjusting learning rate of group 0 to 9.6373e-07.\n",
      "Adjusting learning rate of group 0 to 8.8385e-07.\n"
     ]
    },
    {
     "data": {
      "application/vnd.jupyter.widget-view+json": {
       "model_id": "",
       "version_major": 2,
       "version_minor": 0
      },
      "text/plain": [
       "Validation: 0it [00:00, ?it/s]"
      ]
     },
     "metadata": {},
     "output_type": "display_data"
    },
    {
     "name": "stdout",
     "output_type": "stream",
     "text": [
      "Adjusting learning rate of group 0 to 8.0779e-07.\n",
      "Adjusting learning rate of group 0 to 7.3555e-07.\n",
      "Adjusting learning rate of group 0 to 6.6716e-07.\n",
      "Adjusting learning rate of group 0 to 6.0262e-07.\n",
      "Adjusting learning rate of group 0 to 5.4193e-07.\n"
     ]
    },
    {
     "data": {
      "application/vnd.jupyter.widget-view+json": {
       "model_id": "",
       "version_major": 2,
       "version_minor": 0
      },
      "text/plain": [
       "Validation: 0it [00:00, ?it/s]"
      ]
     },
     "metadata": {},
     "output_type": "display_data"
    },
    {
     "name": "stdout",
     "output_type": "stream",
     "text": [
      "Adjusting learning rate of group 0 to 4.8512e-07.\n",
      "Adjusting learning rate of group 0 to 4.3219e-07.\n",
      "Adjusting learning rate of group 0 to 3.8314e-07.\n",
      "Adjusting learning rate of group 0 to 3.3799e-07.\n",
      "Adjusting learning rate of group 0 to 2.9674e-07.\n"
     ]
    },
    {
     "data": {
      "application/vnd.jupyter.widget-view+json": {
       "model_id": "",
       "version_major": 2,
       "version_minor": 0
      },
      "text/plain": [
       "Validation: 0it [00:00, ?it/s]"
      ]
     },
     "metadata": {},
     "output_type": "display_data"
    },
    {
     "name": "stdout",
     "output_type": "stream",
     "text": [
      "Adjusting learning rate of group 0 to 2.5940e-07.\n",
      "Adjusting learning rate of group 0 to 2.2597e-07.\n",
      "Adjusting learning rate of group 0 to 1.9647e-07.\n",
      "Adjusting learning rate of group 0 to 1.7089e-07.\n",
      "Adjusting learning rate of group 0 to 1.4923e-07.\n"
     ]
    },
    {
     "data": {
      "application/vnd.jupyter.widget-view+json": {
       "model_id": "",
       "version_major": 2,
       "version_minor": 0
      },
      "text/plain": [
       "Validation: 0it [00:00, ?it/s]"
      ]
     },
     "metadata": {},
     "output_type": "display_data"
    },
    {
     "name": "stdout",
     "output_type": "stream",
     "text": [
      "Adjusting learning rate of group 0 to 1.3151e-07.\n",
      "Adjusting learning rate of group 0 to 1.1773e-07.\n",
      "Adjusting learning rate of group 0 to 1.0788e-07.\n",
      "Adjusting learning rate of group 0 to 1.0197e-07.\n",
      "Adjusting learning rate of group 0 to 1.0000e-07.\n"
     ]
    },
    {
     "data": {
      "application/vnd.jupyter.widget-view+json": {
       "model_id": "",
       "version_major": 2,
       "version_minor": 0
      },
      "text/plain": [
       "Validation: 0it [00:00, ?it/s]"
      ]
     },
     "metadata": {},
     "output_type": "display_data"
    },
    {
     "name": "stdout",
     "output_type": "stream",
     "text": [
      "Adjusting learning rate of group 0 to 1.0197e-07.\n",
      "Adjusting learning rate of group 0 to 1.0788e-07.\n",
      "Adjusting learning rate of group 0 to 1.1773e-07.\n",
      "Adjusting learning rate of group 0 to 1.3151e-07.\n",
      "Adjusting learning rate of group 0 to 1.4923e-07.\n"
     ]
    },
    {
     "data": {
      "application/vnd.jupyter.widget-view+json": {
       "model_id": "",
       "version_major": 2,
       "version_minor": 0
      },
      "text/plain": [
       "Validation: 0it [00:00, ?it/s]"
      ]
     },
     "metadata": {},
     "output_type": "display_data"
    },
    {
     "name": "stdout",
     "output_type": "stream",
     "text": [
      "Adjusting learning rate of group 0 to 1.7089e-07.\n",
      "Adjusting learning rate of group 0 to 1.9647e-07.\n",
      "Adjusting learning rate of group 0 to 2.2597e-07.\n",
      "Adjusting learning rate of group 0 to 2.5940e-07.\n",
      "Adjusting learning rate of group 0 to 2.9674e-07.\n"
     ]
    },
    {
     "data": {
      "application/vnd.jupyter.widget-view+json": {
       "model_id": "",
       "version_major": 2,
       "version_minor": 0
      },
      "text/plain": [
       "Validation: 0it [00:00, ?it/s]"
      ]
     },
     "metadata": {},
     "output_type": "display_data"
    },
    {
     "name": "stdout",
     "output_type": "stream",
     "text": [
      "Adjusting learning rate of group 0 to 3.3799e-07.\n",
      "Adjusting learning rate of group 0 to 3.8314e-07.\n",
      "Adjusting learning rate of group 0 to 4.3219e-07.\n",
      "Adjusting learning rate of group 0 to 4.8512e-07.\n",
      "Adjusting learning rate of group 0 to 5.4193e-07.\n"
     ]
    },
    {
     "data": {
      "application/vnd.jupyter.widget-view+json": {
       "model_id": "",
       "version_major": 2,
       "version_minor": 0
      },
      "text/plain": [
       "Validation: 0it [00:00, ?it/s]"
      ]
     },
     "metadata": {},
     "output_type": "display_data"
    },
    {
     "name": "stdout",
     "output_type": "stream",
     "text": [
      "Adjusting learning rate of group 0 to 6.0262e-07.\n",
      "Adjusting learning rate of group 0 to 6.6716e-07.\n",
      "Adjusting learning rate of group 0 to 7.3555e-07.\n",
      "Adjusting learning rate of group 0 to 8.0779e-07.\n",
      "Adjusting learning rate of group 0 to 8.8385e-07.\n"
     ]
    },
    {
     "data": {
      "application/vnd.jupyter.widget-view+json": {
       "model_id": "",
       "version_major": 2,
       "version_minor": 0
      },
      "text/plain": [
       "Validation: 0it [00:00, ?it/s]"
      ]
     },
     "metadata": {},
     "output_type": "display_data"
    },
    {
     "name": "stdout",
     "output_type": "stream",
     "text": [
      "Adjusting learning rate of group 0 to 9.6373e-07.\n",
      "Adjusting learning rate of group 0 to 1.0474e-06.\n",
      "Adjusting learning rate of group 0 to 1.1349e-06.\n",
      "Adjusting learning rate of group 0 to 1.2261e-06.\n",
      "Adjusting learning rate of group 0 to 1.3211e-06.\n"
     ]
    },
    {
     "data": {
      "application/vnd.jupyter.widget-view+json": {
       "model_id": "",
       "version_major": 2,
       "version_minor": 0
      },
      "text/plain": [
       "Validation: 0it [00:00, ?it/s]"
      ]
     },
     "metadata": {},
     "output_type": "display_data"
    },
    {
     "name": "stdout",
     "output_type": "stream",
     "text": [
      "Adjusting learning rate of group 0 to 1.4199e-06.\n",
      "Adjusting learning rate of group 0 to 1.5224e-06.\n",
      "Adjusting learning rate of group 0 to 1.6286e-06.\n",
      "Adjusting learning rate of group 0 to 1.7385e-06.\n",
      "Adjusting learning rate of group 0 to 1.8521e-06.\n"
     ]
    },
    {
     "data": {
      "application/vnd.jupyter.widget-view+json": {
       "model_id": "",
       "version_major": 2,
       "version_minor": 0
      },
      "text/plain": [
       "Validation: 0it [00:00, ?it/s]"
      ]
     },
     "metadata": {},
     "output_type": "display_data"
    },
    {
     "name": "stdout",
     "output_type": "stream",
     "text": [
      "Adjusting learning rate of group 0 to 1.9693e-06.\n",
      "Adjusting learning rate of group 0 to 2.0902e-06.\n",
      "Adjusting learning rate of group 0 to 2.2147e-06.\n",
      "Adjusting learning rate of group 0 to 2.3429e-06.\n",
      "Adjusting learning rate of group 0 to 2.4746e-06.\n"
     ]
    },
    {
     "data": {
      "application/vnd.jupyter.widget-view+json": {
       "model_id": "",
       "version_major": 2,
       "version_minor": 0
      },
      "text/plain": [
       "Validation: 0it [00:00, ?it/s]"
      ]
     },
     "metadata": {},
     "output_type": "display_data"
    },
    {
     "name": "stdout",
     "output_type": "stream",
     "text": [
      "Adjusting learning rate of group 0 to 2.6098e-06.\n",
      "Adjusting learning rate of group 0 to 2.7487e-06.\n",
      "Adjusting learning rate of group 0 to 2.8910e-06.\n",
      "Adjusting learning rate of group 0 to 3.0368e-06.\n",
      "Adjusting learning rate of group 0 to 3.1861e-06.\n"
     ]
    },
    {
     "data": {
      "application/vnd.jupyter.widget-view+json": {
       "model_id": "",
       "version_major": 2,
       "version_minor": 0
      },
      "text/plain": [
       "Validation: 0it [00:00, ?it/s]"
      ]
     },
     "metadata": {},
     "output_type": "display_data"
    },
    {
     "name": "stdout",
     "output_type": "stream",
     "text": [
      "Adjusting learning rate of group 0 to 3.3389e-06.\n",
      "Adjusting learning rate of group 0 to 3.4951e-06.\n",
      "Adjusting learning rate of group 0 to 3.6547e-06.\n",
      "Adjusting learning rate of group 0 to 3.8177e-06.\n",
      "Adjusting learning rate of group 0 to 3.9840e-06.\n"
     ]
    },
    {
     "data": {
      "application/vnd.jupyter.widget-view+json": {
       "model_id": "",
       "version_major": 2,
       "version_minor": 0
      },
      "text/plain": [
       "Validation: 0it [00:00, ?it/s]"
      ]
     },
     "metadata": {},
     "output_type": "display_data"
    },
    {
     "name": "stdout",
     "output_type": "stream",
     "text": [
      "Adjusting learning rate of group 0 to 4.1537e-06.\n",
      "Adjusting learning rate of group 0 to 4.3266e-06.\n",
      "Adjusting learning rate of group 0 to 4.5029e-06.\n",
      "Adjusting learning rate of group 0 to 4.6823e-06.\n",
      "Adjusting learning rate of group 0 to 4.8650e-06.\n"
     ]
    },
    {
     "data": {
      "application/vnd.jupyter.widget-view+json": {
       "model_id": "",
       "version_major": 2,
       "version_minor": 0
      },
      "text/plain": [
       "Validation: 0it [00:00, ?it/s]"
      ]
     },
     "metadata": {},
     "output_type": "display_data"
    },
    {
     "name": "stdout",
     "output_type": "stream",
     "text": [
      "Adjusting learning rate of group 0 to 5.0509e-06.\n",
      "Adjusting learning rate of group 0 to 5.2399e-06.\n",
      "Adjusting learning rate of group 0 to 5.4321e-06.\n",
      "Adjusting learning rate of group 0 to 5.6274e-06.\n",
      "Adjusting learning rate of group 0 to 5.8257e-06.\n"
     ]
    },
    {
     "data": {
      "application/vnd.jupyter.widget-view+json": {
       "model_id": "",
       "version_major": 2,
       "version_minor": 0
      },
      "text/plain": [
       "Validation: 0it [00:00, ?it/s]"
      ]
     },
     "metadata": {},
     "output_type": "display_data"
    },
    {
     "name": "stdout",
     "output_type": "stream",
     "text": [
      "Adjusting learning rate of group 0 to 6.0271e-06.\n",
      "Adjusting learning rate of group 0 to 6.2314e-06.\n",
      "Adjusting learning rate of group 0 to 6.4388e-06.\n",
      "Adjusting learning rate of group 0 to 6.6490e-06.\n",
      "Adjusting learning rate of group 0 to 6.8622e-06.\n"
     ]
    },
    {
     "data": {
      "application/vnd.jupyter.widget-view+json": {
       "model_id": "",
       "version_major": 2,
       "version_minor": 0
      },
      "text/plain": [
       "Validation: 0it [00:00, ?it/s]"
      ]
     },
     "metadata": {},
     "output_type": "display_data"
    },
    {
     "name": "stdout",
     "output_type": "stream",
     "text": [
      "Adjusting learning rate of group 0 to 7.0783e-06.\n",
      "Adjusting learning rate of group 0 to 7.2972e-06.\n",
      "Adjusting learning rate of group 0 to 7.5189e-06.\n",
      "Adjusting learning rate of group 0 to 7.7434e-06.\n",
      "Adjusting learning rate of group 0 to 7.9705e-06.\n"
     ]
    },
    {
     "data": {
      "application/vnd.jupyter.widget-view+json": {
       "model_id": "",
       "version_major": 2,
       "version_minor": 0
      },
      "text/plain": [
       "Validation: 0it [00:00, ?it/s]"
      ]
     },
     "metadata": {},
     "output_type": "display_data"
    },
    {
     "name": "stdout",
     "output_type": "stream",
     "text": [
      "Adjusting learning rate of group 0 to 8.2004e-06.\n",
      "Adjusting learning rate of group 0 to 8.4330e-06.\n",
      "Adjusting learning rate of group 0 to 8.6682e-06.\n",
      "Adjusting learning rate of group 0 to 8.9060e-06.\n",
      "Adjusting learning rate of group 0 to 9.1463e-06.\n"
     ]
    },
    {
     "data": {
      "application/vnd.jupyter.widget-view+json": {
       "model_id": "",
       "version_major": 2,
       "version_minor": 0
      },
      "text/plain": [
       "Validation: 0it [00:00, ?it/s]"
      ]
     },
     "metadata": {},
     "output_type": "display_data"
    },
    {
     "name": "stdout",
     "output_type": "stream",
     "text": [
      "Adjusting learning rate of group 0 to 9.3891e-06.\n",
      "Adjusting learning rate of group 0 to 9.6344e-06.\n",
      "Adjusting learning rate of group 0 to 9.8821e-06.\n",
      "Adjusting learning rate of group 0 to 1.0132e-05.\n",
      "Adjusting learning rate of group 0 to 1.0385e-05.\n"
     ]
    },
    {
     "data": {
      "application/vnd.jupyter.widget-view+json": {
       "model_id": "",
       "version_major": 2,
       "version_minor": 0
      },
      "text/plain": [
       "Validation: 0it [00:00, ?it/s]"
      ]
     },
     "metadata": {},
     "output_type": "display_data"
    },
    {
     "name": "stdout",
     "output_type": "stream",
     "text": [
      "Adjusting learning rate of group 0 to 1.0640e-05.\n",
      "Adjusting learning rate of group 0 to 1.0897e-05.\n",
      "Adjusting learning rate of group 0 to 1.1156e-05.\n",
      "Adjusting learning rate of group 0 to 1.1417e-05.\n",
      "Adjusting learning rate of group 0 to 1.1681e-05.\n"
     ]
    },
    {
     "data": {
      "application/vnd.jupyter.widget-view+json": {
       "model_id": "",
       "version_major": 2,
       "version_minor": 0
      },
      "text/plain": [
       "Validation: 0it [00:00, ?it/s]"
      ]
     },
     "metadata": {},
     "output_type": "display_data"
    },
    {
     "name": "stdout",
     "output_type": "stream",
     "text": [
      "Adjusting learning rate of group 0 to 1.1947e-05.\n",
      "Adjusting learning rate of group 0 to 1.2215e-05.\n",
      "Adjusting learning rate of group 0 to 1.2485e-05.\n",
      "Adjusting learning rate of group 0 to 1.2756e-05.\n",
      "Adjusting learning rate of group 0 to 1.3030e-05.\n"
     ]
    },
    {
     "data": {
      "application/vnd.jupyter.widget-view+json": {
       "model_id": "",
       "version_major": 2,
       "version_minor": 0
      },
      "text/plain": [
       "Validation: 0it [00:00, ?it/s]"
      ]
     },
     "metadata": {},
     "output_type": "display_data"
    },
    {
     "name": "stdout",
     "output_type": "stream",
     "text": [
      "Adjusting learning rate of group 0 to 1.3306e-05.\n",
      "Adjusting learning rate of group 0 to 1.3583e-05.\n",
      "Adjusting learning rate of group 0 to 1.3863e-05.\n",
      "Adjusting learning rate of group 0 to 1.4144e-05.\n",
      "Adjusting learning rate of group 0 to 1.4427e-05.\n"
     ]
    },
    {
     "data": {
      "application/vnd.jupyter.widget-view+json": {
       "model_id": "",
       "version_major": 2,
       "version_minor": 0
      },
      "text/plain": [
       "Validation: 0it [00:00, ?it/s]"
      ]
     },
     "metadata": {},
     "output_type": "display_data"
    },
    {
     "name": "stdout",
     "output_type": "stream",
     "text": [
      "Adjusting learning rate of group 0 to 1.4711e-05.\n",
      "Adjusting learning rate of group 0 to 1.4997e-05.\n",
      "Adjusting learning rate of group 0 to 1.5285e-05.\n",
      "Adjusting learning rate of group 0 to 1.5575e-05.\n",
      "Adjusting learning rate of group 0 to 1.5865e-05.\n"
     ]
    },
    {
     "data": {
      "application/vnd.jupyter.widget-view+json": {
       "model_id": "",
       "version_major": 2,
       "version_minor": 0
      },
      "text/plain": [
       "Validation: 0it [00:00, ?it/s]"
      ]
     },
     "metadata": {},
     "output_type": "display_data"
    },
    {
     "name": "stdout",
     "output_type": "stream",
     "text": [
      "Adjusting learning rate of group 0 to 1.6158e-05.\n",
      "Adjusting learning rate of group 0 to 1.6451e-05.\n",
      "Adjusting learning rate of group 0 to 1.6746e-05.\n",
      "Adjusting learning rate of group 0 to 1.7042e-05.\n",
      "Adjusting learning rate of group 0 to 1.7340e-05.\n"
     ]
    },
    {
     "data": {
      "application/vnd.jupyter.widget-view+json": {
       "model_id": "",
       "version_major": 2,
       "version_minor": 0
      },
      "text/plain": [
       "Validation: 0it [00:00, ?it/s]"
      ]
     },
     "metadata": {},
     "output_type": "display_data"
    },
    {
     "name": "stdout",
     "output_type": "stream",
     "text": [
      "Adjusting learning rate of group 0 to 1.7639e-05.\n",
      "Adjusting learning rate of group 0 to 1.7939e-05.\n",
      "Adjusting learning rate of group 0 to 1.8240e-05.\n",
      "Adjusting learning rate of group 0 to 1.8542e-05.\n",
      "Adjusting learning rate of group 0 to 1.8845e-05.\n"
     ]
    },
    {
     "data": {
      "application/vnd.jupyter.widget-view+json": {
       "model_id": "",
       "version_major": 2,
       "version_minor": 0
      },
      "text/plain": [
       "Validation: 0it [00:00, ?it/s]"
      ]
     },
     "metadata": {},
     "output_type": "display_data"
    },
    {
     "name": "stdout",
     "output_type": "stream",
     "text": [
      "Adjusting learning rate of group 0 to 1.9149e-05.\n",
      "Adjusting learning rate of group 0 to 1.9454e-05.\n",
      "Adjusting learning rate of group 0 to 1.9760e-05.\n",
      "Adjusting learning rate of group 0 to 2.0067e-05.\n",
      "Adjusting learning rate of group 0 to 2.0375e-05.\n"
     ]
    },
    {
     "data": {
      "application/vnd.jupyter.widget-view+json": {
       "model_id": "",
       "version_major": 2,
       "version_minor": 0
      },
      "text/plain": [
       "Validation: 0it [00:00, ?it/s]"
      ]
     },
     "metadata": {},
     "output_type": "display_data"
    },
    {
     "name": "stdout",
     "output_type": "stream",
     "text": [
      "Adjusting learning rate of group 0 to 2.0683e-05.\n",
      "Adjusting learning rate of group 0 to 2.0992e-05.\n",
      "Adjusting learning rate of group 0 to 2.1302e-05.\n",
      "Adjusting learning rate of group 0 to 2.1612e-05.\n",
      "Adjusting learning rate of group 0 to 2.1923e-05.\n"
     ]
    },
    {
     "data": {
      "application/vnd.jupyter.widget-view+json": {
       "model_id": "",
       "version_major": 2,
       "version_minor": 0
      },
      "text/plain": [
       "Validation: 0it [00:00, ?it/s]"
      ]
     },
     "metadata": {},
     "output_type": "display_data"
    },
    {
     "name": "stdout",
     "output_type": "stream",
     "text": [
      "Adjusting learning rate of group 0 to 2.2234e-05.\n",
      "Adjusting learning rate of group 0 to 2.2546e-05.\n",
      "Adjusting learning rate of group 0 to 2.2858e-05.\n",
      "Adjusting learning rate of group 0 to 2.3171e-05.\n",
      "Adjusting learning rate of group 0 to 2.3483e-05.\n"
     ]
    },
    {
     "data": {
      "application/vnd.jupyter.widget-view+json": {
       "model_id": "",
       "version_major": 2,
       "version_minor": 0
      },
      "text/plain": [
       "Validation: 0it [00:00, ?it/s]"
      ]
     },
     "metadata": {},
     "output_type": "display_data"
    },
    {
     "name": "stdout",
     "output_type": "stream",
     "text": [
      "Adjusting learning rate of group 0 to 2.3796e-05.\n",
      "Adjusting learning rate of group 0 to 2.4110e-05.\n",
      "Adjusting learning rate of group 0 to 2.4423e-05.\n",
      "Adjusting learning rate of group 0 to 2.4736e-05.\n",
      "Adjusting learning rate of group 0 to 2.5050e-05.\n"
     ]
    },
    {
     "data": {
      "application/vnd.jupyter.widget-view+json": {
       "model_id": "",
       "version_major": 2,
       "version_minor": 0
      },
      "text/plain": [
       "Validation: 0it [00:00, ?it/s]"
      ]
     },
     "metadata": {},
     "output_type": "display_data"
    },
    {
     "name": "stdout",
     "output_type": "stream",
     "text": [
      "Adjusting learning rate of group 0 to 2.5364e-05.\n",
      "Adjusting learning rate of group 0 to 2.5677e-05.\n",
      "Adjusting learning rate of group 0 to 2.5990e-05.\n",
      "Adjusting learning rate of group 0 to 2.6304e-05.\n",
      "Adjusting learning rate of group 0 to 2.6617e-05.\n"
     ]
    },
    {
     "data": {
      "application/vnd.jupyter.widget-view+json": {
       "model_id": "",
       "version_major": 2,
       "version_minor": 0
      },
      "text/plain": [
       "Validation: 0it [00:00, ?it/s]"
      ]
     },
     "metadata": {},
     "output_type": "display_data"
    },
    {
     "name": "stdout",
     "output_type": "stream",
     "text": [
      "Adjusting learning rate of group 0 to 2.6929e-05.\n",
      "Adjusting learning rate of group 0 to 2.7242e-05.\n",
      "Adjusting learning rate of group 0 to 2.7554e-05.\n",
      "Adjusting learning rate of group 0 to 2.7866e-05.\n",
      "Adjusting learning rate of group 0 to 2.8177e-05.\n"
     ]
    },
    {
     "data": {
      "application/vnd.jupyter.widget-view+json": {
       "model_id": "",
       "version_major": 2,
       "version_minor": 0
      },
      "text/plain": [
       "Validation: 0it [00:00, ?it/s]"
      ]
     },
     "metadata": {},
     "output_type": "display_data"
    },
    {
     "name": "stdout",
     "output_type": "stream",
     "text": [
      "Adjusting learning rate of group 0 to 2.8488e-05.\n",
      "Adjusting learning rate of group 0 to 2.8798e-05.\n",
      "Adjusting learning rate of group 0 to 2.9108e-05.\n",
      "Adjusting learning rate of group 0 to 2.9417e-05.\n",
      "Adjusting learning rate of group 0 to 2.9725e-05.\n"
     ]
    },
    {
     "data": {
      "application/vnd.jupyter.widget-view+json": {
       "model_id": "",
       "version_major": 2,
       "version_minor": 0
      },
      "text/plain": [
       "Validation: 0it [00:00, ?it/s]"
      ]
     },
     "metadata": {},
     "output_type": "display_data"
    },
    {
     "name": "stdout",
     "output_type": "stream",
     "text": [
      "Adjusting learning rate of group 0 to 3.0033e-05.\n",
      "Adjusting learning rate of group 0 to 3.0340e-05.\n",
      "Adjusting learning rate of group 0 to 3.0646e-05.\n",
      "Adjusting learning rate of group 0 to 3.0951e-05.\n",
      "Adjusting learning rate of group 0 to 3.1255e-05.\n"
     ]
    },
    {
     "data": {
      "application/vnd.jupyter.widget-view+json": {
       "model_id": "",
       "version_major": 2,
       "version_minor": 0
      },
      "text/plain": [
       "Validation: 0it [00:00, ?it/s]"
      ]
     },
     "metadata": {},
     "output_type": "display_data"
    },
    {
     "name": "stdout",
     "output_type": "stream",
     "text": [
      "Adjusting learning rate of group 0 to 3.1558e-05.\n",
      "Adjusting learning rate of group 0 to 3.1860e-05.\n",
      "Adjusting learning rate of group 0 to 3.2161e-05.\n",
      "Adjusting learning rate of group 0 to 3.2461e-05.\n",
      "Adjusting learning rate of group 0 to 3.2760e-05.\n"
     ]
    },
    {
     "data": {
      "application/vnd.jupyter.widget-view+json": {
       "model_id": "",
       "version_major": 2,
       "version_minor": 0
      },
      "text/plain": [
       "Validation: 0it [00:00, ?it/s]"
      ]
     },
     "metadata": {},
     "output_type": "display_data"
    },
    {
     "name": "stdout",
     "output_type": "stream",
     "text": [
      "Adjusting learning rate of group 0 to 3.3058e-05.\n",
      "Adjusting learning rate of group 0 to 3.3354e-05.\n",
      "Adjusting learning rate of group 0 to 3.3649e-05.\n",
      "Adjusting learning rate of group 0 to 3.3942e-05.\n",
      "Adjusting learning rate of group 0 to 3.4235e-05.\n"
     ]
    },
    {
     "data": {
      "application/vnd.jupyter.widget-view+json": {
       "model_id": "",
       "version_major": 2,
       "version_minor": 0
      },
      "text/plain": [
       "Validation: 0it [00:00, ?it/s]"
      ]
     },
     "metadata": {},
     "output_type": "display_data"
    },
    {
     "name": "stdout",
     "output_type": "stream",
     "text": [
      "Adjusting learning rate of group 0 to 3.4525e-05.\n",
      "Adjusting learning rate of group 0 to 3.4815e-05.\n",
      "Adjusting learning rate of group 0 to 3.5103e-05.\n",
      "Adjusting learning rate of group 0 to 3.5389e-05.\n",
      "Adjusting learning rate of group 0 to 3.5673e-05.\n"
     ]
    },
    {
     "data": {
      "application/vnd.jupyter.widget-view+json": {
       "model_id": "",
       "version_major": 2,
       "version_minor": 0
      },
      "text/plain": [
       "Validation: 0it [00:00, ?it/s]"
      ]
     },
     "metadata": {},
     "output_type": "display_data"
    },
    {
     "name": "stdout",
     "output_type": "stream",
     "text": [
      "Adjusting learning rate of group 0 to 3.5956e-05.\n",
      "Adjusting learning rate of group 0 to 3.6237e-05.\n",
      "Adjusting learning rate of group 0 to 3.6517e-05.\n",
      "Adjusting learning rate of group 0 to 3.6794e-05.\n",
      "Adjusting learning rate of group 0 to 3.7070e-05.\n"
     ]
    },
    {
     "data": {
      "application/vnd.jupyter.widget-view+json": {
       "model_id": "",
       "version_major": 2,
       "version_minor": 0
      },
      "text/plain": [
       "Validation: 0it [00:00, ?it/s]"
      ]
     },
     "metadata": {},
     "output_type": "display_data"
    },
    {
     "name": "stdout",
     "output_type": "stream",
     "text": [
      "Adjusting learning rate of group 0 to 3.7344e-05.\n",
      "Adjusting learning rate of group 0 to 3.7615e-05.\n",
      "Adjusting learning rate of group 0 to 3.7885e-05.\n",
      "Adjusting learning rate of group 0 to 3.8153e-05.\n",
      "Adjusting learning rate of group 0 to 3.8419e-05.\n"
     ]
    },
    {
     "data": {
      "application/vnd.jupyter.widget-view+json": {
       "model_id": "",
       "version_major": 2,
       "version_minor": 0
      },
      "text/plain": [
       "Validation: 0it [00:00, ?it/s]"
      ]
     },
     "metadata": {},
     "output_type": "display_data"
    },
    {
     "name": "stdout",
     "output_type": "stream",
     "text": [
      "Adjusting learning rate of group 0 to 3.8683e-05.\n",
      "Adjusting learning rate of group 0 to 3.8944e-05.\n",
      "Adjusting learning rate of group 0 to 3.9203e-05.\n",
      "Adjusting learning rate of group 0 to 3.9460e-05.\n",
      "Adjusting learning rate of group 0 to 3.9715e-05.\n"
     ]
    },
    {
     "data": {
      "application/vnd.jupyter.widget-view+json": {
       "model_id": "",
       "version_major": 2,
       "version_minor": 0
      },
      "text/plain": [
       "Validation: 0it [00:00, ?it/s]"
      ]
     },
     "metadata": {},
     "output_type": "display_data"
    },
    {
     "name": "stdout",
     "output_type": "stream",
     "text": [
      "Adjusting learning rate of group 0 to 3.9968e-05.\n",
      "Adjusting learning rate of group 0 to 4.0218e-05.\n",
      "Adjusting learning rate of group 0 to 4.0466e-05.\n",
      "Adjusting learning rate of group 0 to 4.0711e-05.\n",
      "Adjusting learning rate of group 0 to 4.0954e-05.\n"
     ]
    },
    {
     "data": {
      "application/vnd.jupyter.widget-view+json": {
       "model_id": "",
       "version_major": 2,
       "version_minor": 0
      },
      "text/plain": [
       "Validation: 0it [00:00, ?it/s]"
      ]
     },
     "metadata": {},
     "output_type": "display_data"
    },
    {
     "name": "stdout",
     "output_type": "stream",
     "text": [
      "Adjusting learning rate of group 0 to 4.1194e-05.\n",
      "Adjusting learning rate of group 0 to 4.1432e-05.\n",
      "Adjusting learning rate of group 0 to 4.1667e-05.\n",
      "Adjusting learning rate of group 0 to 4.1900e-05.\n",
      "Adjusting learning rate of group 0 to 4.2129e-05.\n"
     ]
    },
    {
     "data": {
      "application/vnd.jupyter.widget-view+json": {
       "model_id": "",
       "version_major": 2,
       "version_minor": 0
      },
      "text/plain": [
       "Validation: 0it [00:00, ?it/s]"
      ]
     },
     "metadata": {},
     "output_type": "display_data"
    },
    {
     "name": "stdout",
     "output_type": "stream",
     "text": [
      "Adjusting learning rate of group 0 to 4.2357e-05.\n",
      "Adjusting learning rate of group 0 to 4.2581e-05.\n",
      "Adjusting learning rate of group 0 to 4.2803e-05.\n",
      "Adjusting learning rate of group 0 to 4.3022e-05.\n",
      "Adjusting learning rate of group 0 to 4.3238e-05.\n"
     ]
    },
    {
     "data": {
      "application/vnd.jupyter.widget-view+json": {
       "model_id": "",
       "version_major": 2,
       "version_minor": 0
      },
      "text/plain": [
       "Validation: 0it [00:00, ?it/s]"
      ]
     },
     "metadata": {},
     "output_type": "display_data"
    },
    {
     "name": "stdout",
     "output_type": "stream",
     "text": [
      "Adjusting learning rate of group 0 to 4.3451e-05.\n",
      "Adjusting learning rate of group 0 to 4.3661e-05.\n",
      "Adjusting learning rate of group 0 to 4.3869e-05.\n",
      "Adjusting learning rate of group 0 to 4.4073e-05.\n",
      "Adjusting learning rate of group 0 to 4.4274e-05.\n"
     ]
    },
    {
     "data": {
      "application/vnd.jupyter.widget-view+json": {
       "model_id": "",
       "version_major": 2,
       "version_minor": 0
      },
      "text/plain": [
       "Validation: 0it [00:00, ?it/s]"
      ]
     },
     "metadata": {},
     "output_type": "display_data"
    },
    {
     "name": "stdout",
     "output_type": "stream",
     "text": [
      "Adjusting learning rate of group 0 to 4.4473e-05.\n",
      "Adjusting learning rate of group 0 to 4.4668e-05.\n",
      "Adjusting learning rate of group 0 to 4.4860e-05.\n",
      "Adjusting learning rate of group 0 to 4.5049e-05.\n",
      "Adjusting learning rate of group 0 to 4.5235e-05.\n"
     ]
    },
    {
     "data": {
      "application/vnd.jupyter.widget-view+json": {
       "model_id": "",
       "version_major": 2,
       "version_minor": 0
      },
      "text/plain": [
       "Validation: 0it [00:00, ?it/s]"
      ]
     },
     "metadata": {},
     "output_type": "display_data"
    },
    {
     "name": "stdout",
     "output_type": "stream",
     "text": [
      "Adjusting learning rate of group 0 to 4.5418e-05.\n",
      "Adjusting learning rate of group 0 to 4.5597e-05.\n",
      "Adjusting learning rate of group 0 to 4.5773e-05.\n",
      "Adjusting learning rate of group 0 to 4.5946e-05.\n",
      "Adjusting learning rate of group 0 to 4.6116e-05.\n"
     ]
    },
    {
     "data": {
      "application/vnd.jupyter.widget-view+json": {
       "model_id": "",
       "version_major": 2,
       "version_minor": 0
      },
      "text/plain": [
       "Validation: 0it [00:00, ?it/s]"
      ]
     },
     "metadata": {},
     "output_type": "display_data"
    },
    {
     "name": "stdout",
     "output_type": "stream",
     "text": [
      "Adjusting learning rate of group 0 to 4.6282e-05.\n",
      "Adjusting learning rate of group 0 to 4.6445e-05.\n",
      "Adjusting learning rate of group 0 to 4.6605e-05.\n",
      "Adjusting learning rate of group 0 to 4.6761e-05.\n",
      "Adjusting learning rate of group 0 to 4.6914e-05.\n"
     ]
    },
    {
     "data": {
      "application/vnd.jupyter.widget-view+json": {
       "model_id": "",
       "version_major": 2,
       "version_minor": 0
      },
      "text/plain": [
       "Validation: 0it [00:00, ?it/s]"
      ]
     },
     "metadata": {},
     "output_type": "display_data"
    },
    {
     "name": "stdout",
     "output_type": "stream",
     "text": [
      "Adjusting learning rate of group 0 to 4.7063e-05.\n",
      "Adjusting learning rate of group 0 to 4.7209e-05.\n",
      "Adjusting learning rate of group 0 to 4.7351e-05.\n",
      "Adjusting learning rate of group 0 to 4.7490e-05.\n",
      "Adjusting learning rate of group 0 to 4.7625e-05.\n"
     ]
    },
    {
     "data": {
      "application/vnd.jupyter.widget-view+json": {
       "model_id": "",
       "version_major": 2,
       "version_minor": 0
      },
      "text/plain": [
       "Validation: 0it [00:00, ?it/s]"
      ]
     },
     "metadata": {},
     "output_type": "display_data"
    },
    {
     "name": "stdout",
     "output_type": "stream",
     "text": [
      "Adjusting learning rate of group 0 to 4.7757e-05.\n",
      "Adjusting learning rate of group 0 to 4.7885e-05.\n",
      "Adjusting learning rate of group 0 to 4.8010e-05.\n",
      "Adjusting learning rate of group 0 to 4.8131e-05.\n",
      "Adjusting learning rate of group 0 to 4.8248e-05.\n"
     ]
    },
    {
     "data": {
      "application/vnd.jupyter.widget-view+json": {
       "model_id": "",
       "version_major": 2,
       "version_minor": 0
      },
      "text/plain": [
       "Validation: 0it [00:00, ?it/s]"
      ]
     },
     "metadata": {},
     "output_type": "display_data"
    },
    {
     "name": "stdout",
     "output_type": "stream",
     "text": [
      "Adjusting learning rate of group 0 to 4.8362e-05.\n",
      "Adjusting learning rate of group 0 to 4.8471e-05.\n",
      "Adjusting learning rate of group 0 to 4.8578e-05.\n",
      "Adjusting learning rate of group 0 to 4.8680e-05.\n",
      "Adjusting learning rate of group 0 to 4.8779e-05.\n"
     ]
    },
    {
     "data": {
      "application/vnd.jupyter.widget-view+json": {
       "model_id": "",
       "version_major": 2,
       "version_minor": 0
      },
      "text/plain": [
       "Validation: 0it [00:00, ?it/s]"
      ]
     },
     "metadata": {},
     "output_type": "display_data"
    },
    {
     "name": "stdout",
     "output_type": "stream",
     "text": [
      "Adjusting learning rate of group 0 to 4.8874e-05.\n",
      "Adjusting learning rate of group 0 to 4.8965e-05.\n",
      "Adjusting learning rate of group 0 to 4.9053e-05.\n",
      "Adjusting learning rate of group 0 to 4.9136e-05.\n",
      "Adjusting learning rate of group 0 to 4.9216e-05.\n"
     ]
    },
    {
     "data": {
      "application/vnd.jupyter.widget-view+json": {
       "model_id": "",
       "version_major": 2,
       "version_minor": 0
      },
      "text/plain": [
       "Validation: 0it [00:00, ?it/s]"
      ]
     },
     "metadata": {},
     "output_type": "display_data"
    },
    {
     "name": "stdout",
     "output_type": "stream",
     "text": [
      "Adjusting learning rate of group 0 to 4.9292e-05.\n",
      "Adjusting learning rate of group 0 to 4.9364e-05.\n",
      "Adjusting learning rate of group 0 to 4.9433e-05.\n",
      "Adjusting learning rate of group 0 to 4.9497e-05.\n",
      "Adjusting learning rate of group 0 to 4.9558e-05.\n"
     ]
    },
    {
     "data": {
      "application/vnd.jupyter.widget-view+json": {
       "model_id": "",
       "version_major": 2,
       "version_minor": 0
      },
      "text/plain": [
       "Validation: 0it [00:00, ?it/s]"
      ]
     },
     "metadata": {},
     "output_type": "display_data"
    },
    {
     "name": "stdout",
     "output_type": "stream",
     "text": [
      "Adjusting learning rate of group 0 to 4.9615e-05.\n",
      "Adjusting learning rate of group 0 to 4.9668e-05.\n",
      "Adjusting learning rate of group 0 to 4.9717e-05.\n",
      "Adjusting learning rate of group 0 to 4.9762e-05.\n",
      "Adjusting learning rate of group 0 to 4.9803e-05.\n"
     ]
    },
    {
     "data": {
      "application/vnd.jupyter.widget-view+json": {
       "model_id": "",
       "version_major": 2,
       "version_minor": 0
      },
      "text/plain": [
       "Validation: 0it [00:00, ?it/s]"
      ]
     },
     "metadata": {},
     "output_type": "display_data"
    },
    {
     "name": "stdout",
     "output_type": "stream",
     "text": [
      "Adjusting learning rate of group 0 to 4.9841e-05.\n",
      "Adjusting learning rate of group 0 to 4.9874e-05.\n",
      "Adjusting learning rate of group 0 to 4.9904e-05.\n",
      "Adjusting learning rate of group 0 to 4.9929e-05.\n",
      "Adjusting learning rate of group 0 to 4.9951e-05.\n"
     ]
    },
    {
     "data": {
      "application/vnd.jupyter.widget-view+json": {
       "model_id": "",
       "version_major": 2,
       "version_minor": 0
      },
      "text/plain": [
       "Validation: 0it [00:00, ?it/s]"
      ]
     },
     "metadata": {},
     "output_type": "display_data"
    },
    {
     "name": "stdout",
     "output_type": "stream",
     "text": [
      "Adjusting learning rate of group 0 to 4.9968e-05.\n",
      "Adjusting learning rate of group 0 to 4.9982e-05.\n",
      "Adjusting learning rate of group 0 to 4.9992e-05.\n",
      "Adjusting learning rate of group 0 to 4.9998e-05.\n",
      "Adjusting learning rate of group 0 to 5.0000e-05.\n"
     ]
    },
    {
     "data": {
      "application/vnd.jupyter.widget-view+json": {
       "model_id": "",
       "version_major": 2,
       "version_minor": 0
      },
      "text/plain": [
       "Validation: 0it [00:00, ?it/s]"
      ]
     },
     "metadata": {},
     "output_type": "display_data"
    },
    {
     "name": "stdout",
     "output_type": "stream",
     "text": [
      "Adjusting learning rate of group 0 to 4.9998e-05.\n",
      "Adjusting learning rate of group 0 to 4.9992e-05.\n",
      "Adjusting learning rate of group 0 to 4.9982e-05.\n",
      "Adjusting learning rate of group 0 to 4.9968e-05.\n",
      "Adjusting learning rate of group 0 to 4.9951e-05.\n"
     ]
    },
    {
     "data": {
      "application/vnd.jupyter.widget-view+json": {
       "model_id": "",
       "version_major": 2,
       "version_minor": 0
      },
      "text/plain": [
       "Validation: 0it [00:00, ?it/s]"
      ]
     },
     "metadata": {},
     "output_type": "display_data"
    },
    {
     "name": "stdout",
     "output_type": "stream",
     "text": [
      "Adjusting learning rate of group 0 to 4.9929e-05.\n",
      "Adjusting learning rate of group 0 to 4.9904e-05.\n",
      "Adjusting learning rate of group 0 to 4.9874e-05.\n",
      "Adjusting learning rate of group 0 to 4.9841e-05.\n",
      "Adjusting learning rate of group 0 to 4.9803e-05.\n"
     ]
    },
    {
     "data": {
      "application/vnd.jupyter.widget-view+json": {
       "model_id": "",
       "version_major": 2,
       "version_minor": 0
      },
      "text/plain": [
       "Validation: 0it [00:00, ?it/s]"
      ]
     },
     "metadata": {},
     "output_type": "display_data"
    },
    {
     "name": "stdout",
     "output_type": "stream",
     "text": [
      "Adjusting learning rate of group 0 to 4.9762e-05.\n",
      "Adjusting learning rate of group 0 to 4.9717e-05.\n",
      "Adjusting learning rate of group 0 to 4.9668e-05.\n",
      "Adjusting learning rate of group 0 to 4.9615e-05.\n",
      "Adjusting learning rate of group 0 to 4.9558e-05.\n"
     ]
    },
    {
     "data": {
      "application/vnd.jupyter.widget-view+json": {
       "model_id": "",
       "version_major": 2,
       "version_minor": 0
      },
      "text/plain": [
       "Validation: 0it [00:00, ?it/s]"
      ]
     },
     "metadata": {},
     "output_type": "display_data"
    },
    {
     "name": "stdout",
     "output_type": "stream",
     "text": [
      "Adjusting learning rate of group 0 to 4.9497e-05.\n",
      "Adjusting learning rate of group 0 to 4.9433e-05.\n",
      "Adjusting learning rate of group 0 to 4.9364e-05.\n",
      "Adjusting learning rate of group 0 to 4.9292e-05.\n",
      "Adjusting learning rate of group 0 to 4.9216e-05.\n"
     ]
    },
    {
     "data": {
      "application/vnd.jupyter.widget-view+json": {
       "model_id": "",
       "version_major": 2,
       "version_minor": 0
      },
      "text/plain": [
       "Validation: 0it [00:00, ?it/s]"
      ]
     },
     "metadata": {},
     "output_type": "display_data"
    },
    {
     "name": "stdout",
     "output_type": "stream",
     "text": [
      "Adjusting learning rate of group 0 to 4.9136e-05.\n",
      "Adjusting learning rate of group 0 to 4.9053e-05.\n",
      "Adjusting learning rate of group 0 to 4.8965e-05.\n",
      "Adjusting learning rate of group 0 to 4.8874e-05.\n",
      "Adjusting learning rate of group 0 to 4.8779e-05.\n"
     ]
    },
    {
     "data": {
      "application/vnd.jupyter.widget-view+json": {
       "model_id": "",
       "version_major": 2,
       "version_minor": 0
      },
      "text/plain": [
       "Validation: 0it [00:00, ?it/s]"
      ]
     },
     "metadata": {},
     "output_type": "display_data"
    },
    {
     "name": "stdout",
     "output_type": "stream",
     "text": [
      "Adjusting learning rate of group 0 to 4.8680e-05.\n",
      "Adjusting learning rate of group 0 to 4.8578e-05.\n",
      "Adjusting learning rate of group 0 to 4.8471e-05.\n",
      "Adjusting learning rate of group 0 to 4.8362e-05.\n",
      "Adjusting learning rate of group 0 to 4.8248e-05.\n"
     ]
    },
    {
     "data": {
      "application/vnd.jupyter.widget-view+json": {
       "model_id": "",
       "version_major": 2,
       "version_minor": 0
      },
      "text/plain": [
       "Validation: 0it [00:00, ?it/s]"
      ]
     },
     "metadata": {},
     "output_type": "display_data"
    },
    {
     "name": "stdout",
     "output_type": "stream",
     "text": [
      "Adjusting learning rate of group 0 to 4.8131e-05.\n",
      "Adjusting learning rate of group 0 to 4.8010e-05.\n",
      "Adjusting learning rate of group 0 to 4.7885e-05.\n",
      "Adjusting learning rate of group 0 to 4.7757e-05.\n",
      "Adjusting learning rate of group 0 to 4.7625e-05.\n"
     ]
    },
    {
     "data": {
      "application/vnd.jupyter.widget-view+json": {
       "model_id": "",
       "version_major": 2,
       "version_minor": 0
      },
      "text/plain": [
       "Validation: 0it [00:00, ?it/s]"
      ]
     },
     "metadata": {},
     "output_type": "display_data"
    },
    {
     "name": "stdout",
     "output_type": "stream",
     "text": [
      "Adjusting learning rate of group 0 to 4.7490e-05.\n",
      "Adjusting learning rate of group 0 to 4.7351e-05.\n",
      "Adjusting learning rate of group 0 to 4.7209e-05.\n",
      "Adjusting learning rate of group 0 to 4.7063e-05.\n",
      "Adjusting learning rate of group 0 to 4.6914e-05.\n"
     ]
    },
    {
     "data": {
      "application/vnd.jupyter.widget-view+json": {
       "model_id": "",
       "version_major": 2,
       "version_minor": 0
      },
      "text/plain": [
       "Validation: 0it [00:00, ?it/s]"
      ]
     },
     "metadata": {},
     "output_type": "display_data"
    },
    {
     "name": "stdout",
     "output_type": "stream",
     "text": [
      "Adjusting learning rate of group 0 to 4.6761e-05.\n",
      "Adjusting learning rate of group 0 to 4.6605e-05.\n",
      "Adjusting learning rate of group 0 to 4.6445e-05.\n",
      "Adjusting learning rate of group 0 to 4.6282e-05.\n",
      "Adjusting learning rate of group 0 to 4.6116e-05.\n"
     ]
    },
    {
     "data": {
      "application/vnd.jupyter.widget-view+json": {
       "model_id": "",
       "version_major": 2,
       "version_minor": 0
      },
      "text/plain": [
       "Validation: 0it [00:00, ?it/s]"
      ]
     },
     "metadata": {},
     "output_type": "display_data"
    },
    {
     "name": "stdout",
     "output_type": "stream",
     "text": [
      "Adjusting learning rate of group 0 to 4.5946e-05.\n",
      "Adjusting learning rate of group 0 to 4.5773e-05.\n",
      "Adjusting learning rate of group 0 to 4.5597e-05.\n",
      "Adjusting learning rate of group 0 to 4.5418e-05.\n",
      "Adjusting learning rate of group 0 to 4.5235e-05.\n"
     ]
    },
    {
     "data": {
      "application/vnd.jupyter.widget-view+json": {
       "model_id": "",
       "version_major": 2,
       "version_minor": 0
      },
      "text/plain": [
       "Validation: 0it [00:00, ?it/s]"
      ]
     },
     "metadata": {},
     "output_type": "display_data"
    },
    {
     "name": "stdout",
     "output_type": "stream",
     "text": [
      "Adjusting learning rate of group 0 to 4.5049e-05.\n",
      "Adjusting learning rate of group 0 to 4.4860e-05.\n",
      "Adjusting learning rate of group 0 to 4.4668e-05.\n",
      "Adjusting learning rate of group 0 to 4.4473e-05.\n",
      "Adjusting learning rate of group 0 to 4.4274e-05.\n"
     ]
    },
    {
     "data": {
      "application/vnd.jupyter.widget-view+json": {
       "model_id": "",
       "version_major": 2,
       "version_minor": 0
      },
      "text/plain": [
       "Validation: 0it [00:00, ?it/s]"
      ]
     },
     "metadata": {},
     "output_type": "display_data"
    },
    {
     "name": "stdout",
     "output_type": "stream",
     "text": [
      "Adjusting learning rate of group 0 to 4.4073e-05.\n",
      "Adjusting learning rate of group 0 to 4.3869e-05.\n",
      "Adjusting learning rate of group 0 to 4.3661e-05.\n",
      "Adjusting learning rate of group 0 to 4.3451e-05.\n",
      "Adjusting learning rate of group 0 to 4.3238e-05.\n"
     ]
    },
    {
     "data": {
      "application/vnd.jupyter.widget-view+json": {
       "model_id": "",
       "version_major": 2,
       "version_minor": 0
      },
      "text/plain": [
       "Validation: 0it [00:00, ?it/s]"
      ]
     },
     "metadata": {},
     "output_type": "display_data"
    },
    {
     "name": "stdout",
     "output_type": "stream",
     "text": [
      "Adjusting learning rate of group 0 to 4.3022e-05.\n",
      "Adjusting learning rate of group 0 to 4.2803e-05.\n",
      "Adjusting learning rate of group 0 to 4.2581e-05.\n",
      "Adjusting learning rate of group 0 to 4.2357e-05.\n",
      "Adjusting learning rate of group 0 to 4.2129e-05.\n"
     ]
    },
    {
     "data": {
      "application/vnd.jupyter.widget-view+json": {
       "model_id": "",
       "version_major": 2,
       "version_minor": 0
      },
      "text/plain": [
       "Validation: 0it [00:00, ?it/s]"
      ]
     },
     "metadata": {},
     "output_type": "display_data"
    },
    {
     "name": "stdout",
     "output_type": "stream",
     "text": [
      "Adjusting learning rate of group 0 to 4.1900e-05.\n",
      "Adjusting learning rate of group 0 to 4.1667e-05.\n",
      "Adjusting learning rate of group 0 to 4.1432e-05.\n",
      "Adjusting learning rate of group 0 to 4.1194e-05.\n",
      "Adjusting learning rate of group 0 to 4.0954e-05.\n"
     ]
    },
    {
     "data": {
      "application/vnd.jupyter.widget-view+json": {
       "model_id": "",
       "version_major": 2,
       "version_minor": 0
      },
      "text/plain": [
       "Validation: 0it [00:00, ?it/s]"
      ]
     },
     "metadata": {},
     "output_type": "display_data"
    },
    {
     "name": "stdout",
     "output_type": "stream",
     "text": [
      "Adjusting learning rate of group 0 to 4.0711e-05.\n",
      "Adjusting learning rate of group 0 to 4.0466e-05.\n",
      "Adjusting learning rate of group 0 to 4.0218e-05.\n",
      "Adjusting learning rate of group 0 to 3.9968e-05.\n",
      "Adjusting learning rate of group 0 to 3.9715e-05.\n"
     ]
    },
    {
     "data": {
      "application/vnd.jupyter.widget-view+json": {
       "model_id": "",
       "version_major": 2,
       "version_minor": 0
      },
      "text/plain": [
       "Validation: 0it [00:00, ?it/s]"
      ]
     },
     "metadata": {},
     "output_type": "display_data"
    },
    {
     "name": "stdout",
     "output_type": "stream",
     "text": [
      "Adjusting learning rate of group 0 to 3.9460e-05.\n",
      "Adjusting learning rate of group 0 to 3.9203e-05.\n",
      "Adjusting learning rate of group 0 to 3.8944e-05.\n",
      "Adjusting learning rate of group 0 to 3.8683e-05.\n",
      "Adjusting learning rate of group 0 to 3.8419e-05.\n"
     ]
    },
    {
     "data": {
      "application/vnd.jupyter.widget-view+json": {
       "model_id": "",
       "version_major": 2,
       "version_minor": 0
      },
      "text/plain": [
       "Validation: 0it [00:00, ?it/s]"
      ]
     },
     "metadata": {},
     "output_type": "display_data"
    },
    {
     "name": "stdout",
     "output_type": "stream",
     "text": [
      "Adjusting learning rate of group 0 to 3.8153e-05.\n",
      "Adjusting learning rate of group 0 to 3.7885e-05.\n",
      "Adjusting learning rate of group 0 to 3.7615e-05.\n",
      "Adjusting learning rate of group 0 to 3.7344e-05.\n",
      "Adjusting learning rate of group 0 to 3.7070e-05.\n"
     ]
    },
    {
     "data": {
      "application/vnd.jupyter.widget-view+json": {
       "model_id": "",
       "version_major": 2,
       "version_minor": 0
      },
      "text/plain": [
       "Validation: 0it [00:00, ?it/s]"
      ]
     },
     "metadata": {},
     "output_type": "display_data"
    },
    {
     "name": "stdout",
     "output_type": "stream",
     "text": [
      "Adjusting learning rate of group 0 to 3.6794e-05.\n",
      "Adjusting learning rate of group 0 to 3.6517e-05.\n",
      "Adjusting learning rate of group 0 to 3.6237e-05.\n",
      "Adjusting learning rate of group 0 to 3.5956e-05.\n",
      "Adjusting learning rate of group 0 to 3.5673e-05.\n"
     ]
    },
    {
     "data": {
      "application/vnd.jupyter.widget-view+json": {
       "model_id": "",
       "version_major": 2,
       "version_minor": 0
      },
      "text/plain": [
       "Validation: 0it [00:00, ?it/s]"
      ]
     },
     "metadata": {},
     "output_type": "display_data"
    },
    {
     "name": "stdout",
     "output_type": "stream",
     "text": [
      "Adjusting learning rate of group 0 to 3.5389e-05.\n",
      "Adjusting learning rate of group 0 to 3.5103e-05.\n",
      "Adjusting learning rate of group 0 to 3.4815e-05.\n",
      "Adjusting learning rate of group 0 to 3.4525e-05.\n",
      "Adjusting learning rate of group 0 to 3.4235e-05.\n"
     ]
    },
    {
     "data": {
      "application/vnd.jupyter.widget-view+json": {
       "model_id": "",
       "version_major": 2,
       "version_minor": 0
      },
      "text/plain": [
       "Validation: 0it [00:00, ?it/s]"
      ]
     },
     "metadata": {},
     "output_type": "display_data"
    },
    {
     "name": "stdout",
     "output_type": "stream",
     "text": [
      "Adjusting learning rate of group 0 to 3.3942e-05.\n",
      "Adjusting learning rate of group 0 to 3.3649e-05.\n",
      "Adjusting learning rate of group 0 to 3.3354e-05.\n",
      "Adjusting learning rate of group 0 to 3.3058e-05.\n",
      "Adjusting learning rate of group 0 to 3.2760e-05.\n"
     ]
    },
    {
     "data": {
      "application/vnd.jupyter.widget-view+json": {
       "model_id": "",
       "version_major": 2,
       "version_minor": 0
      },
      "text/plain": [
       "Validation: 0it [00:00, ?it/s]"
      ]
     },
     "metadata": {},
     "output_type": "display_data"
    },
    {
     "name": "stdout",
     "output_type": "stream",
     "text": [
      "Adjusting learning rate of group 0 to 3.2461e-05.\n",
      "Adjusting learning rate of group 0 to 3.2161e-05.\n",
      "Adjusting learning rate of group 0 to 3.1860e-05.\n",
      "Adjusting learning rate of group 0 to 3.1558e-05.\n",
      "Adjusting learning rate of group 0 to 3.1255e-05.\n"
     ]
    },
    {
     "data": {
      "application/vnd.jupyter.widget-view+json": {
       "model_id": "",
       "version_major": 2,
       "version_minor": 0
      },
      "text/plain": [
       "Validation: 0it [00:00, ?it/s]"
      ]
     },
     "metadata": {},
     "output_type": "display_data"
    },
    {
     "name": "stdout",
     "output_type": "stream",
     "text": [
      "Adjusting learning rate of group 0 to 3.0951e-05.\n",
      "Adjusting learning rate of group 0 to 3.0646e-05.\n",
      "Adjusting learning rate of group 0 to 3.0340e-05.\n",
      "Adjusting learning rate of group 0 to 3.0033e-05.\n",
      "Adjusting learning rate of group 0 to 2.9725e-05.\n"
     ]
    },
    {
     "data": {
      "application/vnd.jupyter.widget-view+json": {
       "model_id": "",
       "version_major": 2,
       "version_minor": 0
      },
      "text/plain": [
       "Validation: 0it [00:00, ?it/s]"
      ]
     },
     "metadata": {},
     "output_type": "display_data"
    },
    {
     "name": "stdout",
     "output_type": "stream",
     "text": [
      "Adjusting learning rate of group 0 to 2.9417e-05.\n",
      "Adjusting learning rate of group 0 to 2.9108e-05.\n",
      "Adjusting learning rate of group 0 to 2.8798e-05.\n",
      "Adjusting learning rate of group 0 to 2.8488e-05.\n",
      "Adjusting learning rate of group 0 to 2.8177e-05.\n"
     ]
    },
    {
     "data": {
      "application/vnd.jupyter.widget-view+json": {
       "model_id": "",
       "version_major": 2,
       "version_minor": 0
      },
      "text/plain": [
       "Validation: 0it [00:00, ?it/s]"
      ]
     },
     "metadata": {},
     "output_type": "display_data"
    },
    {
     "name": "stdout",
     "output_type": "stream",
     "text": [
      "Adjusting learning rate of group 0 to 2.7866e-05.\n",
      "Adjusting learning rate of group 0 to 2.7554e-05.\n",
      "Adjusting learning rate of group 0 to 2.7242e-05.\n",
      "Adjusting learning rate of group 0 to 2.6929e-05.\n",
      "Adjusting learning rate of group 0 to 2.6617e-05.\n"
     ]
    },
    {
     "data": {
      "application/vnd.jupyter.widget-view+json": {
       "model_id": "",
       "version_major": 2,
       "version_minor": 0
      },
      "text/plain": [
       "Validation: 0it [00:00, ?it/s]"
      ]
     },
     "metadata": {},
     "output_type": "display_data"
    },
    {
     "name": "stdout",
     "output_type": "stream",
     "text": [
      "Adjusting learning rate of group 0 to 2.6304e-05.\n",
      "Adjusting learning rate of group 0 to 2.5990e-05.\n",
      "Adjusting learning rate of group 0 to 2.5677e-05.\n",
      "Adjusting learning rate of group 0 to 2.5364e-05.\n",
      "Adjusting learning rate of group 0 to 2.5050e-05.\n"
     ]
    },
    {
     "data": {
      "application/vnd.jupyter.widget-view+json": {
       "model_id": "",
       "version_major": 2,
       "version_minor": 0
      },
      "text/plain": [
       "Validation: 0it [00:00, ?it/s]"
      ]
     },
     "metadata": {},
     "output_type": "display_data"
    },
    {
     "name": "stdout",
     "output_type": "stream",
     "text": [
      "Adjusting learning rate of group 0 to 2.4736e-05.\n",
      "Adjusting learning rate of group 0 to 2.4423e-05.\n",
      "Adjusting learning rate of group 0 to 2.4110e-05.\n",
      "Adjusting learning rate of group 0 to 2.3796e-05.\n",
      "Adjusting learning rate of group 0 to 2.3483e-05.\n"
     ]
    },
    {
     "data": {
      "application/vnd.jupyter.widget-view+json": {
       "model_id": "",
       "version_major": 2,
       "version_minor": 0
      },
      "text/plain": [
       "Validation: 0it [00:00, ?it/s]"
      ]
     },
     "metadata": {},
     "output_type": "display_data"
    },
    {
     "name": "stdout",
     "output_type": "stream",
     "text": [
      "Adjusting learning rate of group 0 to 2.3171e-05.\n",
      "Adjusting learning rate of group 0 to 2.2858e-05.\n",
      "Adjusting learning rate of group 0 to 2.2546e-05.\n",
      "Adjusting learning rate of group 0 to 2.2234e-05.\n",
      "Adjusting learning rate of group 0 to 2.1923e-05.\n"
     ]
    },
    {
     "data": {
      "application/vnd.jupyter.widget-view+json": {
       "model_id": "",
       "version_major": 2,
       "version_minor": 0
      },
      "text/plain": [
       "Validation: 0it [00:00, ?it/s]"
      ]
     },
     "metadata": {},
     "output_type": "display_data"
    },
    {
     "name": "stdout",
     "output_type": "stream",
     "text": [
      "Adjusting learning rate of group 0 to 2.1612e-05.\n",
      "Adjusting learning rate of group 0 to 2.1302e-05.\n",
      "Adjusting learning rate of group 0 to 2.0992e-05.\n",
      "Adjusting learning rate of group 0 to 2.0683e-05.\n",
      "Adjusting learning rate of group 0 to 2.0375e-05.\n"
     ]
    },
    {
     "data": {
      "application/vnd.jupyter.widget-view+json": {
       "model_id": "",
       "version_major": 2,
       "version_minor": 0
      },
      "text/plain": [
       "Validation: 0it [00:00, ?it/s]"
      ]
     },
     "metadata": {},
     "output_type": "display_data"
    },
    {
     "name": "stdout",
     "output_type": "stream",
     "text": [
      "Adjusting learning rate of group 0 to 2.0067e-05.\n",
      "Adjusting learning rate of group 0 to 1.9760e-05.\n",
      "Adjusting learning rate of group 0 to 1.9454e-05.\n",
      "Adjusting learning rate of group 0 to 1.9149e-05.\n",
      "Adjusting learning rate of group 0 to 1.8845e-05.\n"
     ]
    },
    {
     "data": {
      "application/vnd.jupyter.widget-view+json": {
       "model_id": "",
       "version_major": 2,
       "version_minor": 0
      },
      "text/plain": [
       "Validation: 0it [00:00, ?it/s]"
      ]
     },
     "metadata": {},
     "output_type": "display_data"
    },
    {
     "name": "stdout",
     "output_type": "stream",
     "text": [
      "Adjusting learning rate of group 0 to 1.8542e-05.\n",
      "Adjusting learning rate of group 0 to 1.8240e-05.\n",
      "Adjusting learning rate of group 0 to 1.7939e-05.\n",
      "Adjusting learning rate of group 0 to 1.7639e-05.\n",
      "Adjusting learning rate of group 0 to 1.7340e-05.\n"
     ]
    },
    {
     "data": {
      "application/vnd.jupyter.widget-view+json": {
       "model_id": "",
       "version_major": 2,
       "version_minor": 0
      },
      "text/plain": [
       "Validation: 0it [00:00, ?it/s]"
      ]
     },
     "metadata": {},
     "output_type": "display_data"
    },
    {
     "name": "stdout",
     "output_type": "stream",
     "text": [
      "Adjusting learning rate of group 0 to 1.7042e-05.\n",
      "Adjusting learning rate of group 0 to 1.6746e-05.\n",
      "Adjusting learning rate of group 0 to 1.6451e-05.\n",
      "Adjusting learning rate of group 0 to 1.6158e-05.\n",
      "Adjusting learning rate of group 0 to 1.5865e-05.\n"
     ]
    },
    {
     "data": {
      "application/vnd.jupyter.widget-view+json": {
       "model_id": "",
       "version_major": 2,
       "version_minor": 0
      },
      "text/plain": [
       "Validation: 0it [00:00, ?it/s]"
      ]
     },
     "metadata": {},
     "output_type": "display_data"
    },
    {
     "name": "stdout",
     "output_type": "stream",
     "text": [
      "Adjusting learning rate of group 0 to 1.5575e-05.\n",
      "Adjusting learning rate of group 0 to 1.5285e-05.\n",
      "Adjusting learning rate of group 0 to 1.4997e-05.\n",
      "Adjusting learning rate of group 0 to 1.4711e-05.\n",
      "Adjusting learning rate of group 0 to 1.4427e-05.\n"
     ]
    },
    {
     "data": {
      "application/vnd.jupyter.widget-view+json": {
       "model_id": "",
       "version_major": 2,
       "version_minor": 0
      },
      "text/plain": [
       "Validation: 0it [00:00, ?it/s]"
      ]
     },
     "metadata": {},
     "output_type": "display_data"
    },
    {
     "name": "stdout",
     "output_type": "stream",
     "text": [
      "Adjusting learning rate of group 0 to 1.4144e-05.\n",
      "Adjusting learning rate of group 0 to 1.3863e-05.\n",
      "Adjusting learning rate of group 0 to 1.3583e-05.\n",
      "Adjusting learning rate of group 0 to 1.3306e-05.\n",
      "Adjusting learning rate of group 0 to 1.3030e-05.\n"
     ]
    },
    {
     "data": {
      "application/vnd.jupyter.widget-view+json": {
       "model_id": "",
       "version_major": 2,
       "version_minor": 0
      },
      "text/plain": [
       "Validation: 0it [00:00, ?it/s]"
      ]
     },
     "metadata": {},
     "output_type": "display_data"
    },
    {
     "name": "stdout",
     "output_type": "stream",
     "text": [
      "Adjusting learning rate of group 0 to 1.2756e-05.\n",
      "Adjusting learning rate of group 0 to 1.2485e-05.\n",
      "Adjusting learning rate of group 0 to 1.2215e-05.\n",
      "Adjusting learning rate of group 0 to 1.1947e-05.\n",
      "Adjusting learning rate of group 0 to 1.1681e-05.\n"
     ]
    },
    {
     "data": {
      "application/vnd.jupyter.widget-view+json": {
       "model_id": "",
       "version_major": 2,
       "version_minor": 0
      },
      "text/plain": [
       "Validation: 0it [00:00, ?it/s]"
      ]
     },
     "metadata": {},
     "output_type": "display_data"
    },
    {
     "name": "stdout",
     "output_type": "stream",
     "text": [
      "Adjusting learning rate of group 0 to 1.1417e-05.\n",
      "Adjusting learning rate of group 0 to 1.1156e-05.\n",
      "Adjusting learning rate of group 0 to 1.0897e-05.\n",
      "Adjusting learning rate of group 0 to 1.0640e-05.\n",
      "Adjusting learning rate of group 0 to 1.0385e-05.\n"
     ]
    },
    {
     "data": {
      "application/vnd.jupyter.widget-view+json": {
       "model_id": "",
       "version_major": 2,
       "version_minor": 0
      },
      "text/plain": [
       "Validation: 0it [00:00, ?it/s]"
      ]
     },
     "metadata": {},
     "output_type": "display_data"
    },
    {
     "name": "stdout",
     "output_type": "stream",
     "text": [
      "Adjusting learning rate of group 0 to 1.0132e-05.\n",
      "Adjusting learning rate of group 0 to 9.8821e-06.\n",
      "Adjusting learning rate of group 0 to 9.6344e-06.\n",
      "Adjusting learning rate of group 0 to 9.3891e-06.\n",
      "Adjusting learning rate of group 0 to 9.1463e-06.\n"
     ]
    },
    {
     "data": {
      "application/vnd.jupyter.widget-view+json": {
       "model_id": "",
       "version_major": 2,
       "version_minor": 0
      },
      "text/plain": [
       "Validation: 0it [00:00, ?it/s]"
      ]
     },
     "metadata": {},
     "output_type": "display_data"
    },
    {
     "name": "stdout",
     "output_type": "stream",
     "text": [
      "Adjusting learning rate of group 0 to 8.9060e-06.\n",
      "Adjusting learning rate of group 0 to 8.6682e-06.\n",
      "Adjusting learning rate of group 0 to 8.4330e-06.\n",
      "Adjusting learning rate of group 0 to 8.2004e-06.\n",
      "Adjusting learning rate of group 0 to 7.9705e-06.\n"
     ]
    },
    {
     "data": {
      "application/vnd.jupyter.widget-view+json": {
       "model_id": "",
       "version_major": 2,
       "version_minor": 0
      },
      "text/plain": [
       "Validation: 0it [00:00, ?it/s]"
      ]
     },
     "metadata": {},
     "output_type": "display_data"
    },
    {
     "name": "stdout",
     "output_type": "stream",
     "text": [
      "Adjusting learning rate of group 0 to 7.7434e-06.\n",
      "Adjusting learning rate of group 0 to 7.5189e-06.\n",
      "Adjusting learning rate of group 0 to 7.2972e-06.\n",
      "Adjusting learning rate of group 0 to 7.0783e-06.\n",
      "Adjusting learning rate of group 0 to 6.8622e-06.\n"
     ]
    },
    {
     "data": {
      "application/vnd.jupyter.widget-view+json": {
       "model_id": "",
       "version_major": 2,
       "version_minor": 0
      },
      "text/plain": [
       "Validation: 0it [00:00, ?it/s]"
      ]
     },
     "metadata": {},
     "output_type": "display_data"
    },
    {
     "name": "stdout",
     "output_type": "stream",
     "text": [
      "Adjusting learning rate of group 0 to 6.6490e-06.\n",
      "Adjusting learning rate of group 0 to 6.4388e-06.\n",
      "Adjusting learning rate of group 0 to 6.2314e-06.\n",
      "Adjusting learning rate of group 0 to 6.0271e-06.\n",
      "Adjusting learning rate of group 0 to 5.8257e-06.\n"
     ]
    },
    {
     "data": {
      "application/vnd.jupyter.widget-view+json": {
       "model_id": "",
       "version_major": 2,
       "version_minor": 0
      },
      "text/plain": [
       "Validation: 0it [00:00, ?it/s]"
      ]
     },
     "metadata": {},
     "output_type": "display_data"
    },
    {
     "name": "stdout",
     "output_type": "stream",
     "text": [
      "Adjusting learning rate of group 0 to 5.6274e-06.\n",
      "Adjusting learning rate of group 0 to 5.4321e-06.\n",
      "Adjusting learning rate of group 0 to 5.2399e-06.\n",
      "Adjusting learning rate of group 0 to 5.0509e-06.\n",
      "Adjusting learning rate of group 0 to 4.8650e-06.\n"
     ]
    },
    {
     "data": {
      "application/vnd.jupyter.widget-view+json": {
       "model_id": "",
       "version_major": 2,
       "version_minor": 0
      },
      "text/plain": [
       "Validation: 0it [00:00, ?it/s]"
      ]
     },
     "metadata": {},
     "output_type": "display_data"
    },
    {
     "name": "stdout",
     "output_type": "stream",
     "text": [
      "Adjusting learning rate of group 0 to 4.6823e-06.\n",
      "Adjusting learning rate of group 0 to 4.5029e-06.\n",
      "Adjusting learning rate of group 0 to 4.3266e-06.\n",
      "Adjusting learning rate of group 0 to 4.1537e-06.\n",
      "Adjusting learning rate of group 0 to 3.9840e-06.\n"
     ]
    },
    {
     "data": {
      "application/vnd.jupyter.widget-view+json": {
       "model_id": "",
       "version_major": 2,
       "version_minor": 0
      },
      "text/plain": [
       "Validation: 0it [00:00, ?it/s]"
      ]
     },
     "metadata": {},
     "output_type": "display_data"
    },
    {
     "name": "stdout",
     "output_type": "stream",
     "text": [
      "Adjusting learning rate of group 0 to 3.8177e-06.\n",
      "Adjusting learning rate of group 0 to 3.6547e-06.\n",
      "Adjusting learning rate of group 0 to 3.4951e-06.\n",
      "Adjusting learning rate of group 0 to 3.3389e-06.\n",
      "Adjusting learning rate of group 0 to 3.1861e-06.\n"
     ]
    },
    {
     "data": {
      "application/vnd.jupyter.widget-view+json": {
       "model_id": "",
       "version_major": 2,
       "version_minor": 0
      },
      "text/plain": [
       "Validation: 0it [00:00, ?it/s]"
      ]
     },
     "metadata": {},
     "output_type": "display_data"
    },
    {
     "name": "stdout",
     "output_type": "stream",
     "text": [
      "Adjusting learning rate of group 0 to 3.0368e-06.\n",
      "Adjusting learning rate of group 0 to 2.8910e-06.\n",
      "Adjusting learning rate of group 0 to 2.7487e-06.\n",
      "Adjusting learning rate of group 0 to 2.6098e-06.\n",
      "Adjusting learning rate of group 0 to 2.4746e-06.\n"
     ]
    },
    {
     "data": {
      "application/vnd.jupyter.widget-view+json": {
       "model_id": "",
       "version_major": 2,
       "version_minor": 0
      },
      "text/plain": [
       "Validation: 0it [00:00, ?it/s]"
      ]
     },
     "metadata": {},
     "output_type": "display_data"
    },
    {
     "name": "stdout",
     "output_type": "stream",
     "text": [
      "Adjusting learning rate of group 0 to 2.3429e-06.\n",
      "Adjusting learning rate of group 0 to 2.2147e-06.\n",
      "Adjusting learning rate of group 0 to 2.0902e-06.\n",
      "Adjusting learning rate of group 0 to 1.9693e-06.\n",
      "Adjusting learning rate of group 0 to 1.8521e-06.\n"
     ]
    },
    {
     "data": {
      "application/vnd.jupyter.widget-view+json": {
       "model_id": "",
       "version_major": 2,
       "version_minor": 0
      },
      "text/plain": [
       "Validation: 0it [00:00, ?it/s]"
      ]
     },
     "metadata": {},
     "output_type": "display_data"
    },
    {
     "name": "stdout",
     "output_type": "stream",
     "text": [
      "Adjusting learning rate of group 0 to 1.7385e-06.\n",
      "Adjusting learning rate of group 0 to 1.6286e-06.\n",
      "Adjusting learning rate of group 0 to 1.5224e-06.\n",
      "Adjusting learning rate of group 0 to 1.4199e-06.\n",
      "Adjusting learning rate of group 0 to 1.3211e-06.\n"
     ]
    },
    {
     "data": {
      "application/vnd.jupyter.widget-view+json": {
       "model_id": "",
       "version_major": 2,
       "version_minor": 0
      },
      "text/plain": [
       "Validation: 0it [00:00, ?it/s]"
      ]
     },
     "metadata": {},
     "output_type": "display_data"
    },
    {
     "name": "stdout",
     "output_type": "stream",
     "text": [
      "Adjusting learning rate of group 0 to 1.2261e-06.\n",
      "Adjusting learning rate of group 0 to 1.1349e-06.\n",
      "Adjusting learning rate of group 0 to 1.0474e-06.\n",
      "Adjusting learning rate of group 0 to 9.6373e-07.\n",
      "Adjusting learning rate of group 0 to 8.8385e-07.\n"
     ]
    },
    {
     "data": {
      "application/vnd.jupyter.widget-view+json": {
       "model_id": "",
       "version_major": 2,
       "version_minor": 0
      },
      "text/plain": [
       "Validation: 0it [00:00, ?it/s]"
      ]
     },
     "metadata": {},
     "output_type": "display_data"
    },
    {
     "name": "stdout",
     "output_type": "stream",
     "text": [
      "Adjusting learning rate of group 0 to 8.0779e-07.\n",
      "Adjusting learning rate of group 0 to 7.3555e-07.\n",
      "Adjusting learning rate of group 0 to 6.6716e-07.\n",
      "Adjusting learning rate of group 0 to 6.0262e-07.\n",
      "Adjusting learning rate of group 0 to 5.4193e-07.\n"
     ]
    },
    {
     "data": {
      "application/vnd.jupyter.widget-view+json": {
       "model_id": "",
       "version_major": 2,
       "version_minor": 0
      },
      "text/plain": [
       "Validation: 0it [00:00, ?it/s]"
      ]
     },
     "metadata": {},
     "output_type": "display_data"
    },
    {
     "name": "stdout",
     "output_type": "stream",
     "text": [
      "Adjusting learning rate of group 0 to 4.8512e-07.\n",
      "Adjusting learning rate of group 0 to 4.3219e-07.\n",
      "Adjusting learning rate of group 0 to 3.8314e-07.\n",
      "Adjusting learning rate of group 0 to 3.3799e-07.\n",
      "Adjusting learning rate of group 0 to 2.9674e-07.\n"
     ]
    },
    {
     "data": {
      "application/vnd.jupyter.widget-view+json": {
       "model_id": "",
       "version_major": 2,
       "version_minor": 0
      },
      "text/plain": [
       "Validation: 0it [00:00, ?it/s]"
      ]
     },
     "metadata": {},
     "output_type": "display_data"
    },
    {
     "name": "stdout",
     "output_type": "stream",
     "text": [
      "Adjusting learning rate of group 0 to 2.5940e-07.\n",
      "Adjusting learning rate of group 0 to 2.2597e-07.\n",
      "Adjusting learning rate of group 0 to 1.9647e-07.\n",
      "Adjusting learning rate of group 0 to 1.7089e-07.\n",
      "Adjusting learning rate of group 0 to 1.4923e-07.\n"
     ]
    },
    {
     "data": {
      "application/vnd.jupyter.widget-view+json": {
       "model_id": "",
       "version_major": 2,
       "version_minor": 0
      },
      "text/plain": [
       "Validation: 0it [00:00, ?it/s]"
      ]
     },
     "metadata": {},
     "output_type": "display_data"
    },
    {
     "name": "stdout",
     "output_type": "stream",
     "text": [
      "Adjusting learning rate of group 0 to 1.3151e-07.\n",
      "Adjusting learning rate of group 0 to 1.1773e-07.\n",
      "Adjusting learning rate of group 0 to 1.0788e-07.\n",
      "Adjusting learning rate of group 0 to 1.0197e-07.\n",
      "Adjusting learning rate of group 0 to 1.0000e-07.\n"
     ]
    },
    {
     "data": {
      "application/vnd.jupyter.widget-view+json": {
       "model_id": "",
       "version_major": 2,
       "version_minor": 0
      },
      "text/plain": [
       "Validation: 0it [00:00, ?it/s]"
      ]
     },
     "metadata": {},
     "output_type": "display_data"
    },
    {
     "name": "stdout",
     "output_type": "stream",
     "text": [
      "Adjusting learning rate of group 0 to 1.0197e-07.\n",
      "Adjusting learning rate of group 0 to 1.0788e-07.\n",
      "Adjusting learning rate of group 0 to 1.1773e-07.\n",
      "Adjusting learning rate of group 0 to 1.3151e-07.\n",
      "Adjusting learning rate of group 0 to 1.4923e-07.\n"
     ]
    },
    {
     "data": {
      "application/vnd.jupyter.widget-view+json": {
       "model_id": "",
       "version_major": 2,
       "version_minor": 0
      },
      "text/plain": [
       "Validation: 0it [00:00, ?it/s]"
      ]
     },
     "metadata": {},
     "output_type": "display_data"
    },
    {
     "name": "stdout",
     "output_type": "stream",
     "text": [
      "Adjusting learning rate of group 0 to 1.7089e-07.\n",
      "Adjusting learning rate of group 0 to 1.9647e-07.\n",
      "Adjusting learning rate of group 0 to 2.2597e-07.\n",
      "Adjusting learning rate of group 0 to 2.5940e-07.\n",
      "Adjusting learning rate of group 0 to 2.9674e-07.\n"
     ]
    },
    {
     "data": {
      "application/vnd.jupyter.widget-view+json": {
       "model_id": "",
       "version_major": 2,
       "version_minor": 0
      },
      "text/plain": [
       "Validation: 0it [00:00, ?it/s]"
      ]
     },
     "metadata": {},
     "output_type": "display_data"
    },
    {
     "name": "stdout",
     "output_type": "stream",
     "text": [
      "Adjusting learning rate of group 0 to 3.3799e-07.\n",
      "Adjusting learning rate of group 0 to 3.8314e-07.\n",
      "Adjusting learning rate of group 0 to 4.3219e-07.\n",
      "Adjusting learning rate of group 0 to 4.8512e-07.\n",
      "Adjusting learning rate of group 0 to 5.4193e-07.\n"
     ]
    },
    {
     "data": {
      "application/vnd.jupyter.widget-view+json": {
       "model_id": "",
       "version_major": 2,
       "version_minor": 0
      },
      "text/plain": [
       "Validation: 0it [00:00, ?it/s]"
      ]
     },
     "metadata": {},
     "output_type": "display_data"
    },
    {
     "name": "stdout",
     "output_type": "stream",
     "text": [
      "Adjusting learning rate of group 0 to 6.0262e-07.\n",
      "Adjusting learning rate of group 0 to 6.6716e-07.\n",
      "Adjusting learning rate of group 0 to 7.3555e-07.\n",
      "Adjusting learning rate of group 0 to 8.0779e-07.\n",
      "Adjusting learning rate of group 0 to 8.8385e-07.\n"
     ]
    },
    {
     "data": {
      "application/vnd.jupyter.widget-view+json": {
       "model_id": "",
       "version_major": 2,
       "version_minor": 0
      },
      "text/plain": [
       "Validation: 0it [00:00, ?it/s]"
      ]
     },
     "metadata": {},
     "output_type": "display_data"
    },
    {
     "name": "stdout",
     "output_type": "stream",
     "text": [
      "Adjusting learning rate of group 0 to 9.6373e-07.\n",
      "Adjusting learning rate of group 0 to 1.0474e-06.\n",
      "Adjusting learning rate of group 0 to 1.1349e-06.\n",
      "Adjusting learning rate of group 0 to 1.2261e-06.\n",
      "Adjusting learning rate of group 0 to 1.3211e-06.\n"
     ]
    },
    {
     "data": {
      "application/vnd.jupyter.widget-view+json": {
       "model_id": "",
       "version_major": 2,
       "version_minor": 0
      },
      "text/plain": [
       "Validation: 0it [00:00, ?it/s]"
      ]
     },
     "metadata": {},
     "output_type": "display_data"
    },
    {
     "name": "stdout",
     "output_type": "stream",
     "text": [
      "Adjusting learning rate of group 0 to 1.4199e-06.\n",
      "Adjusting learning rate of group 0 to 1.5224e-06.\n",
      "Adjusting learning rate of group 0 to 1.6286e-06.\n",
      "Adjusting learning rate of group 0 to 1.7385e-06.\n",
      "Adjusting learning rate of group 0 to 1.8521e-06.\n"
     ]
    },
    {
     "data": {
      "application/vnd.jupyter.widget-view+json": {
       "model_id": "",
       "version_major": 2,
       "version_minor": 0
      },
      "text/plain": [
       "Validation: 0it [00:00, ?it/s]"
      ]
     },
     "metadata": {},
     "output_type": "display_data"
    },
    {
     "name": "stdout",
     "output_type": "stream",
     "text": [
      "Adjusting learning rate of group 0 to 1.9693e-06.\n",
      "Adjusting learning rate of group 0 to 2.0902e-06.\n",
      "Adjusting learning rate of group 0 to 2.2147e-06.\n",
      "Adjusting learning rate of group 0 to 2.3429e-06.\n",
      "Adjusting learning rate of group 0 to 2.4746e-06.\n"
     ]
    },
    {
     "data": {
      "application/vnd.jupyter.widget-view+json": {
       "model_id": "",
       "version_major": 2,
       "version_minor": 0
      },
      "text/plain": [
       "Validation: 0it [00:00, ?it/s]"
      ]
     },
     "metadata": {},
     "output_type": "display_data"
    },
    {
     "name": "stdout",
     "output_type": "stream",
     "text": [
      "Adjusting learning rate of group 0 to 2.6098e-06.\n",
      "Adjusting learning rate of group 0 to 2.7487e-06.\n",
      "Adjusting learning rate of group 0 to 2.8910e-06.\n",
      "Adjusting learning rate of group 0 to 3.0368e-06.\n",
      "Adjusting learning rate of group 0 to 3.1861e-06.\n"
     ]
    },
    {
     "data": {
      "application/vnd.jupyter.widget-view+json": {
       "model_id": "",
       "version_major": 2,
       "version_minor": 0
      },
      "text/plain": [
       "Validation: 0it [00:00, ?it/s]"
      ]
     },
     "metadata": {},
     "output_type": "display_data"
    },
    {
     "name": "stdout",
     "output_type": "stream",
     "text": [
      "Adjusting learning rate of group 0 to 3.3389e-06.\n",
      "Adjusting learning rate of group 0 to 3.4951e-06.\n",
      "Adjusting learning rate of group 0 to 3.6547e-06.\n",
      "Adjusting learning rate of group 0 to 3.8177e-06.\n",
      "Adjusting learning rate of group 0 to 3.9840e-06.\n"
     ]
    },
    {
     "data": {
      "application/vnd.jupyter.widget-view+json": {
       "model_id": "",
       "version_major": 2,
       "version_minor": 0
      },
      "text/plain": [
       "Validation: 0it [00:00, ?it/s]"
      ]
     },
     "metadata": {},
     "output_type": "display_data"
    },
    {
     "name": "stdout",
     "output_type": "stream",
     "text": [
      "Adjusting learning rate of group 0 to 4.1537e-06.\n",
      "Adjusting learning rate of group 0 to 4.3266e-06.\n",
      "Adjusting learning rate of group 0 to 4.5029e-06.\n",
      "Adjusting learning rate of group 0 to 4.6823e-06.\n",
      "Adjusting learning rate of group 0 to 4.8650e-06.\n"
     ]
    },
    {
     "data": {
      "application/vnd.jupyter.widget-view+json": {
       "model_id": "",
       "version_major": 2,
       "version_minor": 0
      },
      "text/plain": [
       "Validation: 0it [00:00, ?it/s]"
      ]
     },
     "metadata": {},
     "output_type": "display_data"
    },
    {
     "name": "stdout",
     "output_type": "stream",
     "text": [
      "Adjusting learning rate of group 0 to 5.0509e-06.\n",
      "Adjusting learning rate of group 0 to 5.2399e-06.\n",
      "Adjusting learning rate of group 0 to 5.4321e-06.\n",
      "Adjusting learning rate of group 0 to 5.6274e-06.\n",
      "Adjusting learning rate of group 0 to 5.8257e-06.\n"
     ]
    },
    {
     "data": {
      "application/vnd.jupyter.widget-view+json": {
       "model_id": "",
       "version_major": 2,
       "version_minor": 0
      },
      "text/plain": [
       "Validation: 0it [00:00, ?it/s]"
      ]
     },
     "metadata": {},
     "output_type": "display_data"
    },
    {
     "name": "stdout",
     "output_type": "stream",
     "text": [
      "Adjusting learning rate of group 0 to 6.0271e-06.\n",
      "Adjusting learning rate of group 0 to 6.2314e-06.\n",
      "Adjusting learning rate of group 0 to 6.4388e-06.\n",
      "Adjusting learning rate of group 0 to 6.6490e-06.\n",
      "Adjusting learning rate of group 0 to 6.8622e-06.\n"
     ]
    },
    {
     "data": {
      "application/vnd.jupyter.widget-view+json": {
       "model_id": "",
       "version_major": 2,
       "version_minor": 0
      },
      "text/plain": [
       "Validation: 0it [00:00, ?it/s]"
      ]
     },
     "metadata": {},
     "output_type": "display_data"
    },
    {
     "name": "stdout",
     "output_type": "stream",
     "text": [
      "Adjusting learning rate of group 0 to 7.0783e-06.\n",
      "Adjusting learning rate of group 0 to 7.2972e-06.\n",
      "Adjusting learning rate of group 0 to 7.5189e-06.\n",
      "Adjusting learning rate of group 0 to 7.7434e-06.\n",
      "Adjusting learning rate of group 0 to 7.9705e-06.\n"
     ]
    },
    {
     "data": {
      "application/vnd.jupyter.widget-view+json": {
       "model_id": "",
       "version_major": 2,
       "version_minor": 0
      },
      "text/plain": [
       "Validation: 0it [00:00, ?it/s]"
      ]
     },
     "metadata": {},
     "output_type": "display_data"
    },
    {
     "name": "stdout",
     "output_type": "stream",
     "text": [
      "Adjusting learning rate of group 0 to 8.2004e-06.\n",
      "Adjusting learning rate of group 0 to 8.4330e-06.\n",
      "Adjusting learning rate of group 0 to 8.6682e-06.\n",
      "Adjusting learning rate of group 0 to 8.9060e-06.\n",
      "Adjusting learning rate of group 0 to 9.1463e-06.\n"
     ]
    },
    {
     "data": {
      "application/vnd.jupyter.widget-view+json": {
       "model_id": "",
       "version_major": 2,
       "version_minor": 0
      },
      "text/plain": [
       "Validation: 0it [00:00, ?it/s]"
      ]
     },
     "metadata": {},
     "output_type": "display_data"
    },
    {
     "name": "stdout",
     "output_type": "stream",
     "text": [
      "Adjusting learning rate of group 0 to 9.3891e-06.\n",
      "Adjusting learning rate of group 0 to 9.6344e-06.\n",
      "Adjusting learning rate of group 0 to 9.8821e-06.\n",
      "Adjusting learning rate of group 0 to 1.0132e-05.\n",
      "Adjusting learning rate of group 0 to 1.0385e-05.\n"
     ]
    },
    {
     "data": {
      "application/vnd.jupyter.widget-view+json": {
       "model_id": "",
       "version_major": 2,
       "version_minor": 0
      },
      "text/plain": [
       "Validation: 0it [00:00, ?it/s]"
      ]
     },
     "metadata": {},
     "output_type": "display_data"
    },
    {
     "name": "stdout",
     "output_type": "stream",
     "text": [
      "Adjusting learning rate of group 0 to 1.0640e-05.\n",
      "Adjusting learning rate of group 0 to 1.0897e-05.\n",
      "Adjusting learning rate of group 0 to 1.1156e-05.\n",
      "Adjusting learning rate of group 0 to 1.1417e-05.\n",
      "Adjusting learning rate of group 0 to 1.1681e-05.\n"
     ]
    },
    {
     "data": {
      "application/vnd.jupyter.widget-view+json": {
       "model_id": "",
       "version_major": 2,
       "version_minor": 0
      },
      "text/plain": [
       "Validation: 0it [00:00, ?it/s]"
      ]
     },
     "metadata": {},
     "output_type": "display_data"
    },
    {
     "name": "stdout",
     "output_type": "stream",
     "text": [
      "Adjusting learning rate of group 0 to 1.1947e-05.\n",
      "Adjusting learning rate of group 0 to 1.2215e-05.\n",
      "Adjusting learning rate of group 0 to 1.2485e-05.\n",
      "Adjusting learning rate of group 0 to 1.2756e-05.\n",
      "Adjusting learning rate of group 0 to 1.3030e-05.\n"
     ]
    },
    {
     "data": {
      "application/vnd.jupyter.widget-view+json": {
       "model_id": "",
       "version_major": 2,
       "version_minor": 0
      },
      "text/plain": [
       "Validation: 0it [00:00, ?it/s]"
      ]
     },
     "metadata": {},
     "output_type": "display_data"
    },
    {
     "name": "stdout",
     "output_type": "stream",
     "text": [
      "Adjusting learning rate of group 0 to 1.3306e-05.\n",
      "Adjusting learning rate of group 0 to 1.3583e-05.\n",
      "Adjusting learning rate of group 0 to 1.3863e-05.\n",
      "Adjusting learning rate of group 0 to 1.4144e-05.\n",
      "Adjusting learning rate of group 0 to 1.4427e-05.\n"
     ]
    },
    {
     "data": {
      "application/vnd.jupyter.widget-view+json": {
       "model_id": "",
       "version_major": 2,
       "version_minor": 0
      },
      "text/plain": [
       "Validation: 0it [00:00, ?it/s]"
      ]
     },
     "metadata": {},
     "output_type": "display_data"
    },
    {
     "name": "stdout",
     "output_type": "stream",
     "text": [
      "Adjusting learning rate of group 0 to 1.4711e-05.\n",
      "Adjusting learning rate of group 0 to 1.4997e-05.\n",
      "Adjusting learning rate of group 0 to 1.5285e-05.\n",
      "Adjusting learning rate of group 0 to 1.5575e-05.\n",
      "Adjusting learning rate of group 0 to 1.5865e-05.\n"
     ]
    },
    {
     "data": {
      "application/vnd.jupyter.widget-view+json": {
       "model_id": "",
       "version_major": 2,
       "version_minor": 0
      },
      "text/plain": [
       "Validation: 0it [00:00, ?it/s]"
      ]
     },
     "metadata": {},
     "output_type": "display_data"
    },
    {
     "name": "stdout",
     "output_type": "stream",
     "text": [
      "Adjusting learning rate of group 0 to 1.6158e-05.\n",
      "Adjusting learning rate of group 0 to 1.6451e-05.\n",
      "Adjusting learning rate of group 0 to 1.6746e-05.\n",
      "Adjusting learning rate of group 0 to 1.7042e-05.\n",
      "Adjusting learning rate of group 0 to 1.7340e-05.\n"
     ]
    },
    {
     "data": {
      "application/vnd.jupyter.widget-view+json": {
       "model_id": "",
       "version_major": 2,
       "version_minor": 0
      },
      "text/plain": [
       "Validation: 0it [00:00, ?it/s]"
      ]
     },
     "metadata": {},
     "output_type": "display_data"
    },
    {
     "name": "stdout",
     "output_type": "stream",
     "text": [
      "Adjusting learning rate of group 0 to 1.7639e-05.\n",
      "Adjusting learning rate of group 0 to 1.7939e-05.\n",
      "Adjusting learning rate of group 0 to 1.8240e-05.\n",
      "Adjusting learning rate of group 0 to 1.8542e-05.\n",
      "Adjusting learning rate of group 0 to 1.8845e-05.\n"
     ]
    },
    {
     "data": {
      "application/vnd.jupyter.widget-view+json": {
       "model_id": "",
       "version_major": 2,
       "version_minor": 0
      },
      "text/plain": [
       "Validation: 0it [00:00, ?it/s]"
      ]
     },
     "metadata": {},
     "output_type": "display_data"
    },
    {
     "name": "stdout",
     "output_type": "stream",
     "text": [
      "Adjusting learning rate of group 0 to 1.9149e-05.\n",
      "Adjusting learning rate of group 0 to 1.9454e-05.\n",
      "Adjusting learning rate of group 0 to 1.9760e-05.\n",
      "Adjusting learning rate of group 0 to 2.0067e-05.\n",
      "Adjusting learning rate of group 0 to 2.0375e-05.\n"
     ]
    },
    {
     "data": {
      "application/vnd.jupyter.widget-view+json": {
       "model_id": "",
       "version_major": 2,
       "version_minor": 0
      },
      "text/plain": [
       "Validation: 0it [00:00, ?it/s]"
      ]
     },
     "metadata": {},
     "output_type": "display_data"
    },
    {
     "name": "stdout",
     "output_type": "stream",
     "text": [
      "Adjusting learning rate of group 0 to 2.0683e-05.\n",
      "Adjusting learning rate of group 0 to 2.0992e-05.\n",
      "Adjusting learning rate of group 0 to 2.1302e-05.\n",
      "Adjusting learning rate of group 0 to 2.1612e-05.\n",
      "Adjusting learning rate of group 0 to 2.1923e-05.\n"
     ]
    },
    {
     "data": {
      "application/vnd.jupyter.widget-view+json": {
       "model_id": "",
       "version_major": 2,
       "version_minor": 0
      },
      "text/plain": [
       "Validation: 0it [00:00, ?it/s]"
      ]
     },
     "metadata": {},
     "output_type": "display_data"
    },
    {
     "name": "stdout",
     "output_type": "stream",
     "text": [
      "Adjusting learning rate of group 0 to 2.2234e-05.\n",
      "Adjusting learning rate of group 0 to 2.2546e-05.\n",
      "Adjusting learning rate of group 0 to 2.2858e-05.\n",
      "Adjusting learning rate of group 0 to 2.3171e-05.\n",
      "Adjusting learning rate of group 0 to 2.3483e-05.\n"
     ]
    },
    {
     "data": {
      "application/vnd.jupyter.widget-view+json": {
       "model_id": "",
       "version_major": 2,
       "version_minor": 0
      },
      "text/plain": [
       "Validation: 0it [00:00, ?it/s]"
      ]
     },
     "metadata": {},
     "output_type": "display_data"
    },
    {
     "name": "stdout",
     "output_type": "stream",
     "text": [
      "Adjusting learning rate of group 0 to 2.3796e-05.\n",
      "Adjusting learning rate of group 0 to 2.4110e-05.\n",
      "Adjusting learning rate of group 0 to 2.4423e-05.\n",
      "Adjusting learning rate of group 0 to 2.4736e-05.\n",
      "Adjusting learning rate of group 0 to 2.5050e-05.\n"
     ]
    },
    {
     "data": {
      "application/vnd.jupyter.widget-view+json": {
       "model_id": "",
       "version_major": 2,
       "version_minor": 0
      },
      "text/plain": [
       "Validation: 0it [00:00, ?it/s]"
      ]
     },
     "metadata": {},
     "output_type": "display_data"
    },
    {
     "name": "stdout",
     "output_type": "stream",
     "text": [
      "Adjusting learning rate of group 0 to 2.5364e-05.\n",
      "Adjusting learning rate of group 0 to 2.5677e-05.\n",
      "Adjusting learning rate of group 0 to 2.5990e-05.\n",
      "Adjusting learning rate of group 0 to 2.6304e-05.\n",
      "Adjusting learning rate of group 0 to 2.6617e-05.\n"
     ]
    },
    {
     "data": {
      "application/vnd.jupyter.widget-view+json": {
       "model_id": "",
       "version_major": 2,
       "version_minor": 0
      },
      "text/plain": [
       "Validation: 0it [00:00, ?it/s]"
      ]
     },
     "metadata": {},
     "output_type": "display_data"
    },
    {
     "name": "stdout",
     "output_type": "stream",
     "text": [
      "Adjusting learning rate of group 0 to 2.6929e-05.\n",
      "Adjusting learning rate of group 0 to 2.7242e-05.\n",
      "Adjusting learning rate of group 0 to 2.7554e-05.\n",
      "Adjusting learning rate of group 0 to 2.7866e-05.\n",
      "Adjusting learning rate of group 0 to 2.8177e-05.\n"
     ]
    },
    {
     "data": {
      "application/vnd.jupyter.widget-view+json": {
       "model_id": "",
       "version_major": 2,
       "version_minor": 0
      },
      "text/plain": [
       "Validation: 0it [00:00, ?it/s]"
      ]
     },
     "metadata": {},
     "output_type": "display_data"
    },
    {
     "name": "stdout",
     "output_type": "stream",
     "text": [
      "Adjusting learning rate of group 0 to 2.8488e-05.\n",
      "Adjusting learning rate of group 0 to 2.8798e-05.\n",
      "Adjusting learning rate of group 0 to 2.9108e-05.\n",
      "Adjusting learning rate of group 0 to 2.9417e-05.\n",
      "Adjusting learning rate of group 0 to 2.9725e-05.\n"
     ]
    },
    {
     "data": {
      "application/vnd.jupyter.widget-view+json": {
       "model_id": "",
       "version_major": 2,
       "version_minor": 0
      },
      "text/plain": [
       "Validation: 0it [00:00, ?it/s]"
      ]
     },
     "metadata": {},
     "output_type": "display_data"
    },
    {
     "name": "stdout",
     "output_type": "stream",
     "text": [
      "Adjusting learning rate of group 0 to 3.0033e-05.\n",
      "Adjusting learning rate of group 0 to 3.0340e-05.\n",
      "Adjusting learning rate of group 0 to 3.0646e-05.\n",
      "Adjusting learning rate of group 0 to 3.0951e-05.\n",
      "Adjusting learning rate of group 0 to 3.1255e-05.\n"
     ]
    },
    {
     "data": {
      "application/vnd.jupyter.widget-view+json": {
       "model_id": "",
       "version_major": 2,
       "version_minor": 0
      },
      "text/plain": [
       "Validation: 0it [00:00, ?it/s]"
      ]
     },
     "metadata": {},
     "output_type": "display_data"
    },
    {
     "name": "stdout",
     "output_type": "stream",
     "text": [
      "Adjusting learning rate of group 0 to 3.1558e-05.\n",
      "Adjusting learning rate of group 0 to 3.1860e-05.\n",
      "Adjusting learning rate of group 0 to 3.2161e-05.\n",
      "Adjusting learning rate of group 0 to 3.2461e-05.\n",
      "Adjusting learning rate of group 0 to 3.2760e-05.\n"
     ]
    },
    {
     "data": {
      "application/vnd.jupyter.widget-view+json": {
       "model_id": "",
       "version_major": 2,
       "version_minor": 0
      },
      "text/plain": [
       "Validation: 0it [00:00, ?it/s]"
      ]
     },
     "metadata": {},
     "output_type": "display_data"
    },
    {
     "name": "stdout",
     "output_type": "stream",
     "text": [
      "Adjusting learning rate of group 0 to 3.3058e-05.\n",
      "Adjusting learning rate of group 0 to 3.3354e-05.\n",
      "Adjusting learning rate of group 0 to 3.3649e-05.\n",
      "Adjusting learning rate of group 0 to 3.3942e-05.\n",
      "Adjusting learning rate of group 0 to 3.4235e-05.\n"
     ]
    },
    {
     "data": {
      "application/vnd.jupyter.widget-view+json": {
       "model_id": "",
       "version_major": 2,
       "version_minor": 0
      },
      "text/plain": [
       "Validation: 0it [00:00, ?it/s]"
      ]
     },
     "metadata": {},
     "output_type": "display_data"
    },
    {
     "name": "stdout",
     "output_type": "stream",
     "text": [
      "Adjusting learning rate of group 0 to 3.4525e-05.\n",
      "Adjusting learning rate of group 0 to 3.4815e-05.\n",
      "Adjusting learning rate of group 0 to 3.5103e-05.\n",
      "Adjusting learning rate of group 0 to 3.5389e-05.\n",
      "Adjusting learning rate of group 0 to 3.5673e-05.\n"
     ]
    },
    {
     "data": {
      "application/vnd.jupyter.widget-view+json": {
       "model_id": "",
       "version_major": 2,
       "version_minor": 0
      },
      "text/plain": [
       "Validation: 0it [00:00, ?it/s]"
      ]
     },
     "metadata": {},
     "output_type": "display_data"
    },
    {
     "name": "stdout",
     "output_type": "stream",
     "text": [
      "Adjusting learning rate of group 0 to 3.5956e-05.\n",
      "Adjusting learning rate of group 0 to 3.6237e-05.\n",
      "Adjusting learning rate of group 0 to 3.6517e-05.\n",
      "Adjusting learning rate of group 0 to 3.6794e-05.\n",
      "Adjusting learning rate of group 0 to 3.7070e-05.\n"
     ]
    },
    {
     "data": {
      "application/vnd.jupyter.widget-view+json": {
       "model_id": "",
       "version_major": 2,
       "version_minor": 0
      },
      "text/plain": [
       "Validation: 0it [00:00, ?it/s]"
      ]
     },
     "metadata": {},
     "output_type": "display_data"
    },
    {
     "name": "stdout",
     "output_type": "stream",
     "text": [
      "Adjusting learning rate of group 0 to 3.7344e-05.\n",
      "Adjusting learning rate of group 0 to 3.7615e-05.\n",
      "Adjusting learning rate of group 0 to 3.7885e-05.\n",
      "Adjusting learning rate of group 0 to 3.8153e-05.\n",
      "Adjusting learning rate of group 0 to 3.8419e-05.\n"
     ]
    },
    {
     "data": {
      "application/vnd.jupyter.widget-view+json": {
       "model_id": "",
       "version_major": 2,
       "version_minor": 0
      },
      "text/plain": [
       "Validation: 0it [00:00, ?it/s]"
      ]
     },
     "metadata": {},
     "output_type": "display_data"
    },
    {
     "name": "stdout",
     "output_type": "stream",
     "text": [
      "Adjusting learning rate of group 0 to 3.8683e-05.\n",
      "Adjusting learning rate of group 0 to 3.8944e-05.\n",
      "Adjusting learning rate of group 0 to 3.9203e-05.\n",
      "Adjusting learning rate of group 0 to 3.9460e-05.\n",
      "Adjusting learning rate of group 0 to 3.9715e-05.\n"
     ]
    },
    {
     "data": {
      "application/vnd.jupyter.widget-view+json": {
       "model_id": "",
       "version_major": 2,
       "version_minor": 0
      },
      "text/plain": [
       "Validation: 0it [00:00, ?it/s]"
      ]
     },
     "metadata": {},
     "output_type": "display_data"
    },
    {
     "name": "stdout",
     "output_type": "stream",
     "text": [
      "Adjusting learning rate of group 0 to 3.9968e-05.\n",
      "Adjusting learning rate of group 0 to 4.0218e-05.\n",
      "Adjusting learning rate of group 0 to 4.0466e-05.\n",
      "Adjusting learning rate of group 0 to 4.0711e-05.\n"
     ]
    },
    {
     "name": "stderr",
     "output_type": "stream",
     "text": [
      "/home/gregory_maruss/anaconda3/lib/python3.9/site-packages/pytorch_lightning/trainer/call.py:48: UserWarning: Detected KeyboardInterrupt, attempting graceful shutdown...\n",
      "  rank_zero_warn(\"Detected KeyboardInterrupt, attempting graceful shutdown...\")\n"
     ]
    }
   ],
   "source": [
    "checkpoint_callback = ModelCheckpoint(\n",
    "    save_top_k=5,\n",
    "    monitor=\"FBETA\",\n",
    "    mode=\"max\",\n",
    "    dirpath=\"logs/EFFWeightedBCE_Monai_Unet_half_16/\",\n",
    "    filename=\"WBCE_MonaiUnet512{epoch:02d}{val_loss:.2f}{FBETA:.2f}{recall:.2f}{precision:.2f}\",\n",
    "    save_last =True,\n",
    ")\n",
    "\n",
    "\n",
    "trainer = pl.Trainer(\n",
    "        accelerator='gpu',\n",
    "        #benchmark=True,\n",
    "        max_epochs=1000,\n",
    "        check_val_every_n_epoch= 5,\n",
    "        devices=1,\n",
    "        #fast_dev_run=fast_dev_run,\n",
    "        logger=pl.loggers.CSVLogger(save_dir='logs/EFFWeightedBCE_Monai_Unet_half_16/'),\n",
    "        log_every_n_steps=1,\n",
    "        default_root_dir = 'logs/EFFWeightedBCE_Monai_Unet_half_16/',\n",
    "        #overfit_batches=1,\n",
    "        precision=16,\n",
    "        accumulate_grad_batches=1, \n",
    "        callbacks=[checkpoint_callback],\n",
    "        #resume_from_checkpoint ='logs/smp_unet_32_.5/lightning_logs/version_3/checkpoints/FocalDice_768epoch=123FBETA=0.30recall=0.77precision=0.26.ckpt'\n",
    "        \n",
    "        )\n",
    "\n",
    "\n",
    "\n",
    "\n",
    "\n",
    "trainer.fit(lit_model, datamodule=dataset,\n",
    "            #ckpt_path='logs/Full_16_768to1024_batch/FocalDice_768epoch=168FBETA=0.54recall=0.45precision=0.57.ckpt'\n",
    "           )\n",
    "# resume_from_checkpoint = \n",
    "#ckpt_path='logs/unet_smp-epoch=102-val_loss=0.00.ckpt'\n",
    "# ckpt_path='logs/Eff_monai_32z/lightning_logs/version_0/checkpoints/epoch=19-step=40.ckp'"
   ]
  },
  {
   "cell_type": "code",
   "execution_count": 7,
   "id": "1f984b33",
   "metadata": {},
   "outputs": [
    {
     "data": {
      "text/plain": [
       "5e-05"
      ]
     },
     "execution_count": 7,
     "metadata": {},
     "output_type": "execute_result"
    }
   ],
   "source": [
    "lit_model.lr"
   ]
  },
  {
   "cell_type": "code",
   "execution_count": 8,
   "id": "8e7eebc8",
   "metadata": {},
   "outputs": [],
   "source": [
    "#trainer.save_checkpoint(\"logs/224_smp_unet_32_.5_ver0.ckpt\")"
   ]
  },
  {
   "cell_type": "code",
   "execution_count": 9,
   "id": "e58d769b",
   "metadata": {},
   "outputs": [],
   "source": [
    "#torch.save(lit_model.state_dict(), 'kaggle/original_1kbuffer_1.pth')\n"
   ]
  },
  {
   "cell_type": "code",
   "execution_count": 10,
   "id": "fcf18647",
   "metadata": {},
   "outputs": [],
   "source": [
    "torch.cuda.empty_cache()"
   ]
  },
  {
   "cell_type": "code",
   "execution_count": 11,
   "id": "615f4509",
   "metadata": {},
   "outputs": [
    {
     "ename": "NameError",
     "evalue": "name 'TEST_DATA_CSV_PATH' is not defined",
     "output_type": "error",
     "traceback": [
      "\u001b[0;31m---------------------------------------------------------------------------\u001b[0m",
      "\u001b[0;31mNameError\u001b[0m                                 Traceback (most recent call last)",
      "\u001b[0;32m/tmp/ipykernel_67380/3927617190.py\u001b[0m in \u001b[0;36m<module>\u001b[0;34m\u001b[0m\n\u001b[1;32m      2\u001b[0m                 \u001b[0mz_dim\u001b[0m\u001b[0;34m=\u001b[0m\u001b[0;36m16\u001b[0m\u001b[0;34m,\u001b[0m\u001b[0;34m\u001b[0m\u001b[0;34m\u001b[0m\u001b[0m\n\u001b[1;32m      3\u001b[0m                 \u001b[0mbatch_size\u001b[0m\u001b[0;34m=\u001b[0m\u001b[0;36m1\u001b[0m\u001b[0;34m,\u001b[0m\u001b[0;34m\u001b[0m\u001b[0;34m\u001b[0m\u001b[0m\n\u001b[0;32m----> 4\u001b[0;31m                 \u001b[0mdata_csv_path\u001b[0m\u001b[0;34m=\u001b[0m\u001b[0mTEST_DATA_CSV_PATH\u001b[0m\u001b[0;34m,\u001b[0m\u001b[0;34m\u001b[0m\u001b[0;34m\u001b[0m\u001b[0m\n\u001b[0m\u001b[1;32m      5\u001b[0m                 \u001b[0mnum_workers\u001b[0m\u001b[0;34m=\u001b[0m\u001b[0;36m8\u001b[0m\u001b[0;34m,\u001b[0m\u001b[0;34m\u001b[0m\u001b[0;34m\u001b[0m\u001b[0m\n\u001b[1;32m      6\u001b[0m                 \u001b[0mnum_samples\u001b[0m\u001b[0;34m=\u001b[0m\u001b[0;36m16\u001b[0m\u001b[0;34m,\u001b[0m\u001b[0;34m\u001b[0m\u001b[0;34m\u001b[0m\u001b[0m\n",
      "\u001b[0;31mNameError\u001b[0m: name 'TEST_DATA_CSV_PATH' is not defined"
     ]
    }
   ],
   "source": [
    "data_module = MONAI_CSV_Scrolls_Dataset(\n",
    "                z_dim=16,\n",
    "                batch_size=1,\n",
    "                data_csv_path=TEST_DATA_CSV_PATH,\n",
    "                num_workers=8,\n",
    "                num_samples=16,\n",
    "                patch_size=(512,512),\n",
    "                val_fragment_id=1,\n",
    "                stage='predict',\n",
    "                on_gpu =False,\n",
    "                    )\n",
    "\n",
    "data_module.setup(stage='predict')"
   ]
  },
  {
   "cell_type": "code",
   "execution_count": null,
   "id": "423560ce",
   "metadata": {},
   "outputs": [],
   "source": [
    "lit_model.lr"
   ]
  },
  {
   "cell_type": "code",
   "execution_count": null,
   "id": "6732c7c1",
   "metadata": {},
   "outputs": [],
   "source": [
    "lit_model.eval().to('cpu')\n",
    "predictions = trainer.predict(lit_model.eval(), data_module)"
   ]
  },
  {
   "cell_type": "code",
   "execution_count": null,
   "id": "6507fd25",
   "metadata": {},
   "outputs": [],
   "source": [
    "predictions"
   ]
  },
  {
   "cell_type": "code",
   "execution_count": null,
   "id": "9ba478d7",
   "metadata": {},
   "outputs": [],
   "source": [
    "def plot_image(image, title):\n",
    "    fig = plt.figure()\n",
    "    plt.title(title)\n",
    "    plt.imshow(image, cmap=\"gray\")\n",
    "    \n",
    "# ref.: https://www.kaggle.com/stainsby/fast-tested-rle\n",
    "def rle(img):\n",
    "    '''\n",
    "    img: numpy array, 1 - mask, 0 - background\n",
    "    Returns run length as string formated\n",
    "    '''\n",
    "    pixels = img.flatten()\n",
    "    # pixels = (pixels >= thr).astype(int)\n",
    "    \n",
    "    pixels = np.concatenate([[0], pixels, [0]])\n",
    "    runs = np.where(pixels[1:] != pixels[:-1])[0] + 1\n",
    "    runs[1::2] -= runs[::2]\n",
    "    return ' '.join(str(x) for x in runs)"
   ]
  },
  {
   "cell_type": "code",
   "execution_count": null,
   "id": "159b6f4c",
   "metadata": {},
   "outputs": [],
   "source": [
    "import pandas as pd\n",
    "import numpy as np\n",
    "import PIL.Image as Image\n",
    "import lovely_numpy as ln\n",
    "submission_df = pd.read_csv(\"kaggle/input/vesuvius-challenge-ink-detection/sample_submission.csv\")\n",
    "test_df = pd.read_csv(\"kaggle/input/vesuvius-challenge-ink-detection/data_test_1.csv\")"
   ]
  },
  {
   "cell_type": "code",
   "execution_count": null,
   "id": "c3278c32",
   "metadata": {},
   "outputs": [],
   "source": []
  },
  {
   "cell_type": "code",
   "execution_count": null,
   "id": "39528f78",
   "metadata": {},
   "outputs": [],
   "source": [
    "test_df"
   ]
  },
  {
   "cell_type": "code",
   "execution_count": null,
   "id": "8593496e",
   "metadata": {},
   "outputs": [],
   "source": [
    "predictions_rle = []\n",
    "THRESHOLD = .58\n",
    "for mask_png_path, prediction in zip(test_df[\"mask_png\"].values, predictions):\n",
    "    prediction = prediction.numpy()\n",
    "    mask = Image.open(mask_png_path)\n",
    "\n",
    "    prediction_resized = np.array(Image.fromarray(prediction).resize(mask.size))\n",
    "    \n",
    "    prediction_masked = prediction_resized * mask\n",
    "    \n",
    "    prediction_thresholded = np.where(prediction_masked > THRESHOLD, 1, 0).astype(np.uint8)\n",
    "    \n",
    "    prediction_rle = rle(prediction_thresholded)\n",
    "\n",
    "    predictions_rle.append(prediction_rle)\n",
    "\n",
    "    if 1:\n",
    "        #plot_image(prediction_resized, f\"prediction resized {ln.lovely(prediction_resized)}\")\n",
    "        #plot_image(prediction_masked, f\"prediction masked {ln.lovely(prediction_masked)}\")\n",
    "        plot_image(\n",
    "            prediction_thresholded,\n",
    "            f\"prediction thresholded {ln.lovely(prediction_thresholded)}\",\n",
    "        )\n",
    "    \n",
    "submission_df[\"Predicted\"] = predictions_rle\n",
    "    \n",
    "submission_df.to_csv(\"submission.csv\", index=False)\n",
    "\n",
    "submission_df"
   ]
  },
  {
   "cell_type": "code",
   "execution_count": null,
   "id": "e44f1f1b",
   "metadata": {},
   "outputs": [],
   "source": [
    "#submission_df"
   ]
  },
  {
   "cell_type": "code",
   "execution_count": null,
   "id": "e3026904",
   "metadata": {},
   "outputs": [],
   "source": []
  }
 ],
 "metadata": {
  "kernelspec": {
   "display_name": "Python 3 (ipykernel)",
   "language": "python",
   "name": "python3"
  },
  "language_info": {
   "codemirror_mode": {
    "name": "ipython",
    "version": 3
   },
   "file_extension": ".py",
   "mimetype": "text/x-python",
   "name": "python",
   "nbconvert_exporter": "python",
   "pygments_lexer": "ipython3",
   "version": "3.9.7"
  }
 },
 "nbformat": 4,
 "nbformat_minor": 5
}
