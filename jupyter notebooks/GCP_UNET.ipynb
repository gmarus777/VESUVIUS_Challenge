{
 "cells": [
  {
   "cell_type": "code",
   "execution_count": 1,
   "id": "7bd6358a",
   "metadata": {},
   "outputs": [
    {
     "name": "stdout",
     "output_type": "stream",
     "text": [
      "Starting path:/home/gregory_eritsyan/VESUVIUS_Challenge/jupyter notebooks\n",
      "Current path:/home/gregory_eritsyan/VESUVIUS_Challenge\n"
     ]
    }
   ],
   "source": [
    "# Here we take care of paths.\n",
    "\n",
    "from pathlib import Path\n",
    "import os\n",
    "print('Starting path:' + os.getcwd())\n",
    "if os.getcwd()[-18:] == 'VESUVIUS_Challenge':\n",
    "    pass\n",
    "else:\n",
    "    PATH = Path().resolve().parents[0]\n",
    "    os.chdir(PATH)\n",
    "\n",
    "# make sure you are in Paragraph_to_Tex folder\n",
    "print('Current path:' + os.getcwd())"
   ]
  },
  {
   "cell_type": "code",
   "execution_count": 2,
   "id": "f48a74ec",
   "metadata": {},
   "outputs": [
    {
     "name": "stdout",
     "output_type": "stream",
     "text": [
      "2023-04-15 23:46:08,835 - Created a temporary directory at /tmp/tmp8ut19664\n",
      "2023-04-15 23:46:08,836 - Writing /tmp/tmp8ut19664/_remote_module_non_scriptable.py\n"
     ]
    }
   ],
   "source": [
    "import monai\n",
    "import torch\n",
    "import matplotlib.pyplot as plt\n",
    "import tempfile\n",
    "import shutil\n",
    "import os\n",
    "import glob\n",
    "import pytorch_lightning as pl\n",
    "from pytorch_lightning import Trainer\n",
    "from Data_Modules.Scrolls_Dataset_Module import Scrolls_Dataset\n",
    "import matplotlib.patches as patches\n",
    "from lit_models.UNET_monai_lit import UNET_lit\n",
    "\n",
    "DEVICE = torch.device(\"cuda\" if torch.cuda.is_available() else \"cpu\")\n"
   ]
  },
  {
   "cell_type": "code",
   "execution_count": 3,
   "id": "e40c2207",
   "metadata": {},
   "outputs": [],
   "source": [
    "# Initiating Dataset with parameters\n",
    "\n",
    "# buffer =   -- x,y patchsize for training\n",
    "# z_start =  --  Offset of slices in the z direction\n",
    "# z_dim =    -- Number of slices in the z direction. Max value is (64 - z_start)\n",
    "# validation_rect =  -- rectangle removed for validation set\n",
    "# shared_height = -- Height to resize all scrolls\n",
    "# scroll_fragments = -- scrolls to be used \n",
    "\n",
    "dataset = Scrolls_Dataset(\n",
    "                monai= True,\n",
    "    \n",
    "                buffer = 64,\n",
    "                 z_start = 20,\n",
    "                 z_dim = 30,\n",
    "                 validation_rect = (1100, 3500, 700, 950),\n",
    "                shared_height = 8000,\n",
    "                 downsampling =None,\n",
    "                 scroll_fragments = [1],#[1,2,3],\n",
    "                 stage = 'train',\n",
    "                 shuffle=True,\n",
    "                 batch_size=128,\n",
    "                 num_workers =8 ,\n",
    "                 on_gpu= False,\n",
    "                          \n",
    "                         )\n"
   ]
  },
  {
   "cell_type": "code",
   "execution_count": 4,
   "id": "647288b2",
   "metadata": {},
   "outputs": [
    {
     "name": "stderr",
     "output_type": "stream",
     "text": [
      "\u001b[34m\u001b[1mwandb\u001b[0m: Currently logged in as: \u001b[33mgmarus\u001b[0m. Use \u001b[1m`wandb login --relogin`\u001b[0m to force relogin\n"
     ]
    },
    {
     "data": {
      "text/html": [
       "wandb version 0.14.2 is available!  To upgrade, please run:\n",
       " $ pip install wandb --upgrade"
      ],
      "text/plain": [
       "<IPython.core.display.HTML object>"
      ]
     },
     "metadata": {},
     "output_type": "display_data"
    },
    {
     "data": {
      "text/html": [
       "Tracking run with wandb version 0.13.7"
      ],
      "text/plain": [
       "<IPython.core.display.HTML object>"
      ]
     },
     "metadata": {},
     "output_type": "display_data"
    },
    {
     "data": {
      "text/html": [
       "Run data is saved locally in <code>/home/gregory_eritsyan/VESUVIUS_Challenge/wandb/run-20230415_234610-bpx616nn</code>"
      ],
      "text/plain": [
       "<IPython.core.display.HTML object>"
      ]
     },
     "metadata": {},
     "output_type": "display_data"
    },
    {
     "data": {
      "text/html": [
       "Syncing run <strong><a href=\"https://wandb.ai/gmarus/VESUVIUS_Challenge/runs/bpx616nn\" target=\"_blank\">light-gorge-21</a></strong> to <a href=\"https://wandb.ai/gmarus/VESUVIUS_Challenge\" target=\"_blank\">Weights & Biases</a> (<a href=\"https://wandb.me/run\" target=\"_blank\">docs</a>)<br/>"
      ],
      "text/plain": [
       "<IPython.core.display.HTML object>"
      ]
     },
     "metadata": {},
     "output_type": "display_data"
    }
   ],
   "source": [
    "lit_model = UNET_lit(z_dim = dataset.z_dim)"
   ]
  },
  {
   "cell_type": "code",
   "execution_count": 5,
   "id": "d3828d3e",
   "metadata": {
    "scrolled": false
   },
   "outputs": [
    {
     "name": "stdout",
     "output_type": "stream",
     "text": [
      "2023-04-15 23:46:15,499 - Using 16bit native Automatic Mixed Precision (AMP)\n",
      "2023-04-15 23:46:15,548 - GPU available: True (cuda), used: True\n",
      "2023-04-15 23:46:15,598 - TPU available: False, using: 0 TPU cores\n",
      "2023-04-15 23:46:15,598 - IPU available: False, using: 0 IPUs\n",
      "2023-04-15 23:46:15,599 - HPU available: False, using: 0 HPUs\n"
     ]
    },
    {
     "name": "stderr",
     "output_type": "stream",
     "text": [
      "30it [00:16,  1.79it/s]\n"
     ]
    },
    {
     "name": "stdout",
     "output_type": "stream",
     "text": [
      "2023-04-15 23:46:36,939 - LOCAL_RANK: 0 - CUDA_VISIBLE_DEVICES: [0]\n",
      "2023-04-15 23:46:36,944 - \n",
      "  | Name    | Type       | Params\n",
      "---------------------------------------\n",
      "0 | metrics | ModuleDict | 0     \n",
      "1 | model   | UNet       | 1.6 M \n",
      "2 | loss    | MaskedLoss | 0     \n",
      "---------------------------------------\n",
      "1.6 M     Trainable params\n",
      "0         Non-trainable params\n",
      "1.6 M     Total params\n",
      "3.266     Total estimated model params size (MB)\n"
     ]
    },
    {
     "data": {
      "application/vnd.jupyter.widget-view+json": {
       "model_id": "",
       "version_major": 2,
       "version_minor": 0
      },
      "text/plain": [
       "Sanity Checking: 0it [00:00, ?it/s]"
      ]
     },
     "metadata": {},
     "output_type": "display_data"
    },
    {
     "data": {
      "application/vnd.jupyter.widget-view+json": {
       "model_id": "2d2c81852f3c49729ec5e17b0cdf6654",
       "version_major": 2,
       "version_minor": 0
      },
      "text/plain": [
       "Training: 0it [00:00, ?it/s]"
      ]
     },
     "metadata": {},
     "output_type": "display_data"
    },
    {
     "name": "stderr",
     "output_type": "stream",
     "text": [
      "/home/gregory_eritsyan/anaconda3/lib/python3.9/site-packages/pytorch_lightning/trainer/call.py:48: UserWarning: Detected KeyboardInterrupt, attempting graceful shutdown...\n",
      "  rank_zero_warn(\"Detected KeyboardInterrupt, attempting graceful shutdown...\")\n"
     ]
    }
   ],
   "source": [
    "trainer = pl.Trainer(\n",
    "        accelerator='gpu',\n",
    "        benchmark=True,\n",
    "        max_epochs=200,\n",
    "        check_val_every_n_epoch= 1,\n",
    "        devices=1,\n",
    "        #fast_dev_run=fast_dev_run,\n",
    "        logger=pl.loggers.CSVLogger(save_dir='logs/'),\n",
    "        log_every_n_steps=1,\n",
    "        \n",
    "        overfit_batches=0,\n",
    "        precision=16,\n",
    "     accumulate_grad_batches=4,\n",
    "        #strategy=\"ddp\" if devices > 1 else None,\n",
    "    )\n",
    "\n",
    "trainer.fit(lit_model, datamodule=dataset)"
   ]
  },
  {
   "cell_type": "code",
   "execution_count": 6,
   "id": "28d01ded",
   "metadata": {},
   "outputs": [
    {
     "ename": "NameError",
     "evalue": "name 'model' is not defined",
     "output_type": "error",
     "traceback": [
      "\u001b[0;31m---------------------------------------------------------------------------\u001b[0m",
      "\u001b[0;31mNameError\u001b[0m                                 Traceback (most recent call last)",
      "\u001b[0;32m/tmp/ipykernel_21967/2829007322.py\u001b[0m in \u001b[0;36m<module>\u001b[0;34m\u001b[0m\n\u001b[1;32m      1\u001b[0m \u001b[0;31m# save model\u001b[0m\u001b[0;34m\u001b[0m\u001b[0;34m\u001b[0m\u001b[0m\n\u001b[0;32m----> 2\u001b[0;31m \u001b[0mtorch\u001b[0m\u001b[0;34m.\u001b[0m\u001b[0msave\u001b[0m\u001b[0;34m(\u001b[0m\u001b[0mmodel\u001b[0m\u001b[0;34m.\u001b[0m\u001b[0mstate_dict\u001b[0m\u001b[0;34m(\u001b[0m\u001b[0;34m)\u001b[0m\u001b[0;34m,\u001b[0m \u001b[0;34m'kaggle/Resnet34_6trans_160height_1.pth'\u001b[0m\u001b[0;34m)\u001b[0m\u001b[0;34m\u001b[0m\u001b[0;34m\u001b[0m\u001b[0m\n\u001b[0m",
      "\u001b[0;31mNameError\u001b[0m: name 'model' is not defined"
     ]
    }
   ],
   "source": [
    "# save model\n",
    "torch.save(model.state_dict(), 'kaggle/Resnet34_6trans_160height_1.pth')"
   ]
  },
  {
   "cell_type": "code",
   "execution_count": null,
   "id": "c207bea9",
   "metadata": {},
   "outputs": [],
   "source": []
  },
  {
   "cell_type": "code",
   "execution_count": null,
   "id": "1f85f9a5",
   "metadata": {},
   "outputs": [],
   "source": []
  },
  {
   "cell_type": "code",
   "execution_count": null,
   "id": "46bb9dba",
   "metadata": {},
   "outputs": [],
   "source": []
  },
  {
   "cell_type": "code",
   "execution_count": null,
   "id": "87c1c6af",
   "metadata": {},
   "outputs": [],
   "source": []
  },
  {
   "cell_type": "code",
   "execution_count": null,
   "id": "c51c898c",
   "metadata": {},
   "outputs": [],
   "source": []
  },
  {
   "cell_type": "code",
   "execution_count": null,
   "id": "cb050076",
   "metadata": {},
   "outputs": [],
   "source": []
  },
  {
   "cell_type": "code",
   "execution_count": null,
   "id": "21a46963",
   "metadata": {},
   "outputs": [],
   "source": []
  }
 ],
 "metadata": {
  "kernelspec": {
   "display_name": "Python 3 (ipykernel)",
   "language": "python",
   "name": "python3"
  },
  "language_info": {
   "codemirror_mode": {
    "name": "ipython",
    "version": 3
   },
   "file_extension": ".py",
   "mimetype": "text/x-python",
   "name": "python",
   "nbconvert_exporter": "python",
   "pygments_lexer": "ipython3",
   "version": "3.9.7"
  }
 },
 "nbformat": 4,
 "nbformat_minor": 5
}
