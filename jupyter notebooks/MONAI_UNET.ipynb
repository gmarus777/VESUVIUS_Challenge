{
 "cells": [
  {
   "cell_type": "code",
   "execution_count": 1,
   "id": "c8d445e6",
   "metadata": {},
   "outputs": [
    {
     "name": "stdout",
     "output_type": "stream",
     "text": [
      "Starting path:/Users/gregory/PROJECT_ML/VESUVIUS_Challenge/jupyter notebooks\n",
      "Current path:/Users/gregory/PROJECT_ML/VESUVIUS_Challenge\n"
     ]
    }
   ],
   "source": [
    "# Here we take care of paths.\n",
    "\n",
    "from pathlib import Path\n",
    "import os\n",
    "print('Starting path:' + os.getcwd())\n",
    "if os.getcwd()[-18:] == 'VESUVIUS_Challenge':\n",
    "    pass\n",
    "else:\n",
    "    PATH = Path().resolve().parents[0]\n",
    "    os.chdir(PATH)\n",
    "\n",
    "# make sure you are in Paragraph_to_Tex folder\n",
    "print('Current path:' + os.getcwd())"
   ]
  },
  {
   "cell_type": "code",
   "execution_count": 2,
   "id": "72d093e7",
   "metadata": {},
   "outputs": [
    {
     "name": "stdout",
     "output_type": "stream",
     "text": [
      "2023-04-17 20:59:41,462 - Created a temporary directory at /var/folders/wc/60y8v25x3ns_jgsx6clbdb180000gn/T/tmp7cmjuvhd\n",
      "2023-04-17 20:59:41,463 - Writing /var/folders/wc/60y8v25x3ns_jgsx6clbdb180000gn/T/tmp7cmjuvhd/_remote_module_non_scriptable.py\n"
     ]
    }
   ],
   "source": [
    "import monai\n",
    "import torch\n",
    "import matplotlib.pyplot as plt\n",
    "import tempfile\n",
    "import shutil\n",
    "import os\n",
    "import glob\n",
    "import pytorch_lightning as pl\n",
    "from pytorch_lightning import Trainer\n",
    "from Data_Modules.MONAI_dataset import MONAI_Scrolls_Dataset\n",
    "import matplotlib.patches as patches\n",
    "from lit_models.UNET_monai_lit import UNET_lit\n",
    "from monai.visualize import matshow3d\n",
    "\n",
    "DEVICE = torch.device(\"cuda\" if torch.cuda.is_available() else \"cpu\")"
   ]
  },
  {
   "cell_type": "code",
   "execution_count": 3,
   "id": "5543cd3f",
   "metadata": {},
   "outputs": [],
   "source": [
    "# Initiating Dataset with parameters\n",
    "\n",
    "# buffer =   -- x,y patchsize for training\n",
    "# z_start =  --  Offset of slices in the z direction\n",
    "# z_dim =    -- Number of slices in the z direction. Max value is (64 - z_start)\n",
    "# validation_rect =  -- rectangle removed for validation set\n",
    "# shared_height = -- Height to resize all scrolls\n",
    "# scroll_fragments = -- scrolls to be used \n",
    "\n",
    "dataset = MONAI_Scrolls_Dataset(\n",
    "                \n",
    "    \n",
    "                patch_size = 512,\n",
    "                 z_start = 26,\n",
    "                 z_dim = 16,\n",
    "                 validation_rect = (1100, 3500, 700, 950),\n",
    "                shared_height = 10000,\n",
    "                 downsampling =None,\n",
    "                 train_scroll_fragments = [1,2],\n",
    "                 val_scroll_fragments = [3],\n",
    "                 stage = 'train',\n",
    "                 batch_size=8,\n",
    "                 num_workers =0 ,\n",
    "                          \n",
    "                         )\n",
    "\n",
    "#dataset.prepare_data()"
   ]
  },
  {
   "cell_type": "code",
   "execution_count": 4,
   "id": "c034631b",
   "metadata": {},
   "outputs": [
    {
     "name": "stderr",
     "output_type": "stream",
     "text": [
      "\u001b[34m\u001b[1mwandb\u001b[0m: Currently logged in as: \u001b[33mgmarus\u001b[0m. Use \u001b[1m`wandb login --relogin`\u001b[0m to force relogin\n"
     ]
    },
    {
     "data": {
      "text/html": [
       "Tracking run with wandb version 0.14.2"
      ],
      "text/plain": [
       "<IPython.core.display.HTML object>"
      ]
     },
     "metadata": {},
     "output_type": "display_data"
    },
    {
     "data": {
      "text/html": [
       "Run data is saved locally in <code>/Users/gregory/PROJECT_ML/VESUVIUS_Challenge/wandb/run-20230417_205942-1d6ck0rd</code>"
      ],
      "text/plain": [
       "<IPython.core.display.HTML object>"
      ]
     },
     "metadata": {},
     "output_type": "display_data"
    },
    {
     "data": {
      "text/html": [
       "Syncing run <strong><a href='https://wandb.ai/gmarus/VESUVIUS_Challenge/runs/1d6ck0rd' target=\"_blank\">scarlet-dawn-26</a></strong> to <a href='https://wandb.ai/gmarus/VESUVIUS_Challenge' target=\"_blank\">Weights & Biases</a> (<a href='https://wandb.me/run' target=\"_blank\">docs</a>)<br/>"
      ],
      "text/plain": [
       "<IPython.core.display.HTML object>"
      ]
     },
     "metadata": {},
     "output_type": "display_data"
    },
    {
     "data": {
      "text/html": [
       " View project at <a href='https://wandb.ai/gmarus/VESUVIUS_Challenge' target=\"_blank\">https://wandb.ai/gmarus/VESUVIUS_Challenge</a>"
      ],
      "text/plain": [
       "<IPython.core.display.HTML object>"
      ]
     },
     "metadata": {},
     "output_type": "display_data"
    },
    {
     "data": {
      "text/html": [
       " View run at <a href='https://wandb.ai/gmarus/VESUVIUS_Challenge/runs/1d6ck0rd' target=\"_blank\">https://wandb.ai/gmarus/VESUVIUS_Challenge/runs/1d6ck0rd</a>"
      ],
      "text/plain": [
       "<IPython.core.display.HTML object>"
      ]
     },
     "metadata": {},
     "output_type": "display_data"
    }
   ],
   "source": [
    "lit_model = UNET_lit(z_dim = dataset.z_dim)"
   ]
  },
  {
   "cell_type": "code",
   "execution_count": 5,
   "id": "e107130a",
   "metadata": {
    "scrolled": false
   },
   "outputs": [
    {
     "name": "stdout",
     "output_type": "stream",
     "text": [
      "2023-04-17 20:59:50,306 - GPU available: True (mps), used: True\n",
      "2023-04-17 20:59:50,308 - TPU available: False, using: 0 TPU cores\n",
      "2023-04-17 20:59:50,308 - IPU available: False, using: 0 IPUs\n",
      "2023-04-17 20:59:50,309 - HPU available: False, using: 0 HPUs\n"
     ]
    },
    {
     "name": "stderr",
     "output_type": "stream",
     "text": [
      "/Users/gregory/anaconda3/lib/python3.10/site-packages/PIL/Image.py:3167: DecompressionBombWarning: Image size (140973980 pixels) exceeds limit of 89478485 pixels, could be decompression bomb DOS attack.\n",
      "  warnings.warn(\n",
      "16it [00:08,  1.94it/s]\n",
      "16it [00:11,  1.33it/s]\n",
      "16it [00:06,  2.32it/s]\n"
     ]
    },
    {
     "name": "stdout",
     "output_type": "stream",
     "text": [
      "2023-04-17 21:00:30,166 - \n",
      "  | Name    | Type       | Params\n",
      "---------------------------------------\n",
      "0 | metrics | ModuleDict | 0     \n",
      "1 | model   | UNet       | 1.6 M \n",
      "2 | loss    | MaskedLoss | 0     \n",
      "---------------------------------------\n",
      "1.6 M     Trainable params\n",
      "0         Non-trainable params\n",
      "1.6 M     Total params\n",
      "6.517     Total estimated model params size (MB)\n"
     ]
    },
    {
     "name": "stderr",
     "output_type": "stream",
     "text": [
      "/Users/gregory/anaconda3/lib/python3.10/site-packages/pytorch_lightning/callbacks/model_checkpoint.py:612: UserWarning: Checkpoint directory logs/lightning_logs/version_0/checkpoints exists and is not empty.\n",
      "  rank_zero_warn(f\"Checkpoint directory {dirpath} exists and is not empty.\")\n",
      "/Users/gregory/anaconda3/lib/python3.10/site-packages/lightning_fabric/loggers/csv_logs.py:188: UserWarning: Experiment logs directory logs/lightning_logs/version_0 exists and is not empty. Previous log files in this directory will be deleted when the new ones are saved!\n",
      "  rank_zero_warn(\n"
     ]
    },
    {
     "data": {
      "application/vnd.jupyter.widget-view+json": {
       "model_id": "",
       "version_major": 2,
       "version_minor": 0
      },
      "text/plain": [
       "Sanity Checking: 0it [00:00, ?it/s]"
      ]
     },
     "metadata": {},
     "output_type": "display_data"
    },
    {
     "name": "stderr",
     "output_type": "stream",
     "text": [
      "/Users/gregory/anaconda3/lib/python3.10/site-packages/pytorch_lightning/trainer/connectors/data_connector.py:430: PossibleUserWarning: The dataloader, val_dataloader, does not have many workers which may be a bottleneck. Consider increasing the value of the `num_workers` argument` (try 10 which is the number of cpus on this machine) in the `DataLoader` init to improve performance.\n",
      "  rank_zero_warn(\n",
      "/Users/gregory/anaconda3/lib/python3.10/site-packages/torchmetrics/utilities/checks.py:57: UserWarning: MPS: no support for int64 for min_max, downcasting to a smaller data type (int32/float32). Native support for int64 has been added in macOS 13.3. (Triggered internally at /Users/runner/work/_temp/anaconda/conda-bld/pytorch_1681456119295/work/aten/src/ATen/native/mps/operations/ReduceOps.mm:610.)\n",
      "  if ignore_index is None and target.min() < 0:\n",
      "/Users/gregory/anaconda3/lib/python3.10/site-packages/pytorch_lightning/trainer/connectors/data_connector.py:430: PossibleUserWarning: The dataloader, train_dataloader, does not have many workers which may be a bottleneck. Consider increasing the value of the `num_workers` argument` (try 10 which is the number of cpus on this machine) in the `DataLoader` init to improve performance.\n",
      "  rank_zero_warn(\n"
     ]
    },
    {
     "data": {
      "application/vnd.jupyter.widget-view+json": {
       "model_id": "8e37299247104a8888184f5dac75579c",
       "version_major": 2,
       "version_minor": 0
      },
      "text/plain": [
       "Training: 0it [00:00, ?it/s]"
      ]
     },
     "metadata": {},
     "output_type": "display_data"
    },
    {
     "data": {
      "application/vnd.jupyter.widget-view+json": {
       "model_id": "",
       "version_major": 2,
       "version_minor": 0
      },
      "text/plain": [
       "Validation: 0it [00:00, ?it/s]"
      ]
     },
     "metadata": {},
     "output_type": "display_data"
    },
    {
     "data": {
      "application/vnd.jupyter.widget-view+json": {
       "model_id": "",
       "version_major": 2,
       "version_minor": 0
      },
      "text/plain": [
       "Validation: 0it [00:00, ?it/s]"
      ]
     },
     "metadata": {},
     "output_type": "display_data"
    },
    {
     "data": {
      "application/vnd.jupyter.widget-view+json": {
       "model_id": "",
       "version_major": 2,
       "version_minor": 0
      },
      "text/plain": [
       "Validation: 0it [00:00, ?it/s]"
      ]
     },
     "metadata": {},
     "output_type": "display_data"
    },
    {
     "data": {
      "application/vnd.jupyter.widget-view+json": {
       "model_id": "",
       "version_major": 2,
       "version_minor": 0
      },
      "text/plain": [
       "Validation: 0it [00:00, ?it/s]"
      ]
     },
     "metadata": {},
     "output_type": "display_data"
    },
    {
     "data": {
      "application/vnd.jupyter.widget-view+json": {
       "model_id": "",
       "version_major": 2,
       "version_minor": 0
      },
      "text/plain": [
       "Validation: 0it [00:00, ?it/s]"
      ]
     },
     "metadata": {},
     "output_type": "display_data"
    },
    {
     "data": {
      "application/vnd.jupyter.widget-view+json": {
       "model_id": "",
       "version_major": 2,
       "version_minor": 0
      },
      "text/plain": [
       "Validation: 0it [00:00, ?it/s]"
      ]
     },
     "metadata": {},
     "output_type": "display_data"
    },
    {
     "data": {
      "application/vnd.jupyter.widget-view+json": {
       "model_id": "",
       "version_major": 2,
       "version_minor": 0
      },
      "text/plain": [
       "Validation: 0it [00:00, ?it/s]"
      ]
     },
     "metadata": {},
     "output_type": "display_data"
    },
    {
     "data": {
      "application/vnd.jupyter.widget-view+json": {
       "model_id": "",
       "version_major": 2,
       "version_minor": 0
      },
      "text/plain": [
       "Validation: 0it [00:00, ?it/s]"
      ]
     },
     "metadata": {},
     "output_type": "display_data"
    },
    {
     "data": {
      "application/vnd.jupyter.widget-view+json": {
       "model_id": "",
       "version_major": 2,
       "version_minor": 0
      },
      "text/plain": [
       "Validation: 0it [00:00, ?it/s]"
      ]
     },
     "metadata": {},
     "output_type": "display_data"
    },
    {
     "data": {
      "application/vnd.jupyter.widget-view+json": {
       "model_id": "",
       "version_major": 2,
       "version_minor": 0
      },
      "text/plain": [
       "Validation: 0it [00:00, ?it/s]"
      ]
     },
     "metadata": {},
     "output_type": "display_data"
    },
    {
     "data": {
      "application/vnd.jupyter.widget-view+json": {
       "model_id": "",
       "version_major": 2,
       "version_minor": 0
      },
      "text/plain": [
       "Validation: 0it [00:00, ?it/s]"
      ]
     },
     "metadata": {},
     "output_type": "display_data"
    },
    {
     "data": {
      "application/vnd.jupyter.widget-view+json": {
       "model_id": "",
       "version_major": 2,
       "version_minor": 0
      },
      "text/plain": [
       "Validation: 0it [00:00, ?it/s]"
      ]
     },
     "metadata": {},
     "output_type": "display_data"
    },
    {
     "data": {
      "application/vnd.jupyter.widget-view+json": {
       "model_id": "",
       "version_major": 2,
       "version_minor": 0
      },
      "text/plain": [
       "Validation: 0it [00:00, ?it/s]"
      ]
     },
     "metadata": {},
     "output_type": "display_data"
    },
    {
     "data": {
      "application/vnd.jupyter.widget-view+json": {
       "model_id": "",
       "version_major": 2,
       "version_minor": 0
      },
      "text/plain": [
       "Validation: 0it [00:00, ?it/s]"
      ]
     },
     "metadata": {},
     "output_type": "display_data"
    },
    {
     "data": {
      "application/vnd.jupyter.widget-view+json": {
       "model_id": "",
       "version_major": 2,
       "version_minor": 0
      },
      "text/plain": [
       "Validation: 0it [00:00, ?it/s]"
      ]
     },
     "metadata": {},
     "output_type": "display_data"
    },
    {
     "data": {
      "application/vnd.jupyter.widget-view+json": {
       "model_id": "",
       "version_major": 2,
       "version_minor": 0
      },
      "text/plain": [
       "Validation: 0it [00:00, ?it/s]"
      ]
     },
     "metadata": {},
     "output_type": "display_data"
    },
    {
     "data": {
      "application/vnd.jupyter.widget-view+json": {
       "model_id": "",
       "version_major": 2,
       "version_minor": 0
      },
      "text/plain": [
       "Validation: 0it [00:00, ?it/s]"
      ]
     },
     "metadata": {},
     "output_type": "display_data"
    },
    {
     "data": {
      "application/vnd.jupyter.widget-view+json": {
       "model_id": "",
       "version_major": 2,
       "version_minor": 0
      },
      "text/plain": [
       "Validation: 0it [00:00, ?it/s]"
      ]
     },
     "metadata": {},
     "output_type": "display_data"
    },
    {
     "data": {
      "application/vnd.jupyter.widget-view+json": {
       "model_id": "",
       "version_major": 2,
       "version_minor": 0
      },
      "text/plain": [
       "Validation: 0it [00:00, ?it/s]"
      ]
     },
     "metadata": {},
     "output_type": "display_data"
    },
    {
     "data": {
      "application/vnd.jupyter.widget-view+json": {
       "model_id": "",
       "version_major": 2,
       "version_minor": 0
      },
      "text/plain": [
       "Validation: 0it [00:00, ?it/s]"
      ]
     },
     "metadata": {},
     "output_type": "display_data"
    },
    {
     "data": {
      "application/vnd.jupyter.widget-view+json": {
       "model_id": "",
       "version_major": 2,
       "version_minor": 0
      },
      "text/plain": [
       "Validation: 0it [00:00, ?it/s]"
      ]
     },
     "metadata": {},
     "output_type": "display_data"
    },
    {
     "data": {
      "application/vnd.jupyter.widget-view+json": {
       "model_id": "",
       "version_major": 2,
       "version_minor": 0
      },
      "text/plain": [
       "Validation: 0it [00:00, ?it/s]"
      ]
     },
     "metadata": {},
     "output_type": "display_data"
    },
    {
     "data": {
      "application/vnd.jupyter.widget-view+json": {
       "model_id": "",
       "version_major": 2,
       "version_minor": 0
      },
      "text/plain": [
       "Validation: 0it [00:00, ?it/s]"
      ]
     },
     "metadata": {},
     "output_type": "display_data"
    },
    {
     "data": {
      "application/vnd.jupyter.widget-view+json": {
       "model_id": "",
       "version_major": 2,
       "version_minor": 0
      },
      "text/plain": [
       "Validation: 0it [00:00, ?it/s]"
      ]
     },
     "metadata": {},
     "output_type": "display_data"
    },
    {
     "data": {
      "application/vnd.jupyter.widget-view+json": {
       "model_id": "",
       "version_major": 2,
       "version_minor": 0
      },
      "text/plain": [
       "Validation: 0it [00:00, ?it/s]"
      ]
     },
     "metadata": {},
     "output_type": "display_data"
    },
    {
     "data": {
      "application/vnd.jupyter.widget-view+json": {
       "model_id": "",
       "version_major": 2,
       "version_minor": 0
      },
      "text/plain": [
       "Validation: 0it [00:00, ?it/s]"
      ]
     },
     "metadata": {},
     "output_type": "display_data"
    },
    {
     "data": {
      "application/vnd.jupyter.widget-view+json": {
       "model_id": "",
       "version_major": 2,
       "version_minor": 0
      },
      "text/plain": [
       "Validation: 0it [00:00, ?it/s]"
      ]
     },
     "metadata": {},
     "output_type": "display_data"
    },
    {
     "data": {
      "application/vnd.jupyter.widget-view+json": {
       "model_id": "",
       "version_major": 2,
       "version_minor": 0
      },
      "text/plain": [
       "Validation: 0it [00:00, ?it/s]"
      ]
     },
     "metadata": {},
     "output_type": "display_data"
    },
    {
     "data": {
      "application/vnd.jupyter.widget-view+json": {
       "model_id": "",
       "version_major": 2,
       "version_minor": 0
      },
      "text/plain": [
       "Validation: 0it [00:00, ?it/s]"
      ]
     },
     "metadata": {},
     "output_type": "display_data"
    },
    {
     "data": {
      "application/vnd.jupyter.widget-view+json": {
       "model_id": "",
       "version_major": 2,
       "version_minor": 0
      },
      "text/plain": [
       "Validation: 0it [00:00, ?it/s]"
      ]
     },
     "metadata": {},
     "output_type": "display_data"
    },
    {
     "data": {
      "application/vnd.jupyter.widget-view+json": {
       "model_id": "",
       "version_major": 2,
       "version_minor": 0
      },
      "text/plain": [
       "Validation: 0it [00:00, ?it/s]"
      ]
     },
     "metadata": {},
     "output_type": "display_data"
    },
    {
     "data": {
      "application/vnd.jupyter.widget-view+json": {
       "model_id": "",
       "version_major": 2,
       "version_minor": 0
      },
      "text/plain": [
       "Validation: 0it [00:00, ?it/s]"
      ]
     },
     "metadata": {},
     "output_type": "display_data"
    },
    {
     "data": {
      "application/vnd.jupyter.widget-view+json": {
       "model_id": "",
       "version_major": 2,
       "version_minor": 0
      },
      "text/plain": [
       "Validation: 0it [00:00, ?it/s]"
      ]
     },
     "metadata": {},
     "output_type": "display_data"
    },
    {
     "data": {
      "application/vnd.jupyter.widget-view+json": {
       "model_id": "",
       "version_major": 2,
       "version_minor": 0
      },
      "text/plain": [
       "Validation: 0it [00:00, ?it/s]"
      ]
     },
     "metadata": {},
     "output_type": "display_data"
    },
    {
     "data": {
      "application/vnd.jupyter.widget-view+json": {
       "model_id": "",
       "version_major": 2,
       "version_minor": 0
      },
      "text/plain": [
       "Validation: 0it [00:00, ?it/s]"
      ]
     },
     "metadata": {},
     "output_type": "display_data"
    },
    {
     "data": {
      "application/vnd.jupyter.widget-view+json": {
       "model_id": "",
       "version_major": 2,
       "version_minor": 0
      },
      "text/plain": [
       "Validation: 0it [00:00, ?it/s]"
      ]
     },
     "metadata": {},
     "output_type": "display_data"
    },
    {
     "data": {
      "application/vnd.jupyter.widget-view+json": {
       "model_id": "",
       "version_major": 2,
       "version_minor": 0
      },
      "text/plain": [
       "Validation: 0it [00:00, ?it/s]"
      ]
     },
     "metadata": {},
     "output_type": "display_data"
    },
    {
     "data": {
      "application/vnd.jupyter.widget-view+json": {
       "model_id": "",
       "version_major": 2,
       "version_minor": 0
      },
      "text/plain": [
       "Validation: 0it [00:00, ?it/s]"
      ]
     },
     "metadata": {},
     "output_type": "display_data"
    },
    {
     "data": {
      "application/vnd.jupyter.widget-view+json": {
       "model_id": "",
       "version_major": 2,
       "version_minor": 0
      },
      "text/plain": [
       "Validation: 0it [00:00, ?it/s]"
      ]
     },
     "metadata": {},
     "output_type": "display_data"
    },
    {
     "data": {
      "application/vnd.jupyter.widget-view+json": {
       "model_id": "",
       "version_major": 2,
       "version_minor": 0
      },
      "text/plain": [
       "Validation: 0it [00:00, ?it/s]"
      ]
     },
     "metadata": {},
     "output_type": "display_data"
    },
    {
     "data": {
      "application/vnd.jupyter.widget-view+json": {
       "model_id": "",
       "version_major": 2,
       "version_minor": 0
      },
      "text/plain": [
       "Validation: 0it [00:00, ?it/s]"
      ]
     },
     "metadata": {},
     "output_type": "display_data"
    },
    {
     "data": {
      "application/vnd.jupyter.widget-view+json": {
       "model_id": "",
       "version_major": 2,
       "version_minor": 0
      },
      "text/plain": [
       "Validation: 0it [00:00, ?it/s]"
      ]
     },
     "metadata": {},
     "output_type": "display_data"
    },
    {
     "data": {
      "application/vnd.jupyter.widget-view+json": {
       "model_id": "",
       "version_major": 2,
       "version_minor": 0
      },
      "text/plain": [
       "Validation: 0it [00:00, ?it/s]"
      ]
     },
     "metadata": {},
     "output_type": "display_data"
    },
    {
     "data": {
      "application/vnd.jupyter.widget-view+json": {
       "model_id": "",
       "version_major": 2,
       "version_minor": 0
      },
      "text/plain": [
       "Validation: 0it [00:00, ?it/s]"
      ]
     },
     "metadata": {},
     "output_type": "display_data"
    },
    {
     "data": {
      "application/vnd.jupyter.widget-view+json": {
       "model_id": "",
       "version_major": 2,
       "version_minor": 0
      },
      "text/plain": [
       "Validation: 0it [00:00, ?it/s]"
      ]
     },
     "metadata": {},
     "output_type": "display_data"
    },
    {
     "data": {
      "application/vnd.jupyter.widget-view+json": {
       "model_id": "",
       "version_major": 2,
       "version_minor": 0
      },
      "text/plain": [
       "Validation: 0it [00:00, ?it/s]"
      ]
     },
     "metadata": {},
     "output_type": "display_data"
    },
    {
     "data": {
      "application/vnd.jupyter.widget-view+json": {
       "model_id": "",
       "version_major": 2,
       "version_minor": 0
      },
      "text/plain": [
       "Validation: 0it [00:00, ?it/s]"
      ]
     },
     "metadata": {},
     "output_type": "display_data"
    },
    {
     "data": {
      "application/vnd.jupyter.widget-view+json": {
       "model_id": "",
       "version_major": 2,
       "version_minor": 0
      },
      "text/plain": [
       "Validation: 0it [00:00, ?it/s]"
      ]
     },
     "metadata": {},
     "output_type": "display_data"
    },
    {
     "data": {
      "application/vnd.jupyter.widget-view+json": {
       "model_id": "",
       "version_major": 2,
       "version_minor": 0
      },
      "text/plain": [
       "Validation: 0it [00:00, ?it/s]"
      ]
     },
     "metadata": {},
     "output_type": "display_data"
    },
    {
     "data": {
      "application/vnd.jupyter.widget-view+json": {
       "model_id": "",
       "version_major": 2,
       "version_minor": 0
      },
      "text/plain": [
       "Validation: 0it [00:00, ?it/s]"
      ]
     },
     "metadata": {},
     "output_type": "display_data"
    },
    {
     "data": {
      "application/vnd.jupyter.widget-view+json": {
       "model_id": "",
       "version_major": 2,
       "version_minor": 0
      },
      "text/plain": [
       "Validation: 0it [00:00, ?it/s]"
      ]
     },
     "metadata": {},
     "output_type": "display_data"
    },
    {
     "data": {
      "application/vnd.jupyter.widget-view+json": {
       "model_id": "",
       "version_major": 2,
       "version_minor": 0
      },
      "text/plain": [
       "Validation: 0it [00:00, ?it/s]"
      ]
     },
     "metadata": {},
     "output_type": "display_data"
    },
    {
     "data": {
      "application/vnd.jupyter.widget-view+json": {
       "model_id": "",
       "version_major": 2,
       "version_minor": 0
      },
      "text/plain": [
       "Validation: 0it [00:00, ?it/s]"
      ]
     },
     "metadata": {},
     "output_type": "display_data"
    },
    {
     "data": {
      "application/vnd.jupyter.widget-view+json": {
       "model_id": "",
       "version_major": 2,
       "version_minor": 0
      },
      "text/plain": [
       "Validation: 0it [00:00, ?it/s]"
      ]
     },
     "metadata": {},
     "output_type": "display_data"
    },
    {
     "data": {
      "application/vnd.jupyter.widget-view+json": {
       "model_id": "",
       "version_major": 2,
       "version_minor": 0
      },
      "text/plain": [
       "Validation: 0it [00:00, ?it/s]"
      ]
     },
     "metadata": {},
     "output_type": "display_data"
    },
    {
     "data": {
      "application/vnd.jupyter.widget-view+json": {
       "model_id": "",
       "version_major": 2,
       "version_minor": 0
      },
      "text/plain": [
       "Validation: 0it [00:00, ?it/s]"
      ]
     },
     "metadata": {},
     "output_type": "display_data"
    },
    {
     "data": {
      "application/vnd.jupyter.widget-view+json": {
       "model_id": "",
       "version_major": 2,
       "version_minor": 0
      },
      "text/plain": [
       "Validation: 0it [00:00, ?it/s]"
      ]
     },
     "metadata": {},
     "output_type": "display_data"
    },
    {
     "data": {
      "application/vnd.jupyter.widget-view+json": {
       "model_id": "",
       "version_major": 2,
       "version_minor": 0
      },
      "text/plain": [
       "Validation: 0it [00:00, ?it/s]"
      ]
     },
     "metadata": {},
     "output_type": "display_data"
    },
    {
     "data": {
      "application/vnd.jupyter.widget-view+json": {
       "model_id": "",
       "version_major": 2,
       "version_minor": 0
      },
      "text/plain": [
       "Validation: 0it [00:00, ?it/s]"
      ]
     },
     "metadata": {},
     "output_type": "display_data"
    },
    {
     "data": {
      "application/vnd.jupyter.widget-view+json": {
       "model_id": "",
       "version_major": 2,
       "version_minor": 0
      },
      "text/plain": [
       "Validation: 0it [00:00, ?it/s]"
      ]
     },
     "metadata": {},
     "output_type": "display_data"
    },
    {
     "data": {
      "application/vnd.jupyter.widget-view+json": {
       "model_id": "",
       "version_major": 2,
       "version_minor": 0
      },
      "text/plain": [
       "Validation: 0it [00:00, ?it/s]"
      ]
     },
     "metadata": {},
     "output_type": "display_data"
    },
    {
     "data": {
      "application/vnd.jupyter.widget-view+json": {
       "model_id": "",
       "version_major": 2,
       "version_minor": 0
      },
      "text/plain": [
       "Validation: 0it [00:00, ?it/s]"
      ]
     },
     "metadata": {},
     "output_type": "display_data"
    },
    {
     "data": {
      "application/vnd.jupyter.widget-view+json": {
       "model_id": "",
       "version_major": 2,
       "version_minor": 0
      },
      "text/plain": [
       "Validation: 0it [00:00, ?it/s]"
      ]
     },
     "metadata": {},
     "output_type": "display_data"
    },
    {
     "name": "stderr",
     "output_type": "stream",
     "text": [
      "/Users/gregory/anaconda3/lib/python3.10/site-packages/pytorch_lightning/trainer/call.py:54: UserWarning: Detected KeyboardInterrupt, attempting graceful shutdown...\n",
      "  rank_zero_warn(\"Detected KeyboardInterrupt, attempting graceful shutdown...\")\n"
     ]
    }
   ],
   "source": [
    "trainer = pl.Trainer(\n",
    "        accelerator='mps',\n",
    "        benchmark=True,\n",
    "        max_epochs=1000,\n",
    "        check_val_every_n_epoch= 1,\n",
    "        devices=1,\n",
    "        #fast_dev_run=fast_dev_run,\n",
    "        logger=pl.loggers.CSVLogger(save_dir='logs/'),\n",
    "        log_every_n_steps=1,\n",
    "        \n",
    "        overfit_batches=0,\n",
    "        #precision=16,\n",
    "         accumulate_grad_batches=4,)\n",
    "\n",
    "trainer.fit(lit_model, datamodule=dataset)"
   ]
  },
  {
   "cell_type": "code",
   "execution_count": 6,
   "id": "0af458b0",
   "metadata": {},
   "outputs": [
    {
     "name": "stdout",
     "output_type": "stream",
     "text": [
      "torch.Size([8, 16, 512, 512]) torch.Size([8, 1, 512, 512]) torch.Size([8, 1, 512, 512])\n",
      "torch.Size([8, 16, 512, 512]) torch.Size([8, 1, 512, 512]) torch.Size([8, 1, 512, 512])\n",
      "torch.Size([8, 16, 512, 512]) torch.Size([8, 1, 512, 512]) torch.Size([8, 1, 512, 512])\n",
      "torch.Size([8, 16, 512, 512]) torch.Size([8, 1, 512, 512]) torch.Size([8, 1, 512, 512])\n",
      "torch.Size([8, 16, 512, 512]) torch.Size([8, 1, 512, 512]) torch.Size([8, 1, 512, 512])\n",
      "torch.Size([8, 16, 512, 512]) torch.Size([8, 1, 512, 512]) torch.Size([8, 1, 512, 512])\n",
      "torch.Size([8, 16, 512, 512]) torch.Size([8, 1, 512, 512]) torch.Size([8, 1, 512, 512])\n",
      "torch.Size([8, 16, 512, 512]) torch.Size([8, 1, 512, 512]) torch.Size([8, 1, 512, 512])\n",
      "torch.Size([8, 16, 512, 512]) torch.Size([8, 1, 512, 512]) torch.Size([8, 1, 512, 512])\n",
      "torch.Size([8, 16, 512, 512]) torch.Size([8, 1, 512, 512]) torch.Size([8, 1, 512, 512])\n",
      "torch.Size([8, 16, 512, 512]) torch.Size([8, 1, 512, 512]) torch.Size([8, 1, 512, 512])\n",
      "torch.Size([8, 16, 512, 512]) torch.Size([8, 1, 512, 512]) torch.Size([8, 1, 512, 512])\n",
      "torch.Size([8, 16, 512, 512]) torch.Size([8, 1, 512, 512]) torch.Size([8, 1, 512, 512])\n",
      "torch.Size([8, 16, 512, 512]) torch.Size([8, 1, 512, 512]) torch.Size([8, 1, 512, 512])\n",
      "torch.Size([8, 16, 512, 512]) torch.Size([8, 1, 512, 512]) torch.Size([8, 1, 512, 512])\n",
      "torch.Size([8, 16, 512, 512]) torch.Size([8, 1, 512, 512]) torch.Size([8, 1, 512, 512])\n",
      "torch.Size([8, 16, 512, 512]) torch.Size([8, 1, 512, 512]) torch.Size([8, 1, 512, 512])\n",
      "torch.Size([8, 16, 512, 512]) torch.Size([8, 1, 512, 512]) torch.Size([8, 1, 512, 512])\n",
      "torch.Size([8, 16, 512, 512]) torch.Size([8, 1, 512, 512]) torch.Size([8, 1, 512, 512])\n",
      "torch.Size([8, 16, 512, 512]) torch.Size([8, 1, 512, 512]) torch.Size([8, 1, 512, 512])\n",
      "torch.Size([8, 16, 512, 512]) torch.Size([8, 1, 512, 512]) torch.Size([8, 1, 512, 512])\n",
      "torch.Size([8, 16, 512, 512]) torch.Size([8, 1, 512, 512]) torch.Size([8, 1, 512, 512])\n",
      "torch.Size([8, 16, 512, 512]) torch.Size([8, 1, 512, 512]) torch.Size([8, 1, 512, 512])\n",
      "torch.Size([8, 16, 512, 512]) torch.Size([8, 1, 512, 512]) torch.Size([8, 1, 512, 512])\n",
      "torch.Size([8, 16, 512, 512]) torch.Size([8, 1, 512, 512]) torch.Size([8, 1, 512, 512])\n",
      "torch.Size([8, 16, 512, 512]) torch.Size([8, 1, 512, 512]) torch.Size([8, 1, 512, 512])\n",
      "torch.Size([8, 16, 512, 512]) torch.Size([8, 1, 512, 512]) torch.Size([8, 1, 512, 512])\n",
      "torch.Size([8, 16, 512, 512]) torch.Size([8, 1, 512, 512]) torch.Size([8, 1, 512, 512])\n",
      "torch.Size([8, 16, 512, 512]) torch.Size([8, 1, 512, 512]) torch.Size([8, 1, 512, 512])\n",
      "torch.Size([8, 16, 512, 512]) torch.Size([8, 1, 512, 512]) torch.Size([8, 1, 512, 512])\n",
      "torch.Size([8, 16, 512, 512]) torch.Size([8, 1, 512, 512]) torch.Size([8, 1, 512, 512])\n",
      "torch.Size([8, 16, 512, 512]) torch.Size([8, 1, 512, 512]) torch.Size([8, 1, 512, 512])\n",
      "torch.Size([8, 16, 512, 512]) torch.Size([8, 1, 512, 512]) torch.Size([8, 1, 512, 512])\n",
      "torch.Size([8, 16, 512, 512]) torch.Size([8, 1, 512, 512]) torch.Size([8, 1, 512, 512])\n",
      "torch.Size([8, 16, 512, 512]) torch.Size([8, 1, 512, 512]) torch.Size([8, 1, 512, 512])\n",
      "torch.Size([8, 16, 512, 512]) torch.Size([8, 1, 512, 512]) torch.Size([8, 1, 512, 512])\n",
      "torch.Size([8, 16, 512, 512]) torch.Size([8, 1, 512, 512]) torch.Size([8, 1, 512, 512])\n",
      "torch.Size([8, 16, 512, 512]) torch.Size([8, 1, 512, 512]) torch.Size([8, 1, 512, 512])\n",
      "torch.Size([8, 16, 512, 512]) torch.Size([8, 1, 512, 512]) torch.Size([8, 1, 512, 512])\n",
      "torch.Size([8, 16, 512, 512]) torch.Size([8, 1, 512, 512]) torch.Size([8, 1, 512, 512])\n",
      "torch.Size([8, 16, 512, 512]) torch.Size([8, 1, 512, 512]) torch.Size([8, 1, 512, 512])\n",
      "torch.Size([8, 16, 512, 512]) torch.Size([8, 1, 512, 512]) torch.Size([8, 1, 512, 512])\n",
      "torch.Size([8, 16, 512, 512]) torch.Size([8, 1, 512, 512]) torch.Size([8, 1, 512, 512])\n",
      "torch.Size([8, 16, 512, 512]) torch.Size([8, 1, 512, 512]) torch.Size([8, 1, 512, 512])\n",
      "torch.Size([8, 16, 512, 512]) torch.Size([8, 1, 512, 512]) torch.Size([8, 1, 512, 512])\n",
      "torch.Size([8, 16, 512, 512]) torch.Size([8, 1, 512, 512]) torch.Size([8, 1, 512, 512])\n",
      "torch.Size([8, 16, 512, 512]) torch.Size([8, 1, 512, 512]) torch.Size([8, 1, 512, 512])\n",
      "torch.Size([8, 16, 512, 512]) torch.Size([8, 1, 512, 512]) torch.Size([8, 1, 512, 512])\n",
      "torch.Size([8, 16, 512, 512]) torch.Size([8, 1, 512, 512]) torch.Size([8, 1, 512, 512])\n",
      "torch.Size([8, 16, 512, 512]) torch.Size([8, 1, 512, 512]) torch.Size([8, 1, 512, 512])\n",
      "torch.Size([8, 16, 512, 512]) torch.Size([8, 1, 512, 512]) torch.Size([8, 1, 512, 512])\n",
      "torch.Size([8, 16, 512, 512]) torch.Size([8, 1, 512, 512]) torch.Size([8, 1, 512, 512])\n",
      "torch.Size([8, 16, 512, 512]) torch.Size([8, 1, 512, 512]) torch.Size([8, 1, 512, 512])\n",
      "torch.Size([8, 16, 512, 512]) torch.Size([8, 1, 512, 512]) torch.Size([8, 1, 512, 512])\n",
      "torch.Size([8, 16, 512, 512]) torch.Size([8, 1, 512, 512]) torch.Size([8, 1, 512, 512])\n",
      "torch.Size([8, 16, 512, 512]) torch.Size([8, 1, 512, 512]) torch.Size([8, 1, 512, 512])\n",
      "torch.Size([8, 16, 512, 512]) torch.Size([8, 1, 512, 512]) torch.Size([8, 1, 512, 512])\n",
      "torch.Size([8, 16, 512, 512]) torch.Size([8, 1, 512, 512]) torch.Size([8, 1, 512, 512])\n",
      "torch.Size([8, 16, 512, 512]) torch.Size([8, 1, 512, 512]) torch.Size([8, 1, 512, 512])\n",
      "torch.Size([8, 16, 512, 512]) torch.Size([8, 1, 512, 512]) torch.Size([8, 1, 512, 512])\n",
      "torch.Size([8, 16, 512, 512]) torch.Size([8, 1, 512, 512]) torch.Size([8, 1, 512, 512])\n",
      "torch.Size([8, 16, 512, 512]) torch.Size([8, 1, 512, 512]) torch.Size([8, 1, 512, 512])\n",
      "torch.Size([8, 16, 512, 512]) torch.Size([8, 1, 512, 512]) torch.Size([8, 1, 512, 512])\n",
      "torch.Size([8, 16, 512, 512]) torch.Size([8, 1, 512, 512]) torch.Size([8, 1, 512, 512])\n",
      "torch.Size([8, 16, 512, 512]) torch.Size([8, 1, 512, 512]) torch.Size([8, 1, 512, 512])\n",
      "torch.Size([8, 16, 512, 512]) torch.Size([8, 1, 512, 512]) torch.Size([8, 1, 512, 512])\n",
      "torch.Size([8, 16, 512, 512]) torch.Size([8, 1, 512, 512]) torch.Size([8, 1, 512, 512])\n",
      "torch.Size([8, 16, 512, 512]) torch.Size([8, 1, 512, 512]) torch.Size([8, 1, 512, 512])\n",
      "torch.Size([8, 16, 512, 512]) torch.Size([8, 1, 512, 512]) torch.Size([8, 1, 512, 512])\n",
      "torch.Size([8, 16, 512, 512]) torch.Size([8, 1, 512, 512]) torch.Size([8, 1, 512, 512])\n"
     ]
    }
   ],
   "source": []
  },
  {
   "cell_type": "code",
   "execution_count": 7,
   "id": "3a5b483e",
   "metadata": {},
   "outputs": [
    {
     "data": {
      "text/plain": [
       "<monai.data.grid_dataset.GridPatchDataset at 0x17e909570>"
      ]
     },
     "execution_count": 7,
     "metadata": {},
     "output_type": "execute_result"
    }
   ],
   "source": [
    "dataset.data_train"
   ]
  },
  {
   "cell_type": "code",
   "execution_count": 8,
   "id": "672ba597",
   "metadata": {},
   "outputs": [
    {
     "data": {
      "text/plain": [
       "<monai.data.grid_dataset.GridPatchDataset at 0x17e908d00>"
      ]
     },
     "execution_count": 8,
     "metadata": {},
     "output_type": "execute_result"
    }
   ],
   "source": [
    "dataset.data_val"
   ]
  },
  {
   "cell_type": "code",
   "execution_count": null,
   "id": "255da602",
   "metadata": {},
   "outputs": [],
   "source": []
  }
 ],
 "metadata": {
  "kernelspec": {
   "display_name": "Python 3 (ipykernel)",
   "language": "python",
   "name": "python3"
  },
  "language_info": {
   "codemirror_mode": {
    "name": "ipython",
    "version": 3
   },
   "file_extension": ".py",
   "mimetype": "text/x-python",
   "name": "python",
   "nbconvert_exporter": "python",
   "pygments_lexer": "ipython3",
   "version": "3.10.9"
  }
 },
 "nbformat": 4,
 "nbformat_minor": 5
}
