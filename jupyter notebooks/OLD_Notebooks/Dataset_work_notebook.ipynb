{
 "cells": [
  {
   "cell_type": "code",
   "execution_count": 1,
   "id": "8197de0b",
   "metadata": {},
   "outputs": [
    {
     "name": "stdout",
     "output_type": "stream",
     "text": [
      "Starting path:/Users/gregory/PROJECT_ML/VESUVIUS_Challenge/jupyter notebooks\n",
      "Current path:/Users/gregory/PROJECT_ML/VESUVIUS_Challenge\n"
     ]
    }
   ],
   "source": [
    "# Here we take care of paths.\n",
    "\n",
    "from pathlib import Path\n",
    "import os\n",
    "print('Starting path:' + os.getcwd())\n",
    "if os.getcwd()[-18:] == 'VESUVIUS_Challenge':\n",
    "    pass\n",
    "else:\n",
    "    PATH = Path().resolve().parents[0]\n",
    "    os.chdir(PATH)\n",
    "\n",
    "# make sure you are in Paragraph_to_Tex folder\n",
    "print('Current path:' + os.getcwd())"
   ]
  },
  {
   "cell_type": "code",
   "execution_count": 2,
   "id": "d4b529f5",
   "metadata": {},
   "outputs": [],
   "source": [
    "import torch\n",
    "import torch.nn as nn\n",
    "import torch.optim as optim\n",
    "import numpy as np\n",
    "import glob\n",
    "import PIL.Image as Image\n",
    "import torch.utils.data as data\n",
    "import matplotlib.pyplot as plt\n",
    "import matplotlib.patches as patches\n",
    "from tqdm import tqdm\n",
    "from ipywidgets import interact, fixed\n",
    "DEVICE = torch.device(\"cuda\" if torch.cuda.is_available() else \"cpu\")\n"
   ]
  },
  {
   "cell_type": "code",
   "execution_count": 3,
   "id": "056e2294",
   "metadata": {},
   "outputs": [],
   "source": [
    "PREFIX = 'kaggle/input/vesuvius-challenge/train/3/'\n",
    "BUFFER = 30  # Buffer size in x and y direction\n",
    "Z_START = 27 # First slice in the z direction to use\n",
    "Z_DIM = 10"
   ]
  },
  {
   "cell_type": "code",
   "execution_count": 4,
   "id": "2543b730",
   "metadata": {},
   "outputs": [],
   "source": [
    "z_slices_fnames = []"
   ]
  },
  {
   "cell_type": "code",
   "execution_count": 5,
   "id": "033bf3be",
   "metadata": {},
   "outputs": [],
   "source": [
    "z_slices_fnames += sorted(glob.glob(f\"{'kaggle/input/vesuvius-challenge/'}/{'train'}/{1}/surface_volume/*.tif\"))[Z_START:Z_START + Z_DIM]"
   ]
  },
  {
   "cell_type": "code",
   "execution_count": 6,
   "id": "b9b86429",
   "metadata": {},
   "outputs": [],
   "source": [
    "z_slices_fnames += sorted(glob.glob(f\"{'kaggle/input/vesuvius-challenge/'}/{'train'}/{2}/surface_volume/*.tif\"))[Z_START:Z_START + Z_DIM]"
   ]
  },
  {
   "cell_type": "code",
   "execution_count": 7,
   "id": "5a5539b5",
   "metadata": {},
   "outputs": [
    {
     "data": {
      "text/plain": [
       "['kaggle/input/vesuvius-challenge//train/1/surface_volume/27.tif',\n",
       " 'kaggle/input/vesuvius-challenge//train/1/surface_volume/28.tif',\n",
       " 'kaggle/input/vesuvius-challenge//train/1/surface_volume/29.tif',\n",
       " 'kaggle/input/vesuvius-challenge//train/1/surface_volume/30.tif',\n",
       " 'kaggle/input/vesuvius-challenge//train/1/surface_volume/31.tif',\n",
       " 'kaggle/input/vesuvius-challenge//train/1/surface_volume/32.tif',\n",
       " 'kaggle/input/vesuvius-challenge//train/1/surface_volume/33.tif',\n",
       " 'kaggle/input/vesuvius-challenge//train/1/surface_volume/34.tif',\n",
       " 'kaggle/input/vesuvius-challenge//train/1/surface_volume/35.tif',\n",
       " 'kaggle/input/vesuvius-challenge//train/1/surface_volume/36.tif',\n",
       " 'kaggle/input/vesuvius-challenge//train/2/surface_volume/27.tif',\n",
       " 'kaggle/input/vesuvius-challenge//train/2/surface_volume/28.tif',\n",
       " 'kaggle/input/vesuvius-challenge//train/2/surface_volume/29.tif',\n",
       " 'kaggle/input/vesuvius-challenge//train/2/surface_volume/30.tif',\n",
       " 'kaggle/input/vesuvius-challenge//train/2/surface_volume/31.tif',\n",
       " 'kaggle/input/vesuvius-challenge//train/2/surface_volume/32.tif',\n",
       " 'kaggle/input/vesuvius-challenge//train/2/surface_volume/33.tif',\n",
       " 'kaggle/input/vesuvius-challenge//train/2/surface_volume/34.tif',\n",
       " 'kaggle/input/vesuvius-challenge//train/2/surface_volume/35.tif',\n",
       " 'kaggle/input/vesuvius-challenge//train/2/surface_volume/36.tif']"
      ]
     },
     "execution_count": 7,
     "metadata": {},
     "output_type": "execute_result"
    }
   ],
   "source": [
    "z_slices_fnames"
   ]
  },
  {
   "cell_type": "code",
   "execution_count": 8,
   "id": "4315e85e",
   "metadata": {},
   "outputs": [
    {
     "name": "stderr",
     "output_type": "stream",
     "text": [
      "100%|████████████████████████████████████████████████████████████████████████████████████████████████████████████████████████| 10/10 [00:02<00:00,  4.54it/s]\n"
     ]
    }
   ],
   "source": [
    "images = [np.array(Image.open(filename), dtype=np.float32)/65535.0 for filename in tqdm(sorted(glob.glob(PREFIX+\"surface_volume/*.tif\"))[Z_START:Z_START+Z_DIM])]\n",
    "image_stack = torch.stack([torch.from_numpy(image) for image in images], dim=0).to(DEVICE)\n",
    "#Z_START =  # First slice in the z direction to use\n",
    "#Z_DIM = image_stack.shape[0]   # Number of slices in the z direction"
   ]
  },
  {
   "cell_type": "code",
   "execution_count": 9,
   "id": "9f27d4b2",
   "metadata": {},
   "outputs": [],
   "source": [
    "image_stack.shape\n",
    "\n",
    "Z_DIM = image_stack.shape[0]   # Number of slices in the z direction"
   ]
  },
  {
   "cell_type": "code",
   "execution_count": 10,
   "id": "ab44a8c5",
   "metadata": {},
   "outputs": [
    {
     "data": {
      "text/plain": [
       "torch.Size([10, 7606, 5249])"
      ]
     },
     "execution_count": 10,
     "metadata": {},
     "output_type": "execute_result"
    }
   ],
   "source": [
    "image_stack.shape"
   ]
  },
  {
   "cell_type": "code",
   "execution_count": 11,
   "id": "1e09301a",
   "metadata": {},
   "outputs": [],
   "source": [
    "class SubvolumeDataset(data.Dataset):\n",
    "    \n",
    "    def __init__(self, image_stack, label, pixels):\n",
    "        self.image_stack = image_stack\n",
    "        self.label = label\n",
    "        self.pixels = pixels\n",
    "        \n",
    "    def __len__(self):\n",
    "        return len(self.pixels)\n",
    "    \n",
    "    def __getitem__(self, index):\n",
    "        y, x = self.pixels[index]\n",
    "\n",
    "        subvolume = self.image_stack[:, y-BUFFER:y+BUFFER+1, x-BUFFER:x+BUFFER+1].view(1, Z_DIM, BUFFER*2+1, BUFFER*2+1)\n",
    "        inklabel = self.label[y, x].view(1)\n",
    "        return subvolume, inklabel\n"
   ]
  },
  {
   "cell_type": "code",
   "execution_count": 12,
   "id": "8c4e1ff6",
   "metadata": {},
   "outputs": [],
   "source": [
    "mask = np.array(Image.open(PREFIX+\"mask.png\").convert('1'))\n",
    "label = torch.from_numpy(np.array(Image.open(PREFIX+\"inklabels.png\"))).gt(0).float().to(DEVICE)"
   ]
  },
  {
   "cell_type": "code",
   "execution_count": 13,
   "id": "90e90ec4",
   "metadata": {},
   "outputs": [],
   "source": [
    "a = torch.ones((10,20,30))\n",
    "b = torch.zeros((10,20,30))\n",
    "aa = torch.stack([a,a], dim=0)\n",
    "bb = torch.stack([b,b], dim=0)\n",
    "aaa = [aa,bb]"
   ]
  },
  {
   "cell_type": "code",
   "execution_count": 14,
   "id": "302fa54e",
   "metadata": {},
   "outputs": [
    {
     "data": {
      "text/plain": [
       "torch.Size([2, 10, 20, 30])"
      ]
     },
     "execution_count": 14,
     "metadata": {},
     "output_type": "execute_result"
    }
   ],
   "source": [
    "aa.shape"
   ]
  },
  {
   "cell_type": "code",
   "execution_count": 15,
   "id": "0e04fe37",
   "metadata": {},
   "outputs": [],
   "source": [
    "volume = torch.cat([aaa[0], aaa[1]], axis=1)"
   ]
  },
  {
   "cell_type": "code",
   "execution_count": 16,
   "id": "a61c8f0f",
   "metadata": {},
   "outputs": [
    {
     "data": {
      "text/plain": [
       "torch.Size([2, 20, 20, 30])"
      ]
     },
     "execution_count": 16,
     "metadata": {},
     "output_type": "execute_result"
    }
   ],
   "source": [
    "volume.shape"
   ]
  },
  {
   "cell_type": "code",
   "execution_count": 17,
   "id": "7a75d3cf",
   "metadata": {},
   "outputs": [
    {
     "data": {
      "image/png": "[encoded data removed]",
      "text/plain": [
       "<Figure size 640x480 with 1 Axes>"
      ]
     },
     "metadata": {},
     "output_type": "display_data"
    }
   ],
   "source": [
    "rect = (1100, 3500, 700, 950)\n",
    "fig, ax = plt.subplots()\n",
    "ax.imshow(label.cpu())\n",
    "patch = patches.Rectangle((rect[0], rect[1]), rect[2], rect[3], linewidth=2, edgecolor='r', facecolor='none')\n",
    "ax.add_patch(patch)\n",
    "plt.show()"
   ]
  },
  {
   "cell_type": "code",
   "execution_count": 18,
   "id": "0ff02593",
   "metadata": {},
   "outputs": [],
   "source": [
    "# part for validation to be removed\n",
    "rect = (1100, 3500, 700, 950)\n",
    "\n",
    "#Create vector of zeros (size of mask)\n",
    "not_border = np.zeros(mask.shape, dtype=bool)\n",
    "\n",
    "# set the borders the size of BUFFER to be 0's (False) and the rest 1's (True)\n",
    "not_border[BUFFER:mask.shape[0]-BUFFER, BUFFER:mask.shape[1]-BUFFER] = True\n",
    "\n",
    "# we make sure the borders of size buffer are 0's or False \n",
    "arr_mask = np.array(mask) * not_border\n",
    "\n",
    "# create tensor of zeros and set the removed/validatoion part to True\n",
    "inside_rect = np.zeros(mask.shape, dtype=bool) * arr_mask\n",
    "inside_rect[rect[1]:rect[1]+rect[3]+1, rect[0]:rect[0]+rect[2]+1] = True\n",
    "\n",
    "# create a tensor similar to arr_mask and set the removed part to False\n",
    "outside_rect = np.ones(mask.shape, dtype=bool) * arr_mask\n",
    "outside_rect[rect[1]:rect[1]+rect[3]+1, rect[0]:rect[0]+rect[2]+1] = False\n",
    "\n",
    "# we obtain indices for validation rectangle\n",
    "pixels_inside_rect = np.argwhere(inside_rect)\n",
    "\n",
    "# we obtain indices without the validation rectangle part\n",
    "pixels_outside_rect = np.argwhere(outside_rect)\n"
   ]
  },
  {
   "cell_type": "code",
   "execution_count": 19,
   "id": "6a7a73d6",
   "metadata": {},
   "outputs": [
    {
     "data": {
      "text/plain": [
       "[[], [], []]"
      ]
     },
     "execution_count": 19,
     "metadata": {},
     "output_type": "execute_result"
    }
   ],
   "source": [
    "l=[[] for _ in range(3)]\n",
    "l"
   ]
  },
  {
   "cell_type": "code",
   "execution_count": 20,
   "id": "d46bc1e2",
   "metadata": {},
   "outputs": [],
   "source": [
    "train_dataset = SubvolumeDataset(image_stack, label, pixels_outside_rect)"
   ]
  },
  {
   "cell_type": "code",
   "execution_count": 21,
   "id": "5ba17cf1",
   "metadata": {},
   "outputs": [],
   "source": [
    "k=0\n",
    "a,b = None, None\n",
    "for s,i in train_dataset:\n",
    "    if k==2:\n",
    "        break\n",
    "    a =s\n",
    "    b =i\n",
    "    k+=1\n",
    "    "
   ]
  },
  {
   "cell_type": "code",
   "execution_count": null,
   "id": "8dc9391c",
   "metadata": {},
   "outputs": [],
   "source": []
  },
  {
   "cell_type": "code",
   "execution_count": 22,
   "id": "887b65dd",
   "metadata": {},
   "outputs": [
    {
     "name": "stdout",
     "output_type": "stream",
     "text": [
      "torch.Size([1, 10, 61, 61]) tensor([0.])\n"
     ]
    }
   ],
   "source": [
    "# part with ink\n",
    "train_dataset.label[5001, 2583]\n",
    "train_dataset.pixels[18100000]\n",
    "print(train_dataset[18100000][0].shape,train_dataset[18100000][1])"
   ]
  },
  {
   "cell_type": "code",
   "execution_count": 23,
   "id": "245b301f",
   "metadata": {},
   "outputs": [],
   "source": [
    "def load_slices( z_slices_fnames):\n",
    "    images = []\n",
    "    for z, filename in tqdm(enumerate(z_slices_fnames)):\n",
    "        img = Image.open(filename)\n",
    "        img = resize(img)\n",
    "        z_slice = np.array(img, dtype=\"float32\")/65535.0\n",
    "        images.append(z_slice)\n",
    "    return torch.stack([torch.from_numpy(image) for image in images], dim=0).to(DEVICE)\n",
    "\n",
    "\n",
    "\n",
    "def load_mask( split, index):\n",
    "    img = Image.open(f\"{PATH}/{split}/{index}/mask.png\").convert('1')\n",
    "    img = resize(img)\n",
    "    return np.array(img)\n",
    "\n",
    "\n",
    "\n",
    "def load_labels( split, index):\n",
    "    img = Image.open(f\"{PATH}/{split}/{index}/inklabels.png\")\n",
    "    img = resize(img)\n",
    "    return torch.from_numpy(np.array(img)).gt(0).float().to(DEVICE)\n",
    "\n",
    "\n",
    "def resize( img):\n",
    "    current_width, current_height = img.size\n",
    "    aspect_ratio = current_width / current_height\n",
    "    new_width = int(5000 * aspect_ratio)\n",
    "    new_size = (new_width, 5000)\n",
    "    img = img.resize(new_size)\n",
    "    return img\n",
    "\n",
    "\n",
    "\n",
    "def split_train_val(mask):\n",
    "    rect = self.validation_rect\n",
    "    not_border = np.zeros(mask.shape, dtype=bool)\n",
    "    not_border[self.buffer:mask.shape[0] - 30, 30:mask.shape[1] - 30] = True\n",
    "    arr_mask = np.array(mask) * not_border\n",
    "    inside_rect = np.zeros(mask.shape, dtype=bool) * arr_mask\n",
    "    inside_rect[rect[1]:rect[1] + rect[3] + 1, rect[0]:rect[0] + rect[2] + 1] = True\n",
    "    outside_rect = np.ones(mask.shape, dtype=bool) * arr_mask\n",
    "    outside_rect[rect[1]:rect[1] + rect[3] + 1, rect[0]:rect[0] + rect[2] + 1] = False\n",
    "    pixels_inside_rect = np.argwhere(inside_rect)\n",
    "    pixels_outside_rect = np.argwhere(outside_rect)\n",
    "    return pixels_outside_rect, pixels_inside_rect\n",
    "\n",
    "\n"
   ]
  },
  {
   "cell_type": "code",
   "execution_count": 24,
   "id": "994645dd",
   "metadata": {},
   "outputs": [],
   "source": [
    "PATH = 'kaggle/input/vesuvius-challenge/'\n",
    "rect = (1100, 3500, 700, 950)\n",
    "DEVICE = torch.device(\"cuda\" if torch.cuda.is_available() else \"cpu\")\n",
    "z_start = 27\n",
    "z_dim = 10\n",
    "scroll_fragments = [1,2,3]"
   ]
  },
  {
   "cell_type": "code",
   "execution_count": 25,
   "id": "daed0024",
   "metadata": {},
   "outputs": [],
   "source": [
    "z_slices = [[] for _ in range(3)]\n",
    "labels =  [[] for _ in range(3)]\n",
    "masks = [[] for _ in range(3)]"
   ]
  },
  {
   "cell_type": "code",
   "execution_count": 26,
   "id": "243edbda",
   "metadata": {},
   "outputs": [
    {
     "name": "stderr",
     "output_type": "stream",
     "text": [
      "/Users/gregory/anaconda3/lib/python3.10/site-packages/PIL/Image.py:3167: DecompressionBombWarning: Image size (140973980 pixels) exceeds limit of 89478485 pixels, could be decompression bomb DOS attack.\n",
      "  warnings.warn(\n"
     ]
    }
   ],
   "source": [
    "for i in scroll_fragments:\n",
    "    # get z_slices .tiffs paths\n",
    "    z_slices[i-1] += sorted(glob.glob(f\"{PATH}/{'train'}/{i}/surface_volume/*.tif\"))[z_start:z_start + z_dim]\n",
    "    # get labels\n",
    "    labels[i-1] = load_labels('train', i)\n",
    "    # get masks\n",
    "    masks[i-1] = load_mask('train', i)"
   ]
  },
  {
   "cell_type": "code",
   "execution_count": 27,
   "id": "70554130",
   "metadata": {},
   "outputs": [
    {
     "name": "stderr",
     "output_type": "stream",
     "text": [
      "10it [00:02,  3.76it/s]\n",
      "10it [00:06,  1.65it/s]\n",
      "10it [00:02,  4.94it/s]\n"
     ]
    }
   ],
   "source": [
    " # get images of z-slices and convert them to tensors\n",
    "images = [[] for _ in range(len(scroll_fragments))]\n",
    "for i in range(len(scroll_fragments)):\n",
    "    images[i] = load_slices(z_slices[i])"
   ]
  },
  {
   "cell_type": "code",
   "execution_count": 28,
   "id": "b5db5427",
   "metadata": {},
   "outputs": [
    {
     "data": {
      "text/plain": [
       "torch.Size([10, 5000, 3868])"
      ]
     },
     "execution_count": 28,
     "metadata": {},
     "output_type": "execute_result"
    }
   ],
   "source": [
    "images[0].shape"
   ]
  },
  {
   "cell_type": "code",
   "execution_count": 29,
   "id": "ce1f1e24",
   "metadata": {},
   "outputs": [
    {
     "data": {
      "text/plain": [
       "torch.Size([10, 5000, 3204])"
      ]
     },
     "execution_count": 29,
     "metadata": {},
     "output_type": "execute_result"
    }
   ],
   "source": [
    "images[1].shape"
   ]
  },
  {
   "cell_type": "code",
   "execution_count": 30,
   "id": "1a81c41d",
   "metadata": {},
   "outputs": [
    {
     "data": {
      "text/plain": [
       "torch.Size([10, 5000, 3450])"
      ]
     },
     "execution_count": 30,
     "metadata": {},
     "output_type": "execute_result"
    }
   ],
   "source": [
    "images[2].shape"
   ]
  },
  {
   "cell_type": "code",
   "execution_count": null,
   "id": "efbc8eab",
   "metadata": {},
   "outputs": [],
   "source": []
  },
  {
   "cell_type": "code",
   "execution_count": 31,
   "id": "617c7342",
   "metadata": {},
   "outputs": [],
   "source": [
    "images_tensors = torch.cat([image for image in images], axis=-1)\n",
    "label_tensors =  torch.cat([label for label in labels], axis=-1)\n",
    "mask_tensors =  np.concatenate([mask for mask in masks], axis=-1)"
   ]
  },
  {
   "cell_type": "code",
   "execution_count": 32,
   "id": "7e97d3a6",
   "metadata": {},
   "outputs": [
    {
     "data": {
      "text/plain": [
       "torch.Size([5000, 10522])"
      ]
     },
     "execution_count": 32,
     "metadata": {},
     "output_type": "execute_result"
    }
   ],
   "source": [
    "label_tensors.shape"
   ]
  },
  {
   "cell_type": "code",
   "execution_count": 33,
   "id": "0ea3088a",
   "metadata": {},
   "outputs": [
    {
     "data": {
      "text/plain": [
       "torch.Size([10, 5000, 10522])"
      ]
     },
     "execution_count": 33,
     "metadata": {},
     "output_type": "execute_result"
    }
   ],
   "source": [
    "images_tensors.shape"
   ]
  },
  {
   "cell_type": "code",
   "execution_count": 34,
   "id": "84e75326",
   "metadata": {},
   "outputs": [
    {
     "data": {
      "text/plain": [
       "(5000, 10522)"
      ]
     },
     "execution_count": 34,
     "metadata": {},
     "output_type": "execute_result"
    }
   ],
   "source": [
    "mask_tensors.shape"
   ]
  },
  {
   "cell_type": "code",
   "execution_count": 37,
   "id": "fa668cc7",
   "metadata": {},
   "outputs": [
    {
     "data": {
      "text/plain": [
       "torch.Size([5000, 10522])"
      ]
     },
     "execution_count": 37,
     "metadata": {},
     "output_type": "execute_result"
    }
   ],
   "source": [
    "label_tensors.shape"
   ]
  },
  {
   "cell_type": "code",
   "execution_count": null,
   "id": "50138f84",
   "metadata": {},
   "outputs": [],
   "source": [
    "data"
   ]
  },
  {
   "cell_type": "code",
   "execution_count": null,
   "id": "cfa9a640",
   "metadata": {},
   "outputs": [],
   "source": []
  },
  {
   "cell_type": "code",
   "execution_count": null,
   "id": "17afe67b",
   "metadata": {},
   "outputs": [],
   "source": []
  },
  {
   "cell_type": "code",
   "execution_count": null,
   "id": "cd3430e6",
   "metadata": {},
   "outputs": [],
   "source": []
  },
  {
   "cell_type": "code",
   "execution_count": null,
   "id": "d63f829a",
   "metadata": {},
   "outputs": [],
   "source": []
  },
  {
   "cell_type": "code",
   "execution_count": 35,
   "id": "5e3b68d6",
   "metadata": {},
   "outputs": [
    {
     "name": "stderr",
     "output_type": "stream",
     "text": [
      "/Users/gregory/anaconda3/lib/python3.10/site-packages/torchvision/models/_utils.py:208: UserWarning: The parameter 'pretrained' is deprecated since 0.13 and may be removed in the future, please use 'weights' instead.\n",
      "  warnings.warn(\n",
      "/Users/gregory/anaconda3/lib/python3.10/site-packages/torchvision/models/_utils.py:223: UserWarning: Arguments other than a weight enum or `None` for 'weights' are deprecated since 0.13 and may be removed in the future. The current behavior is equivalent to passing `weights=None`.\n",
      "  warnings.warn(msg)\n"
     ]
    },
    {
     "data": {
      "text/plain": [
       "ResNet(\n",
       "  (conv1): Conv2d(3, 64, kernel_size=(7, 7), stride=(2, 2), padding=(3, 3), bias=False)\n",
       "  (bn1): BatchNorm2d(64, eps=1e-05, momentum=0.1, affine=True, track_running_stats=True)\n",
       "  (relu): ReLU(inplace=True)\n",
       "  (maxpool): MaxPool2d(kernel_size=3, stride=2, padding=1, dilation=1, ceil_mode=False)\n",
       "  (layer1): Sequential(\n",
       "    (0): BasicBlock(\n",
       "      (conv1): Conv2d(64, 64, kernel_size=(3, 3), stride=(1, 1), padding=(1, 1), bias=False)\n",
       "      (bn1): BatchNorm2d(64, eps=1e-05, momentum=0.1, affine=True, track_running_stats=True)\n",
       "      (relu): ReLU(inplace=True)\n",
       "      (conv2): Conv2d(64, 64, kernel_size=(3, 3), stride=(1, 1), padding=(1, 1), bias=False)\n",
       "      (bn2): BatchNorm2d(64, eps=1e-05, momentum=0.1, affine=True, track_running_stats=True)\n",
       "    )\n",
       "    (1): BasicBlock(\n",
       "      (conv1): Conv2d(64, 64, kernel_size=(3, 3), stride=(1, 1), padding=(1, 1), bias=False)\n",
       "      (bn1): BatchNorm2d(64, eps=1e-05, momentum=0.1, affine=True, track_running_stats=True)\n",
       "      (relu): ReLU(inplace=True)\n",
       "      (conv2): Conv2d(64, 64, kernel_size=(3, 3), stride=(1, 1), padding=(1, 1), bias=False)\n",
       "      (bn2): BatchNorm2d(64, eps=1e-05, momentum=0.1, affine=True, track_running_stats=True)\n",
       "    )\n",
       "  )\n",
       "  (layer2): Sequential(\n",
       "    (0): BasicBlock(\n",
       "      (conv1): Conv2d(64, 128, kernel_size=(3, 3), stride=(2, 2), padding=(1, 1), bias=False)\n",
       "      (bn1): BatchNorm2d(128, eps=1e-05, momentum=0.1, affine=True, track_running_stats=True)\n",
       "      (relu): ReLU(inplace=True)\n",
       "      (conv2): Conv2d(128, 128, kernel_size=(3, 3), stride=(1, 1), padding=(1, 1), bias=False)\n",
       "      (bn2): BatchNorm2d(128, eps=1e-05, momentum=0.1, affine=True, track_running_stats=True)\n",
       "      (downsample): Sequential(\n",
       "        (0): Conv2d(64, 128, kernel_size=(1, 1), stride=(2, 2), bias=False)\n",
       "        (1): BatchNorm2d(128, eps=1e-05, momentum=0.1, affine=True, track_running_stats=True)\n",
       "      )\n",
       "    )\n",
       "    (1): BasicBlock(\n",
       "      (conv1): Conv2d(128, 128, kernel_size=(3, 3), stride=(1, 1), padding=(1, 1), bias=False)\n",
       "      (bn1): BatchNorm2d(128, eps=1e-05, momentum=0.1, affine=True, track_running_stats=True)\n",
       "      (relu): ReLU(inplace=True)\n",
       "      (conv2): Conv2d(128, 128, kernel_size=(3, 3), stride=(1, 1), padding=(1, 1), bias=False)\n",
       "      (bn2): BatchNorm2d(128, eps=1e-05, momentum=0.1, affine=True, track_running_stats=True)\n",
       "    )\n",
       "  )\n",
       "  (layer3): Sequential(\n",
       "    (0): BasicBlock(\n",
       "      (conv1): Conv2d(128, 256, kernel_size=(3, 3), stride=(2, 2), padding=(1, 1), bias=False)\n",
       "      (bn1): BatchNorm2d(256, eps=1e-05, momentum=0.1, affine=True, track_running_stats=True)\n",
       "      (relu): ReLU(inplace=True)\n",
       "      (conv2): Conv2d(256, 256, kernel_size=(3, 3), stride=(1, 1), padding=(1, 1), bias=False)\n",
       "      (bn2): BatchNorm2d(256, eps=1e-05, momentum=0.1, affine=True, track_running_stats=True)\n",
       "      (downsample): Sequential(\n",
       "        (0): Conv2d(128, 256, kernel_size=(1, 1), stride=(2, 2), bias=False)\n",
       "        (1): BatchNorm2d(256, eps=1e-05, momentum=0.1, affine=True, track_running_stats=True)\n",
       "      )\n",
       "    )\n",
       "    (1): BasicBlock(\n",
       "      (conv1): Conv2d(256, 256, kernel_size=(3, 3), stride=(1, 1), padding=(1, 1), bias=False)\n",
       "      (bn1): BatchNorm2d(256, eps=1e-05, momentum=0.1, affine=True, track_running_stats=True)\n",
       "      (relu): ReLU(inplace=True)\n",
       "      (conv2): Conv2d(256, 256, kernel_size=(3, 3), stride=(1, 1), padding=(1, 1), bias=False)\n",
       "      (bn2): BatchNorm2d(256, eps=1e-05, momentum=0.1, affine=True, track_running_stats=True)\n",
       "    )\n",
       "  )\n",
       "  (layer4): Sequential(\n",
       "    (0): BasicBlock(\n",
       "      (conv1): Conv2d(256, 512, kernel_size=(3, 3), stride=(2, 2), padding=(1, 1), bias=False)\n",
       "      (bn1): BatchNorm2d(512, eps=1e-05, momentum=0.1, affine=True, track_running_stats=True)\n",
       "      (relu): ReLU(inplace=True)\n",
       "      (conv2): Conv2d(512, 512, kernel_size=(3, 3), stride=(1, 1), padding=(1, 1), bias=False)\n",
       "      (bn2): BatchNorm2d(512, eps=1e-05, momentum=0.1, affine=True, track_running_stats=True)\n",
       "      (downsample): Sequential(\n",
       "        (0): Conv2d(256, 512, kernel_size=(1, 1), stride=(2, 2), bias=False)\n",
       "        (1): BatchNorm2d(512, eps=1e-05, momentum=0.1, affine=True, track_running_stats=True)\n",
       "      )\n",
       "    )\n",
       "    (1): BasicBlock(\n",
       "      (conv1): Conv2d(512, 512, kernel_size=(3, 3), stride=(1, 1), padding=(1, 1), bias=False)\n",
       "      (bn1): BatchNorm2d(512, eps=1e-05, momentum=0.1, affine=True, track_running_stats=True)\n",
       "      (relu): ReLU(inplace=True)\n",
       "      (conv2): Conv2d(512, 512, kernel_size=(3, 3), stride=(1, 1), padding=(1, 1), bias=False)\n",
       "      (bn2): BatchNorm2d(512, eps=1e-05, momentum=0.1, affine=True, track_running_stats=True)\n",
       "    )\n",
       "  )\n",
       "  (avgpool): AdaptiveAvgPool2d(output_size=(1, 1))\n",
       "  (fc): Linear(in_features=512, out_features=1000, bias=True)\n",
       ")"
      ]
     },
     "execution_count": 35,
     "metadata": {},
     "output_type": "execute_result"
    }
   ],
   "source": [
    "from torchvision import models\n",
    "models.resnet18(pretrained=False)"
   ]
  },
  {
   "cell_type": "code",
   "execution_count": null,
   "id": "824abacf",
   "metadata": {},
   "outputs": [],
   "source": []
  }
 ],
 "metadata": {
  "kernelspec": {
   "display_name": "Python 3 (ipykernel)",
   "language": "python",
   "name": "python3"
  },
  "language_info": {
   "codemirror_mode": {
    "name": "ipython",
    "version": 3
   },
   "file_extension": ".py",
   "mimetype": "text/x-python",
   "name": "python",
   "nbconvert_exporter": "python",
   "pygments_lexer": "ipython3",
   "version": "3.10.9"
  }
 },
 "nbformat": 4,
 "nbformat_minor": 5
}
