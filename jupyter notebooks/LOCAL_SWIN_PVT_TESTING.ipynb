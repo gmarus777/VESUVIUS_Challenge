{
 "cells": [
  {
   "cell_type": "code",
   "execution_count": 3,
   "id": "dc3f07c9",
   "metadata": {},
   "outputs": [
    {
     "name": "stdout",
     "output_type": "stream",
     "text": [
      "Starting path:/Users/gregory/PROJECT_ML/VESUVIUS_Challenge/jupyter notebooks\n",
      "Current path:/Users/gregory/PROJECT_ML/VESUVIUS_Challenge\n"
     ]
    }
   ],
   "source": [
    "# Here we take care of paths.\n",
    "# Make sure root project directory is named 'VESUVIUS_Challenge' for this to work\n",
    "\n",
    "from pathlib import Path\n",
    "import os\n",
    "print('Starting path:' + os.getcwd())\n",
    "if os.getcwd()[-18:] == 'VESUVIUS_Challenge':\n",
    "    pass\n",
    "else:\n",
    "    PATH = Path().resolve().parents[0]\n",
    "    os.chdir(PATH)\n",
    "\n",
    "# make sure you are in the root folder of the project\n",
    "print('Current path:' + os.getcwd())"
   ]
  },
  {
   "cell_type": "code",
   "execution_count": 4,
   "id": "633920da",
   "metadata": {},
   "outputs": [],
   "source": [
    "import torch\n",
    "import monai\n",
    "from monai.visualize import matshow3d\n",
    "import segmentation_models_pytorch as smp\n",
    "import matplotlib.pyplot as plt\n",
    "import tempfile\n",
    "import shutil\n",
    "import os\n",
    "import glob\n",
    "import cv2\n",
    "import numpy as np\n",
    "import pandas as pd\n",
    "from tqdm.auto import tqdm\n",
    "from typing import Tuple, List\n",
    "import albumentations as A\n",
    "from albumentations.pytorch import ToTensorV2\n",
    "import pytorch_lightning as pl\n",
    "from pytorch_lightning import Trainer\n",
    "from Data_Modules.Vesuvius_Dataset import Vesuvius_Tile_Datamodule\n",
    "from lit_models.Vesuvius_Lit_Model import Lit_Model\n",
    "from pytorch_lightning.callbacks import ModelCheckpoint\n",
    "import torch.nn as nn\n",
    "import torchvision\n",
    "\n",
    "from Models.PVT_model import PyramidVisionTransformerV2\n",
    "from Models.Swin import SwinTransformer, SwinTransformerBlockV2, PatchMergingV2\n",
    "import torch.nn as nn\n",
    "from functools import partial\n",
    "import timm\n"
   ]
  },
  {
   "cell_type": "code",
   "execution_count": 5,
   "id": "dd1d8dc5",
   "metadata": {},
   "outputs": [],
   "source": [
    "# need a tensor torch.Size([8, 16, 224, 224])\n",
    "\n",
    "x = torch.randn(8,16,256,256)"
   ]
  },
  {
   "cell_type": "code",
   "execution_count": 7,
   "id": "9efeabb4",
   "metadata": {},
   "outputs": [],
   "source": [
    "pvt = PyramidVisionTransformerV2(img_size=256,\n",
    "                                  patch_size=4,\n",
    "                                  in_chans=16,\n",
    "                                  num_classes=1,\n",
    "                                  embed_dims=[32, 64, 128, 256,],\n",
    "                                num_heads=[1, 2, 4, 8],\n",
    "                                  mlp_ratios=[4, 4, 4, 4],\n",
    "                                  qkv_bias=True,\n",
    "                                  qk_scale=None,\n",
    "                                  drop_rate=0.,\n",
    "                                attn_drop_rate=0.,\n",
    "                                  drop_path_rate=0.1,\n",
    "                                  norm_layer=partial(nn.LayerNorm, eps=1e-6),\n",
    "                                  depths=[2, 2, 2, 2],\n",
    "                                  sr_ratios=[8, 4, 2, 1]\n",
    "                                 )\n",
    "\n",
    "\n"
   ]
  },
  {
   "cell_type": "markdown",
   "id": "11f468bb",
   "metadata": {},
   "source": [
    "# PVT"
   ]
  },
  {
   "cell_type": "code",
   "execution_count": 8,
   "id": "0fef90b9",
   "metadata": {},
   "outputs": [],
   "source": [
    "pvt_output = pvt(x)"
   ]
  },
  {
   "cell_type": "code",
   "execution_count": 9,
   "id": "105973ed",
   "metadata": {},
   "outputs": [
    {
     "name": "stdout",
     "output_type": "stream",
     "text": [
      "pvt outputs 5 tensors\n",
      "torch.Size([8, 16, 256, 256])\n",
      "torch.Size([8, 32, 64, 64])\n",
      "torch.Size([8, 64, 32, 32])\n",
      "torch.Size([8, 128, 16, 16])\n",
      "torch.Size([8, 256, 8, 8])\n"
     ]
    }
   ],
   "source": [
    "print('pvt outputs', len(pvt_output), 'tensors')\n",
    "for t in pvt_output:\n",
    "    print(t.shape)"
   ]
  },
  {
   "cell_type": "code",
   "execution_count": 7,
   "id": "cd527cc9",
   "metadata": {},
   "outputs": [
    {
     "data": {
      "text/plain": [
       "64"
      ]
     },
     "execution_count": 7,
     "metadata": {},
     "output_type": "execute_result"
    }
   ],
   "source": [
    "pvt_output[1].shape[1]"
   ]
  },
  {
   "cell_type": "markdown",
   "id": "86a29387",
   "metadata": {},
   "source": [
    "## SWIN"
   ]
  },
  {
   "cell_type": "code",
   "execution_count": 8,
   "id": "a2eb570d",
   "metadata": {},
   "outputs": [],
   "source": [
    "swin = SwinTransformer(\n",
    "         #patch_size=[4, 4],\n",
    "        embed_dim=96,\n",
    "        depths=[2, 2, 4, ],\n",
    "        num_heads=[2, 4, 8, ],\n",
    "        window_size=[8, 8],\n",
    "        #in_channels = 128,\n",
    "        stochastic_depth_prob=0.2,\n",
    "        #weights=weights,\n",
    "        #progress=progress,\n",
    "        block=SwinTransformerBlockV2,\n",
    "        downsample_layer=PatchMergingV2,)"
   ]
  },
  {
   "cell_type": "code",
   "execution_count": 9,
   "id": "80c62d17",
   "metadata": {
    "scrolled": false
   },
   "outputs": [],
   "source": [
    "outputs = []\n",
    "for out in pvt_output:\n",
    "    swin_out = swin(out)\n",
    "    outputs.append(swin_out)"
   ]
  },
  {
   "cell_type": "code",
   "execution_count": 10,
   "id": "d407426e",
   "metadata": {},
   "outputs": [
    {
     "name": "stdout",
     "output_type": "stream",
     "text": [
      "torch.Size([8, 384, 64, 64])\n",
      "torch.Size([8, 384, 16, 16])\n",
      "torch.Size([8, 384, 8, 8])\n",
      "torch.Size([8, 384, 4, 4])\n",
      "torch.Size([8, 384, 2, 2])\n"
     ]
    }
   ],
   "source": [
    "for out in outputs:\n",
    "    print(out.shape)"
   ]
  },
  {
   "cell_type": "code",
   "execution_count": 19,
   "id": "2b7c2125",
   "metadata": {},
   "outputs": [],
   "source": [
    "class PVT_w_SWIM(nn.Module):\n",
    "    def __init__(self, img_size = 256,in_channels =16,  ):\n",
    "        \n",
    "        \n",
    "        super().__init__()\n",
    "        self.pvt = pvt = PyramidVisionTransformerV2(img_size=img_size,\n",
    "                                  patch_size=4,\n",
    "                                  in_chans=in_channels,\n",
    "                                  num_classes=1,\n",
    "                                  embed_dims=[32, 64, 128, 256,],\n",
    "                                num_heads=[1, 2, 4, 8],\n",
    "                                  mlp_ratios=[4, 4, 4, 4],\n",
    "                                  qkv_bias=True,\n",
    "                                  qk_scale=None,\n",
    "                                  drop_rate=0.,\n",
    "                                attn_drop_rate=0.,\n",
    "                                  drop_path_rate=0.1,\n",
    "                                  norm_layer=partial(nn.LayerNorm, eps=1e-6),\n",
    "                                  depths=[2, 2, 2, 2],\n",
    "                                  sr_ratios=[8, 4, 2, 1]\n",
    "                                 )\n",
    "        \n",
    "        self.swin = SwinTransformer(#patch_size=[4, 4],\n",
    "                                    embed_dim=48,\n",
    "                                    depths=[2, 2, 2, ],\n",
    "                                    num_heads=[2, 4, 8, ],\n",
    "                                    window_size=[8, 8],\n",
    "                                    #in_channels = 128,\n",
    "                                    stochastic_depth_prob=0.2,\n",
    "                                    #weights=weights,\n",
    "                                    #progress=progress,\n",
    "                                    block=SwinTransformerBlockV2,\n",
    "                                    downsample_layer=PatchMergingV2,)\n",
    "        \n",
    "        self.head = SegmentationHead()\n",
    "        \n",
    "\n",
    "        \n",
    "    def forward(self, x):\n",
    "        # pass through PVT\n",
    "        pvt_outs = self.pvt(x) # outputs 5 tensors\n",
    "        \n",
    "        \n",
    "        # we run each pvt output thru SWIM\n",
    "        # SWIM will outputs 5 tensors \n",
    "        swim_outs = []\n",
    "        swim_outs.append(x)\n",
    "        for pvt_out in pvt_outs:\n",
    "            swim_out = self.swin(pvt_out)\n",
    "            swim_outs.append(swim_out)\n",
    "            \n",
    "        # UPsample and use Segmentation head\n",
    "        final_outs = self.head(swim_outs)\n",
    "        \n",
    "        \n",
    "        \n",
    "        return final_outs\n",
    "        \n",
    "        \n",
    "\n",
    "class SegmentationHead(nn.Module):\n",
    "    def __init__(self,in_channels= 384*5, out_channels=1):\n",
    "        super().__init__()\n",
    "         self.conv1x1 = nn.Conv2d(in_channels,1, kernel_size=1)\n",
    "        \n",
    "\n",
    "    def forward(self, swin_outputs):\n",
    "        # Upsample\n",
    "        upsampled_outputs = [torch.nn.functional.interpolate(out, size=(256, 256), mode='bilinear', align_corners=False) for out in swin_outputs]\n",
    "        # Concatenate\n",
    "        concatenated_output = torch.cat(upsampled_outputs, dim=1)  # Shape: (batch_size, N, 256, 256)\n",
    "        \n",
    "        # 1x1 convolution\n",
    "       \n",
    "        final_output =   self.conv1x1 (concatenated_output)  # Shape: (batch_size, 1, 256, 256)\n",
    "        return final_output\n"
   ]
  },
  {
   "cell_type": "code",
   "execution_count": 20,
   "id": "61559c5c",
   "metadata": {},
   "outputs": [],
   "source": [
    "x = torch.randn(8,16,256,256)\n",
    "model = PVT_w_SWIM()\n",
    "final_outs = model(x)"
   ]
  },
  {
   "cell_type": "code",
   "execution_count": 21,
   "id": "5cbb7752",
   "metadata": {},
   "outputs": [
    {
     "data": {
      "text/plain": [
       "torch.Size([8, 1, 256, 256])"
      ]
     },
     "execution_count": 21,
     "metadata": {},
     "output_type": "execute_result"
    }
   ],
   "source": [
    "final_outs.shape"
   ]
  },
  {
   "cell_type": "code",
   "execution_count": null,
   "id": "04f0ba60",
   "metadata": {},
   "outputs": [],
   "source": []
  },
  {
   "cell_type": "code",
   "execution_count": null,
   "id": "fc45030f",
   "metadata": {},
   "outputs": [],
   "source": []
  },
  {
   "cell_type": "code",
   "execution_count": null,
   "id": "7ee49b43",
   "metadata": {},
   "outputs": [],
   "source": []
  },
  {
   "cell_type": "code",
   "execution_count": null,
   "id": "011ddb1e",
   "metadata": {},
   "outputs": [],
   "source": []
  },
  {
   "cell_type": "code",
   "execution_count": null,
   "id": "9e582314",
   "metadata": {},
   "outputs": [],
   "source": []
  },
  {
   "cell_type": "code",
   "execution_count": 14,
   "id": "4f7232e9",
   "metadata": {},
   "outputs": [],
   "source": [
    "class SegmentationHead(nn.Module):\n",
    "    def __init__(self, out_channels=1):\n",
    "        super().__init__()\n",
    "        #self.conv1x1 = nn.Conv2d(in_channels, out_channels, kernel_size=1)\n",
    "\n",
    "    def forward(self, swin_outputs):\n",
    "        # Upsample\n",
    "        upsampled_outputs = [torch.nn.functional.interpolate(out, size=(256, 256), mode='bilinear', align_corners=False) for out in swin_outputs]\n",
    "        # Concatenate\n",
    "        concatenated_output = torch.cat(upsampled_outputs, dim=1)  # Shape: (batch_size, N, 256, 256)\n",
    "        # 1x1 convolution\n",
    "        #final_output = self.conv1x1(concatenated_output)  # Shape: (batch_size, 1, 256, 256)\n",
    "        return concatenated_output"
   ]
  },
  {
   "cell_type": "code",
   "execution_count": 15,
   "id": "6d10d687",
   "metadata": {},
   "outputs": [],
   "source": [
    "head = SegmentationHead()\n",
    "final = head(outputs)"
   ]
  },
  {
   "cell_type": "code",
   "execution_count": 16,
   "id": "91d27030",
   "metadata": {},
   "outputs": [
    {
     "data": {
      "text/plain": [
       "torch.Size([8, 1920, 256, 256])"
      ]
     },
     "execution_count": 16,
     "metadata": {},
     "output_type": "execute_result"
    }
   ],
   "source": [
    "final.shape"
   ]
  },
  {
   "cell_type": "code",
   "execution_count": null,
   "id": "c0c23b01",
   "metadata": {},
   "outputs": [],
   "source": []
  },
  {
   "cell_type": "code",
   "execution_count": null,
   "id": "5a31cc2d",
   "metadata": {},
   "outputs": [],
   "source": []
  },
  {
   "cell_type": "code",
   "execution_count": null,
   "id": "c978962f",
   "metadata": {},
   "outputs": [],
   "source": []
  },
  {
   "cell_type": "code",
   "execution_count": 17,
   "id": "6e466614",
   "metadata": {},
   "outputs": [],
   "source": [
    "class HierarchicalSwinTransformer(nn.Module):\n",
    "    def __init__(self, num_levels, **kwargs):\n",
    "        super().__init__()\n",
    "        self.swins = nn.ModuleList([SwinTransformer(**kwargs) for _ in range(num_levels)])\n",
    "\n",
    "    def forward(self, xs):\n",
    "        outputs = [swin(x) for swin, x in zip(self.swins, xs)]\n",
    "        # Upsample and average outputs\n",
    "        max_h, max_w = outputs[0].shape[-2:]\n",
    "        outputs = [F.interpolate(out, size=(max_h, max_w)) for out in outputs]"
   ]
  },
  {
   "cell_type": "code",
   "execution_count": 18,
   "id": "3a52cc09",
   "metadata": {},
   "outputs": [],
   "source": [
    "class PVTSwinSegmenter(nn.Module):\n",
    "    def __init__(self, img_channels=64, mask_channels=1):\n",
    "        super().__init__()\n",
    "        self.pvt = PyramidVisionTransformer(img_channels=img_channels)\n",
    "        self.swin = SwinTransformer(in_channels=self.pvt.embed_dim)  # Ensure input channels match PVT output\n",
    "        self.segmentation_head = nn.Sequential(\n",
    "            nn.Conv2d(self.swin.embed_dim, mask_channels, kernel_size=1), \n",
    "            nn.Sigmoid()\n",
    "        )\n",
    "        \n",
    "    def forward(self, x):\n",
    "        x = self.pvt(x)\n",
    "        x = self.swin(x)\n",
    "        x = self.segmentation_head(x)\n",
    "        return x"
   ]
  },
  {
   "cell_type": "code",
   "execution_count": null,
   "id": "f80f51c6",
   "metadata": {},
   "outputs": [],
   "source": []
  },
  {
   "cell_type": "code",
   "execution_count": null,
   "id": "e8caf6f6",
   "metadata": {},
   "outputs": [],
   "source": []
  },
  {
   "cell_type": "code",
   "execution_count": null,
   "id": "a1b97f62",
   "metadata": {},
   "outputs": [],
   "source": []
  }
 ],
 "metadata": {
  "kernelspec": {
   "display_name": "Python 3 (ipykernel)",
   "language": "python",
   "name": "python3"
  },
  "language_info": {
   "codemirror_mode": {
    "name": "ipython",
    "version": 3
   },
   "file_extension": ".py",
   "mimetype": "text/x-python",
   "name": "python",
   "nbconvert_exporter": "python",
   "pygments_lexer": "ipython3",
   "version": "3.10.9"
  }
 },
 "nbformat": 4,
 "nbformat_minor": 5
}
