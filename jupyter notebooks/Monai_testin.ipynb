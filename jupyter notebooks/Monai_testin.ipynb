{
 "cells": [
  {
   "cell_type": "code",
   "execution_count": 1,
   "id": "6a033665",
   "metadata": {},
   "outputs": [
    {
     "name": "stdout",
     "output_type": "stream",
     "text": [
      "Starting path:/Users/gregory/PROJECT_ML/VESUVIUS_Challenge/jupyter notebooks\n",
      "Current path:/Users/gregory/PROJECT_ML/VESUVIUS_Challenge\n"
     ]
    }
   ],
   "source": [
    "# Here we take care of paths.\n",
    "\n",
    "from pathlib import Path\n",
    "import os\n",
    "print('Starting path:' + os.getcwd())\n",
    "if os.getcwd()[-18:] == 'VESUVIUS_Challenge':\n",
    "    pass\n",
    "else:\n",
    "    PATH = Path().resolve().parents[0]\n",
    "    os.chdir(PATH)\n",
    "\n",
    "# make sure you are in Paragraph_to_Tex folder\n",
    "print('Current path:' + os.getcwd())"
   ]
  },
  {
   "cell_type": "code",
   "execution_count": 2,
   "id": "e234aed7",
   "metadata": {},
   "outputs": [
    {
     "name": "stdout",
     "output_type": "stream",
     "text": [
      "2023-04-30 18:42:05,306 - Created a temporary directory at /var/folders/wc/60y8v25x3ns_jgsx6clbdb180000gn/T/tmp985qx265\n",
      "2023-04-30 18:42:05,307 - Writing /var/folders/wc/60y8v25x3ns_jgsx6clbdb180000gn/T/tmp985qx265/_remote_module_non_scriptable.py\n"
     ]
    }
   ],
   "source": [
    "import torch\n",
    "import monai\n",
    "import torch\n",
    "import matplotlib.pyplot as plt\n",
    "import tempfile\n",
    "import shutil\n",
    "import os\n",
    "import glob\n",
    "import pytorch_lightning as pl\n",
    "from pytorch_lightning import Trainer\n",
    "from Data_Modules.MONAI_Dict_Dataset_Module import MONAI_CSV_Scrolls_Dataset\n",
    "import matplotlib.patches as patches\n",
    "from lit_models.UNET_monai_lit import UNET_lit\n",
    "from monai.visualize import matshow3d\n",
    "import einops\n",
    "\n",
    "DEVICE = torch.device(\"cuda\" if torch.cuda.is_available() else \"mps\")\n"
   ]
  },
  {
   "cell_type": "code",
   "execution_count": 3,
   "id": "6436c147",
   "metadata": {},
   "outputs": [],
   "source": [
    "KAGGLE_DIR = PATH / \"kaggle\"\n",
    "\n",
    "INPUT_DIR = KAGGLE_DIR / \"input\"\n",
    "\n",
    "COMPETITION_DATA_DIR = INPUT_DIR / \"vesuvius-challenge-ink-detection\"\n",
    "\n",
    "TRAIN_DATA_CSV_PATH = COMPETITION_DATA_DIR / \"data_train_0.5.csv\"\n",
    "TEST_DATA_CSV_PATH = COMPETITION_DATA_DIR / \"data_test_1.0.csv\"\n"
   ]
  },
  {
   "cell_type": "code",
   "execution_count": 4,
   "id": "8db77db7",
   "metadata": {},
   "outputs": [],
   "source": [
    "# Initiating Dataset with parameters\n",
    "\n",
    "# buffer =   -- x,y patchsize for training\n",
    "# z_start =  --  Offset of slices in the z direction\n",
    "# z_dim =    -- Number of slices in the z direction. Max value is (64 - z_start)\n",
    "# validation_rect =  -- rectangle removed for validation set\n",
    "# shared_height = -- Height to resize all scrolls\n",
    "# scroll_fragments = -- scrolls to be used \n",
    "\n",
    "dataset = MONAI_CSV_Scrolls_Dataset(\n",
    "                 batch_size=1,\n",
    "    data_csv_path=TRAIN_DATA_CSV_PATH,\n",
    "    num_workers=0,\n",
    "    num_samples=16,\n",
    "    patch_size=(512,512),\n",
    "    val_fragment_id=1,\n",
    ")\n"
   ]
  },
  {
   "cell_type": "code",
   "execution_count": 5,
   "id": "fe7e77f7",
   "metadata": {},
   "outputs": [
    {
     "name": "stdout",
     "output_type": "stream",
     "text": [
      "# train: 2\n",
      "# val: 1\n"
     ]
    }
   ],
   "source": [
    "# prepeare data, by processng images and loading dataloader\n",
    "\n",
    "dataset.setup()"
   ]
  },
  {
   "cell_type": "code",
   "execution_count": 6,
   "id": "3dd69713",
   "metadata": {},
   "outputs": [],
   "source": [
    "#lit_model = UNET_lit(z_dim = dataset.z_dim)"
   ]
  },
  {
   "cell_type": "markdown",
   "id": "95578672",
   "metadata": {},
   "source": [
    "trainer = pl.Trainer(\n",
    "        accelerator='mps',\n",
    "        benchmark=True,\n",
    "        max_epochs=20,\n",
    "        check_val_every_n_epoch= 1,\n",
    "        devices=1,\n",
    "        #fast_dev_run=fast_dev_run,\n",
    "        logger=pl.loggers.CSVLogger(save_dir='logs/'),\n",
    "        log_every_n_steps=1,\n",
    "        \n",
    "        overfit_batches=0,\n",
    "        precision=16,\n",
    "         accumulate_grad_batches=8,)\n",
    "\n",
    "trainer.fit(lit_model, datamodule=dataset)"
   ]
  },
  {
   "cell_type": "code",
   "execution_count": 9,
   "id": "d23f9b00",
   "metadata": {},
   "outputs": [],
   "source": [
    "volumes, masks, labels = batch[0], batch[1], batch[2]"
   ]
  },
  {
   "cell_type": "code",
   "execution_count": null,
   "id": "c486ae9e",
   "metadata": {},
   "outputs": [],
   "source": []
  },
  {
   "cell_type": "code",
   "execution_count": 10,
   "id": "28ea7c21",
   "metadata": {},
   "outputs": [
    {
     "name": "stdout",
     "output_type": "stream",
     "text": [
      "torch.Size([16, 4, 512, 512]) torch.Size([16, 1, 512, 512]) torch.Size([16, 1, 512, 512])\n"
     ]
    }
   ],
   "source": [
    "print(volumes.shape, masks.shape, labels.shape)"
   ]
  },
  {
   "cell_type": "code",
   "execution_count": 11,
   "id": "ec54a12f",
   "metadata": {},
   "outputs": [],
   "source": [
    "import segmentation_models_pytorch as smp\n",
    "import ssl\n",
    "\n",
    "backbone = 'se_resnext50_32x4d'\n",
    "ssl._create_default_https_context = ssl._create_unverified_context\n",
    "model = smp.Unet(\n",
    "            encoder_name='se_resnext50_32x4d', \n",
    "            encoder_weights='imagenet',\n",
    "            in_channels=4,\n",
    "            classes=1,\n",
    "            activation=None,\n",
    "        )\n",
    "\n",
    "model_2 = monai.networks.nets.UNet(\n",
    "                spatial_dims=2,\n",
    "                in_channels=4, #z_dim\n",
    "                out_channels=1,\n",
    "                channels=(16, 32, 64, 128, 256),\n",
    "                strides=(2, 2, 2, 2),\n",
    "                num_res_units=2,\n",
    "                dropout=0,\n",
    "                norm = 'batch',\n",
    "            )"
   ]
  },
  {
   "cell_type": "code",
   "execution_count": 12,
   "id": "8e16cf25",
   "metadata": {},
   "outputs": [
    {
     "data": {
      "text/plain": [
       "UNet(\n",
       "  (model): Sequential(\n",
       "    (0): ResidualUnit(\n",
       "      (conv): Sequential(\n",
       "        (unit0): Convolution(\n",
       "          (conv): Conv2d(4, 16, kernel_size=(3, 3), stride=(2, 2), padding=(1, 1))\n",
       "          (adn): ADN(\n",
       "            (N): BatchNorm2d(16, eps=1e-05, momentum=0.1, affine=True, track_running_stats=True)\n",
       "            (D): Dropout(p=0.0, inplace=False)\n",
       "            (A): PReLU(num_parameters=1)\n",
       "          )\n",
       "        )\n",
       "        (unit1): Convolution(\n",
       "          (conv): Conv2d(16, 16, kernel_size=(3, 3), stride=(1, 1), padding=(1, 1))\n",
       "          (adn): ADN(\n",
       "            (N): BatchNorm2d(16, eps=1e-05, momentum=0.1, affine=True, track_running_stats=True)\n",
       "            (D): Dropout(p=0.0, inplace=False)\n",
       "            (A): PReLU(num_parameters=1)\n",
       "          )\n",
       "        )\n",
       "      )\n",
       "      (residual): Conv2d(4, 16, kernel_size=(3, 3), stride=(2, 2), padding=(1, 1))\n",
       "    )\n",
       "    (1): SkipConnection(\n",
       "      (submodule): Sequential(\n",
       "        (0): ResidualUnit(\n",
       "          (conv): Sequential(\n",
       "            (unit0): Convolution(\n",
       "              (conv): Conv2d(16, 32, kernel_size=(3, 3), stride=(2, 2), padding=(1, 1))\n",
       "              (adn): ADN(\n",
       "                (N): BatchNorm2d(32, eps=1e-05, momentum=0.1, affine=True, track_running_stats=True)\n",
       "                (D): Dropout(p=0.0, inplace=False)\n",
       "                (A): PReLU(num_parameters=1)\n",
       "              )\n",
       "            )\n",
       "            (unit1): Convolution(\n",
       "              (conv): Conv2d(32, 32, kernel_size=(3, 3), stride=(1, 1), padding=(1, 1))\n",
       "              (adn): ADN(\n",
       "                (N): BatchNorm2d(32, eps=1e-05, momentum=0.1, affine=True, track_running_stats=True)\n",
       "                (D): Dropout(p=0.0, inplace=False)\n",
       "                (A): PReLU(num_parameters=1)\n",
       "              )\n",
       "            )\n",
       "          )\n",
       "          (residual): Conv2d(16, 32, kernel_size=(3, 3), stride=(2, 2), padding=(1, 1))\n",
       "        )\n",
       "        (1): SkipConnection(\n",
       "          (submodule): Sequential(\n",
       "            (0): ResidualUnit(\n",
       "              (conv): Sequential(\n",
       "                (unit0): Convolution(\n",
       "                  (conv): Conv2d(32, 64, kernel_size=(3, 3), stride=(2, 2), padding=(1, 1))\n",
       "                  (adn): ADN(\n",
       "                    (N): BatchNorm2d(64, eps=1e-05, momentum=0.1, affine=True, track_running_stats=True)\n",
       "                    (D): Dropout(p=0.0, inplace=False)\n",
       "                    (A): PReLU(num_parameters=1)\n",
       "                  )\n",
       "                )\n",
       "                (unit1): Convolution(\n",
       "                  (conv): Conv2d(64, 64, kernel_size=(3, 3), stride=(1, 1), padding=(1, 1))\n",
       "                  (adn): ADN(\n",
       "                    (N): BatchNorm2d(64, eps=1e-05, momentum=0.1, affine=True, track_running_stats=True)\n",
       "                    (D): Dropout(p=0.0, inplace=False)\n",
       "                    (A): PReLU(num_parameters=1)\n",
       "                  )\n",
       "                )\n",
       "              )\n",
       "              (residual): Conv2d(32, 64, kernel_size=(3, 3), stride=(2, 2), padding=(1, 1))\n",
       "            )\n",
       "            (1): SkipConnection(\n",
       "              (submodule): Sequential(\n",
       "                (0): ResidualUnit(\n",
       "                  (conv): Sequential(\n",
       "                    (unit0): Convolution(\n",
       "                      (conv): Conv2d(64, 128, kernel_size=(3, 3), stride=(2, 2), padding=(1, 1))\n",
       "                      (adn): ADN(\n",
       "                        (N): BatchNorm2d(128, eps=1e-05, momentum=0.1, affine=True, track_running_stats=True)\n",
       "                        (D): Dropout(p=0.0, inplace=False)\n",
       "                        (A): PReLU(num_parameters=1)\n",
       "                      )\n",
       "                    )\n",
       "                    (unit1): Convolution(\n",
       "                      (conv): Conv2d(128, 128, kernel_size=(3, 3), stride=(1, 1), padding=(1, 1))\n",
       "                      (adn): ADN(\n",
       "                        (N): BatchNorm2d(128, eps=1e-05, momentum=0.1, affine=True, track_running_stats=True)\n",
       "                        (D): Dropout(p=0.0, inplace=False)\n",
       "                        (A): PReLU(num_parameters=1)\n",
       "                      )\n",
       "                    )\n",
       "                  )\n",
       "                  (residual): Conv2d(64, 128, kernel_size=(3, 3), stride=(2, 2), padding=(1, 1))\n",
       "                )\n",
       "                (1): SkipConnection(\n",
       "                  (submodule): ResidualUnit(\n",
       "                    (conv): Sequential(\n",
       "                      (unit0): Convolution(\n",
       "                        (conv): Conv2d(128, 256, kernel_size=(3, 3), stride=(1, 1), padding=(1, 1))\n",
       "                        (adn): ADN(\n",
       "                          (N): BatchNorm2d(256, eps=1e-05, momentum=0.1, affine=True, track_running_stats=True)\n",
       "                          (D): Dropout(p=0.0, inplace=False)\n",
       "                          (A): PReLU(num_parameters=1)\n",
       "                        )\n",
       "                      )\n",
       "                      (unit1): Convolution(\n",
       "                        (conv): Conv2d(256, 256, kernel_size=(3, 3), stride=(1, 1), padding=(1, 1))\n",
       "                        (adn): ADN(\n",
       "                          (N): BatchNorm2d(256, eps=1e-05, momentum=0.1, affine=True, track_running_stats=True)\n",
       "                          (D): Dropout(p=0.0, inplace=False)\n",
       "                          (A): PReLU(num_parameters=1)\n",
       "                        )\n",
       "                      )\n",
       "                    )\n",
       "                    (residual): Conv2d(128, 256, kernel_size=(1, 1), stride=(1, 1))\n",
       "                  )\n",
       "                )\n",
       "                (2): Sequential(\n",
       "                  (0): Convolution(\n",
       "                    (conv): ConvTranspose2d(384, 64, kernel_size=(3, 3), stride=(2, 2), padding=(1, 1), output_padding=(1, 1))\n",
       "                    (adn): ADN(\n",
       "                      (N): BatchNorm2d(64, eps=1e-05, momentum=0.1, affine=True, track_running_stats=True)\n",
       "                      (D): Dropout(p=0.0, inplace=False)\n",
       "                      (A): PReLU(num_parameters=1)\n",
       "                    )\n",
       "                  )\n",
       "                  (1): ResidualUnit(\n",
       "                    (conv): Sequential(\n",
       "                      (unit0): Convolution(\n",
       "                        (conv): Conv2d(64, 64, kernel_size=(3, 3), stride=(1, 1), padding=(1, 1))\n",
       "                        (adn): ADN(\n",
       "                          (N): BatchNorm2d(64, eps=1e-05, momentum=0.1, affine=True, track_running_stats=True)\n",
       "                          (D): Dropout(p=0.0, inplace=False)\n",
       "                          (A): PReLU(num_parameters=1)\n",
       "                        )\n",
       "                      )\n",
       "                    )\n",
       "                    (residual): Identity()\n",
       "                  )\n",
       "                )\n",
       "              )\n",
       "            )\n",
       "            (2): Sequential(\n",
       "              (0): Convolution(\n",
       "                (conv): ConvTranspose2d(128, 32, kernel_size=(3, 3), stride=(2, 2), padding=(1, 1), output_padding=(1, 1))\n",
       "                (adn): ADN(\n",
       "                  (N): BatchNorm2d(32, eps=1e-05, momentum=0.1, affine=True, track_running_stats=True)\n",
       "                  (D): Dropout(p=0.0, inplace=False)\n",
       "                  (A): PReLU(num_parameters=1)\n",
       "                )\n",
       "              )\n",
       "              (1): ResidualUnit(\n",
       "                (conv): Sequential(\n",
       "                  (unit0): Convolution(\n",
       "                    (conv): Conv2d(32, 32, kernel_size=(3, 3), stride=(1, 1), padding=(1, 1))\n",
       "                    (adn): ADN(\n",
       "                      (N): BatchNorm2d(32, eps=1e-05, momentum=0.1, affine=True, track_running_stats=True)\n",
       "                      (D): Dropout(p=0.0, inplace=False)\n",
       "                      (A): PReLU(num_parameters=1)\n",
       "                    )\n",
       "                  )\n",
       "                )\n",
       "                (residual): Identity()\n",
       "              )\n",
       "            )\n",
       "          )\n",
       "        )\n",
       "        (2): Sequential(\n",
       "          (0): Convolution(\n",
       "            (conv): ConvTranspose2d(64, 16, kernel_size=(3, 3), stride=(2, 2), padding=(1, 1), output_padding=(1, 1))\n",
       "            (adn): ADN(\n",
       "              (N): BatchNorm2d(16, eps=1e-05, momentum=0.1, affine=True, track_running_stats=True)\n",
       "              (D): Dropout(p=0.0, inplace=False)\n",
       "              (A): PReLU(num_parameters=1)\n",
       "            )\n",
       "          )\n",
       "          (1): ResidualUnit(\n",
       "            (conv): Sequential(\n",
       "              (unit0): Convolution(\n",
       "                (conv): Conv2d(16, 16, kernel_size=(3, 3), stride=(1, 1), padding=(1, 1))\n",
       "                (adn): ADN(\n",
       "                  (N): BatchNorm2d(16, eps=1e-05, momentum=0.1, affine=True, track_running_stats=True)\n",
       "                  (D): Dropout(p=0.0, inplace=False)\n",
       "                  (A): PReLU(num_parameters=1)\n",
       "                )\n",
       "              )\n",
       "            )\n",
       "            (residual): Identity()\n",
       "          )\n",
       "        )\n",
       "      )\n",
       "    )\n",
       "    (2): Sequential(\n",
       "      (0): Convolution(\n",
       "        (conv): ConvTranspose2d(32, 1, kernel_size=(3, 3), stride=(2, 2), padding=(1, 1), output_padding=(1, 1))\n",
       "        (adn): ADN(\n",
       "          (N): BatchNorm2d(1, eps=1e-05, momentum=0.1, affine=True, track_running_stats=True)\n",
       "          (D): Dropout(p=0.0, inplace=False)\n",
       "          (A): PReLU(num_parameters=1)\n",
       "        )\n",
       "      )\n",
       "      (1): ResidualUnit(\n",
       "        (conv): Sequential(\n",
       "          (unit0): Convolution(\n",
       "            (conv): Conv2d(1, 1, kernel_size=(3, 3), stride=(1, 1), padding=(1, 1))\n",
       "          )\n",
       "        )\n",
       "        (residual): Identity()\n",
       "      )\n",
       "    )\n",
       "  )\n",
       ")"
      ]
     },
     "execution_count": 12,
     "metadata": {},
     "output_type": "execute_result"
    }
   ],
   "source": [
    "model_2"
   ]
  },
  {
   "cell_type": "code",
   "execution_count": 13,
   "id": "3c2393dc",
   "metadata": {},
   "outputs": [],
   "source": [
    "out = model_2(volumes)"
   ]
  },
  {
   "cell_type": "code",
   "execution_count": null,
   "id": "0a3724ce",
   "metadata": {},
   "outputs": [],
   "source": []
  },
  {
   "cell_type": "code",
   "execution_count": 14,
   "id": "e15bd2ae",
   "metadata": {
    "scrolled": true
   },
   "outputs": [],
   "source": [
    "from sklearn.metrics import roc_auc_score, accuracy_score, f1_score, log_loss\n",
    "loss = monai.losses.DiceLoss(sigmoid=True)\n",
    "loss_dice = monai.losses.MaskedLoss(loss)\n",
    "\n"
   ]
  },
  {
   "cell_type": "code",
   "execution_count": 15,
   "id": "232a06fe",
   "metadata": {},
   "outputs": [],
   "source": [
    "\n",
    "\n",
    "DiceLoss = smp.losses.DiceLoss(mode='binary')\n",
    "BCELoss = smp.losses.SoftBCEWithLogitsLoss()\n",
    "focal_loss = smp.losses.FocalLoss(mode = 'binary', \n",
    "                                  alpha=.25,\n",
    "                                  gamma=2.0, \n",
    "                                  ignore_index=None, \n",
    "                                  reduction='mean', \n",
    "                                  normalized=False, \n",
    "                                  reduced_threshold=None)\n",
    "\n",
    "TverskyLoss = smp.losses.TverskyLoss(\n",
    "                    mode='binary', \n",
    "                    log_loss=False, \n",
    "                    alpha=.5, \n",
    "                    beta=.5)\n",
    "\n",
    "loss = monai.losses.DiceLoss(sigmoid=True)\n",
    "maksed_dice_loss = monai.losses.MaskedLoss(loss)\n",
    "\n",
    "loss_fo = monai.losses.DiceFocalLoss(\n",
    "                                            include_background=True,\n",
    "                                            sigmoid=True,\n",
    "                                            #other_act = torch.nn.ReLU(),\n",
    "                                            batch = True,\n",
    "                                            focal_weight = .2,\n",
    "                                            #reduction = 'none',\n",
    "                                            )"
   ]
  },
  {
   "cell_type": "code",
   "execution_count": 16,
   "id": "b5b9166e",
   "metadata": {},
   "outputs": [
    {
     "data": {
      "text/plain": [
       "tensor([[[[0., 0., 0.,  ..., 0., 0., 0.],\n",
       "          [0., 0., 0.,  ..., 0., 0., 0.],\n",
       "          [0., 0., 0.,  ..., 0., 0., 0.],\n",
       "          ...,\n",
       "          [0., 0., 0.,  ..., 0., 0., 0.],\n",
       "          [0., 0., 0.,  ..., 0., 0., 0.],\n",
       "          [0., 0., 0.,  ..., 0., 0., 0.]]]])"
      ]
     },
     "execution_count": 16,
     "metadata": {},
     "output_type": "execute_result"
    }
   ],
   "source": [
    "fake_label = torch.zeros(1,1,64,64)\n",
    "fake_label[0, :, 20:40]=1\n",
    "fake_label[:,:,:, 20:40]"
   ]
  },
  {
   "cell_type": "code",
   "execution_count": 17,
   "id": "1cb3574f",
   "metadata": {},
   "outputs": [],
   "source": [
    "fake_image = torch.zeros(1,1,64,64)\n",
    "fake_image[0, :, 20:30]=0\n",
    "fake_image[0, :, 44:54]=1\n",
    "#fake_image[:,:,:, 0:20]"
   ]
  },
  {
   "cell_type": "code",
   "execution_count": 18,
   "id": "7b132cd2",
   "metadata": {},
   "outputs": [
    {
     "data": {
      "text/plain": [
       "tensor(0.9545, grad_fn=<AliasBackward0>)"
      ]
     },
     "execution_count": 18,
     "metadata": {},
     "output_type": "execute_result"
    }
   ],
   "source": [
    "loss_fo(out, labels)"
   ]
  },
  {
   "cell_type": "code",
   "execution_count": 19,
   "id": "5792ea95",
   "metadata": {},
   "outputs": [
    {
     "data": {
      "text/plain": [
       "tensor(0.3543, grad_fn=<AliasBackward0>)"
      ]
     },
     "execution_count": 19,
     "metadata": {},
     "output_type": "execute_result"
    }
   ],
   "source": [
    "focal_loss(out*masks, labels)"
   ]
  },
  {
   "cell_type": "code",
   "execution_count": 20,
   "id": "242a5a86",
   "metadata": {},
   "outputs": [
    {
     "data": {
      "text/plain": [
       "tensor(0.8442, grad_fn=<AliasBackward0>)"
      ]
     },
     "execution_count": 20,
     "metadata": {},
     "output_type": "execute_result"
    }
   ],
   "source": [
    "DiceLoss(out, labels)"
   ]
  },
  {
   "cell_type": "code",
   "execution_count": 21,
   "id": "dfd37fed",
   "metadata": {},
   "outputs": [
    {
     "data": {
      "text/plain": [
       "tensor(1.0877, grad_fn=<AliasBackward0>)"
      ]
     },
     "execution_count": 21,
     "metadata": {},
     "output_type": "execute_result"
    }
   ],
   "source": [
    "BCELoss(out, labels)"
   ]
  },
  {
   "cell_type": "code",
   "execution_count": 22,
   "id": "da4400fe",
   "metadata": {},
   "outputs": [
    {
     "data": {
      "text/plain": [
       "tensor(0.8460, grad_fn=<AliasBackward0>)"
      ]
     },
     "execution_count": 22,
     "metadata": {},
     "output_type": "execute_result"
    }
   ],
   "source": [
    "maksed_dice_loss(out, labels, masks)"
   ]
  },
  {
   "cell_type": "code",
   "execution_count": 23,
   "id": "b6340b17",
   "metadata": {},
   "outputs": [],
   "source": [
    "def criterion(y_pred, y_true):\n",
    "    return 0.5 * BCELoss(y_pred, y_true) + 0.5 * DiceLoss(y_pred, y_true)\n",
    "    #return BCELoss(y_pred, y_true)\n",
    "    # return 0.5 * BCELoss(y_pred, y_true) + 0.5 * TverskyLoss(y_pred, y_true)"
   ]
  },
  {
   "cell_type": "code",
   "execution_count": 24,
   "id": "8a87115c",
   "metadata": {},
   "outputs": [],
   "source": [
    "losses = criterion(out, labels)"
   ]
  },
  {
   "cell_type": "code",
   "execution_count": 25,
   "id": "3b71f07a",
   "metadata": {},
   "outputs": [
    {
     "data": {
      "text/plain": [
       "0.9659630060195923"
      ]
     },
     "execution_count": 25,
     "metadata": {},
     "output_type": "execute_result"
    }
   ],
   "source": [
    "losses.item()"
   ]
  },
  {
   "cell_type": "code",
   "execution_count": 26,
   "id": "2c8ac6ff",
   "metadata": {},
   "outputs": [],
   "source": [
    "tp, fp, fn, tn = smp.metrics.get_stats(out, labels.long(), mode='binary', threshold=0.5)\n",
    "\n",
    "\n",
    "accuracy = smp.metrics.accuracy(tp, fp, fn, tn, reduction=\"macro\")\n",
    "recall = smp.metrics.recall(tp, fp, fn, tn, reduction=\"micro-imagewise\")\n",
    "fbeta = smp.metrics.fbeta_score(tp, fp, fn, tn, beta = .5, reduction ='micro-imagewise')\n",
    "precision = smp.metrics.precision(tp, fp, fn, tn, reduction=\"micro-imagewise\")"
   ]
  },
  {
   "cell_type": "code",
   "execution_count": 27,
   "id": "7001ec00",
   "metadata": {},
   "outputs": [
    {
     "data": {
      "text/plain": [
       "tensor(0.0885)"
      ]
     },
     "execution_count": 27,
     "metadata": {},
     "output_type": "execute_result"
    }
   ],
   "source": [
    "precision"
   ]
  },
  {
   "cell_type": "code",
   "execution_count": 28,
   "id": "da8846a0",
   "metadata": {},
   "outputs": [
    {
     "data": {
      "text/plain": [
       "0.49674057960510254"
      ]
     },
     "execution_count": 28,
     "metadata": {},
     "output_type": "execute_result"
    }
   ],
   "source": [
    "accuracy.item()"
   ]
  },
  {
   "cell_type": "code",
   "execution_count": 29,
   "id": "cfcbb50c",
   "metadata": {},
   "outputs": [
    {
     "data": {
      "text/plain": [
       "tensor(0.5422)"
      ]
     },
     "execution_count": 29,
     "metadata": {},
     "output_type": "execute_result"
    }
   ],
   "source": [
    "recall"
   ]
  },
  {
   "cell_type": "code",
   "execution_count": 30,
   "id": "3aa12766",
   "metadata": {},
   "outputs": [
    {
     "data": {
      "text/plain": [
       "tensor(0.1052)"
      ]
     },
     "execution_count": 30,
     "metadata": {},
     "output_type": "execute_result"
    }
   ],
   "source": [
    "fbeta"
   ]
  },
  {
   "cell_type": "code",
   "execution_count": 31,
   "id": "7d9c7c3a",
   "metadata": {},
   "outputs": [],
   "source": [
    "model_unetr = monai.networks.nets.UNETR(in_channels = 4 , #z_dim \n",
    "                                       out_channels = 1, \n",
    "                                       img_size = (224,224) , \n",
    "                                       feature_size=16,\n",
    "                                       hidden_size=768, \n",
    "                                       mlp_dim=3072, \n",
    "                                       num_heads=12, \n",
    "                                       pos_embed='conv', \n",
    "                                       norm_name='instance', #'batch'\n",
    "                                       conv_block=True, \n",
    "                                       res_block=True, \n",
    "                                       dropout_rate=0.0, \n",
    "                                       spatial_dims=2, \n",
    "                                       qkv_bias=False,\n",
    "                                        \n",
    "                                      )"
   ]
  },
  {
   "cell_type": "code",
   "execution_count": 32,
   "id": "1e417cb1",
   "metadata": {},
   "outputs": [
    {
     "ename": "RuntimeError",
     "evalue": "The size of tensor a (1024) must match the size of tensor b (196) at non-singleton dimension 1",
     "output_type": "error",
     "traceback": [
      "\u001b[0;31m---------------------------------------------------------------------------\u001b[0m",
      "\u001b[0;31mRuntimeError\u001b[0m                              Traceback (most recent call last)",
      "Cell \u001b[0;32mIn[32], line 1\u001b[0m\n\u001b[0;32m----> 1\u001b[0m output\u001b[38;5;241m=\u001b[39m\u001b[43mmodel_unetr\u001b[49m\u001b[43m(\u001b[49m\u001b[43mvolumes\u001b[49m\u001b[43m)\u001b[49m\n",
      "File \u001b[0;32m~/anaconda3/lib/python3.10/site-packages/torch/nn/modules/module.py:1501\u001b[0m, in \u001b[0;36mModule._call_impl\u001b[0;34m(self, *args, **kwargs)\u001b[0m\n\u001b[1;32m   1496\u001b[0m \u001b[38;5;66;03m# If we don't have any hooks, we want to skip the rest of the logic in\u001b[39;00m\n\u001b[1;32m   1497\u001b[0m \u001b[38;5;66;03m# this function, and just call forward.\u001b[39;00m\n\u001b[1;32m   1498\u001b[0m \u001b[38;5;28;01mif\u001b[39;00m \u001b[38;5;129;01mnot\u001b[39;00m (\u001b[38;5;28mself\u001b[39m\u001b[38;5;241m.\u001b[39m_backward_hooks \u001b[38;5;129;01mor\u001b[39;00m \u001b[38;5;28mself\u001b[39m\u001b[38;5;241m.\u001b[39m_backward_pre_hooks \u001b[38;5;129;01mor\u001b[39;00m \u001b[38;5;28mself\u001b[39m\u001b[38;5;241m.\u001b[39m_forward_hooks \u001b[38;5;129;01mor\u001b[39;00m \u001b[38;5;28mself\u001b[39m\u001b[38;5;241m.\u001b[39m_forward_pre_hooks\n\u001b[1;32m   1499\u001b[0m         \u001b[38;5;129;01mor\u001b[39;00m _global_backward_pre_hooks \u001b[38;5;129;01mor\u001b[39;00m _global_backward_hooks\n\u001b[1;32m   1500\u001b[0m         \u001b[38;5;129;01mor\u001b[39;00m _global_forward_hooks \u001b[38;5;129;01mor\u001b[39;00m _global_forward_pre_hooks):\n\u001b[0;32m-> 1501\u001b[0m     \u001b[38;5;28;01mreturn\u001b[39;00m \u001b[43mforward_call\u001b[49m\u001b[43m(\u001b[49m\u001b[38;5;241;43m*\u001b[39;49m\u001b[43margs\u001b[49m\u001b[43m,\u001b[49m\u001b[43m \u001b[49m\u001b[38;5;241;43m*\u001b[39;49m\u001b[38;5;241;43m*\u001b[39;49m\u001b[43mkwargs\u001b[49m\u001b[43m)\u001b[49m\n\u001b[1;32m   1502\u001b[0m \u001b[38;5;66;03m# Do not call functions when jit is used\u001b[39;00m\n\u001b[1;32m   1503\u001b[0m full_backward_hooks, non_full_backward_hooks \u001b[38;5;241m=\u001b[39m [], []\n",
      "File \u001b[0;32m~/anaconda3/lib/python3.10/site-packages/monai/networks/nets/unetr.py:195\u001b[0m, in \u001b[0;36mUNETR.forward\u001b[0;34m(self, x_in)\u001b[0m\n\u001b[1;32m    194\u001b[0m \u001b[38;5;28;01mdef\u001b[39;00m \u001b[38;5;21mforward\u001b[39m(\u001b[38;5;28mself\u001b[39m, x_in):\n\u001b[0;32m--> 195\u001b[0m     x, hidden_states_out \u001b[38;5;241m=\u001b[39m \u001b[38;5;28;43mself\u001b[39;49m\u001b[38;5;241;43m.\u001b[39;49m\u001b[43mvit\u001b[49m\u001b[43m(\u001b[49m\u001b[43mx_in\u001b[49m\u001b[43m)\u001b[49m\n\u001b[1;32m    196\u001b[0m     enc1 \u001b[38;5;241m=\u001b[39m \u001b[38;5;28mself\u001b[39m\u001b[38;5;241m.\u001b[39mencoder1(x_in)\n\u001b[1;32m    197\u001b[0m     x2 \u001b[38;5;241m=\u001b[39m hidden_states_out[\u001b[38;5;241m3\u001b[39m]\n",
      "File \u001b[0;32m~/anaconda3/lib/python3.10/site-packages/torch/nn/modules/module.py:1501\u001b[0m, in \u001b[0;36mModule._call_impl\u001b[0;34m(self, *args, **kwargs)\u001b[0m\n\u001b[1;32m   1496\u001b[0m \u001b[38;5;66;03m# If we don't have any hooks, we want to skip the rest of the logic in\u001b[39;00m\n\u001b[1;32m   1497\u001b[0m \u001b[38;5;66;03m# this function, and just call forward.\u001b[39;00m\n\u001b[1;32m   1498\u001b[0m \u001b[38;5;28;01mif\u001b[39;00m \u001b[38;5;129;01mnot\u001b[39;00m (\u001b[38;5;28mself\u001b[39m\u001b[38;5;241m.\u001b[39m_backward_hooks \u001b[38;5;129;01mor\u001b[39;00m \u001b[38;5;28mself\u001b[39m\u001b[38;5;241m.\u001b[39m_backward_pre_hooks \u001b[38;5;129;01mor\u001b[39;00m \u001b[38;5;28mself\u001b[39m\u001b[38;5;241m.\u001b[39m_forward_hooks \u001b[38;5;129;01mor\u001b[39;00m \u001b[38;5;28mself\u001b[39m\u001b[38;5;241m.\u001b[39m_forward_pre_hooks\n\u001b[1;32m   1499\u001b[0m         \u001b[38;5;129;01mor\u001b[39;00m _global_backward_pre_hooks \u001b[38;5;129;01mor\u001b[39;00m _global_backward_hooks\n\u001b[1;32m   1500\u001b[0m         \u001b[38;5;129;01mor\u001b[39;00m _global_forward_hooks \u001b[38;5;129;01mor\u001b[39;00m _global_forward_pre_hooks):\n\u001b[0;32m-> 1501\u001b[0m     \u001b[38;5;28;01mreturn\u001b[39;00m \u001b[43mforward_call\u001b[49m\u001b[43m(\u001b[49m\u001b[38;5;241;43m*\u001b[39;49m\u001b[43margs\u001b[49m\u001b[43m,\u001b[49m\u001b[43m \u001b[49m\u001b[38;5;241;43m*\u001b[39;49m\u001b[38;5;241;43m*\u001b[39;49m\u001b[43mkwargs\u001b[49m\u001b[43m)\u001b[49m\n\u001b[1;32m   1502\u001b[0m \u001b[38;5;66;03m# Do not call functions when jit is used\u001b[39;00m\n\u001b[1;32m   1503\u001b[0m full_backward_hooks, non_full_backward_hooks \u001b[38;5;241m=\u001b[39m [], []\n",
      "File \u001b[0;32m~/anaconda3/lib/python3.10/site-packages/monai/networks/nets/vit.py:110\u001b[0m, in \u001b[0;36mViT.forward\u001b[0;34m(self, x)\u001b[0m\n\u001b[1;32m    109\u001b[0m \u001b[38;5;28;01mdef\u001b[39;00m \u001b[38;5;21mforward\u001b[39m(\u001b[38;5;28mself\u001b[39m, x):\n\u001b[0;32m--> 110\u001b[0m     x \u001b[38;5;241m=\u001b[39m \u001b[38;5;28;43mself\u001b[39;49m\u001b[38;5;241;43m.\u001b[39;49m\u001b[43mpatch_embedding\u001b[49m\u001b[43m(\u001b[49m\u001b[43mx\u001b[49m\u001b[43m)\u001b[49m\n\u001b[1;32m    111\u001b[0m     \u001b[38;5;28;01mif\u001b[39;00m \u001b[38;5;28mhasattr\u001b[39m(\u001b[38;5;28mself\u001b[39m, \u001b[38;5;124m\"\u001b[39m\u001b[38;5;124mcls_token\u001b[39m\u001b[38;5;124m\"\u001b[39m):\n\u001b[1;32m    112\u001b[0m         cls_token \u001b[38;5;241m=\u001b[39m \u001b[38;5;28mself\u001b[39m\u001b[38;5;241m.\u001b[39mcls_token\u001b[38;5;241m.\u001b[39mexpand(x\u001b[38;5;241m.\u001b[39mshape[\u001b[38;5;241m0\u001b[39m], \u001b[38;5;241m-\u001b[39m\u001b[38;5;241m1\u001b[39m, \u001b[38;5;241m-\u001b[39m\u001b[38;5;241m1\u001b[39m)\n",
      "File \u001b[0;32m~/anaconda3/lib/python3.10/site-packages/torch/nn/modules/module.py:1501\u001b[0m, in \u001b[0;36mModule._call_impl\u001b[0;34m(self, *args, **kwargs)\u001b[0m\n\u001b[1;32m   1496\u001b[0m \u001b[38;5;66;03m# If we don't have any hooks, we want to skip the rest of the logic in\u001b[39;00m\n\u001b[1;32m   1497\u001b[0m \u001b[38;5;66;03m# this function, and just call forward.\u001b[39;00m\n\u001b[1;32m   1498\u001b[0m \u001b[38;5;28;01mif\u001b[39;00m \u001b[38;5;129;01mnot\u001b[39;00m (\u001b[38;5;28mself\u001b[39m\u001b[38;5;241m.\u001b[39m_backward_hooks \u001b[38;5;129;01mor\u001b[39;00m \u001b[38;5;28mself\u001b[39m\u001b[38;5;241m.\u001b[39m_backward_pre_hooks \u001b[38;5;129;01mor\u001b[39;00m \u001b[38;5;28mself\u001b[39m\u001b[38;5;241m.\u001b[39m_forward_hooks \u001b[38;5;129;01mor\u001b[39;00m \u001b[38;5;28mself\u001b[39m\u001b[38;5;241m.\u001b[39m_forward_pre_hooks\n\u001b[1;32m   1499\u001b[0m         \u001b[38;5;129;01mor\u001b[39;00m _global_backward_pre_hooks \u001b[38;5;129;01mor\u001b[39;00m _global_backward_hooks\n\u001b[1;32m   1500\u001b[0m         \u001b[38;5;129;01mor\u001b[39;00m _global_forward_hooks \u001b[38;5;129;01mor\u001b[39;00m _global_forward_pre_hooks):\n\u001b[0;32m-> 1501\u001b[0m     \u001b[38;5;28;01mreturn\u001b[39;00m \u001b[43mforward_call\u001b[49m\u001b[43m(\u001b[49m\u001b[38;5;241;43m*\u001b[39;49m\u001b[43margs\u001b[49m\u001b[43m,\u001b[49m\u001b[43m \u001b[49m\u001b[38;5;241;43m*\u001b[39;49m\u001b[38;5;241;43m*\u001b[39;49m\u001b[43mkwargs\u001b[49m\u001b[43m)\u001b[49m\n\u001b[1;32m   1502\u001b[0m \u001b[38;5;66;03m# Do not call functions when jit is used\u001b[39;00m\n\u001b[1;32m   1503\u001b[0m full_backward_hooks, non_full_backward_hooks \u001b[38;5;241m=\u001b[39m [], []\n",
      "File \u001b[0;32m~/anaconda3/lib/python3.10/site-packages/monai/networks/blocks/patchembedding.py:117\u001b[0m, in \u001b[0;36mPatchEmbeddingBlock.forward\u001b[0;34m(self, x)\u001b[0m\n\u001b[1;32m    115\u001b[0m \u001b[38;5;28;01mif\u001b[39;00m \u001b[38;5;28mself\u001b[39m\u001b[38;5;241m.\u001b[39mpos_embed \u001b[38;5;241m==\u001b[39m \u001b[38;5;124m\"\u001b[39m\u001b[38;5;124mconv\u001b[39m\u001b[38;5;124m\"\u001b[39m:\n\u001b[1;32m    116\u001b[0m     x \u001b[38;5;241m=\u001b[39m x\u001b[38;5;241m.\u001b[39mflatten(\u001b[38;5;241m2\u001b[39m)\u001b[38;5;241m.\u001b[39mtranspose(\u001b[38;5;241m-\u001b[39m\u001b[38;5;241m1\u001b[39m, \u001b[38;5;241m-\u001b[39m\u001b[38;5;241m2\u001b[39m)\n\u001b[0;32m--> 117\u001b[0m embeddings \u001b[38;5;241m=\u001b[39m \u001b[43mx\u001b[49m\u001b[43m \u001b[49m\u001b[38;5;241;43m+\u001b[39;49m\u001b[43m \u001b[49m\u001b[38;5;28;43mself\u001b[39;49m\u001b[38;5;241;43m.\u001b[39;49m\u001b[43mposition_embeddings\u001b[49m\n\u001b[1;32m    118\u001b[0m embeddings \u001b[38;5;241m=\u001b[39m \u001b[38;5;28mself\u001b[39m\u001b[38;5;241m.\u001b[39mdropout(embeddings)\n\u001b[1;32m    119\u001b[0m \u001b[38;5;28;01mreturn\u001b[39;00m embeddings\n",
      "File \u001b[0;32m~/anaconda3/lib/python3.10/site-packages/monai/data/meta_tensor.py:268\u001b[0m, in \u001b[0;36mMetaTensor.__torch_function__\u001b[0;34m(cls, func, types, args, kwargs)\u001b[0m\n\u001b[1;32m    266\u001b[0m \u001b[38;5;28;01mif\u001b[39;00m kwargs \u001b[38;5;129;01mis\u001b[39;00m \u001b[38;5;28;01mNone\u001b[39;00m:\n\u001b[1;32m    267\u001b[0m     kwargs \u001b[38;5;241m=\u001b[39m {}\n\u001b[0;32m--> 268\u001b[0m ret \u001b[38;5;241m=\u001b[39m \u001b[38;5;28;43msuper\u001b[39;49m\u001b[43m(\u001b[49m\u001b[43m)\u001b[49m\u001b[38;5;241;43m.\u001b[39;49m\u001b[43m__torch_function__\u001b[49m\u001b[43m(\u001b[49m\u001b[43mfunc\u001b[49m\u001b[43m,\u001b[49m\u001b[43m \u001b[49m\u001b[43mtypes\u001b[49m\u001b[43m,\u001b[49m\u001b[43m \u001b[49m\u001b[43margs\u001b[49m\u001b[43m,\u001b[49m\u001b[43m \u001b[49m\u001b[43mkwargs\u001b[49m\u001b[43m)\u001b[49m\n\u001b[1;32m    269\u001b[0m \u001b[38;5;66;03m# if `out` has been used as argument, metadata is not copied, nothing to do.\u001b[39;00m\n\u001b[1;32m    270\u001b[0m \u001b[38;5;66;03m# if \"out\" in kwargs:\u001b[39;00m\n\u001b[1;32m    271\u001b[0m \u001b[38;5;66;03m#     return ret\u001b[39;00m\n\u001b[1;32m    272\u001b[0m \u001b[38;5;28;01mif\u001b[39;00m _not_requiring_metadata(ret):\n",
      "File \u001b[0;32m~/anaconda3/lib/python3.10/site-packages/torch/_tensor.py:1298\u001b[0m, in \u001b[0;36mTensor.__torch_function__\u001b[0;34m(cls, func, types, args, kwargs)\u001b[0m\n\u001b[1;32m   1295\u001b[0m     \u001b[38;5;28;01mreturn\u001b[39;00m \u001b[38;5;28mNotImplemented\u001b[39m\n\u001b[1;32m   1297\u001b[0m \u001b[38;5;28;01mwith\u001b[39;00m _C\u001b[38;5;241m.\u001b[39mDisableTorchFunctionSubclass():\n\u001b[0;32m-> 1298\u001b[0m     ret \u001b[38;5;241m=\u001b[39m \u001b[43mfunc\u001b[49m\u001b[43m(\u001b[49m\u001b[38;5;241;43m*\u001b[39;49m\u001b[43margs\u001b[49m\u001b[43m,\u001b[49m\u001b[43m \u001b[49m\u001b[38;5;241;43m*\u001b[39;49m\u001b[38;5;241;43m*\u001b[39;49m\u001b[43mkwargs\u001b[49m\u001b[43m)\u001b[49m\n\u001b[1;32m   1299\u001b[0m     \u001b[38;5;28;01mif\u001b[39;00m func \u001b[38;5;129;01min\u001b[39;00m get_default_nowrap_functions():\n\u001b[1;32m   1300\u001b[0m         \u001b[38;5;28;01mreturn\u001b[39;00m ret\n",
      "\u001b[0;31mRuntimeError\u001b[0m: The size of tensor a (1024) must match the size of tensor b (196) at non-singleton dimension 1"
     ]
    }
   ],
   "source": [
    "output=model_unetr(volumes)"
   ]
  },
  {
   "cell_type": "code",
   "execution_count": null,
   "id": "22448b88",
   "metadata": {},
   "outputs": [],
   "source": [
    "output.shape"
   ]
  },
  {
   "cell_type": "code",
   "execution_count": null,
   "id": "06c04dbb",
   "metadata": {},
   "outputs": [],
   "source": []
  },
  {
   "cell_type": "code",
   "execution_count": null,
   "id": "54139063",
   "metadata": {},
   "outputs": [],
   "source": []
  },
  {
   "cell_type": "code",
   "execution_count": null,
   "id": "81674ea0",
   "metadata": {},
   "outputs": [],
   "source": []
  },
  {
   "cell_type": "code",
   "execution_count": null,
   "id": "7356371d",
   "metadata": {},
   "outputs": [],
   "source": []
  },
  {
   "cell_type": "code",
   "execution_count": null,
   "id": "5f136cc9",
   "metadata": {},
   "outputs": [],
   "source": []
  },
  {
   "cell_type": "code",
   "execution_count": null,
   "id": "7ac16fcd",
   "metadata": {},
   "outputs": [],
   "source": []
  },
  {
   "cell_type": "code",
   "execution_count": null,
   "id": "c0d65978",
   "metadata": {},
   "outputs": [],
   "source": [
    "len(dataset.train_pixels)"
   ]
  },
  {
   "cell_type": "code",
   "execution_count": null,
   "id": "d741bd7a",
   "metadata": {},
   "outputs": [],
   "source": [
    "model = monai.networks.nets.UNet(\n",
    "                spatial_dims=2,\n",
    "                in_channels=16, #z_dim\n",
    "                out_channels=1,\n",
    "                channels=(16, 32, 64, 128, 256),\n",
    "                strides=(2, 2, 2, 2),\n",
    "                num_res_units=2,\n",
    "                dropout=.2,\n",
    "            )"
   ]
  },
  {
   "cell_type": "code",
   "execution_count": null,
   "id": "dd5a3b56",
   "metadata": {},
   "outputs": [],
   "source": [
    "dataloader = iter(dataset.train_dataloader())\n",
    "train_tensor = None\n",
    "train_label = None\n",
    "train_mask = None\n",
    "for i in range(1):\n",
    "    # Get image and label from train data -- change number for different ones\n",
    "    #print(next(dataloader))\n",
    "    subvolume, inklabel, mask = next(dataloader)\n",
    "    print('subvolume shape:',subvolume.shape)\n",
    "    print('inklabel shape:',inklabel.shape)\n",
    "    print('mask shape', mask.shape)\n",
    "    train_tensor = subvolume\n",
    "    train_label = inklabel\n",
    "    train_mask = mask"
   ]
  },
  {
   "cell_type": "code",
   "execution_count": null,
   "id": "c870fe1c",
   "metadata": {},
   "outputs": [],
   "source": [
    "train_tensor.squeeze(1).shape"
   ]
  },
  {
   "cell_type": "code",
   "execution_count": null,
   "id": "5e8658db",
   "metadata": {},
   "outputs": [],
   "source": []
  },
  {
   "cell_type": "markdown",
   "id": "75d77978",
   "metadata": {},
   "source": [
    "### MONAI Dataloader Work"
   ]
  },
  {
   "cell_type": "code",
   "execution_count": null,
   "id": "86f73a6b",
   "metadata": {},
   "outputs": [],
   "source": [
    "from monai.data import ArrayDataset, GridPatchDataset, create_test_image_3d, PatchIter, DataLoader\n",
    "from monai.data import DataLoader\n",
    "from monai.transforms import (\n",
    "    Compose,\n",
    "    LoadImage,\n",
    "    RandSpatialCrop,\n",
    "    ScaleIntensity,\n",
    "    EnsureType,\n",
    ")\n",
    "from monai.utils import first"
   ]
  },
  {
   "cell_type": "code",
   "execution_count": null,
   "id": "ec2371bd",
   "metadata": {},
   "outputs": [],
   "source": [
    "\n",
    "\n",
    "array_ds = monai.data.ArrayDataset(img= dataset.image_tensors.unsqueeze(0), \n",
    "                                   #img_transform = transform,\n",
    "                                   seg=dataset.mask.unsqueeze(0).unsqueeze(0),\n",
    "                                   #seg_transform = transform,\n",
    "                                   #label_transform =transform,\n",
    "                                   labels = dataset.label_tensors.unsqueeze(0).unsqueeze(0) \n",
    "                                  )\n",
    "\n",
    "patch_iter = monai.data.PatchIter(patch_size=( 512, 512))\n",
    "\n",
    "def img_seg_iter(x):\n",
    "    for im, seg, label in zip(patch_iter(x[0]), patch_iter(x[1]),patch_iter(x[2]) ):\n",
    "        # uncomment this to confirm the coordinates\n",
    "        #print(\"coord img:\", im[1].flatten(), \"coord seg:\", seg[1].flatten())\n",
    "        yield ((im[0], seg[0], label[0]),)\n",
    "        \n",
    "patched_ds = monai.data.GridPatchDataset(array_ds, patch_iter = img_seg_iter, with_coordinates=False)\n",
    "\n"
   ]
  },
  {
   "cell_type": "code",
   "execution_count": null,
   "id": "dda768bf",
   "metadata": {},
   "outputs": [],
   "source": []
  },
  {
   "cell_type": "code",
   "execution_count": null,
   "id": "9b49bc07",
   "metadata": {
    "scrolled": true
   },
   "outputs": [],
   "source": [
    "monai_dataloader = DataLoader(\n",
    "            patched_ds,\n",
    "            batch_size=2,\n",
    "            #shuffle=True,\n",
    "            num_workers=0,\n",
    "        )\n",
    "volumes_tensor = None\n",
    "masks_tensor = None\n",
    "labels_tensor = None\n",
    "for batch_idx, batch in enumerate(monai_dataloader):\n",
    "    if batch_idx>20:\n",
    "        break\n",
    "    volumes, masks, labels = batch\n",
    "    print(volumes.shape, masks.shape, labels.shape)\n",
    "    volumes_tensor, masks_tensor, labels_tensor =  volumes, masks, labels \n",
    "    for volume, mask , label in zip(volumes, masks, labels):\n",
    "        fig, axes = plt.subplots(1, 3, figsize=(15, 5))\n",
    "        plt.suptitle(f\"batch: {batch_idx}\") \n",
    "        \n",
    "        for idx, image in enumerate((volume, mask, label)):\n",
    "            matshow3d(\n",
    "                volume=image,\n",
    "                fig=axes[idx],\n",
    "                title=f\"{list(image.shape)}, {image.min().item()}, {image.max().item()}\",\n",
    "                vmin=0.0,\n",
    "                vmax=1.0,\n",
    "                every_n=2,\n",
    "                fill_value=1.0,\n",
    "                margin=4,\n",
    "                cmap=\"gray\",\n",
    "            )\n"
   ]
  },
  {
   "cell_type": "code",
   "execution_count": null,
   "id": "4265b10b",
   "metadata": {},
   "outputs": [],
   "source": []
  },
  {
   "cell_type": "code",
   "execution_count": null,
   "id": "59ccb514",
   "metadata": {},
   "outputs": [],
   "source": [
    "print(volumes_tensor.shape, masks_tensor.shape, labels_tensor.shape )"
   ]
  },
  {
   "cell_type": "code",
   "execution_count": null,
   "id": "36369df9",
   "metadata": {},
   "outputs": [],
   "source": [
    "model_unetr = monai.networks.nets.UNETR(in_channels = 2 , #z_dim \n",
    "                                       out_channels = 1, \n",
    "                                       img_size = (512,512) , \n",
    "                                       feature_size=16,\n",
    "                                       hidden_size=768, \n",
    "                                       mlp_dim=3072, \n",
    "                                       num_heads=12, \n",
    "                                       pos_embed='conv', \n",
    "                                       norm_name='instance', \n",
    "                                       conv_block=True, \n",
    "                                       res_block=True, \n",
    "                                       dropout_rate=0.0, \n",
    "                                       spatial_dims=2, \n",
    "                                       qkv_bias=False,\n",
    "                                        \n",
    "                                      )"
   ]
  },
  {
   "cell_type": "code",
   "execution_count": null,
   "id": "e1bb7157",
   "metadata": {},
   "outputs": [],
   "source": []
  },
  {
   "cell_type": "code",
   "execution_count": null,
   "id": "dded723a",
   "metadata": {},
   "outputs": [],
   "source": []
  },
  {
   "cell_type": "code",
   "execution_count": null,
   "id": "b5d9e21c",
   "metadata": {},
   "outputs": [],
   "source": []
  },
  {
   "cell_type": "code",
   "execution_count": null,
   "id": "6e17d86e",
   "metadata": {},
   "outputs": [],
   "source": []
  },
  {
   "cell_type": "code",
   "execution_count": null,
   "id": "a19fd0e7",
   "metadata": {},
   "outputs": [],
   "source": []
  },
  {
   "cell_type": "code",
   "execution_count": null,
   "id": "194a80cc",
   "metadata": {},
   "outputs": [],
   "source": [
    "model = monai.networks.nets.UNet(\n",
    "                spatial_dims=2,\n",
    "                in_channels=2, #z_dim\n",
    "                out_channels=1,\n",
    "                channels=(16, 32, 64, 128, 256),\n",
    "                strides=(2, 2, 2, 2),\n",
    "                num_res_units=2,\n",
    "                dropout=.2,\n",
    "            )"
   ]
  },
  {
   "cell_type": "code",
   "execution_count": null,
   "id": "a18c5d76",
   "metadata": {},
   "outputs": [],
   "source": [
    "labels_tensor.shape"
   ]
  },
  {
   "cell_type": "code",
   "execution_count": null,
   "id": "7d7633dd",
   "metadata": {},
   "outputs": [],
   "source": [
    "res = model(volumes_tensor)\n",
    "print(res.shape)\n",
    "loss = monai.losses.DiceLoss(sigmoid=True)\n",
    "loss = monai.losses.MaskedLoss(loss)\n",
    "value = loss(res, labels_tensor, masks_tensor)\n"
   ]
  },
  {
   "cell_type": "code",
   "execution_count": null,
   "id": "e102b678",
   "metadata": {},
   "outputs": [],
   "source": [
    "pred = torch.sigmoid(res.detach()).gt(.4).int()"
   ]
  },
  {
   "cell_type": "code",
   "execution_count": null,
   "id": "7d25a77e",
   "metadata": {},
   "outputs": [],
   "source": [
    "accuracy = (pred == labels_tensor).sum().float().div(labels_tensor.size(0)*labels_tensor.size(2)**2)"
   ]
  },
  {
   "cell_type": "code",
   "execution_count": null,
   "id": "933cdb44",
   "metadata": {},
   "outputs": [],
   "source": [
    "def fbeta_score(preds, targets, threshold, beta=0.5, smooth=1e-5):\n",
    "    preds_t = torch.where(preds > threshold, 1.0, 0.0).float()\n",
    "    y_true_count = targets.sum()\n",
    "    \n",
    "    ctp = preds_t[targets==1].sum()\n",
    "    cfp = preds_t[targets==0].sum()\n",
    "    beta_squared = beta * beta\n",
    "\n",
    "    c_precision = ctp / (ctp + cfp + smooth)\n",
    "    c_recall = ctp / (y_true_count + smooth)\n",
    "    dice = (1 + beta_squared) * (c_precision * c_recall) / (beta_squared * c_precision + c_recall + smooth)\n",
    "\n",
    "    return dice"
   ]
  },
  {
   "cell_type": "code",
   "execution_count": null,
   "id": "866208ed",
   "metadata": {},
   "outputs": [],
   "source": [
    "fbeta = fbeta_score( torch.sigmoid(res), labels_tensor, .4)"
   ]
  },
  {
   "cell_type": "code",
   "execution_count": null,
   "id": "8cb8e030",
   "metadata": {},
   "outputs": [],
   "source": []
  },
  {
   "cell_type": "code",
   "execution_count": null,
   "id": "62ba233c",
   "metadata": {},
   "outputs": [],
   "source": [
    "fbeta"
   ]
  },
  {
   "cell_type": "code",
   "execution_count": null,
   "id": "b9b284b4",
   "metadata": {},
   "outputs": [],
   "source": [
    "from torchmetrics import FBetaScore\n",
    "fbeta_torch = FBetaScore( task=\"binary\", beta=.5, threshold=.4)\n",
    "fbeta_from_torch = fbeta_torch(torch.sigmoid(res), labels_tensor)\n",
    "print(fbeta_from_torch)"
   ]
  },
  {
   "cell_type": "code",
   "execution_count": null,
   "id": "4608998c",
   "metadata": {
    "scrolled": false
   },
   "outputs": [],
   "source": [
    "monai_dataloader_val = DataLoader(\n",
    "            array_ds,\n",
    "            batch_size=2,\n",
    "            #shuffle=True,\n",
    "            num_workers=0,\n",
    "        )"
   ]
  },
  {
   "cell_type": "code",
   "execution_count": null,
   "id": "dd3b08b0",
   "metadata": {},
   "outputs": [],
   "source": [
    "for batch_idx, batch in enumerate(monai_dataloader_val):\n",
    "    if batch_idx>3:\n",
    "        break\n",
    "    volumes, masks, labels = batch\n",
    "    print(volumes.shape, masks.shape, labels.shape)"
   ]
  },
  {
   "cell_type": "code",
   "execution_count": null,
   "id": "6732f87e",
   "metadata": {},
   "outputs": [],
   "source": []
  },
  {
   "cell_type": "markdown",
   "id": "38a9179a",
   "metadata": {},
   "source": [
    "## Experiments with patching\n"
   ]
  },
  {
   "cell_type": "code",
   "execution_count": null,
   "id": "048e07db",
   "metadata": {},
   "outputs": [],
   "source": [
    "BUFFER = 256\n",
    "import random\n",
    "\n",
    "\n",
    "fig, (ax1, ax2)= plt.subplots(1,2, figsize=(15,5))\n",
    "ax1.imshow(dataset.label_tensors)\n",
    "for i in range(50):\n",
    "    y,x = random.randint(0,8000), random.randint(0,5000)\n",
    "    patch = patches.Rectangle([y - BUFFER, x - BUFFER], 2 * BUFFER, 2 * BUFFER, linewidth=1, edgecolor='r', facecolor='none')\n",
    "    ax1.add_patch(patch)\n",
    "\n",
    "ax2.imshow(dataset.mask)\n",
    "\n",
    "plt.show()"
   ]
  },
  {
   "cell_type": "code",
   "execution_count": null,
   "id": "f229ee39",
   "metadata": {},
   "outputs": [],
   "source": [
    "def threshold_at_one(x):\n",
    "    # threshold at 1\n",
    "    return x > 0\n",
    "\n",
    "transorm_test = monai.transforms.Compose(\n",
    "            [\n",
    "              \n",
    "      monai.transforms.RandFlip(\n",
    "                   \n",
    "                    prob=0.5,\n",
    "                    spatial_axis=0,\n",
    "                ),\n",
    "                monai.transforms.RandFlip(\n",
    "                    prob=0.5,\n",
    "                    spatial_axis=1,\n",
    "                ),\n",
    "            ]\n",
    "        )\n",
    "\n",
    "\n",
    "array_ds_test = monai.data.ArrayDataset(img= dataset.label_tensors.unsqueeze(0).unsqueeze(0),\n",
    "                                   #img_transform = transorm_test,\n",
    "                                   seg=dataset.mask.unsqueeze(0).unsqueeze(0),\n",
    "                                   #seg_transform = transorm_test,\n",
    "                                   #label_transform =transform,\n",
    "                                   #labels = dataset.label_tensors.unsqueeze(0).unsqueeze(0) \n",
    "                                  )\n",
    "\n",
    "new_ds = monai.data.Dataset(array_ds_test, )"
   ]
  },
  {
   "cell_type": "code",
   "execution_count": null,
   "id": "53b9321c",
   "metadata": {},
   "outputs": [],
   "source": [
    "new_ds.data[0][0].shape"
   ]
  },
  {
   "cell_type": "code",
   "execution_count": null,
   "id": "66e884c3",
   "metadata": {},
   "outputs": [],
   "source": [
    "dataset.mask.unsqueeze(0).unsqueeze(0).shape"
   ]
  },
  {
   "cell_type": "code",
   "execution_count": null,
   "id": "2d53d0a3",
   "metadata": {},
   "outputs": [],
   "source": []
  },
  {
   "cell_type": "code",
   "execution_count": null,
   "id": "2c2cfb79",
   "metadata": {},
   "outputs": [],
   "source": [
    "fig, (ax1, ax2) = plt.subplots(1,2)\n",
    "ax1.imshow(new_ds.data[0][0].squeeze(0))\n",
    "ax2.imshow(new_ds.data[0][1].squeeze(0))\n",
    "plt.show()"
   ]
  },
  {
   "cell_type": "code",
   "execution_count": null,
   "id": "679cf698",
   "metadata": {},
   "outputs": [],
   "source": [
    "from Data_Modules.MONAI_dataset import MONAI_Scrolls_Dataset\n",
    "\n",
    "dataset_monai = MONAI_Scrolls_Dataset(\n",
    "                \n",
    "    \n",
    "                patch_size = 128,\n",
    "                 z_start = 12,\n",
    "                 z_dim = 2,\n",
    "                 validation_rect = (1100, 3500, 700, 950),\n",
    "                shared_height = 5000,\n",
    "                 downsampling =None,\n",
    "                 train_scroll_fragments = [1,2],\n",
    "                 val_scroll_fragments = [3],\n",
    "                 stage = 'train',\n",
    "                 batch_size=2,\n",
    "                 num_workers =8 ,\n",
    "                          \n",
    "                         )\n",
    "\n",
    "dataset_monai.prepare_data()"
   ]
  },
  {
   "cell_type": "code",
   "execution_count": null,
   "id": "cc93f7b5",
   "metadata": {},
   "outputs": [],
   "source": [
    "print(dataset_monai.tensors['image'].shape, )\n",
    "print(dataset_monai.tensors['label'].shape, )\n",
    "print(dataset_monai.tensors['mask'].shape, )"
   ]
  },
  {
   "cell_type": "code",
   "execution_count": null,
   "id": "57b25bc3",
   "metadata": {},
   "outputs": [],
   "source": [
    "keyes = ('image','label', 'mask')\n",
    "\n",
    "transorm_test = monai.transforms.Compose(\n",
    "            [\n",
    "              \n",
    "     monai.transforms.RandFlipd(\n",
    "                    keys=keyes,\n",
    "                    prob=.5,\n",
    "                    spatial_axis=0,\n",
    "                ),\n",
    "        monai.transforms.RandFlipd(\n",
    "                    keys=keyes,\n",
    "                    prob=.5,\n",
    "                    spatial_axis=1,\n",
    "                ),\n",
    "            ]\n",
    "            \n",
    "        )\n",
    "\n",
    "\n",
    "array_ds_test = monai.data.Dataset(data= dataset_monai.tensors,\n",
    "                                   transform = transorm_test,\n",
    "                                   #seg=dataset.mask.unsqueeze(0).unsqueeze(0),\n",
    "                                   #seg_transform = transorm_test,\n",
    "                                   #label_transform =transform,\n",
    "                                   #labels = dataset.label_tensors.unsqueeze(0).unsqueeze(0) \n",
    "                                  )\n",
    "\n",
    "#new_ds = monai.data.Dataset(array_ds_test, )"
   ]
  },
  {
   "cell_type": "code",
   "execution_count": null,
   "id": "e617320b",
   "metadata": {},
   "outputs": [],
   "source": [
    "array_ds_test.data['label'].shape"
   ]
  },
  {
   "cell_type": "code",
   "execution_count": null,
   "id": "6f7fbda3",
   "metadata": {},
   "outputs": [],
   "source": [
    "fig, (ax1, ax2) = plt.subplots(1,2)\n",
    "ax1.imshow(array_ds_test.data['label'].squeeze(0).squeeze(0))\n",
    "ax2.imshow(array_ds_test.data['mask'].squeeze(0).squeeze(0))\n",
    "plt.show()"
   ]
  },
  {
   "cell_type": "code",
   "execution_count": null,
   "id": "6f894511",
   "metadata": {},
   "outputs": [],
   "source": []
  },
  {
   "cell_type": "code",
   "execution_count": null,
   "id": "fcebff0c",
   "metadata": {},
   "outputs": [],
   "source": []
  },
  {
   "cell_type": "code",
   "execution_count": null,
   "id": "78123cc9",
   "metadata": {},
   "outputs": [],
   "source": [
    "dataset.label_tensors"
   ]
  },
  {
   "cell_type": "code",
   "execution_count": null,
   "id": "fae5ab58",
   "metadata": {},
   "outputs": [],
   "source": [
    "fig, ax = plt.subplots()\n",
    "ax.imshow(dataset.label_tensors)\n",
    "\n",
    "BUFFER = 256\n",
    "\n",
    "patch = patches.Rectangle([y - BUFFER, x - BUFFER], 2 * BUFFER, 2 * BUFFER, linewidth=1, edgecolor='red', facecolor='none')\n",
    "ax.add_patch(patch)"
   ]
  },
  {
   "cell_type": "code",
   "execution_count": null,
   "id": "1dce2b46",
   "metadata": {},
   "outputs": [],
   "source": [
    "x,y = y,x\n",
    "BUFFER = 256\n",
    "print(y,x)"
   ]
  },
  {
   "cell_type": "code",
   "execution_count": null,
   "id": "fccc86d5",
   "metadata": {},
   "outputs": [],
   "source": []
  },
  {
   "cell_type": "code",
   "execution_count": null,
   "id": "c654d847",
   "metadata": {},
   "outputs": [],
   "source": [
    "image = dataset.image_tensors[:, y - BUFFER:y + BUFFER , x - BUFFER:x + BUFFER ].view(1, 8, BUFFER * 2 ,BUFFER * 2)\n",
    "\n",
    "\n",
    "\n"
   ]
  },
  {
   "cell_type": "code",
   "execution_count": null,
   "id": "76f05c15",
   "metadata": {},
   "outputs": [],
   "source": [
    "label =dataset.label_tensors[ y - BUFFER:y + BUFFER  , x - BUFFER:x + BUFFER  ].view(1, BUFFER * 2 ,BUFFER * 2 )\n",
    "\n",
    "\n",
    "\n",
    "\n",
    "\n",
    "\n",
    "\n",
    "\n"
   ]
  },
  {
   "cell_type": "code",
   "execution_count": null,
   "id": "af6da39c",
   "metadata": {},
   "outputs": [],
   "source": []
  },
  {
   "cell_type": "code",
   "execution_count": null,
   "id": "85d67fbb",
   "metadata": {},
   "outputs": [],
   "source": [
    "label.shape"
   ]
  },
  {
   "cell_type": "code",
   "execution_count": null,
   "id": "04e6bf94",
   "metadata": {},
   "outputs": [],
   "source": [
    "label.dtype"
   ]
  },
  {
   "cell_type": "code",
   "execution_count": null,
   "id": "aaac5f30",
   "metadata": {},
   "outputs": [],
   "source": [
    "fig, ax = plt.subplots()\n",
    "ax.imshow(dataset.mask)\n",
    "\n",
    "BUFFER = 256\n",
    "\n",
    "patch = patches.Rectangle([y - BUFFER, x - BUFFER], 2 * BUFFER, 2 * BUFFER, linewidth=1, edgecolor='red', facecolor='none')\n",
    "ax.add_patch(patch)"
   ]
  },
  {
   "cell_type": "code",
   "execution_count": null,
   "id": "c02a5958",
   "metadata": {},
   "outputs": [],
   "source": [
    "print(dataset.mask.shape)\n",
    "print(dataset.label_tensors.shape)"
   ]
  },
  {
   "cell_type": "code",
   "execution_count": null,
   "id": "5a682879",
   "metadata": {},
   "outputs": [],
   "source": [
    "y,x = x,y\n",
    "mask = dataset.mask[ y - BUFFER:y + BUFFER  , x - BUFFER:x + BUFFER  ].view(1, BUFFER * 2 ,BUFFER * 2 )\n",
    "plt.imshow(mask)"
   ]
  },
  {
   "cell_type": "code",
   "execution_count": null,
   "id": "b0e3d354",
   "metadata": {},
   "outputs": [],
   "source": [
    "plt.imshow(label)"
   ]
  },
  {
   "cell_type": "code",
   "execution_count": null,
   "id": "99475542",
   "metadata": {},
   "outputs": [],
   "source": [
    "label.shape"
   ]
  },
  {
   "cell_type": "code",
   "execution_count": null,
   "id": "cea5a403",
   "metadata": {},
   "outputs": [],
   "source": [
    "image.shape"
   ]
  },
  {
   "cell_type": "code",
   "execution_count": null,
   "id": "ed0f26a2",
   "metadata": {},
   "outputs": [],
   "source": [
    "fig, ax = plt.subplots()\n"
   ]
  },
  {
   "cell_type": "code",
   "execution_count": null,
   "id": "fbe50043",
   "metadata": {},
   "outputs": [],
   "source": [
    "dataset.image_tensors.shape"
   ]
  },
  {
   "cell_type": "code",
   "execution_count": null,
   "id": "44fa4981",
   "metadata": {},
   "outputs": [],
   "source": [
    "dataset.label_tensors.shape"
   ]
  },
  {
   "cell_type": "code",
   "execution_count": null,
   "id": "b9a5e7bc",
   "metadata": {},
   "outputs": [],
   "source": [
    "train_tensor.shape"
   ]
  },
  {
   "cell_type": "code",
   "execution_count": null,
   "id": "dff391b7",
   "metadata": {},
   "outputs": [],
   "source": [
    "res = model(train_tensor.squeeze(1))\n",
    "print(res.shape)\n",
    "print(train_label.shape)\n",
    "loss = monai.losses.DiceLoss(sigmoid=True)\n",
    "loss = monai.losses.MaskedLoss(loss)\n",
    "value = loss(res, train_label)"
   ]
  },
  {
   "cell_type": "code",
   "execution_count": null,
   "id": "bf351422",
   "metadata": {},
   "outputs": [],
   "source": [
    "print(res.shape)\n",
    "print(train_label.shape)"
   ]
  },
  {
   "cell_type": "code",
   "execution_count": null,
   "id": "c5aa95e3",
   "metadata": {},
   "outputs": [],
   "source": [
    "loss = monai.losses.DiceLoss(sigmoid=True)\n",
    "    \n",
    "loss = monai.losses.MaskedLoss(loss)"
   ]
  },
  {
   "cell_type": "code",
   "execution_count": null,
   "id": "fca9804f",
   "metadata": {},
   "outputs": [],
   "source": [
    "value = loss(res, train_label)"
   ]
  },
  {
   "cell_type": "code",
   "execution_count": null,
   "id": "c5de703c",
   "metadata": {},
   "outputs": [],
   "source": [
    "model"
   ]
  },
  {
   "cell_type": "code",
   "execution_count": null,
   "id": "9741abec",
   "metadata": {},
   "outputs": [],
   "source": []
  }
 ],
 "metadata": {
  "kernelspec": {
   "display_name": "Python 3 (ipykernel)",
   "language": "python",
   "name": "python3"
  },
  "language_info": {
   "codemirror_mode": {
    "name": "ipython",
    "version": 3
   },
   "file_extension": ".py",
   "mimetype": "text/x-python",
   "name": "python",
   "nbconvert_exporter": "python",
   "pygments_lexer": "ipython3",
   "version": "3.10.9"
  }
 },
 "nbformat": 4,
 "nbformat_minor": 5
}
