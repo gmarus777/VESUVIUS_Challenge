{
 "cells": [
  {
   "cell_type": "code",
   "execution_count": 1,
   "id": "6a033665",
   "metadata": {},
   "outputs": [],
   "source": [
    "# Here we take care of paths.\n",
    "\n",
    "from pathlib import Path\n",
    "import os\n",
    "print('Starting path:' + os.getcwd())\n",
    "if os.getcwd()[-18:] == 'VESUVIUS_Challenge':\n",
    "    pass\n",
    "else:\n",
    "    PATH = Path().resolve().parents[0]\n",
    "    os.chdir(PATH)\n",
    "\n",
    "# make sure you are in Paragraph_to_Tex folder\n",
    "print('Current path:' + os.getcwd())"
   ]
  },
  {
   "cell_type": "code",
   "execution_count": 2,
   "id": "e234aed7",
   "metadata": {},
   "outputs": [
    {
     "name": "stderr",
     "output_type": "stream",
     "text": [
      "/Users/gregory/anaconda3/lib/python3.10/site-packages/tqdm/auto.py:22: TqdmWarning: IProgress not found. Please update jupyter and ipywidgets. See https://ipywidgets.readthedocs.io/en/stable/user_install.html\n",
      "  from .autonotebook import tqdm as notebook_tqdm\n"
     ]
    },
    {
     "name": "stdout",
     "output_type": "stream",
     "text": [
      "2023-04-15 18:05:41,410 - Created a temporary directory at /var/folders/wc/60y8v25x3ns_jgsx6clbdb180000gn/T/tmp6caz56n7\n",
      "2023-04-15 18:05:41,411 - Writing /var/folders/wc/60y8v25x3ns_jgsx6clbdb180000gn/T/tmp6caz56n7/_remote_module_non_scriptable.py\n"
     ]
    }
   ],
   "source": [
    "\n",
    "import monai\n",
    "import torch\n",
    "import matplotlib.pyplot as plt\n",
    "import tempfile\n",
    "import shutil\n",
    "import os\n",
    "import glob\n",
    "import pytorch_lightning as pl\n",
    "from pytorch_lightning import Trainer\n",
    "from Data_Modules.Scrolls_Dataset_Module import Scrolls_Dataset\n",
    "import matplotlib.patches as patches\n",
    "from lit_models.UNET_monai_lit import UNET_lit\n",
    "\n",
    "DEVICE = torch.device(\"cuda\" if torch.cuda.is_available() else \"cpu\")\n"
   ]
  },
  {
   "cell_type": "code",
   "execution_count": 3,
   "id": "8db77db7",
   "metadata": {},
   "outputs": [],
   "source": [
    "# Initiating Dataset with parameters\n",
    "\n",
    "# buffer =   -- x,y patchsize for training\n",
    "# z_start =  --  Offset of slices in the z direction\n",
    "# z_dim =    -- Number of slices in the z direction. Max value is (64 - z_start)\n",
    "# validation_rect =  -- rectangle removed for validation set\n",
    "# shared_height = -- Height to resize all scrolls\n",
    "# scroll_fragments = -- scrolls to be used \n",
    "\n",
    "dataset = Scrolls_Dataset(\n",
    "                monai= True,\n",
    "    \n",
    "                buffer = 32,\n",
    "                 z_start = 27,\n",
    "                 z_dim = 8,\n",
    "                 validation_rect = (1100, 3500, 700, 950),\n",
    "                shared_height = 8000,\n",
    "                 downsampling =None,\n",
    "                 scroll_fragments = [1],#[1,2,3],\n",
    "                 stage = 'train',\n",
    "                 shuffle=True,\n",
    "                 batch_size=64,\n",
    "                 num_workers =4 ,\n",
    "                 on_gpu= False,\n",
    "                          \n",
    "                         )\n"
   ]
  },
  {
   "cell_type": "code",
   "execution_count": 4,
   "id": "fe7e77f7",
   "metadata": {},
   "outputs": [],
   "source": [
    "# prepeare data, by processng images and loading dataloader\n",
    "\n",
    "#dataset.prepare_data()"
   ]
  },
  {
   "cell_type": "code",
   "execution_count": 5,
   "id": "69890b1b",
   "metadata": {},
   "outputs": [
    {
     "name": "stderr",
     "output_type": "stream",
     "text": [
      "\u001b[34m\u001b[1mwandb\u001b[0m: Currently logged in as: \u001b[33mgmarus\u001b[0m. Use \u001b[1m`wandb login --relogin`\u001b[0m to force relogin\n"
     ]
    },
    {
     "data": {
      "text/html": [
       "Tracking run with wandb version 0.14.2"
      ],
      "text/plain": [
       "<IPython.core.display.HTML object>"
      ]
     },
     "metadata": {},
     "output_type": "display_data"
    },
    {
     "data": {
      "text/html": [
       "Run data is saved locally in <code>/Users/gregory/PROJECT_ML/VESUVIUS_Challenge/wandb/run-20230415_180542-79dde4hb</code>"
      ],
      "text/plain": [
       "<IPython.core.display.HTML object>"
      ]
     },
     "metadata": {},
     "output_type": "display_data"
    },
    {
     "data": {
      "text/html": [
       "Syncing run <strong><a href='https://wandb.ai/gmarus/VESUVIUS_Challenge/runs/79dde4hb' target=\"_blank\">sleek-haze-9</a></strong> to <a href='https://wandb.ai/gmarus/VESUVIUS_Challenge' target=\"_blank\">Weights & Biases</a> (<a href='https://wandb.me/run' target=\"_blank\">docs</a>)<br/>"
      ],
      "text/plain": [
       "<IPython.core.display.HTML object>"
      ]
     },
     "metadata": {},
     "output_type": "display_data"
    },
    {
     "data": {
      "text/html": [
       " View project at <a href='https://wandb.ai/gmarus/VESUVIUS_Challenge' target=\"_blank\">https://wandb.ai/gmarus/VESUVIUS_Challenge</a>"
      ],
      "text/plain": [
       "<IPython.core.display.HTML object>"
      ]
     },
     "metadata": {},
     "output_type": "display_data"
    },
    {
     "data": {
      "text/html": [
       " View run at <a href='https://wandb.ai/gmarus/VESUVIUS_Challenge/runs/79dde4hb' target=\"_blank\">https://wandb.ai/gmarus/VESUVIUS_Challenge/runs/79dde4hb</a>"
      ],
      "text/plain": [
       "<IPython.core.display.HTML object>"
      ]
     },
     "metadata": {},
     "output_type": "display_data"
    }
   ],
   "source": [
    "lit_model = UNET_lit(z_dim = dataset.z_dim)"
   ]
  },
  {
   "cell_type": "code",
   "execution_count": 6,
   "id": "c3bc1fbf",
   "metadata": {
    "scrolled": false
   },
   "outputs": [
    {
     "name": "stdout",
     "output_type": "stream",
     "text": [
      "2023-04-15 18:05:46,012 - Using 16bit Automatic Mixed Precision (AMP)\n",
      "2023-04-15 18:05:46,024 - GPU available: True (mps), used: True\n",
      "2023-04-15 18:05:46,024 - TPU available: False, using: 0 TPU cores\n",
      "2023-04-15 18:05:46,025 - IPU available: False, using: 0 IPUs\n",
      "2023-04-15 18:05:46,025 - HPU available: False, using: 0 HPUs\n"
     ]
    },
    {
     "name": "stderr",
     "output_type": "stream",
     "text": [
      "/Users/gregory/anaconda3/lib/python3.10/site-packages/lightning_fabric/connector.py:562: UserWarning: 16 is supported for historical reasons but its usage is discouraged. Please set your precision to 16-mixed instead!\n",
      "  rank_zero_warn(\n",
      "/Users/gregory/anaconda3/lib/python3.10/site-packages/torch/cuda/amp/grad_scaler.py:120: UserWarning: torch.cuda.amp.GradScaler is enabled, but CUDA is not available.  Disabling.\n",
      "  warnings.warn(\"torch.cuda.amp.GradScaler is enabled, but CUDA is not available.  Disabling.\")\n",
      "8it [00:02,  2.78it/s]\n"
     ]
    },
    {
     "name": "stdout",
     "output_type": "stream",
     "text": [
      "2023-04-15 18:05:50,171 - \n",
      "  | Name    | Type       | Params\n",
      "---------------------------------------\n",
      "0 | metrics | ModuleDict | 0     \n",
      "1 | model   | UNet       | 1.6 M \n",
      "2 | loss    | MaskedLoss | 0     \n",
      "---------------------------------------\n",
      "1.6 M     Trainable params\n",
      "0         Non-trainable params\n",
      "1.6 M     Total params\n",
      "6.507     Total estimated model params size (MB)\n"
     ]
    },
    {
     "name": "stderr",
     "output_type": "stream",
     "text": [
      "/Users/gregory/anaconda3/lib/python3.10/site-packages/lightning_fabric/loggers/csv_logs.py:188: UserWarning: Experiment logs directory logs/lightning_logs/version_0 exists and is not empty. Previous log files in this directory will be deleted when the new ones are saved!\n",
      "  rank_zero_warn(\n"
     ]
    },
    {
     "name": "stdout",
     "output_type": "stream",
     "text": [
      "Sanity Checking DataLoader 0:   0%|                                                                                                    | 0/2 [00:00<?, ?it/s]"
     ]
    },
    {
     "name": "stderr",
     "output_type": "stream",
     "text": [
      "/Users/gregory/anaconda3/lib/python3.10/site-packages/torch/amp/autocast_mode.py:221: UserWarning: User provided device_type of 'cuda', but CUDA is not available. Disabling\n",
      "  warnings.warn('User provided device_type of \\'cuda\\', but CUDA is not available. Disabling')\n"
     ]
    },
    {
     "name": "stdout",
     "output_type": "stream",
     "text": [
      "                                                                                                                                                             \r"
     ]
    },
    {
     "name": "stderr",
     "output_type": "stream",
     "text": [
      "/Users/gregory/anaconda3/lib/python3.10/site-packages/monai/losses/dice.py:171: UserWarning: MPS: no support for int64 for sum_out_mps, downcasting to a smaller data type (int32/float32). Native support for int64 has been added in macOS 13.3. (Triggered internally at /Users/runner/work/_temp/anaconda/conda-bld/pytorch_1681456119295/work/aten/src/ATen/native/mps/operations/ReduceOps.mm:132.)\n",
      "  ground_o = torch.sum(target, dim=reduce_axis)\n",
      "/Users/gregory/anaconda3/lib/python3.10/site-packages/torchmetrics/utilities/checks.py:57: UserWarning: MPS: no support for int64 for min_max, downcasting to a smaller data type (int32/float32). Native support for int64 has been added in macOS 13.3. (Triggered internally at /Users/runner/work/_temp/anaconda/conda-bld/pytorch_1681456119295/work/aten/src/ATen/native/mps/operations/ReduceOps.mm:610.)\n",
      "  if ignore_index is None and target.min() < 0:\n"
     ]
    },
    {
     "name": "stdout",
     "output_type": "stream",
     "text": [
      "Epoch 0:   2%|█▏                                                                     | 6777/424839 [04:51<4:59:59, 23.23it/s, v_num=0, train/loss_step=0.830]"
     ]
    },
    {
     "name": "stderr",
     "output_type": "stream",
     "text": [
      "/Users/gregory/anaconda3/lib/python3.10/site-packages/pytorch_lightning/trainer/call.py:54: UserWarning: Detected KeyboardInterrupt, attempting graceful shutdown...\n",
      "  rank_zero_warn(\"Detected KeyboardInterrupt, attempting graceful shutdown...\")\n"
     ]
    }
   ],
   "source": [
    "trainer = pl.Trainer(\n",
    "        accelerator='mps',\n",
    "        benchmark=True,\n",
    "        max_epochs=20,\n",
    "        check_val_every_n_epoch= 1,\n",
    "        devices=1,\n",
    "        #fast_dev_run=fast_dev_run,\n",
    "        logger=pl.loggers.CSVLogger(save_dir='logs/'),\n",
    "        log_every_n_steps=1,\n",
    "        \n",
    "        overfit_batches=0,\n",
    "        precision=16,\n",
    "     accumulate_grad_batches=8,\n",
    "        #strategy=\"ddp\" if devices > 1 else None,\n",
    "    )\n",
    "\n",
    "trainer.fit(lit_model, datamodule=dataset)"
   ]
  },
  {
   "cell_type": "code",
   "execution_count": null,
   "id": "b2f58895",
   "metadata": {},
   "outputs": [],
   "source": []
  },
  {
   "cell_type": "code",
   "execution_count": null,
   "id": "d6bd048e",
   "metadata": {},
   "outputs": [],
   "source": []
  },
  {
   "cell_type": "code",
   "execution_count": null,
   "id": "8ef8f22c",
   "metadata": {},
   "outputs": [],
   "source": []
  },
  {
   "cell_type": "code",
   "execution_count": null,
   "id": "d3056b6c",
   "metadata": {},
   "outputs": [],
   "source": []
  },
  {
   "cell_type": "code",
   "execution_count": null,
   "id": "52e08aaf",
   "metadata": {},
   "outputs": [],
   "source": []
  },
  {
   "cell_type": "code",
   "execution_count": null,
   "id": "5f62ca90",
   "metadata": {},
   "outputs": [],
   "source": []
  },
  {
   "cell_type": "code",
   "execution_count": null,
   "id": "3c411937",
   "metadata": {},
   "outputs": [],
   "source": []
  },
  {
   "cell_type": "code",
   "execution_count": null,
   "id": "068090a8",
   "metadata": {},
   "outputs": [],
   "source": []
  },
  {
   "cell_type": "code",
   "execution_count": null,
   "id": "64f7a7ff",
   "metadata": {},
   "outputs": [],
   "source": []
  },
  {
   "cell_type": "code",
   "execution_count": null,
   "id": "e645ea39",
   "metadata": {},
   "outputs": [],
   "source": []
  },
  {
   "cell_type": "code",
   "execution_count": 7,
   "id": "d741bd7a",
   "metadata": {},
   "outputs": [
    {
     "ename": "NameError",
     "evalue": "name 'UNet' is not defined",
     "output_type": "error",
     "traceback": [
      "\u001b[0;31m---------------------------------------------------------------------------\u001b[0m",
      "\u001b[0;31mNameError\u001b[0m                                 Traceback (most recent call last)",
      "Cell \u001b[0;32mIn[7], line 1\u001b[0m\n\u001b[0;32m----> 1\u001b[0m model \u001b[38;5;241m=\u001b[39m \u001b[43mUNet\u001b[49m(\n\u001b[1;32m      2\u001b[0m                 spatial_dims\u001b[38;5;241m=\u001b[39m\u001b[38;5;241m2\u001b[39m,\n\u001b[1;32m      3\u001b[0m                 in_channels\u001b[38;5;241m=\u001b[39m\u001b[38;5;241m8\u001b[39m, \u001b[38;5;66;03m#z_dim\u001b[39;00m\n\u001b[1;32m      4\u001b[0m                 out_channels\u001b[38;5;241m=\u001b[39m\u001b[38;5;241m1\u001b[39m,\n\u001b[1;32m      5\u001b[0m                 channels\u001b[38;5;241m=\u001b[39m(\u001b[38;5;241m16\u001b[39m, \u001b[38;5;241m32\u001b[39m, \u001b[38;5;241m64\u001b[39m, \u001b[38;5;241m128\u001b[39m, \u001b[38;5;241m256\u001b[39m),\n\u001b[1;32m      6\u001b[0m                 strides\u001b[38;5;241m=\u001b[39m(\u001b[38;5;241m2\u001b[39m, \u001b[38;5;241m2\u001b[39m, \u001b[38;5;241m2\u001b[39m, \u001b[38;5;241m2\u001b[39m),\n\u001b[1;32m      7\u001b[0m                 num_res_units\u001b[38;5;241m=\u001b[39m\u001b[38;5;241m2\u001b[39m,\n\u001b[1;32m      8\u001b[0m                 dropout\u001b[38;5;241m=\u001b[39m\u001b[38;5;241m.3\u001b[39m,\n\u001b[1;32m      9\u001b[0m             )\n",
      "\u001b[0;31mNameError\u001b[0m: name 'UNet' is not defined"
     ]
    }
   ],
   "source": [
    "model = UNet(\n",
    "                spatial_dims=2,\n",
    "                in_channels=8, #z_dim\n",
    "                out_channels=1,\n",
    "                channels=(16, 32, 64, 128, 256),\n",
    "                strides=(2, 2, 2, 2),\n",
    "                num_res_units=2,\n",
    "                dropout=.3,\n",
    "            )"
   ]
  },
  {
   "cell_type": "code",
   "execution_count": null,
   "id": "dd5a3b56",
   "metadata": {},
   "outputs": [],
   "source": [
    "dataloader = iter(dataset.train_dataloader())\n",
    "train_tensor = None\n",
    "train_label = None\n",
    "train_mask = None\n",
    "for i in range(1):\n",
    "    # Get image and label from train data -- change number for different ones\n",
    "    #print(next(dataloader))\n",
    "    subvolume, inklabel, mask = next(dataloader)\n",
    "    print('subvolume shape:',subvolume.shape)\n",
    "    print('inklabel shape:',inklabel.shape)\n",
    "    print('mask shape', mask.shape)\n",
    "    train_tensor = subvolume\n",
    "    train_label = inklabel\n",
    "    train_mask = mask"
   ]
  },
  {
   "cell_type": "code",
   "execution_count": null,
   "id": "c3568899",
   "metadata": {},
   "outputs": [],
   "source": [
    "res = model(train_tensor.squeeze(1))\n",
    "print(res.shape)\n",
    "loss = monai.losses.DiceLoss(sigmoid=True)\n",
    "loss = monai.losses.MaskedLoss(loss)\n",
    "value = loss(res, train_label, train_mask)\n"
   ]
  },
  {
   "cell_type": "code",
   "execution_count": null,
   "id": "6ed887b3",
   "metadata": {},
   "outputs": [],
   "source": [
    "print(value)"
   ]
  },
  {
   "cell_type": "code",
   "execution_count": null,
   "id": "0972307d",
   "metadata": {},
   "outputs": [],
   "source": []
  },
  {
   "cell_type": "code",
   "execution_count": null,
   "id": "f1ba63a1",
   "metadata": {},
   "outputs": [],
   "source": []
  },
  {
   "cell_type": "code",
   "execution_count": null,
   "id": "78123cc9",
   "metadata": {},
   "outputs": [],
   "source": [
    "x,y = dataset.pixels[900000]\n",
    "print(y,x)"
   ]
  },
  {
   "cell_type": "code",
   "execution_count": null,
   "id": "1c6a28de",
   "metadata": {},
   "outputs": [],
   "source": [
    "fig, ax = plt.subplots()\n",
    "ax.imshow(dataset.label_tensors)\n",
    "\n",
    "BUFFER = 256\n",
    "\n",
    "patch = patches.Rectangle([y - BUFFER, x - BUFFER], 2 * BUFFER, 2 * BUFFER, linewidth=1, edgecolor='red', facecolor='none')\n",
    "ax.add_patch(patch)"
   ]
  },
  {
   "cell_type": "code",
   "execution_count": null,
   "id": "868500c1",
   "metadata": {},
   "outputs": [],
   "source": [
    "x,y = y,x\n",
    "BUFFER = 256\n",
    "print(y,x)"
   ]
  },
  {
   "cell_type": "code",
   "execution_count": null,
   "id": "eeccacb9",
   "metadata": {},
   "outputs": [],
   "source": []
  },
  {
   "cell_type": "code",
   "execution_count": null,
   "id": "dd234fc4",
   "metadata": {},
   "outputs": [],
   "source": [
    "image = dataset.image_tensors[:, y - BUFFER:y + BUFFER , x - BUFFER:x + BUFFER ].view(1, 8, BUFFER * 2 ,BUFFER * 2)\n",
    "\n",
    "\n",
    "\n"
   ]
  },
  {
   "cell_type": "code",
   "execution_count": null,
   "id": "ac2bb8b7",
   "metadata": {},
   "outputs": [],
   "source": [
    "label =dataset.label_tensors[ y - BUFFER:y + BUFFER  , x - BUFFER:x + BUFFER  ].view(1, BUFFER * 2 ,BUFFER * 2 )\n",
    "\n",
    "\n",
    "\n",
    "\n",
    "\n",
    "\n",
    "\n",
    "\n"
   ]
  },
  {
   "cell_type": "code",
   "execution_count": null,
   "id": "184a6b1a",
   "metadata": {},
   "outputs": [],
   "source": [
    "label.shape"
   ]
  },
  {
   "cell_type": "code",
   "execution_count": null,
   "id": "b7b14c10",
   "metadata": {},
   "outputs": [],
   "source": [
    "label.dtype"
   ]
  },
  {
   "cell_type": "code",
   "execution_count": null,
   "id": "3d6a46ae",
   "metadata": {},
   "outputs": [],
   "source": [
    "fig, ax = plt.subplots()\n",
    "ax.imshow(dataset.mask)\n",
    "\n",
    "BUFFER = 256\n",
    "\n",
    "patch = patches.Rectangle([y - BUFFER, x - BUFFER], 2 * BUFFER, 2 * BUFFER, linewidth=1, edgecolor='red', facecolor='none')\n",
    "ax.add_patch(patch)"
   ]
  },
  {
   "cell_type": "code",
   "execution_count": null,
   "id": "c02c7091",
   "metadata": {},
   "outputs": [],
   "source": [
    "print(dataset.mask.shape)\n",
    "print(dataset.label_tensors.shape)"
   ]
  },
  {
   "cell_type": "code",
   "execution_count": null,
   "id": "2df332f8",
   "metadata": {},
   "outputs": [],
   "source": [
    "y,x = x,y\n",
    "mask = dataset.mask[ y - BUFFER:y + BUFFER  , x - BUFFER:x + BUFFER  ].view(1, BUFFER * 2 ,BUFFER * 2 )\n",
    "plt.imshow(mask)"
   ]
  },
  {
   "cell_type": "code",
   "execution_count": null,
   "id": "b4b1544b",
   "metadata": {},
   "outputs": [],
   "source": [
    "plt.imshow(label)"
   ]
  },
  {
   "cell_type": "code",
   "execution_count": null,
   "id": "d0320a48",
   "metadata": {},
   "outputs": [],
   "source": [
    "label.shape"
   ]
  },
  {
   "cell_type": "code",
   "execution_count": null,
   "id": "348f550d",
   "metadata": {},
   "outputs": [],
   "source": [
    "image.shape"
   ]
  },
  {
   "cell_type": "code",
   "execution_count": null,
   "id": "ef51cdcd",
   "metadata": {},
   "outputs": [],
   "source": [
    "fig, ax = plt.subplots()\n"
   ]
  },
  {
   "cell_type": "code",
   "execution_count": null,
   "id": "89e7867f",
   "metadata": {},
   "outputs": [],
   "source": [
    "dataset.image_tensors.shape"
   ]
  },
  {
   "cell_type": "code",
   "execution_count": null,
   "id": "84409030",
   "metadata": {},
   "outputs": [],
   "source": [
    "dataset.label_tensors.shape"
   ]
  },
  {
   "cell_type": "code",
   "execution_count": null,
   "id": "b9a5e7bc",
   "metadata": {},
   "outputs": [],
   "source": [
    "train_tensor.shape"
   ]
  },
  {
   "cell_type": "code",
   "execution_count": null,
   "id": "dff391b7",
   "metadata": {},
   "outputs": [],
   "source": [
    "res = model(train_tensor.squeeze(1))\n",
    "print(res.shape)\n",
    "print(train_label.shape)\n",
    "loss = monai.losses.DiceLoss(sigmoid=True)\n",
    "loss = monai.losses.MaskedLoss(loss)\n",
    "value = loss(res, train_label)"
   ]
  },
  {
   "cell_type": "code",
   "execution_count": null,
   "id": "bf351422",
   "metadata": {},
   "outputs": [],
   "source": [
    "print(res.shape)\n",
    "print(train_label.shape)"
   ]
  },
  {
   "cell_type": "code",
   "execution_count": null,
   "id": "c5aa95e3",
   "metadata": {},
   "outputs": [],
   "source": [
    "loss = monai.losses.DiceLoss(sigmoid=True)\n",
    "    \n",
    "loss = monai.losses.MaskedLoss(loss)"
   ]
  },
  {
   "cell_type": "code",
   "execution_count": null,
   "id": "fca9804f",
   "metadata": {},
   "outputs": [],
   "source": [
    "value = loss(res, train_label)"
   ]
  },
  {
   "cell_type": "code",
   "execution_count": null,
   "id": "c5de703c",
   "metadata": {},
   "outputs": [],
   "source": []
  }
 ],
 "metadata": {
  "kernelspec": {
   "display_name": "Python 3 (ipykernel)",
   "language": "python",
   "name": "python3"
  },
  "language_info": {
   "codemirror_mode": {
    "name": "ipython",
    "version": 3
   },
   "file_extension": ".py",
   "mimetype": "text/x-python",
   "name": "python",
   "nbconvert_exporter": "python",
   "pygments_lexer": "ipython3",
   "version": "3.10.9"
  }
 },
 "nbformat": 4,
 "nbformat_minor": 5
}
