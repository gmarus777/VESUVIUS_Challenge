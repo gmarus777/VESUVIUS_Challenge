{
 "cells": [
  {
   "cell_type": "code",
   "execution_count": 1,
   "id": "6151c348",
   "metadata": {},
   "outputs": [
    {
     "name": "stdout",
     "output_type": "stream",
     "text": [
      "Starting path:/Users/gregory/PROJECT_ML/VESUVIUS_Challenge/jupyter notebooks\n",
      "Current path:/Users/gregory/PROJECT_ML/VESUVIUS_Challenge\n"
     ]
    }
   ],
   "source": [
    "# Here we take care of paths.\n",
    "# Make sure root project directory is named 'VESUVIUS_Challenge' for this to work\n",
    "\n",
    "from pathlib import Path\n",
    "import os\n",
    "print('Starting path:' + os.getcwd())\n",
    "if os.getcwd()[-18:] == 'VESUVIUS_Challenge':\n",
    "    pass\n",
    "else:\n",
    "    PATH = Path().resolve().parents[0]\n",
    "    os.chdir(PATH)\n",
    "\n",
    "# make sure you are in the root folder of the project\n",
    "print('Current path:' + os.getcwd())"
   ]
  },
  {
   "cell_type": "code",
   "execution_count": 2,
   "id": "f58b9abb",
   "metadata": {},
   "outputs": [
    {
     "name": "stdout",
     "output_type": "stream",
     "text": [
      "2023-05-22 14:31:09,508 - Created a temporary directory at /var/folders/wc/60y8v25x3ns_jgsx6clbdb180000gn/T/tmpeap5oz1j\n",
      "2023-05-22 14:31:09,508 - Writing /var/folders/wc/60y8v25x3ns_jgsx6clbdb180000gn/T/tmpeap5oz1j/_remote_module_non_scriptable.py\n"
     ]
    }
   ],
   "source": [
    "import torch\n",
    "import monai\n",
    "import segmentation_models_pytorch as smp\n",
    "import matplotlib.pyplot as plt\n",
    "import tempfile\n",
    "import shutil\n",
    "import os\n",
    "import glob\n",
    "import cv2\n",
    "import numpy as np\n",
    "import pandas as pd\n",
    "from tqdm.auto import tqdm\n",
    "from typing import Tuple, List\n",
    "import albumentations as A\n",
    "from albumentations.pytorch import ToTensorV2\n",
    "import pytorch_lightning as pl\n",
    "from pytorch_lightning import Trainer\n",
    "from Data_Modules.Vesuvius_Dataset import Vesuvius_Tile_Datamodule\n",
    "from lit_models.Vesuvius_Lit_Model import Lit_Model\n",
    "from pytorch_lightning.callbacks import ModelCheckpoint\n",
    "import torch.nn as nn\n",
    "\n",
    "from Models.PreBackbone_3d_SIMPLE import PreBackbone_3D_SIMPLE\n",
    "import torch.nn as nn\n",
    "from functools import partial\n",
    "import torchvision\n",
    "import torch.nn.functional as F\n",
    "\n",
    "\n",
    "from lit_models.scratch_models import FPNDecoder\n",
    "from segmentation_models_pytorch.base import SegmentationHead\n"
   ]
  },
  {
   "cell_type": "code",
   "execution_count": 3,
   "id": "ae8b6bfb",
   "metadata": {},
   "outputs": [],
   "source": [
    "PATCH_SIZE = 256\n",
    "Z_DIM = 16\n",
    "COMPETITION_DATA_DIR_str =  \"kaggle/input/vesuvius-challenge-ink-detection/\"\n",
    "\n",
    "\n",
    "DEVICE = torch.device(\"cuda\" if torch.cuda.is_available() else \"mps\")\n",
    "\n",
    "# change to the line below if not using Apple's M1 or chips\n",
    "# DEVICE = torch.device(\"cuda\" if torch.cuda.is_available() else \"cpu\")\n"
   ]
  },
  {
   "cell_type": "code",
   "execution_count": 4,
   "id": "f8f6e004",
   "metadata": {},
   "outputs": [],
   "source": [
    "class Model_3dAtt_w_Segformer(nn.Module):\n",
    "    def __init__(self ):\n",
    "        \n",
    "        super().__init__()\n",
    "        \n",
    "        self.model_3d = PreBackbone_3D_SIMPLE(z_dim=Z_DIM).to(DEVICE) \n",
    "        \n",
    "       \n",
    "        self.head = nn.AdaptiveAvgPool3d((1, None, None))\n",
    "\n",
    "    def forward(self, x):\n",
    "      \n",
    "        outs_3d = self.model_3d(x)\n",
    "        logits = self.model_2d(outs_3d)\n",
    "        \n",
    "       \n",
    "       \n",
    "            \n",
    "        \n",
    "        return logits\n",
    "\n",
    "\n",
    "\n",
    "\n",
    "\n",
    "\n",
    "\n",
    "\n",
    "\n",
    "\n",
    "\n"
   ]
  },
  {
   "cell_type": "code",
   "execution_count": 5,
   "id": "02dcd554",
   "metadata": {},
   "outputs": [],
   "source": [
    "\n",
    "\n",
    "class CFG:\n",
    "    \n",
    "    device = DEVICE\n",
    "    \n",
    "    THRESHOLD = 0.4\n",
    "    use_wandb = True\n",
    "    \n",
    "    ######### Dataset #########\n",
    "    \n",
    "    # stage: 'train' or 'test'\n",
    "    stage = 'train' \n",
    "    \n",
    "    # location of competition Data\n",
    "    competition_data_dir = COMPETITION_DATA_DIR_str\n",
    "    \n",
    "    # Number of slices in z-dim: 1<z_dim<65\n",
    "    z_dim = Z_DIM\n",
    "    \n",
    "    # fragments to use for training avalaible [1,2,3]\n",
    "    train_fragment_id=[2,3]\n",
    "    \n",
    "    # fragments to use for validation\n",
    "    val_fragment_id=[1]\n",
    "    \n",
    "    \n",
    "\n",
    "    \n",
    "    \n",
    "    batch_size = 8\n",
    "    \n",
    "    # Size of the patch and stride for feeding the model\n",
    "    patch_size = PATCH_SIZE\n",
    "    stride = patch_size // 2\n",
    "    \n",
    "    \n",
    "    num_workers = 8\n",
    "    on_gpu = True\n",
    "    \n",
    "    \n",
    "    ######## Model and Lightning Model paramters ############\n",
    "    \n",
    "    # MODEL\n",
    "    model = Model_3dAtt_w_Segformer().to(DEVICE) \n",
    "    \n",
    "    \n",
    "    \n",
    "    \n",
    "    checkpoint = None\n",
    "    save_directory = None\n",
    "    \n",
    "    \n",
    "    accumulate_grad_batches = 128 // batch_size  # experiments showed batch_size * accumulate_grad = 192 is optimal\n",
    "    learning_rate =  0.00002\n",
    "    eta_min = 1e-8\n",
    "    t_max = 50\n",
    "    max_epochs = 120\n",
    "    weight_decay =  0.001\n",
    "    precision =16\n",
    "    \n",
    "    # checkpointing\n",
    "    save_top_k=5\n",
    "    \n",
    "    monitor=\"FBETA\"\n",
    "    mode=\"max\"\n",
    "    \n",
    "    \n",
    "    ####### Augemtnations ###############\n",
    "    \n",
    "    # Training Aug\n",
    "    train_transforms = [\n",
    "        # A.RandomResizedCrop(\n",
    "        #     size, size, scale=(0.85, 1.0)),\n",
    "        A.Resize(patch_size, patch_size),\n",
    "        A.HorizontalFlip(p=0.5),\n",
    "        A.VerticalFlip(p=0.5),\n",
    "        A.RandomBrightnessContrast(p=0.75),\n",
    "        A.ShiftScaleRotate(p=0.75),\n",
    "        A.OneOf([\n",
    "                A.GaussNoise(var_limit=[10, 50]),\n",
    "                A.GaussianBlur(),\n",
    "                A.MotionBlur(),\n",
    "                ], p=0.4),\n",
    "        \n",
    "       \n",
    "        A.GridDistortion(num_steps=5, distort_limit=0.3, p=0.5),\n",
    "        A.CoarseDropout(max_holes=1, max_width=int(patch_size * 0.3), max_height=int(patch_size * 0.3), \n",
    "                        mask_fill_value=0, p=0.5),\n",
    "        # A.Cutout(max_h_size=int(size * 0.6),\n",
    "        #          max_w_size=int(size * 0.6), num_holes=1, p=1.0),\n",
    "        A.Normalize(\n",
    "            mean= [0] * z_dim,\n",
    "            std= [1] * z_dim\n",
    "        ),\n",
    "        ToTensorV2(transpose_mask=True),\n",
    "    ]\n",
    "    \n",
    "\n",
    "    \n",
    "    # Validaiton Aug\n",
    "    val_transforms = [\n",
    "        A.Resize(patch_size, patch_size),\n",
    "        A.Normalize(\n",
    "            mean= [0] * z_dim,\n",
    "            std= [1] * z_dim\n",
    "        ),\n",
    "        ToTensorV2(transpose_mask=True),\n",
    "    ]\n",
    "    \n",
    "    # Test Aug\n",
    "    test_transforms = [\n",
    "        A.Resize(patch_size, patch_size),\n",
    "        A.Normalize(\n",
    "            mean=[0] * z_dim,\n",
    "            std=[1] * z_dim\n",
    "        ),\n",
    "\n",
    "        ToTensorV2(transpose_mask=True),\n",
    "    ]\n",
    "        \n",
    "    \n",
    "    "
   ]
  },
  {
   "cell_type": "code",
   "execution_count": 6,
   "id": "9cec5c22",
   "metadata": {},
   "outputs": [
    {
     "data": {
      "application/vnd.jupyter.widget-view+json": {
       "model_id": "4cd969d20a734946b81025c68f2fbf91",
       "version_major": 2,
       "version_minor": 0
      },
      "text/plain": [
       "  0%|          | 0/16 [00:00<?, ?it/s]"
      ]
     },
     "metadata": {},
     "output_type": "display_data"
    },
    {
     "data": {
      "application/vnd.jupyter.widget-view+json": {
       "model_id": "1d6b39b73e31434d95661c514aa40781",
       "version_major": 2,
       "version_minor": 0
      },
      "text/plain": [
       "  0%|          | 0/16 [00:00<?, ?it/s]"
      ]
     },
     "metadata": {},
     "output_type": "display_data"
    },
    {
     "data": {
      "application/vnd.jupyter.widget-view+json": {
       "model_id": "cefaf03933184aaabc5f1b20d28d8ae3",
       "version_major": 2,
       "version_minor": 0
      },
      "text/plain": [
       "  0%|          | 0/16 [00:00<?, ?it/s]"
      ]
     },
     "metadata": {},
     "output_type": "display_data"
    }
   ],
   "source": [
    "dataset = Vesuvius_Tile_Datamodule(cfg=CFG)#.to(DEVICE)"
   ]
  },
  {
   "cell_type": "code",
   "execution_count": 7,
   "id": "c9ac97a5",
   "metadata": {},
   "outputs": [
    {
     "name": "stderr",
     "output_type": "stream",
     "text": [
      "\u001b[34m\u001b[1mwandb\u001b[0m: Currently logged in as: \u001b[33mgmarus\u001b[0m. Use \u001b[1m`wandb login --relogin`\u001b[0m to force relogin\n"
     ]
    },
    {
     "data": {
      "text/html": [
       "wandb version 0.15.3 is available!  To upgrade, please run:\n",
       " $ pip install wandb --upgrade"
      ],
      "text/plain": [
       "<IPython.core.display.HTML object>"
      ]
     },
     "metadata": {},
     "output_type": "display_data"
    },
    {
     "data": {
      "text/html": [
       "Tracking run with wandb version 0.14.2"
      ],
      "text/plain": [
       "<IPython.core.display.HTML object>"
      ]
     },
     "metadata": {},
     "output_type": "display_data"
    },
    {
     "data": {
      "text/html": [
       "Run data is saved locally in <code>/Users/gregory/PROJECT_ML/VESUVIUS_Challenge/wandb/run-20230522_143130-w6f146p2</code>"
      ],
      "text/plain": [
       "<IPython.core.display.HTML object>"
      ]
     },
     "metadata": {},
     "output_type": "display_data"
    },
    {
     "data": {
      "text/html": [
       "Syncing run <strong><a href='https://wandb.ai/gmarus/VESUVIUS_Challenge/runs/w6f146p2' target=\"_blank\">proud-paper-719</a></strong> to <a href='https://wandb.ai/gmarus/VESUVIUS_Challenge' target=\"_blank\">Weights & Biases</a> (<a href='https://wandb.me/run' target=\"_blank\">docs</a>)<br/>"
      ],
      "text/plain": [
       "<IPython.core.display.HTML object>"
      ]
     },
     "metadata": {},
     "output_type": "display_data"
    },
    {
     "data": {
      "text/html": [
       " View project at <a href='https://wandb.ai/gmarus/VESUVIUS_Challenge' target=\"_blank\">https://wandb.ai/gmarus/VESUVIUS_Challenge</a>"
      ],
      "text/plain": [
       "<IPython.core.display.HTML object>"
      ]
     },
     "metadata": {},
     "output_type": "display_data"
    },
    {
     "data": {
      "text/html": [
       " View run at <a href='https://wandb.ai/gmarus/VESUVIUS_Challenge/runs/w6f146p2' target=\"_blank\">https://wandb.ai/gmarus/VESUVIUS_Challenge/runs/w6f146p2</a>"
      ],
      "text/plain": [
       "<IPython.core.display.HTML object>"
      ]
     },
     "metadata": {},
     "output_type": "display_data"
    }
   ],
   "source": [
    "lit_model = Lit_Model(cfg=CFG,).to(DEVICE) \n",
    "\n",
    "Checkpoint = False\n",
    "if Checkpoint:\n",
    "    lit_model = lit_model.load_from_checkpoint('logs/Model_48_3d_nonorm_w_mitb3_bce50_05tver60/last.ckpt',\n",
    "                                               #learning_rate =7e-6 ,\n",
    "                                                #t_max = 70,\n",
    "                                               #eta_min = 1e-8,\n",
    "                                               #weight_decay =  0.0001,\n",
    "                                              )\n"
   ]
  },
  {
   "cell_type": "code",
   "execution_count": null,
   "id": "eafb9181",
   "metadata": {},
   "outputs": [
    {
     "name": "stdout",
     "output_type": "stream",
     "text": [
      "2023-05-22 14:31:34,116 - GPU available: True (mps), used: True\n",
      "2023-05-22 14:31:34,117 - TPU available: False, using: 0 TPU cores\n",
      "2023-05-22 14:31:34,118 - IPU available: False, using: 0 IPUs\n",
      "2023-05-22 14:31:34,118 - HPU available: False, using: 0 HPUs\n",
      "Adjusting learning rate of group 0 to 2.0000e-05.\n",
      "2023-05-22 14:31:34,215 - \n",
      "  | Name         | Type                    | Params\n",
      "---------------------------------------------------------\n",
      "0 | metrics      | ModuleDict              | 0     \n",
      "1 | model        | Model_3dAtt_w_Segformer | 301 K \n",
      "2 | loss_tversky | TverskyLoss             | 0     \n",
      "3 | loss_bce     | SoftBCEWithLogitsLoss   | 0     \n",
      "---------------------------------------------------------\n",
      "301 K     Trainable params\n",
      "0         Non-trainable params\n",
      "301 K     Total params\n",
      "1.205     Total estimated model params size (MB)\n"
     ]
    },
    {
     "name": "stderr",
     "output_type": "stream",
     "text": [
      "/Users/gregory/anaconda3/lib/python3.10/site-packages/pytorch_lightning/callbacks/model_checkpoint.py:613: UserWarning: Checkpoint directory /Users/gregory/PROJECT_ML/VESUVIUS_Challenge/logs/Pre_Model3d_only_05bce3+05tver exists and is not empty.\n",
      "  rank_zero_warn(f\"Checkpoint directory {dirpath} exists and is not empty.\")\n"
     ]
    },
    {
     "data": {
      "application/vnd.jupyter.widget-view+json": {
       "model_id": "fd169aca564c4ca2a07cc3d076203221",
       "version_major": 2,
       "version_minor": 0
      },
      "text/plain": [
       "Sanity Checking: 0it [00:00, ?it/s]"
      ]
     },
     "metadata": {},
     "output_type": "display_data"
    }
   ],
   "source": [
    "SAVE_DIR = 'logs/Pre_Model3d_only_05bce3+05tver'\n",
    "\n",
    "checkpoint_callback = ModelCheckpoint(\n",
    "    save_top_k=5,\n",
    "    monitor=\"FBETA\",\n",
    "    mode=\"max\",\n",
    "    dirpath=SAVE_DIR,\n",
    "    filename=\"Pre_Model3d_only_05bce3{epoch:02d}{FBETA:.2f}{val_loss:.2f}{fbeta_4:.2f}{recall:.2f}{precision:.2f}\",\n",
    "    save_last =True,\n",
    ")\n",
    "\n",
    "torch.autograd.set_detect_anomaly(True)\n",
    "trainer = pl.Trainer(\n",
    "        accelerator='gpu',\n",
    "        #benchmark=True,\n",
    "        max_epochs=CFG.max_epochs,\n",
    "        check_val_every_n_epoch= 1,\n",
    "        devices=1,\n",
    "        #fast_dev_run=fast_dev_run,\n",
    "        logger=pl.loggers.CSVLogger(save_dir=SAVE_DIR),\n",
    "        log_every_n_steps=1,\n",
    "        default_root_dir = SAVE_DIR,\n",
    "        #overfit_batches=1,\n",
    "        #precision= CFG.precision,\n",
    "        accumulate_grad_batches=CFG.accumulate_grad_batches, \n",
    "        callbacks=[checkpoint_callback],\n",
    "        #gradient_clip_val=1,\n",
    "        #resume_from_checkpoint ='logs/Model_48_3dAttn_w_FPN_mitb3_bce75_05tver60/last.ckpt'\n",
    "        #detect_anomaly=True\n",
    "        \n",
    "        )\n",
    "\n",
    "\n",
    "\n",
    "\n",
    "\n",
    "trainer.fit(lit_model, datamodule=dataset,\n",
    "            #ckpt_path='logs/gcp_checkpoints/MoUB4_Bce015_Tver_alpha085epoch_64.ckpt'\n",
    "           )"
   ]
  },
  {
   "cell_type": "code",
   "execution_count": null,
   "id": "f154a2c3",
   "metadata": {},
   "outputs": [],
   "source": []
  },
  {
   "cell_type": "code",
   "execution_count": null,
   "id": "fed4fc76",
   "metadata": {},
   "outputs": [],
   "source": []
  },
  {
   "cell_type": "code",
   "execution_count": null,
   "id": "fcd9d075",
   "metadata": {},
   "outputs": [],
   "source": []
  },
  {
   "cell_type": "code",
   "execution_count": null,
   "id": "66bb5b05",
   "metadata": {},
   "outputs": [],
   "source": []
  },
  {
   "cell_type": "code",
   "execution_count": null,
   "id": "530b01e0",
   "metadata": {},
   "outputs": [],
   "source": []
  },
  {
   "cell_type": "code",
   "execution_count": null,
   "id": "54a1a6fd",
   "metadata": {},
   "outputs": [],
   "source": []
  },
  {
   "cell_type": "code",
   "execution_count": null,
   "id": "67d3242f",
   "metadata": {},
   "outputs": [],
   "source": []
  },
  {
   "cell_type": "code",
   "execution_count": null,
   "id": "9630e8ce",
   "metadata": {},
   "outputs": [],
   "source": []
  },
  {
   "cell_type": "code",
   "execution_count": null,
   "id": "fbb178fe",
   "metadata": {},
   "outputs": [],
   "source": []
  },
  {
   "cell_type": "code",
   "execution_count": null,
   "id": "83c57fb2",
   "metadata": {},
   "outputs": [],
   "source": []
  },
  {
   "cell_type": "markdown",
   "id": "5b18b79d",
   "metadata": {},
   "source": [
    "import torch\n",
    "import torch.nn as nn\n",
    "from einops import rearrange\n",
    "\n",
    "\n",
    "# TODO: implement attnetion between slices. currently only local info\n",
    "\n",
    "\n",
    "# TODO: try using Depth-wise convolution https://medium.com/@zurister/depth-wise-convolution-and-depth-wise-separable-convolution-37346565d4ec\n",
    "# TODO:\n",
    "\n",
    "\n",
    "class PreBackbone_3D_SIMPLE(nn.Module):\n",
    "    def __init__(self, z_dim= 48, emdedding_dims=4, conv_dimensions=[16,32,64], filter_sizes=[16, 32, 64], batch_norm=False):\n",
    "        super(PreBackbone_3D_SIMPLE, self).__init__()\n",
    "\n",
    "        self.embed_layer = Embed(emdedding_dims=emdedding_dims)\n",
    "        self.attention = EfficientMultiHeadAttention(channels=z_dim // 2, att_dim =256)\n",
    "\n",
    "        self.pool = nn.AvgPool3d(kernel_size=(2, 1, 1), stride=(2, 1, 1))\n",
    "        self.pool_z = nn.AvgPool3d(kernel_size=(2, 1, 1), stride=(2, 1, 1))\n",
    "        \n",
    "        self.global_pool = nn.AdaptiveAvgPool3d((1, None, None))\n",
    "        self.global_pool_final = nn.AdaptiveAvgPool3d((3, None, None))\n",
    "        self.batch_norm = torch.nn.BatchNorm3d(num_features=1, momentum=0.1)\n",
    "        self.leaky_relu = nn.LeakyReLU(inplace=False)\n",
    "\n",
    "        # layer 1\n",
    "        self.conv1 = nn.Conv3d(in_channels=emdedding_dims+1,\n",
    "                               out_channels=conv_dimensions[0],\n",
    "                               kernel_size=3,\n",
    "                               stride=1,\n",
    "                               padding=1,\n",
    "                               )\n",
    "\n",
    "        torch.nn.init.xavier_uniform_(self.conv1.weight)\n",
    "        torch.nn.init.zeros_(self.conv1.bias)\n",
    "\n",
    "        # layer 2\n",
    "        self.conv2 = nn.Conv3d(in_channels=conv_dimensions[0]//2,\n",
    "                               out_channels=conv_dimensions[1],\n",
    "                               kernel_size=3,\n",
    "                               stride=1,\n",
    "                               padding=1\n",
    "                               )\n",
    "        torch.nn.init.xavier_uniform_(self.conv2.weight)\n",
    "        torch.nn.init.zeros_(self.conv2.bias)\n",
    "\n",
    "        # layer 3\n",
    "        self.conv3 = nn.Conv3d(in_channels=conv_dimensions[1]//2,\n",
    "                               out_channels=conv_dimensions[2],\n",
    "                               kernel_size=(3,3,3),\n",
    "                               stride=(1,1,1,),\n",
    "                               padding=(1,1,1)\n",
    "                               )\n",
    "\n",
    "        torch.nn.init.xavier_uniform_(self.conv3.weight)\n",
    "        torch.nn.init.zeros_(self.conv3.bias)\n",
    "\n",
    "    def forward(self, x):\n",
    "        x = x.unsqueeze(1)\n",
    "\n",
    "\n",
    "\n",
    "        # Stage 1 Embedding and Z_Dim attention\n",
    "\n",
    "        # embed layer produces tensors:\n",
    "        # x_orig =  (B, emdedding_dims[0], Z/2, H, W for residual connection\n",
    "        # x_att = (B, 1, Z/2, H/4, W/4)\n",
    "        x_orig, x_att = self.embed_layer(x) #(B, 1, Z, H, W) -> (B, emdedding_dims[0], Z/2, H, W) and (B, 1, Z/2, H/4, W/4)\n",
    "        x_orig = self.leaky_relu(x_orig)\n",
    "        x_att = self.leaky_relu(x_att) \n",
    "\n",
    "\n",
    "        # attention layer for z_dim\n",
    "        x_after_att = self.attention(x_att) # (B, 1, Z/2, H/4, W/4) ->  (B, 1, Z/2, H, W)\n",
    "\n",
    "        x = torch.cat((x_orig, x_after_att), dim=1) # \n",
    "\n",
    "        # Stage 2 Convolutions -- 3 layers\n",
    "        print(x.shape)\n",
    "\n",
    "        # Layer 1\n",
    "        y = self.conv1(x)  # (B, 1,  C, H, W) -> (B, 4,  C/2, H, W)\n",
    "        print(y.shape)\n",
    "        y = y.permute(0, 2, 1, 3, 4)\n",
    "        y = self.pool(y)  # (B, 4,  C/2, H, W) ->  (B, 2,  C/2, H, W)\n",
    "\n",
    "        y = y.permute(0, 2, 1, 3, 4)\n",
    "        y = self.leaky_relu(y)\n",
    "     \n",
    "        print('after1' ,y.shape)\n",
    "\n",
    "        # Layer 2\n",
    "        y = self.conv2(y)\n",
    "        y = y.permute(0, 2, 1, 3, 4)\n",
    "        y = self.pool_z(y)\n",
    "        y = y.permute(0, 2, 1, 3, 4)\n",
    "        y = self.leaky_relu(y)\n",
    "\n",
    "        print('after2' ,y.shape)\n",
    "        # Layer 3\n",
    "        y = self.conv3(y)\n",
    "        y = self.global_pool(y)\n",
    "        y = self.leaky_relu(y)\n",
    "\n",
    "        print('after3' ,y.shape)\n",
    "        # Final pooling to 3 channels\n",
    "\n",
    "        y = y.permute(0, 2, 1, 3, 4)\n",
    "        y = self.global_pool_final(y)\n",
    "        #y = y.permute(0, 2, 1, 3, 4)\n",
    "        #y = self.leaky_relu(y)\n",
    "\n",
    "        y = self.batch_norm(y)\n",
    "        return y.squeeze(1)\n",
    "\n",
    "\n",
    "class LayerNorm3d(nn.LayerNorm):\n",
    "    def forward(self, x):\n",
    "        x = rearrange(x, \"b c d h w -> b d h w c\")\n",
    "        x = super().forward(x)\n",
    "        x = rearrange(x, \"b d h w c -> b c d h w\")\n",
    "        return x\n",
    "\n",
    "\n",
    "class Embed(nn.Module):\n",
    "    def __init__(self, in_channels=1, emdedding_dims=4, ):\n",
    "        super().__init__()\n",
    "\n",
    "        self.conv_3d = nn.Conv3d(in_channels=1,\n",
    "                                 out_channels=emdedding_dims,\n",
    "                                 kernel_size=(3, 3, 3),\n",
    "                                 stride=(2, 1, 1),\n",
    "                                 padding=(1, 1, 1)\n",
    "                                 )\n",
    "            # add a laeyr where bothz and x,y go down by half and change the next one by 2\n",
    "        self.conv_3d_embed = nn.Conv3d(in_channels=emdedding_dims,\n",
    "                                       out_channels=1,\n",
    "                                       kernel_size=(1, 4, 4),\n",
    "                                       stride=(1, 4, 4),\n",
    "                                       padding=(0, 1, 1)\n",
    "                                       )\n",
    "\n",
    "        self.norm = LayerNorm3d(emdedding_dims)\n",
    "        self.norm_embed = LayerNorm3d(1)\n",
    "\n",
    "    def forward(self, x):\n",
    "        x = self.conv_3d(x)\n",
    "        x = self.norm(x)\n",
    "        x_embed = self.conv_3d_embed(x)\n",
    "        x_embed = self.norm_embed(x_embed)\n",
    "        return x, x_embed\n",
    "\n",
    "\n",
    "class EfficientMultiHeadAttention(nn.Module):\n",
    "    def __init__(self, channels=48 // 2, att_dim =256, reduction_ratio: int = 1, num_heads: int = 8):\n",
    "        super().__init__()\n",
    "\n",
    "        self.reducer = nn.Sequential(\n",
    "            nn.Conv2d(in_channels=channels,\n",
    "                      out_channels=channels,\n",
    "                      kernel_size=(4, 4),\n",
    "                      stride=(4, 4),\n",
    "                      padding=(0, 0)),\n",
    "\n",
    "            LayerNorm_att(channels), )\n",
    "\n",
    "        self.att = nn.MultiheadAttention(att_dim, num_heads=8, batch_first=True)\n",
    "\n",
    "    def forward(self, x, ):\n",
    "        x = x.squeeze(1)  # (b z h w)\n",
    "\n",
    "        reduced_x = self.reducer(x)\n",
    "\n",
    "        _, c, h, w = reduced_x.shape\n",
    "\n",
    "        # attention needs tensor of shape (batch, sequence_length, channels)\n",
    "        reduced_x = rearrange(reduced_x, \"b c h w -> b  c ( h w )\")\n",
    "        x = rearrange(x, \"b c  h w -> b  c ( h w)\")\n",
    "        out = self.att(reduced_x, reduced_x, reduced_x)[0]\n",
    "        # reshape it back to (batch, channels, height, width)\n",
    "        out = rearrange(out, \"b  c (h w) -> b c h w\", h=h, w=w, )\n",
    "        out = nn.functional.interpolate(out, size=(256, 256), mode=\"bilinear\", align_corners=False)\n",
    "        out = out.unsqueeze(1)\n",
    "\n",
    "        return out\n",
    "\n",
    "\n",
    "class LayerNorm_att(nn.LayerNorm):\n",
    "    def forward(self, x):\n",
    "        x = rearrange(x, \"b c h w -> b  h w c\")\n",
    "        x = super().forward(x)\n",
    "        x = rearrange(x, \"b  h w c -> b c  h w\")\n",
    "        return x\n"
   ]
  }
 ],
 "metadata": {
  "kernelspec": {
   "display_name": "Python 3 (ipykernel)",
   "language": "python",
   "name": "python3"
  },
  "language_info": {
   "codemirror_mode": {
    "name": "ipython",
    "version": 3
   },
   "file_extension": ".py",
   "mimetype": "text/x-python",
   "name": "python",
   "nbconvert_exporter": "python",
   "pygments_lexer": "ipython3",
   "version": "3.10.9"
  }
 },
 "nbformat": 4,
 "nbformat_minor": 5
}
