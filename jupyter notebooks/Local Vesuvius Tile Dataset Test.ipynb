{
 "cells": [
  {
   "cell_type": "code",
   "execution_count": 1,
   "id": "7dfdc84b",
   "metadata": {},
   "outputs": [],
   "source": [
    "# Here we take care of paths.\n",
    "\n",
    "from pathlib import Path\n",
    "import os\n",
    "print('Starting path:' + os.getcwd())\n",
    "if os.getcwd()[-18:] == 'VESUVIUS_Challenge':\n",
    "    pass\n",
    "else:\n",
    "    PATH = Path().resolve().parents[0]\n",
    "    os.chdir(PATH)\n",
    "\n",
    "# make sure you are in Paragraph_to_Tex folder\n",
    "print('Current path:' + os.getcwd())"
   ]
  },
  {
   "cell_type": "code",
   "execution_count": 2,
   "id": "d5636399",
   "metadata": {},
   "outputs": [
    {
     "name": "stdout",
     "output_type": "stream",
     "text": [
      "2023-05-01 17:04:55,346 - Created a temporary directory at /var/folders/wc/60y8v25x3ns_jgsx6clbdb180000gn/T/tmpbn7v8f6u\n",
      "2023-05-01 17:04:55,347 - Writing /var/folders/wc/60y8v25x3ns_jgsx6clbdb180000gn/T/tmpbn7v8f6u/_remote_module_non_scriptable.py\n"
     ]
    }
   ],
   "source": [
    "import torch\n",
    "import monai\n",
    "import torch\n",
    "import matplotlib.pyplot as plt\n",
    "import tempfile\n",
    "import shutil\n",
    "import os\n",
    "import glob\n",
    "import pytorch_lightning as pl\n",
    "from pytorch_lightning import Trainer\n",
    "from Data_Modules.Vesuvius_Tile_Dataset import Vesuvius_Tile_Datamodule\n",
    "import matplotlib.patches as patches\n",
    "from lit_models.UNET_monai_lit import UNET_lit\n",
    "from monai.visualize import matshow3d\n",
    "import einops\n",
    "\n",
    "DEVICE = torch.device(\"cuda\" if torch.cuda.is_available() else \"cpu\")\n"
   ]
  },
  {
   "cell_type": "code",
   "execution_count": 3,
   "id": "1bd419f9",
   "metadata": {},
   "outputs": [],
   "source": [
    "class CFG:\n",
    "    \n",
    "    train_fragment_id=[2,3]\n",
    "    val_fragment_id=[1]\n",
    "    batch_size = 32\n",
    "    patch_size = 224\n",
    "    z_dim = 16\n",
    "    stride = patch_size // 2\n",
    "    #comp_dataset_path = COMPETITION_DATA_DIR\n",
    "    num_workers = 0\n",
    "    on_gpu = False"
   ]
  },
  {
   "cell_type": "code",
   "execution_count": 4,
   "id": "554acfe6",
   "metadata": {},
   "outputs": [
    {
     "data": {
      "application/vnd.jupyter.widget-view+json": {
       "model_id": "ebdba67efa9a40018fefd74f126c70f3",
       "version_major": 2,
       "version_minor": 0
      },
      "text/plain": [
       "  0%|          | 0/16 [00:00<?, ?it/s]"
      ]
     },
     "metadata": {},
     "output_type": "display_data"
    },
    {
     "data": {
      "application/vnd.jupyter.widget-view+json": {
       "model_id": "8fb9bace7dea4b948d8f6722b95f53c8",
       "version_major": 2,
       "version_minor": 0
      },
      "text/plain": [
       "  0%|          | 0/16 [00:00<?, ?it/s]"
      ]
     },
     "metadata": {},
     "output_type": "display_data"
    },
    {
     "data": {
      "application/vnd.jupyter.widget-view+json": {
       "model_id": "ad2ed3d998a448f6a04029050b7952e6",
       "version_major": 2,
       "version_minor": 0
      },
      "text/plain": [
       "  0%|          | 0/16 [00:00<?, ?it/s]"
      ]
     },
     "metadata": {},
     "output_type": "display_data"
    }
   ],
   "source": [
    "dataset = Vesuvius_Tile_Datamodule(cfg=CFG)"
   ]
  },
  {
   "cell_type": "code",
   "execution_count": 5,
   "id": "e5e9154b",
   "metadata": {},
   "outputs": [],
   "source": [
    "def visualize_dataloaders(dataloaders, train=True):\n",
    "    for stage, dataloader in dataloaders.items():\n",
    "        for batch_idx, batch in enumerate(dataloader):\n",
    "            volumes = batch[\"volume_npy\"]\n",
    "            masks = batch[\"mask_npy\"]\n",
    "            \n",
    "            if train:\n",
    "                labels = batch[\"label_npy\"]\n",
    "            else: \n",
    "                labels = masks\n",
    "            out = [volumes, masks, labels]\n",
    "            for volume, mask, label in zip(volumes, masks, labels):\n",
    "                fig, axes = plt.subplots(1, 3, figsize=(15, 5))\n",
    "                plt.suptitle(f\"stage: {stage}, fragment: {batch_idx}\")\n",
    "\n",
    "                for idx, image in enumerate((volume, mask, label)):\n",
    "                    matshow3d(\n",
    "                        volume=image,\n",
    "                        fig=axes[idx],\n",
    "                        title=f\"{list(image.shape)}, {image.min().item()}, {image.max().item()}\",\n",
    "                        vmin=0.0,\n",
    "                        vmax=1.0,\n",
    "                        every_n=2,\n",
    "                        fill_value=1.0,\n",
    "                        margin=4,\n",
    "                        cmap=\"gray\",\n",
    "                    )\n",
    "            return out"
   ]
  },
  {
   "cell_type": "code",
   "execution_count": 6,
   "id": "d2f4f5fd",
   "metadata": {},
   "outputs": [
    {
     "name": "stdout",
     "output_type": "stream",
     "text": [
      "subvolume shape: torch.Size([32, 16, 224, 224])\n",
      "inklabel shape: torch.Size([32, 1, 224, 224])\n"
     ]
    }
   ],
   "source": [
    "dataloader = iter(dataset.train_dataloader())\n",
    "for i in range(1):\n",
    "    # Get image and label from train data -- change number for different ones\n",
    "    subvolume, inklabel = next(dataloader)\n",
    "    print('subvolume shape:',subvolume.shape)\n",
    "    print('inklabel shape:',inklabel.shape)\n",
    "    "
   ]
  },
  {
   "cell_type": "markdown",
   "id": "706db3ce",
   "metadata": {},
   "source": [
    "plot_dataset = dataset.train_dataloader()\n",
    "plot_count = 0\n",
    "for i in range(1000):\n",
    "    image, mask = plot_dataset[i]\n",
    "    #data = transform(image=image, mask=mask)\n",
    "    aug_image = image#.squeeze(0) # data['image']\n",
    "    aug_mask = mask#.squeeze(0) #data['mask']\n",
    "    print(image.shape, mask.shape)\n",
    "\n",
    "    if mask.sum() == 0:\n",
    "        continue\n",
    "\n",
    "    fig, axes = plt.subplots(1, 4, figsize=(15, 8))\n",
    "    axes[0].imshow(image[..., 0], cmap=\"gray\")\n",
    "    axes[1].imshow(mask, cmap=\"gray\")\n",
    "    #axes[2].imshow(aug_image[..., 0], cmap=\"gray\")\n",
    "    #axes[3].imshow(aug_mask, cmap=\"gray\")\n",
    "    \n",
    "    #plt.savefig(CFG.figures_dir + f'aug_fold_{CFG.valid_id}_{plot_count}.png')\n",
    "\n",
    "    plot_count += 1\n",
    "    if plot_count == 5:\n",
    "        break\n",
    "    \n",
    "    "
   ]
  },
  {
   "cell_type": "code",
   "execution_count": null,
   "id": "68e8bba0",
   "metadata": {},
   "outputs": [],
   "source": []
  },
  {
   "cell_type": "code",
   "execution_count": null,
   "id": "86a48b4c",
   "metadata": {},
   "outputs": [],
   "source": []
  }
 ],
 "metadata": {
  "kernelspec": {
   "display_name": "Python 3 (ipykernel)",
   "language": "python",
   "name": "python3"
  },
  "language_info": {
   "codemirror_mode": {
    "name": "ipython",
    "version": 3
   },
   "file_extension": ".py",
   "mimetype": "text/x-python",
   "name": "python",
   "nbconvert_exporter": "python",
   "pygments_lexer": "ipython3",
   "version": "3.10.9"
  }
 },
 "nbformat": 4,
 "nbformat_minor": 5
}
